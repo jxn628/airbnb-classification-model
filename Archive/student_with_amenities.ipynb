{
 "cells": [
  {
   "cell_type": "markdown",
   "metadata": {},
   "source": [
    "# Scenario\n",
    "Create a model that will predict whether a airbnb will get a perfect 5.0 rating in San Diego California. The purpose of this model is for airbnb hosts to have a way to evaluate their rentals and make sure that they are meeting all of the criteria to get that perfect review."
   ]
  },
  {
   "cell_type": "markdown",
   "metadata": {},
   "source": [
    "## Alternative Scenario: \n",
    "    - Airbnb is an industry disruptor. Many Hosts get a good deal of income from it. \n",
    "    - The goal of is to be a \"5 Star Host\" or \"SuperHost\". \n",
    "    - What can they do to get more 5 Star Ratings?\n",
    "    - any particular features?"
   ]
  },
  {
   "cell_type": "markdown",
   "metadata": {},
   "source": [
    "## Questions to Answer"
   ]
  },
  {
   "cell_type": "markdown",
   "metadata": {},
   "source": [
    "1. How many units have a perfect rating?\n",
    "2. How long have they had perfect rating?\n",
    "3. How many reviews should the unit have to be considered? (ie, one 5.0 isn't enough)\n",
    "4. What review metrics have the most impact?\n",
    "5. What house factors have the most impact?\n",
    "6. Relationship between price and rating?"
   ]
  },
  {
   "cell_type": "markdown",
   "metadata": {},
   "source": [
    "## Loading Data"
   ]
  },
  {
   "cell_type": "code",
   "execution_count": 1,
   "metadata": {
    "ExecuteTime": {
     "end_time": "2022-06-09T21:23:28.579792Z",
     "start_time": "2022-06-09T21:23:27.568374Z"
    }
   },
   "outputs": [],
   "source": [
    "import warnings\n",
    "warnings.filterwarnings('ignore')\n",
    "import pandas as pd\n",
    "import seaborn as sns\n",
    "import matplotlib.pyplot as plt\n",
    "%matplotlib inline\n",
    "import matplotlib.ticker as mtick\n",
    "from matplotlib.pylab import rcParams\n",
    "import matplotlib.ticker as mtick\n",
    "from sklearn.model_selection import train_test_split, cross_val_score, GridSearchCV\n",
    "from sklearn.tree import DecisionTreeClassifier\n",
    "from sklearn.metrics import accuracy_score, mean_squared_error, mean_squared_log_error, roc_curve, auc\n",
    "from sklearn.metrics import precision_score, recall_score, accuracy_score, f1_score, classification_report\n",
    "from sklearn.metrics import confusion_matrix\n",
    "from sklearn.preprocessing import OneHotEncoder, StandardScaler\n",
    "from sklearn.linear_model import LinearRegression\n",
    "from sklearn.impute import SimpleImputer\n",
    "from sklearn import tree\n",
    "from sklearn.ensemble import RandomForestClassifier\n",
    "from imblearn.over_sampling import SMOTE\n",
    "from sklearn.metrics import plot_confusion_matrix\n",
    "from xgboost import XGBClassifier\n",
    "import numpy as np\n"
   ]
  },
  {
   "cell_type": "code",
   "execution_count": 2,
   "metadata": {
    "ExecuteTime": {
     "end_time": "2022-06-09T21:23:28.582549Z",
     "start_time": "2022-06-09T21:23:28.580859Z"
    }
   },
   "outputs": [],
   "source": [
    "pd.set_option('display.max_rows', 1000)\n",
    "plt.style.use('fivethirtyeight')"
   ]
  },
  {
   "cell_type": "markdown",
   "metadata": {},
   "source": [
    "## Reviews_df: Details on each review post"
   ]
  },
  {
   "cell_type": "code",
   "execution_count": 3,
   "metadata": {
    "ExecuteTime": {
     "end_time": "2022-06-09T21:23:31.091703Z",
     "start_time": "2022-06-09T21:23:28.583708Z"
    }
   },
   "outputs": [],
   "source": [
    "reviews_df = pd.read_csv('reviews.csv.gz')"
   ]
  },
  {
   "cell_type": "code",
   "execution_count": 4,
   "metadata": {
    "ExecuteTime": {
     "end_time": "2022-06-09T21:23:31.100120Z",
     "start_time": "2022-06-09T21:23:31.092982Z"
    }
   },
   "outputs": [
    {
     "data": {
      "text/html": [
       "<div>\n",
       "<style scoped>\n",
       "    .dataframe tbody tr th:only-of-type {\n",
       "        vertical-align: middle;\n",
       "    }\n",
       "\n",
       "    .dataframe tbody tr th {\n",
       "        vertical-align: top;\n",
       "    }\n",
       "\n",
       "    .dataframe thead th {\n",
       "        text-align: right;\n",
       "    }\n",
       "</style>\n",
       "<table border=\"1\" class=\"dataframe\">\n",
       "  <thead>\n",
       "    <tr style=\"text-align: right;\">\n",
       "      <th></th>\n",
       "      <th>listing_id</th>\n",
       "      <th>id</th>\n",
       "      <th>date</th>\n",
       "      <th>reviewer_id</th>\n",
       "      <th>reviewer_name</th>\n",
       "      <th>comments</th>\n",
       "    </tr>\n",
       "  </thead>\n",
       "  <tbody>\n",
       "    <tr>\n",
       "      <th>0</th>\n",
       "      <td>29967</td>\n",
       "      <td>62788</td>\n",
       "      <td>2010-07-09</td>\n",
       "      <td>151260</td>\n",
       "      <td>Debbie</td>\n",
       "      <td>When I booked our stay in San Diego at Dennis ...</td>\n",
       "    </tr>\n",
       "    <tr>\n",
       "      <th>1</th>\n",
       "      <td>29967</td>\n",
       "      <td>64568</td>\n",
       "      <td>2010-07-14</td>\n",
       "      <td>141552</td>\n",
       "      <td>Eric</td>\n",
       "      <td>This was my first experience with using airbnb...</td>\n",
       "    </tr>\n",
       "    <tr>\n",
       "      <th>2</th>\n",
       "      <td>29967</td>\n",
       "      <td>67502</td>\n",
       "      <td>2010-07-22</td>\n",
       "      <td>141591</td>\n",
       "      <td>David</td>\n",
       "      <td>We found the house to be very accommodating--e...</td>\n",
       "    </tr>\n",
       "    <tr>\n",
       "      <th>3</th>\n",
       "      <td>29967</td>\n",
       "      <td>70466</td>\n",
       "      <td>2010-07-29</td>\n",
       "      <td>125982</td>\n",
       "      <td>Anders</td>\n",
       "      <td>As advertised and more. Dennis was very helpfu...</td>\n",
       "    </tr>\n",
       "    <tr>\n",
       "      <th>4</th>\n",
       "      <td>29967</td>\n",
       "      <td>74876</td>\n",
       "      <td>2010-08-07</td>\n",
       "      <td>29835</td>\n",
       "      <td>Miyoko</td>\n",
       "      <td>We had a great time in San Diego. Denis' house...</td>\n",
       "    </tr>\n",
       "  </tbody>\n",
       "</table>\n",
       "</div>"
      ],
      "text/plain": [
       "   listing_id     id        date  reviewer_id reviewer_name  \\\n",
       "0       29967  62788  2010-07-09       151260        Debbie   \n",
       "1       29967  64568  2010-07-14       141552          Eric   \n",
       "2       29967  67502  2010-07-22       141591         David   \n",
       "3       29967  70466  2010-07-29       125982        Anders   \n",
       "4       29967  74876  2010-08-07        29835        Miyoko   \n",
       "\n",
       "                                            comments  \n",
       "0  When I booked our stay in San Diego at Dennis ...  \n",
       "1  This was my first experience with using airbnb...  \n",
       "2  We found the house to be very accommodating--e...  \n",
       "3  As advertised and more. Dennis was very helpfu...  \n",
       "4  We had a great time in San Diego. Denis' house...  "
      ]
     },
     "execution_count": 4,
     "metadata": {},
     "output_type": "execute_result"
    }
   ],
   "source": [
    "reviews_df.head()"
   ]
  },
  {
   "cell_type": "markdown",
   "metadata": {},
   "source": [
    "## Listing_DF: Baseline DF with many columns"
   ]
  },
  {
   "cell_type": "code",
   "execution_count": 5,
   "metadata": {
    "ExecuteTime": {
     "end_time": "2022-06-09T21:23:31.537089Z",
     "start_time": "2022-06-09T21:23:31.100942Z"
    }
   },
   "outputs": [],
   "source": [
    "listing_df = pd.read_csv('listings.csv.gz')"
   ]
  },
  {
   "cell_type": "code",
   "execution_count": 6,
   "metadata": {
    "ExecuteTime": {
     "end_time": "2022-06-09T21:23:31.560239Z",
     "start_time": "2022-06-09T21:23:31.538142Z"
    }
   },
   "outputs": [
    {
     "name": "stdout",
     "output_type": "stream",
     "text": [
      "<class 'pandas.core.frame.DataFrame'>\n",
      "RangeIndex: 10935 entries, 0 to 10934\n",
      "Data columns (total 74 columns):\n",
      " #   Column                                        Non-Null Count  Dtype  \n",
      "---  ------                                        --------------  -----  \n",
      " 0   id                                            10935 non-null  int64  \n",
      " 1   listing_url                                   10935 non-null  object \n",
      " 2   scrape_id                                     10935 non-null  int64  \n",
      " 3   last_scraped                                  10935 non-null  object \n",
      " 4   name                                          10935 non-null  object \n",
      " 5   description                                   10809 non-null  object \n",
      " 6   neighborhood_overview                         7440 non-null   object \n",
      " 7   picture_url                                   10935 non-null  object \n",
      " 8   host_id                                       10935 non-null  int64  \n",
      " 9   host_url                                      10935 non-null  object \n",
      " 10  host_name                                     10931 non-null  object \n",
      " 11  host_since                                    10931 non-null  object \n",
      " 12  host_location                                 10924 non-null  object \n",
      " 13  host_about                                    7436 non-null   object \n",
      " 14  host_response_time                            10113 non-null  object \n",
      " 15  host_response_rate                            10113 non-null  object \n",
      " 16  host_acceptance_rate                          10543 non-null  object \n",
      " 17  host_is_superhost                             10931 non-null  object \n",
      " 18  host_thumbnail_url                            10931 non-null  object \n",
      " 19  host_picture_url                              10931 non-null  object \n",
      " 20  host_neighbourhood                            9900 non-null   object \n",
      " 21  host_listings_count                           10931 non-null  float64\n",
      " 22  host_total_listings_count                     10931 non-null  float64\n",
      " 23  host_verifications                            10935 non-null  object \n",
      " 24  host_has_profile_pic                          10931 non-null  object \n",
      " 25  host_identity_verified                        10931 non-null  object \n",
      " 26  neighbourhood                                 7440 non-null   object \n",
      " 27  neighbourhood_cleansed                        10935 non-null  object \n",
      " 28  neighbourhood_group_cleansed                  0 non-null      float64\n",
      " 29  latitude                                      10935 non-null  float64\n",
      " 30  longitude                                     10935 non-null  float64\n",
      " 31  property_type                                 10935 non-null  object \n",
      " 32  room_type                                     10935 non-null  object \n",
      " 33  accommodates                                  10935 non-null  int64  \n",
      " 34  bathrooms                                     0 non-null      float64\n",
      " 35  bathrooms_text                                10930 non-null  object \n",
      " 36  bedrooms                                      9905 non-null   float64\n",
      " 37  beds                                          10813 non-null  float64\n",
      " 38  amenities                                     10935 non-null  object \n",
      " 39  price                                         10935 non-null  object \n",
      " 40  minimum_nights                                10935 non-null  int64  \n",
      " 41  maximum_nights                                10935 non-null  int64  \n",
      " 42  minimum_minimum_nights                        10934 non-null  float64\n",
      " 43  maximum_minimum_nights                        10934 non-null  float64\n",
      " 44  minimum_maximum_nights                        10934 non-null  float64\n",
      " 45  maximum_maximum_nights                        10934 non-null  float64\n",
      " 46  minimum_nights_avg_ntm                        10934 non-null  float64\n",
      " 47  maximum_nights_avg_ntm                        10934 non-null  float64\n",
      " 48  calendar_updated                              0 non-null      float64\n",
      " 49  has_availability                              10935 non-null  object \n",
      " 50  availability_30                               10935 non-null  int64  \n",
      " 51  availability_60                               10935 non-null  int64  \n",
      " 52  availability_90                               10935 non-null  int64  \n",
      " 53  availability_365                              10935 non-null  int64  \n",
      " 54  calendar_last_scraped                         10935 non-null  object \n",
      " 55  number_of_reviews                             10935 non-null  int64  \n",
      " 56  number_of_reviews_ltm                         10935 non-null  int64  \n",
      " 57  number_of_reviews_l30d                        10935 non-null  int64  \n",
      " 58  first_review                                  9408 non-null   object \n",
      " 59  last_review                                   9408 non-null   object \n",
      " 60  review_scores_rating                          9408 non-null   float64\n",
      " 61  review_scores_accuracy                        9385 non-null   float64\n",
      " 62  review_scores_cleanliness                     9385 non-null   float64\n",
      " 63  review_scores_checkin                         9383 non-null   float64\n",
      " 64  review_scores_communication                   9385 non-null   float64\n",
      " 65  review_scores_location                        9383 non-null   float64\n",
      " 66  review_scores_value                           9383 non-null   float64\n",
      " 67  license                                       0 non-null      float64\n",
      " 68  instant_bookable                              10935 non-null  object \n",
      " 69  calculated_host_listings_count                10935 non-null  int64  \n",
      " 70  calculated_host_listings_count_entire_homes   10935 non-null  int64  \n",
      " 71  calculated_host_listings_count_private_rooms  10935 non-null  int64  \n",
      " 72  calculated_host_listings_count_shared_rooms   10935 non-null  int64  \n",
      " 73  reviews_per_month                             9408 non-null   float64\n",
      "dtypes: float64(24), int64(17), object(33)\n",
      "memory usage: 6.2+ MB\n"
     ]
    }
   ],
   "source": [
    "listing_df.info()"
   ]
  },
  {
   "cell_type": "code",
   "execution_count": 7,
   "metadata": {
    "ExecuteTime": {
     "end_time": "2022-06-09T21:23:31.564815Z",
     "start_time": "2022-06-09T21:23:31.561223Z"
    }
   },
   "outputs": [
    {
     "data": {
      "text/plain": [
       "0         $60.00\n",
       "1        $282.00\n",
       "2        $348.00\n",
       "3        $368.00\n",
       "4        $264.00\n",
       "          ...   \n",
       "10930    $228.00\n",
       "10931    $168.00\n",
       "10932    $500.00\n",
       "10933     $67.00\n",
       "10934     $88.00\n",
       "Name: price, Length: 10935, dtype: object"
      ]
     },
     "execution_count": 7,
     "metadata": {},
     "output_type": "execute_result"
    }
   ],
   "source": [
    "listing_df['price']"
   ]
  },
  {
   "cell_type": "markdown",
   "metadata": {},
   "source": [
    "### Fixing Price"
   ]
  },
  {
   "cell_type": "code",
   "execution_count": 8,
   "metadata": {
    "ExecuteTime": {
     "end_time": "2022-06-09T21:23:31.576003Z",
     "start_time": "2022-06-09T21:23:31.567301Z"
    }
   },
   "outputs": [],
   "source": [
    "listing_df['price'] = listing_df['price'].map(lambda x: x.replace('$',' '))\n",
    "listing_df['price'] = listing_df['price'].map(lambda x: x.replace(',',''))\n",
    "listing_df['price'] = listing_df['price'].astype(float)"
   ]
  },
  {
   "cell_type": "code",
   "execution_count": 9,
   "metadata": {
    "ExecuteTime": {
     "end_time": "2022-06-09T21:23:31.581238Z",
     "start_time": "2022-06-09T21:23:31.577639Z"
    }
   },
   "outputs": [
    {
     "data": {
      "text/plain": [
       "0         60.0\n",
       "1        282.0\n",
       "2        348.0\n",
       "3        368.0\n",
       "4        264.0\n",
       "         ...  \n",
       "10930    228.0\n",
       "10931    168.0\n",
       "10932    500.0\n",
       "10933     67.0\n",
       "10934     88.0\n",
       "Name: price, Length: 10935, dtype: float64"
      ]
     },
     "execution_count": 9,
     "metadata": {},
     "output_type": "execute_result"
    }
   ],
   "source": [
    "listing_df['price']"
   ]
  },
  {
   "cell_type": "markdown",
   "metadata": {
    "ExecuteTime": {
     "end_time": "2022-06-09T19:50:20.646937Z",
     "start_time": "2022-06-09T19:50:20.633146Z"
    }
   },
   "source": [
    "### Amenities"
   ]
  },
  {
   "cell_type": "code",
   "execution_count": 10,
   "metadata": {
    "ExecuteTime": {
     "end_time": "2022-06-09T21:23:31.586762Z",
     "start_time": "2022-06-09T21:23:31.582262Z"
    }
   },
   "outputs": [],
   "source": [
    "listing_df['amenities'] = listing_df['amenities'].astype('str')"
   ]
  },
  {
   "cell_type": "code",
   "execution_count": 11,
   "metadata": {
    "ExecuteTime": {
     "end_time": "2022-06-09T21:23:31.591198Z",
     "start_time": "2022-06-09T21:23:31.587797Z"
    }
   },
   "outputs": [
    {
     "data": {
      "text/plain": [
       "0        [\"First aid kit\", \"Private patio or balcony\", ...\n",
       "1        [\"First aid kit\", \"Ethernet connection\", \"Bike...\n",
       "2        [\"Shower gel\", \"Private patio or balcony\", \"TV...\n",
       "3        [\"First aid kit\", \"Private patio or balcony\", ...\n",
       "4        [\"First aid kit\", \"Shower gel\", \"Outdoor showe...\n",
       "                               ...                        \n",
       "10930    [\"Shower gel\", \"Private patio or balcony\", \"Ai...\n",
       "10931    [\"55\\\" HDTV with Netflix\", \"First aid kit\", \"S...\n",
       "10932    [\"First aid kit\", \"Air conditioning\", \"TV\", \"S...\n",
       "10933    [\"TV\", \"Keypad\", \"Stove\", \"Iron\", \"Hangers\", \"...\n",
       "10934    [\"TV\", \"Stove\", \"Iron\", \"Hangers\", \"Dishes and...\n",
       "Name: amenities, Length: 10935, dtype: object"
      ]
     },
     "execution_count": 11,
     "metadata": {},
     "output_type": "execute_result"
    }
   ],
   "source": [
    "listing_df['amenities']"
   ]
  },
  {
   "cell_type": "code",
   "execution_count": 12,
   "metadata": {
    "ExecuteTime": {
     "end_time": "2022-06-09T21:23:33.375030Z",
     "start_time": "2022-06-09T21:23:31.592078Z"
    }
   },
   "outputs": [
    {
     "data": {
      "text/html": [
       "<div>\n",
       "<style scoped>\n",
       "    .dataframe tbody tr th:only-of-type {\n",
       "        vertical-align: middle;\n",
       "    }\n",
       "\n",
       "    .dataframe tbody tr th {\n",
       "        vertical-align: top;\n",
       "    }\n",
       "\n",
       "    .dataframe thead th {\n",
       "        text-align: right;\n",
       "    }\n",
       "</style>\n",
       "<table border=\"1\" class=\"dataframe\">\n",
       "  <thead>\n",
       "    <tr style=\"text-align: right;\">\n",
       "      <th></th>\n",
       "      <th>id</th>\n",
       "      <th>listing_url</th>\n",
       "      <th>scrape_id</th>\n",
       "      <th>last_scraped</th>\n",
       "      <th>name</th>\n",
       "      <th>description</th>\n",
       "      <th>neighborhood_overview</th>\n",
       "      <th>picture_url</th>\n",
       "      <th>host_id</th>\n",
       "      <th>host_url</th>\n",
       "      <th>...</th>\n",
       "      <th>review_scores_location</th>\n",
       "      <th>review_scores_value</th>\n",
       "      <th>license</th>\n",
       "      <th>instant_bookable</th>\n",
       "      <th>calculated_host_listings_count</th>\n",
       "      <th>calculated_host_listings_count_entire_homes</th>\n",
       "      <th>calculated_host_listings_count_private_rooms</th>\n",
       "      <th>calculated_host_listings_count_shared_rooms</th>\n",
       "      <th>reviews_per_month</th>\n",
       "      <th>amenities_list</th>\n",
       "    </tr>\n",
       "  </thead>\n",
       "  <tbody>\n",
       "    <tr>\n",
       "      <th>0</th>\n",
       "      <td>53157684</td>\n",
       "      <td>https://www.airbnb.com/rooms/53157684</td>\n",
       "      <td>20220323041300</td>\n",
       "      <td>2022-03-23</td>\n",
       "      <td>Lovely 1 bedroom near Coronado Island</td>\n",
       "      <td>We are a young married couple with two small f...</td>\n",
       "      <td>Imperial beach pier &lt;br /&gt;Coronado hotel &lt;br /...</td>\n",
       "      <td>https://a0.muscache.com/pictures/b613f1c8-e4b1...</td>\n",
       "      <td>43636297</td>\n",
       "      <td>https://www.airbnb.com/users/show/43636297</td>\n",
       "      <td>...</td>\n",
       "      <td>4.0</td>\n",
       "      <td>5.0</td>\n",
       "      <td>NaN</td>\n",
       "      <td>t</td>\n",
       "      <td>1</td>\n",
       "      <td>0</td>\n",
       "      <td>1</td>\n",
       "      <td>0</td>\n",
       "      <td>0.26</td>\n",
       "      <td>[\"First aid kit\"</td>\n",
       "    </tr>\n",
       "    <tr>\n",
       "      <th>0</th>\n",
       "      <td>53157684</td>\n",
       "      <td>https://www.airbnb.com/rooms/53157684</td>\n",
       "      <td>20220323041300</td>\n",
       "      <td>2022-03-23</td>\n",
       "      <td>Lovely 1 bedroom near Coronado Island</td>\n",
       "      <td>We are a young married couple with two small f...</td>\n",
       "      <td>Imperial beach pier &lt;br /&gt;Coronado hotel &lt;br /...</td>\n",
       "      <td>https://a0.muscache.com/pictures/b613f1c8-e4b1...</td>\n",
       "      <td>43636297</td>\n",
       "      <td>https://www.airbnb.com/users/show/43636297</td>\n",
       "      <td>...</td>\n",
       "      <td>4.0</td>\n",
       "      <td>5.0</td>\n",
       "      <td>NaN</td>\n",
       "      <td>t</td>\n",
       "      <td>1</td>\n",
       "      <td>0</td>\n",
       "      <td>1</td>\n",
       "      <td>0</td>\n",
       "      <td>0.26</td>\n",
       "      <td>\"Private patio or balcony\"</td>\n",
       "    </tr>\n",
       "    <tr>\n",
       "      <th>0</th>\n",
       "      <td>53157684</td>\n",
       "      <td>https://www.airbnb.com/rooms/53157684</td>\n",
       "      <td>20220323041300</td>\n",
       "      <td>2022-03-23</td>\n",
       "      <td>Lovely 1 bedroom near Coronado Island</td>\n",
       "      <td>We are a young married couple with two small f...</td>\n",
       "      <td>Imperial beach pier &lt;br /&gt;Coronado hotel &lt;br /...</td>\n",
       "      <td>https://a0.muscache.com/pictures/b613f1c8-e4b1...</td>\n",
       "      <td>43636297</td>\n",
       "      <td>https://www.airbnb.com/users/show/43636297</td>\n",
       "      <td>...</td>\n",
       "      <td>4.0</td>\n",
       "      <td>5.0</td>\n",
       "      <td>NaN</td>\n",
       "      <td>t</td>\n",
       "      <td>1</td>\n",
       "      <td>0</td>\n",
       "      <td>1</td>\n",
       "      <td>0</td>\n",
       "      <td>0.26</td>\n",
       "      <td>\"Keurig coffee machine\"</td>\n",
       "    </tr>\n",
       "    <tr>\n",
       "      <th>0</th>\n",
       "      <td>53157684</td>\n",
       "      <td>https://www.airbnb.com/rooms/53157684</td>\n",
       "      <td>20220323041300</td>\n",
       "      <td>2022-03-23</td>\n",
       "      <td>Lovely 1 bedroom near Coronado Island</td>\n",
       "      <td>We are a young married couple with two small f...</td>\n",
       "      <td>Imperial beach pier &lt;br /&gt;Coronado hotel &lt;br /...</td>\n",
       "      <td>https://a0.muscache.com/pictures/b613f1c8-e4b1...</td>\n",
       "      <td>43636297</td>\n",
       "      <td>https://www.airbnb.com/users/show/43636297</td>\n",
       "      <td>...</td>\n",
       "      <td>4.0</td>\n",
       "      <td>5.0</td>\n",
       "      <td>NaN</td>\n",
       "      <td>t</td>\n",
       "      <td>1</td>\n",
       "      <td>0</td>\n",
       "      <td>1</td>\n",
       "      <td>0</td>\n",
       "      <td>0.26</td>\n",
       "      <td>\"Dining table\"</td>\n",
       "    </tr>\n",
       "    <tr>\n",
       "      <th>0</th>\n",
       "      <td>53157684</td>\n",
       "      <td>https://www.airbnb.com/rooms/53157684</td>\n",
       "      <td>20220323041300</td>\n",
       "      <td>2022-03-23</td>\n",
       "      <td>Lovely 1 bedroom near Coronado Island</td>\n",
       "      <td>We are a young married couple with two small f...</td>\n",
       "      <td>Imperial beach pier &lt;br /&gt;Coronado hotel &lt;br /...</td>\n",
       "      <td>https://a0.muscache.com/pictures/b613f1c8-e4b1...</td>\n",
       "      <td>43636297</td>\n",
       "      <td>https://www.airbnb.com/users/show/43636297</td>\n",
       "      <td>...</td>\n",
       "      <td>4.0</td>\n",
       "      <td>5.0</td>\n",
       "      <td>NaN</td>\n",
       "      <td>t</td>\n",
       "      <td>1</td>\n",
       "      <td>0</td>\n",
       "      <td>1</td>\n",
       "      <td>0</td>\n",
       "      <td>0.26</td>\n",
       "      <td>\"Outdoor dining area\"</td>\n",
       "    </tr>\n",
       "  </tbody>\n",
       "</table>\n",
       "<p>5 rows × 75 columns</p>\n",
       "</div>"
      ],
      "text/plain": [
       "         id                            listing_url       scrape_id  \\\n",
       "0  53157684  https://www.airbnb.com/rooms/53157684  20220323041300   \n",
       "0  53157684  https://www.airbnb.com/rooms/53157684  20220323041300   \n",
       "0  53157684  https://www.airbnb.com/rooms/53157684  20220323041300   \n",
       "0  53157684  https://www.airbnb.com/rooms/53157684  20220323041300   \n",
       "0  53157684  https://www.airbnb.com/rooms/53157684  20220323041300   \n",
       "\n",
       "  last_scraped                                   name  \\\n",
       "0   2022-03-23  Lovely 1 bedroom near Coronado Island   \n",
       "0   2022-03-23  Lovely 1 bedroom near Coronado Island   \n",
       "0   2022-03-23  Lovely 1 bedroom near Coronado Island   \n",
       "0   2022-03-23  Lovely 1 bedroom near Coronado Island   \n",
       "0   2022-03-23  Lovely 1 bedroom near Coronado Island   \n",
       "\n",
       "                                         description  \\\n",
       "0  We are a young married couple with two small f...   \n",
       "0  We are a young married couple with two small f...   \n",
       "0  We are a young married couple with two small f...   \n",
       "0  We are a young married couple with two small f...   \n",
       "0  We are a young married couple with two small f...   \n",
       "\n",
       "                               neighborhood_overview  \\\n",
       "0  Imperial beach pier <br />Coronado hotel <br /...   \n",
       "0  Imperial beach pier <br />Coronado hotel <br /...   \n",
       "0  Imperial beach pier <br />Coronado hotel <br /...   \n",
       "0  Imperial beach pier <br />Coronado hotel <br /...   \n",
       "0  Imperial beach pier <br />Coronado hotel <br /...   \n",
       "\n",
       "                                         picture_url   host_id  \\\n",
       "0  https://a0.muscache.com/pictures/b613f1c8-e4b1...  43636297   \n",
       "0  https://a0.muscache.com/pictures/b613f1c8-e4b1...  43636297   \n",
       "0  https://a0.muscache.com/pictures/b613f1c8-e4b1...  43636297   \n",
       "0  https://a0.muscache.com/pictures/b613f1c8-e4b1...  43636297   \n",
       "0  https://a0.muscache.com/pictures/b613f1c8-e4b1...  43636297   \n",
       "\n",
       "                                     host_url  ... review_scores_location  \\\n",
       "0  https://www.airbnb.com/users/show/43636297  ...                    4.0   \n",
       "0  https://www.airbnb.com/users/show/43636297  ...                    4.0   \n",
       "0  https://www.airbnb.com/users/show/43636297  ...                    4.0   \n",
       "0  https://www.airbnb.com/users/show/43636297  ...                    4.0   \n",
       "0  https://www.airbnb.com/users/show/43636297  ...                    4.0   \n",
       "\n",
       "  review_scores_value license instant_bookable calculated_host_listings_count  \\\n",
       "0                 5.0     NaN                t                              1   \n",
       "0                 5.0     NaN                t                              1   \n",
       "0                 5.0     NaN                t                              1   \n",
       "0                 5.0     NaN                t                              1   \n",
       "0                 5.0     NaN                t                              1   \n",
       "\n",
       "  calculated_host_listings_count_entire_homes  \\\n",
       "0                                           0   \n",
       "0                                           0   \n",
       "0                                           0   \n",
       "0                                           0   \n",
       "0                                           0   \n",
       "\n",
       "  calculated_host_listings_count_private_rooms  \\\n",
       "0                                            1   \n",
       "0                                            1   \n",
       "0                                            1   \n",
       "0                                            1   \n",
       "0                                            1   \n",
       "\n",
       "  calculated_host_listings_count_shared_rooms reviews_per_month  \\\n",
       "0                                           0              0.26   \n",
       "0                                           0              0.26   \n",
       "0                                           0              0.26   \n",
       "0                                           0              0.26   \n",
       "0                                           0              0.26   \n",
       "\n",
       "                amenities_list  \n",
       "0             [\"First aid kit\"  \n",
       "0   \"Private patio or balcony\"  \n",
       "0      \"Keurig coffee machine\"  \n",
       "0               \"Dining table\"  \n",
       "0        \"Outdoor dining area\"  \n",
       "\n",
       "[5 rows x 75 columns]"
      ]
     },
     "execution_count": 12,
     "metadata": {},
     "output_type": "execute_result"
    }
   ],
   "source": [
    "data=listing_df\n",
    "data['amenities_list'] = data['amenities'].str.split(pat=\",\")\n",
    "amenities_data = data.explode('amenities_list')\n",
    "amenities_data.head(5)"
   ]
  },
  {
   "cell_type": "code",
   "execution_count": 13,
   "metadata": {
    "ExecuteTime": {
     "end_time": "2022-06-09T21:23:33.378522Z",
     "start_time": "2022-06-09T21:23:33.375969Z"
    }
   },
   "outputs": [
    {
     "data": {
      "text/plain": [
       "0                   [\"First aid kit\"\n",
       "0         \"Private patio or balcony\"\n",
       "0            \"Keurig coffee machine\"\n",
       "0                     \"Dining table\"\n",
       "0              \"Outdoor dining area\"\n",
       "                    ...             \n",
       "10934                 \"Refrigerator\"\n",
       "10934               \"Cooking basics\"\n",
       "10934                      \"Kitchen\"\n",
       "10934                   \"Hair dryer\"\n",
       "10934                  \"Beachfront\"]\n",
       "Name: amenities_list, Length: 389144, dtype: object"
      ]
     },
     "execution_count": 13,
     "metadata": {},
     "output_type": "execute_result"
    }
   ],
   "source": [
    "amenities_data['amenities_list']"
   ]
  },
  {
   "cell_type": "code",
   "execution_count": 14,
   "metadata": {
    "ExecuteTime": {
     "end_time": "2022-06-09T21:23:34.172401Z",
     "start_time": "2022-06-09T21:23:33.379824Z"
    }
   },
   "outputs": [],
   "source": [
    "#This works!!!!!!\n",
    "amenities_data['amenities_list_clean']= amenities_data['amenities_list'].str.replace(r'[^\\w\\s]+', '')\n",
    "amenities_data.drop('amenities_list', axis=1, inplace=True)"
   ]
  },
  {
   "cell_type": "code",
   "execution_count": 21,
   "metadata": {
    "ExecuteTime": {
     "end_time": "2022-06-09T21:27:29.958873Z",
     "start_time": "2022-06-09T21:27:28.111023Z"
    }
   },
   "outputs": [
    {
     "data": {
      "text/html": [
       "<div>\n",
       "<style scoped>\n",
       "    .dataframe tbody tr th:only-of-type {\n",
       "        vertical-align: middle;\n",
       "    }\n",
       "\n",
       "    .dataframe tbody tr th {\n",
       "        vertical-align: top;\n",
       "    }\n",
       "\n",
       "    .dataframe thead th {\n",
       "        text-align: right;\n",
       "    }\n",
       "</style>\n",
       "<table border=\"1\" class=\"dataframe\">\n",
       "  <thead>\n",
       "    <tr style=\"text-align: right;\">\n",
       "      <th></th>\n",
       "      <th>id_29967</th>\n",
       "      <th>id_38245</th>\n",
       "      <th>id_54001</th>\n",
       "      <th>id_62274</th>\n",
       "      <th>id_62949</th>\n",
       "      <th>id_67441</th>\n",
       "      <th>id_75668</th>\n",
       "      <th>id_77785</th>\n",
       "      <th>id_79300</th>\n",
       "      <th>id_103417</th>\n",
       "      <th>...</th>\n",
       "      <th>amenities_list_clean_TV with Netflix</th>\n",
       "      <th>amenities_list_clean_TV with standard cable</th>\n",
       "      <th>amenities_list_clean_The Honest Company body soap</th>\n",
       "      <th>amenities_list_clean_TresSemme conditioner</th>\n",
       "      <th>amenities_list_clean_Waterfront</th>\n",
       "      <th>amenities_list_clean_Wifi</th>\n",
       "      <th>amenities_list_clean_Window guards</th>\n",
       "      <th>amenities_list_clean_elseve conditioner</th>\n",
       "      <th>amenities_list_clean_generic shampoo</th>\n",
       "      <th>amenities_list_clean_kitchen aid oven</th>\n",
       "    </tr>\n",
       "  </thead>\n",
       "  <tbody>\n",
       "    <tr>\n",
       "      <th>0</th>\n",
       "      <td>0.0</td>\n",
       "      <td>0.0</td>\n",
       "      <td>0.0</td>\n",
       "      <td>0.0</td>\n",
       "      <td>0.0</td>\n",
       "      <td>0.0</td>\n",
       "      <td>0.0</td>\n",
       "      <td>0.0</td>\n",
       "      <td>0.0</td>\n",
       "      <td>0.0</td>\n",
       "      <td>...</td>\n",
       "      <td>0.0</td>\n",
       "      <td>0.0</td>\n",
       "      <td>0.0</td>\n",
       "      <td>0.0</td>\n",
       "      <td>0.0</td>\n",
       "      <td>0.0</td>\n",
       "      <td>0.0</td>\n",
       "      <td>0.0</td>\n",
       "      <td>0.0</td>\n",
       "      <td>0.0</td>\n",
       "    </tr>\n",
       "    <tr>\n",
       "      <th>1</th>\n",
       "      <td>0.0</td>\n",
       "      <td>0.0</td>\n",
       "      <td>0.0</td>\n",
       "      <td>0.0</td>\n",
       "      <td>0.0</td>\n",
       "      <td>0.0</td>\n",
       "      <td>0.0</td>\n",
       "      <td>0.0</td>\n",
       "      <td>0.0</td>\n",
       "      <td>0.0</td>\n",
       "      <td>...</td>\n",
       "      <td>0.0</td>\n",
       "      <td>0.0</td>\n",
       "      <td>0.0</td>\n",
       "      <td>0.0</td>\n",
       "      <td>0.0</td>\n",
       "      <td>0.0</td>\n",
       "      <td>0.0</td>\n",
       "      <td>0.0</td>\n",
       "      <td>0.0</td>\n",
       "      <td>0.0</td>\n",
       "    </tr>\n",
       "  </tbody>\n",
       "</table>\n",
       "<p>2 rows × 13293 columns</p>\n",
       "</div>"
      ],
      "text/plain": [
       "   id_29967  id_38245  id_54001  id_62274  id_62949  id_67441  id_75668  \\\n",
       "0       0.0       0.0       0.0       0.0       0.0       0.0       0.0   \n",
       "1       0.0       0.0       0.0       0.0       0.0       0.0       0.0   \n",
       "\n",
       "   id_77785  id_79300  id_103417  ...  amenities_list_clean_TV with Netflix  \\\n",
       "0       0.0       0.0        0.0  ...                                   0.0   \n",
       "1       0.0       0.0        0.0  ...                                   0.0   \n",
       "\n",
       "   amenities_list_clean_TV with standard cable  \\\n",
       "0                                          0.0   \n",
       "1                                          0.0   \n",
       "\n",
       "   amenities_list_clean_The Honest Company body soap  \\\n",
       "0                                                0.0   \n",
       "1                                                0.0   \n",
       "\n",
       "   amenities_list_clean_TresSemme conditioner  \\\n",
       "0                                         0.0   \n",
       "1                                         0.0   \n",
       "\n",
       "   amenities_list_clean_Waterfront  amenities_list_clean_Wifi  \\\n",
       "0                              0.0                        0.0   \n",
       "1                              0.0                        0.0   \n",
       "\n",
       "   amenities_list_clean_Window guards  \\\n",
       "0                                 0.0   \n",
       "1                                 0.0   \n",
       "\n",
       "   amenities_list_clean_elseve conditioner  \\\n",
       "0                                      0.0   \n",
       "1                                      0.0   \n",
       "\n",
       "   amenities_list_clean_generic shampoo  amenities_list_clean_kitchen aid oven  \n",
       "0                                   0.0                                    0.0  \n",
       "1                                   0.0                                    0.0  \n",
       "\n",
       "[2 rows x 13293 columns]"
      ]
     },
     "execution_count": 21,
     "metadata": {},
     "output_type": "execute_result"
    }
   ],
   "source": [
    "need_to_encode = amenities_data[['id', 'amenities_list_clean']]\n",
    "\n",
    "ohe = OneHotEncoder()\n",
    "ohe.fit(need_to_encode)\n",
    "\n",
    "ohe_1 = ohe.transform(need_to_encode).toarray()\n",
    "\n",
    "ohe_df = pd.DataFrame(ohe_1, columns=ohe.get_feature_names(need_to_encode.columns))\n",
    "ohe_df.head(2)"
   ]
  },
  {
   "cell_type": "code",
   "execution_count": null,
   "metadata": {
    "ExecuteTime": {
     "start_time": "2022-06-09T21:28:24.040Z"
    }
   },
   "outputs": [],
   "source": [
    "ohe_df.groupby('id')"
   ]
  },
  {
   "cell_type": "markdown",
   "metadata": {},
   "source": [
    "## Review Score DF"
   ]
  },
  {
   "cell_type": "code",
   "execution_count": null,
   "metadata": {
    "ExecuteTime": {
     "end_time": "2022-06-09T21:10:52.492717Z",
     "start_time": "2022-06-09T21:10:52.491210Z"
    }
   },
   "outputs": [],
   "source": [
    "#review_score_df = listing_df[['id', 'price', 'review_scores_rating', 'review_scores_accuracy',\n",
    "#                             'review_scores_cleanliness', 'review_scores_checkin', 'review_scores_communication',\n",
    "#                             'review_scores_location', 'review_scores_value', 'number_of_reviews',\n",
    "#                             'number_of_reviews_ltm', 'number_of_reviews_l30d']]"
   ]
  },
  {
   "cell_type": "code",
   "execution_count": null,
   "metadata": {
    "ExecuteTime": {
     "end_time": "2022-06-09T21:10:52.536168Z",
     "start_time": "2022-06-09T21:10:52.494149Z"
    }
   },
   "outputs": [],
   "source": [
    "listing_df.info()"
   ]
  },
  {
   "cell_type": "code",
   "execution_count": null,
   "metadata": {
    "ExecuteTime": {
     "end_time": "2022-06-09T21:10:52.550775Z",
     "start_time": "2022-06-09T21:10:52.537407Z"
    }
   },
   "outputs": [],
   "source": [
    "review_score_df = listing_df[['price', 'review_scores_rating', 'review_scores_accuracy',\n",
    "                             'review_scores_cleanliness', 'review_scores_checkin', 'review_scores_communication',\n",
    "                             'review_scores_location', 'review_scores_value','accommodates',\n",
    "                              'bedrooms', 'beds', 'instant_bookable',\n",
    "                             'property_type', 'room_type', 'amenities', 'availability_365', 'availability_30',\n",
    "                             'availability_90',\n",
    "                             'host_id', 'calculated_host_listings_count', 'host_response_time', 'host_response_rate',\n",
    "                             'host_is_superhost']]"
   ]
  },
  {
   "cell_type": "code",
   "execution_count": null,
   "metadata": {
    "ExecuteTime": {
     "end_time": "2022-06-09T21:10:52.553261Z",
     "start_time": "2022-06-09T21:10:52.551781Z"
    }
   },
   "outputs": [],
   "source": [
    "df = review_score_df"
   ]
  },
  {
   "cell_type": "code",
   "execution_count": null,
   "metadata": {
    "ExecuteTime": {
     "end_time": "2022-06-09T21:10:52.567969Z",
     "start_time": "2022-06-09T21:10:52.554365Z"
    }
   },
   "outputs": [],
   "source": [
    "df.head()"
   ]
  },
  {
   "cell_type": "code",
   "execution_count": null,
   "metadata": {
    "ExecuteTime": {
     "end_time": "2022-06-09T21:10:52.574798Z",
     "start_time": "2022-06-09T21:10:52.569104Z"
    }
   },
   "outputs": [],
   "source": [
    "df['availability_365'].value_counts()"
   ]
  },
  {
   "cell_type": "code",
   "execution_count": null,
   "metadata": {
    "ExecuteTime": {
     "end_time": "2022-06-09T21:10:52.579678Z",
     "start_time": "2022-06-09T21:10:52.575904Z"
    }
   },
   "outputs": [],
   "source": [
    "df['availability_90'].value_counts()"
   ]
  },
  {
   "cell_type": "code",
   "execution_count": null,
   "metadata": {
    "ExecuteTime": {
     "end_time": "2022-06-09T21:10:52.584307Z",
     "start_time": "2022-06-09T21:10:52.580636Z"
    }
   },
   "outputs": [],
   "source": [
    "df['availability_30'].value_counts()"
   ]
  },
  {
   "cell_type": "markdown",
   "metadata": {},
   "source": [
    "### Analysis of Availability\n",
    "- 2939 (26.8% of units) have no availability a month out.\n",
    "- 1479 (13.5% of units) have no availability 3 months out.\n",
    "- \n",
    "\n",
    "- 5102 (46.7%) have 5 or less days available for the month ahead."
   ]
  },
  {
   "cell_type": "code",
   "execution_count": null,
   "metadata": {
    "ExecuteTime": {
     "end_time": "2022-06-09T21:10:52.594920Z",
     "start_time": "2022-06-09T21:10:52.585550Z"
    },
    "scrolled": true
   },
   "outputs": [],
   "source": [
    "df.info()"
   ]
  },
  {
   "cell_type": "code",
   "execution_count": null,
   "metadata": {
    "ExecuteTime": {
     "end_time": "2022-06-09T21:10:52.600336Z",
     "start_time": "2022-06-09T21:10:52.595992Z"
    }
   },
   "outputs": [],
   "source": [
    "df['instant_bookable'].value_counts()"
   ]
  },
  {
   "cell_type": "markdown",
   "metadata": {},
   "source": [
    "### Host Info"
   ]
  },
  {
   "cell_type": "code",
   "execution_count": null,
   "metadata": {
    "ExecuteTime": {
     "end_time": "2022-06-09T21:10:52.607259Z",
     "start_time": "2022-06-09T21:10:52.602775Z"
    }
   },
   "outputs": [],
   "source": [
    "df['host_id'].value_counts()"
   ]
  },
  {
   "cell_type": "code",
   "execution_count": null,
   "metadata": {
    "ExecuteTime": {
     "end_time": "2022-06-09T21:10:52.612685Z",
     "start_time": "2022-06-09T21:10:52.608352Z"
    }
   },
   "outputs": [],
   "source": [
    "df['calculated_host_listings_count'].value_counts()"
   ]
  },
  {
   "cell_type": "code",
   "execution_count": null,
   "metadata": {
    "ExecuteTime": {
     "end_time": "2022-06-09T21:10:52.623093Z",
     "start_time": "2022-06-09T21:10:52.613585Z"
    }
   },
   "outputs": [],
   "source": [
    "#df['host_listings_1-4'] = df['calculated_host_listings_count'] <= 4\n",
    "#df['host_listings_3-4'] = df['calculated_host_listings_count'] == range(3 , 4)\n",
    "df['host_listings_5+'] =df['calculated_host_listings_count'] >= 5"
   ]
  },
  {
   "cell_type": "code",
   "execution_count": null,
   "metadata": {
    "ExecuteTime": {
     "end_time": "2022-06-09T21:10:52.628759Z",
     "start_time": "2022-06-09T21:10:52.624083Z"
    }
   },
   "outputs": [],
   "source": [
    "df['host_listings_5+'].value_counts()"
   ]
  },
  {
   "cell_type": "code",
   "execution_count": null,
   "metadata": {
    "ExecuteTime": {
     "end_time": "2022-06-09T21:10:52.631119Z",
     "start_time": "2022-06-09T21:10:52.629723Z"
    }
   },
   "outputs": [],
   "source": [
    "#df.groupby('host_id').mean()"
   ]
  },
  {
   "cell_type": "code",
   "execution_count": null,
   "metadata": {
    "ExecuteTime": {
     "end_time": "2022-06-09T21:10:52.635887Z",
     "start_time": "2022-06-09T21:10:52.632190Z"
    }
   },
   "outputs": [],
   "source": [
    "df['host_is_superhost'].value_counts()"
   ]
  },
  {
   "cell_type": "code",
   "execution_count": null,
   "metadata": {},
   "outputs": [],
   "source": []
  },
  {
   "cell_type": "markdown",
   "metadata": {},
   "source": [
    "### New Feature: Capacity Ranges"
   ]
  },
  {
   "cell_type": "code",
   "execution_count": null,
   "metadata": {
    "ExecuteTime": {
     "end_time": "2022-06-09T21:10:52.640000Z",
     "start_time": "2022-06-09T21:10:52.637028Z"
    }
   },
   "outputs": [],
   "source": [
    "df['accommodates'].value_counts()"
   ]
  },
  {
   "cell_type": "code",
   "execution_count": null,
   "metadata": {
    "ExecuteTime": {
     "end_time": "2022-06-09T21:10:52.642146Z",
     "start_time": "2022-06-09T21:10:52.640858Z"
    }
   },
   "outputs": [],
   "source": [
    "#df['capacity_0-2'] = df['accommodates'] <= 2"
   ]
  },
  {
   "cell_type": "code",
   "execution_count": null,
   "metadata": {
    "ExecuteTime": {
     "end_time": "2022-06-09T21:10:52.644192Z",
     "start_time": "2022-06-09T21:10:52.642974Z"
    }
   },
   "outputs": [],
   "source": [
    "#df['capacity_3-4'] = df['accommodates'] == range(3-4)"
   ]
  },
  {
   "cell_type": "code",
   "execution_count": null,
   "metadata": {
    "ExecuteTime": {
     "end_time": "2022-06-09T21:10:52.646485Z",
     "start_time": "2022-06-09T21:10:52.645098Z"
    }
   },
   "outputs": [],
   "source": [
    "#df['capacity_5-9'] = df['accommodates'] == range(5-9)\n",
    "#df['capacity_10+'] = df['accommodates'] >= 10"
   ]
  },
  {
   "cell_type": "code",
   "execution_count": null,
   "metadata": {
    "ExecuteTime": {
     "end_time": "2022-06-09T21:10:52.648952Z",
     "start_time": "2022-06-09T21:10:52.647406Z"
    }
   },
   "outputs": [],
   "source": [
    "#df['capacity_-2'] = df['accommodates'] <= 2\n",
    "#df['capacity_-4'] = df['accommodates'] <= 4\n",
    "#df['capacity_-6'] = df['accommodates'] <= 6\n",
    "#df['capacity_-10'] = df['accommodates'] <= 10\n",
    "#df['capacity_11+'] = df['accommodates'] >= 11\n"
   ]
  },
  {
   "cell_type": "code",
   "execution_count": null,
   "metadata": {
    "ExecuteTime": {
     "end_time": "2022-06-09T21:10:52.653317Z",
     "start_time": "2022-06-09T21:10:52.649964Z"
    }
   },
   "outputs": [],
   "source": [
    "df['capacity_couple'] = df['accommodates'] <= 2\n",
    "df['capacity_family'] = df['accommodates'] == range(3 , 4)\n",
    "df['capacity_large'] = df['accommodates'] <= 5"
   ]
  },
  {
   "cell_type": "code",
   "execution_count": null,
   "metadata": {
    "ExecuteTime": {
     "end_time": "2022-06-09T21:10:52.657591Z",
     "start_time": "2022-06-09T21:10:52.654207Z"
    }
   },
   "outputs": [],
   "source": [
    "df['capacity_family'].value_counts()"
   ]
  },
  {
   "cell_type": "markdown",
   "metadata": {},
   "source": [
    "### New Feature: Bedroom Ranges"
   ]
  },
  {
   "cell_type": "code",
   "execution_count": null,
   "metadata": {
    "ExecuteTime": {
     "end_time": "2022-06-09T21:10:52.666136Z",
     "start_time": "2022-06-09T21:10:52.658629Z"
    }
   },
   "outputs": [],
   "source": [
    "df['bedrooms'].value_counts()"
   ]
  },
  {
   "cell_type": "code",
   "execution_count": null,
   "metadata": {
    "ExecuteTime": {
     "end_time": "2022-06-09T21:10:52.669113Z",
     "start_time": "2022-06-09T21:10:52.667051Z"
    }
   },
   "outputs": [],
   "source": [
    "#df['bedrooms_1'] = df['bedrooms'] == 1\n",
    "#df['bedrooms_2'] = df['bedrooms'] == 2\n",
    "#df['bedrooms_3'] = df['bedrooms'] == 3\n",
    "#df['bedrooms_4+'] = df['bedrooms'] >= 4"
   ]
  },
  {
   "cell_type": "code",
   "execution_count": null,
   "metadata": {
    "ExecuteTime": {
     "end_time": "2022-06-09T21:10:52.674312Z",
     "start_time": "2022-06-09T21:10:52.670171Z"
    }
   },
   "outputs": [],
   "source": [
    "df['bedrooms_1-2'] = df['bedrooms'] <= 2\n",
    "df['bedrooms_3+'] = df['bedrooms'] >= 3"
   ]
  },
  {
   "cell_type": "code",
   "execution_count": null,
   "metadata": {
    "ExecuteTime": {
     "end_time": "2022-06-09T21:10:52.680627Z",
     "start_time": "2022-06-09T21:10:52.675360Z"
    }
   },
   "outputs": [],
   "source": [
    "df['bedrooms_1-2'].value_counts()"
   ]
  },
  {
   "cell_type": "markdown",
   "metadata": {},
   "source": [
    "### New Feature: Booked\n",
    "- Booked: For the next 30 days, at least 25 days have already been booked."
   ]
  },
  {
   "cell_type": "code",
   "execution_count": null,
   "metadata": {
    "ExecuteTime": {
     "end_time": "2022-06-09T21:10:52.684576Z",
     "start_time": "2022-06-09T21:10:52.681918Z"
    }
   },
   "outputs": [],
   "source": [
    "df['booked'] = df['availability_30'] <= 3"
   ]
  },
  {
   "cell_type": "code",
   "execution_count": null,
   "metadata": {
    "ExecuteTime": {
     "end_time": "2022-06-09T21:10:52.706307Z",
     "start_time": "2022-06-09T21:10:52.685703Z"
    }
   },
   "outputs": [],
   "source": [
    "df.head()"
   ]
  },
  {
   "cell_type": "code",
   "execution_count": null,
   "metadata": {
    "ExecuteTime": {
     "end_time": "2022-06-09T21:10:52.711332Z",
     "start_time": "2022-06-09T21:10:52.707291Z"
    }
   },
   "outputs": [],
   "source": [
    "df.drop(['availability_30', 'availability_90', 'availability_365'], axis=1, inplace=True)"
   ]
  },
  {
   "cell_type": "code",
   "execution_count": null,
   "metadata": {
    "ExecuteTime": {
     "end_time": "2022-06-09T21:10:52.722117Z",
     "start_time": "2022-06-09T21:10:52.712398Z"
    }
   },
   "outputs": [],
   "source": [
    "df.info()"
   ]
  },
  {
   "cell_type": "code",
   "execution_count": null,
   "metadata": {},
   "outputs": [],
   "source": []
  },
  {
   "cell_type": "code",
   "execution_count": null,
   "metadata": {},
   "outputs": [],
   "source": []
  },
  {
   "cell_type": "markdown",
   "metadata": {},
   "source": [
    "### Number of Units with a 5.0 Avg Rating"
   ]
  },
  {
   "cell_type": "code",
   "execution_count": null,
   "metadata": {
    "ExecuteTime": {
     "end_time": "2022-06-09T21:10:52.727877Z",
     "start_time": "2022-06-09T21:10:52.723161Z"
    }
   },
   "outputs": [],
   "source": [
    "df['review_scores_rating'].value_counts()"
   ]
  },
  {
   "cell_type": "code",
   "execution_count": null,
   "metadata": {
    "ExecuteTime": {
     "end_time": "2022-06-09T21:10:52.731879Z",
     "start_time": "2022-06-09T21:10:52.728946Z"
    }
   },
   "outputs": [],
   "source": [
    "df['review_scores_rating'].isna().sum()"
   ]
  },
  {
   "cell_type": "markdown",
   "metadata": {},
   "source": [
    "There are 1527 Null records that need to be dealt with. If I drop them, I will lose 14% of my data."
   ]
  },
  {
   "cell_type": "code",
   "execution_count": null,
   "metadata": {
    "ExecuteTime": {
     "end_time": "2022-06-09T21:10:52.736002Z",
     "start_time": "2022-06-09T21:10:52.732953Z"
    }
   },
   "outputs": [],
   "source": [
    "nulls = df[df['review_scores_rating'].isna()]"
   ]
  },
  {
   "cell_type": "code",
   "execution_count": null,
   "metadata": {
    "ExecuteTime": {
     "end_time": "2022-06-09T21:10:52.748479Z",
     "start_time": "2022-06-09T21:10:52.736946Z"
    }
   },
   "outputs": [],
   "source": [
    "nulls.head(3)"
   ]
  },
  {
   "cell_type": "markdown",
   "metadata": {},
   "source": [
    "nulls appear to have no ratings. Let's drop them for now."
   ]
  },
  {
   "cell_type": "code",
   "execution_count": null,
   "metadata": {
    "ExecuteTime": {
     "end_time": "2022-06-09T21:10:52.757465Z",
     "start_time": "2022-06-09T21:10:52.749479Z"
    }
   },
   "outputs": [],
   "source": [
    "df = df.dropna()"
   ]
  },
  {
   "cell_type": "code",
   "execution_count": null,
   "metadata": {
    "ExecuteTime": {
     "end_time": "2022-06-09T21:10:52.776048Z",
     "start_time": "2022-06-09T21:10:52.758463Z"
    }
   },
   "outputs": [],
   "source": [
    "df"
   ]
  },
  {
   "cell_type": "markdown",
   "metadata": {},
   "source": [
    "<b> 8385 Records are left after dropping null values </b>"
   ]
  },
  {
   "cell_type": "markdown",
   "metadata": {},
   "source": [
    "### Creating Classifier Column"
   ]
  },
  {
   "cell_type": "code",
   "execution_count": null,
   "metadata": {
    "ExecuteTime": {
     "end_time": "2022-06-09T21:10:52.781844Z",
     "start_time": "2022-06-09T21:10:52.777127Z"
    }
   },
   "outputs": [],
   "source": [
    "df['rating_5'] = df['review_scores_rating'] == 5.00\n",
    "df['accuracy_5'] = df['review_scores_accuracy'] == 5.00\n",
    "df['cleanliness_5'] = df['review_scores_cleanliness'] == 5.00\n",
    "df['checkin_5'] = df['review_scores_checkin'] == 5.00\n",
    "df['location_5'] = df['review_scores_location'] == 5.00\n",
    "df['value_5'] = df['review_scores_value'] == 5.00\n",
    "df['communication_5'] = df['review_scores_communication'] == 5.00"
   ]
  },
  {
   "cell_type": "code",
   "execution_count": null,
   "metadata": {
    "ExecuteTime": {
     "end_time": "2022-06-09T21:10:52.786162Z",
     "start_time": "2022-06-09T21:10:52.782751Z"
    }
   },
   "outputs": [],
   "source": [
    "df['rating_5'].value_counts()"
   ]
  },
  {
   "cell_type": "markdown",
   "metadata": {},
   "source": [
    "### 5.0 Rating Analysis:\n",
    "- Out of 8385 records:\n",
    "-- 22.5% had a perfect rating\n",
    "-- 77.5% did not have a perfect rating"
   ]
  },
  {
   "cell_type": "markdown",
   "metadata": {},
   "source": [
    "### Future Work: Analyze how much more likely a 5.0 rated rental is to be successful than a non-5.0 rated rental"
   ]
  },
  {
   "cell_type": "code",
   "execution_count": null,
   "metadata": {
    "ExecuteTime": {
     "end_time": "2022-06-09T21:10:52.790734Z",
     "start_time": "2022-06-09T21:10:52.787095Z"
    }
   },
   "outputs": [],
   "source": [
    "df['location_5'].value_counts()"
   ]
  },
  {
   "cell_type": "markdown",
   "metadata": {},
   "source": [
    "### Creating Binned Price Categories"
   ]
  },
  {
   "cell_type": "code",
   "execution_count": null,
   "metadata": {
    "ExecuteTime": {
     "end_time": "2022-06-09T21:10:52.798746Z",
     "start_time": "2022-06-09T21:10:52.791669Z"
    }
   },
   "outputs": [],
   "source": [
    "df['price'].describe()"
   ]
  },
  {
   "cell_type": "code",
   "execution_count": null,
   "metadata": {
    "ExecuteTime": {
     "end_time": "2022-06-09T21:10:52.803896Z",
     "start_time": "2022-06-09T21:10:52.799596Z"
    }
   },
   "outputs": [],
   "source": [
    "df['price_high'] = df['price'] >= 350\n",
    "df['price_low'] = df['price'] <= 120"
   ]
  },
  {
   "cell_type": "code",
   "execution_count": null,
   "metadata": {
    "ExecuteTime": {
     "end_time": "2022-06-09T21:10:52.806626Z",
     "start_time": "2022-06-09T21:10:52.805216Z"
    }
   },
   "outputs": [],
   "source": [
    "#df['price_high'] = df['price'] >= 200\n",
    "#df['price_low'] = df['price'] < 200"
   ]
  },
  {
   "cell_type": "code",
   "execution_count": null,
   "metadata": {
    "ExecuteTime": {
     "end_time": "2022-06-09T21:10:52.825663Z",
     "start_time": "2022-06-09T21:10:52.807758Z"
    }
   },
   "outputs": [],
   "source": [
    "df"
   ]
  },
  {
   "cell_type": "markdown",
   "metadata": {
    "ExecuteTime": {
     "end_time": "2022-06-02T15:25:31.459067Z",
     "start_time": "2022-06-02T15:25:31.456428Z"
    }
   },
   "source": [
    "### Checking # of reviews"
   ]
  },
  {
   "cell_type": "code",
   "execution_count": null,
   "metadata": {
    "ExecuteTime": {
     "end_time": "2022-06-09T21:10:52.830065Z",
     "start_time": "2022-06-09T21:10:52.828443Z"
    }
   },
   "outputs": [],
   "source": [
    "#df['number_of_reviews'].value_counts()"
   ]
  },
  {
   "cell_type": "code",
   "execution_count": null,
   "metadata": {
    "ExecuteTime": {
     "end_time": "2022-06-09T21:10:52.832674Z",
     "start_time": "2022-06-09T21:10:52.831124Z"
    }
   },
   "outputs": [],
   "source": [
    "#df['5+_reviews'] = df['number_of_reviews'] >= 5.00"
   ]
  },
  {
   "cell_type": "code",
   "execution_count": null,
   "metadata": {
    "ExecuteTime": {
     "end_time": "2022-06-09T21:10:52.851938Z",
     "start_time": "2022-06-09T21:10:52.833795Z"
    }
   },
   "outputs": [],
   "source": [
    "df"
   ]
  },
  {
   "cell_type": "code",
   "execution_count": null,
   "metadata": {
    "ExecuteTime": {
     "end_time": "2022-06-09T21:10:52.862935Z",
     "start_time": "2022-06-09T21:10:52.853174Z"
    }
   },
   "outputs": [],
   "source": [
    "df['stripped_rating'] = df['review_scores_rating'].astype(str).str[:1]"
   ]
  },
  {
   "cell_type": "code",
   "execution_count": null,
   "metadata": {
    "ExecuteTime": {
     "end_time": "2022-06-09T21:10:52.867503Z",
     "start_time": "2022-06-09T21:10:52.864075Z"
    }
   },
   "outputs": [],
   "source": [
    "df['stripped_rating']"
   ]
  },
  {
   "cell_type": "code",
   "execution_count": null,
   "metadata": {
    "ExecuteTime": {
     "end_time": "2022-06-09T21:10:52.875449Z",
     "start_time": "2022-06-09T21:10:52.868530Z"
    }
   },
   "outputs": [],
   "source": [
    "df = df.sort_values('stripped_rating', ascending=False)"
   ]
  },
  {
   "cell_type": "code",
   "execution_count": null,
   "metadata": {
    "ExecuteTime": {
     "end_time": "2022-06-09T21:10:52.886111Z",
     "start_time": "2022-06-09T21:10:52.876533Z"
    }
   },
   "outputs": [],
   "source": [
    "df.info()"
   ]
  },
  {
   "cell_type": "markdown",
   "metadata": {},
   "source": [
    "## Attempting visualization"
   ]
  },
  {
   "cell_type": "code",
   "execution_count": null,
   "metadata": {
    "ExecuteTime": {
     "end_time": "2022-06-09T21:10:53.176344Z",
     "start_time": "2022-06-09T21:10:52.887154Z"
    }
   },
   "outputs": [],
   "source": [
    "fig, ax = plt.subplots(figsize=(20, 10))\n",
    "\n",
    "p = sns.lineplot(data=df, x='stripped_rating', y='price', color='blue');\n",
    "\n",
    "\n",
    "#p.set_xlabel(\"Date\", fontsize = 30)\n",
    "#p.set_ylabel(\"Average Home Prices (Median)\", fontsize = 30)\n",
    "\n",
    "#y1 = p.axvline('2008-01', color='red') #housing market crash begins\n",
    "#y2 = p.axvline('2012-01', color='red') #housing market crash ends\n",
    "\n",
    "plt.xticks(fontsize=20)\n",
    "plt.yticks(fontsize=20)\n",
    "\n",
    "fmt = '${x:,.0f}'\n",
    "tick = mtick.StrMethodFormatter(fmt)\n",
    "ax.yaxis.set_major_formatter(tick) \n",
    "\n",
    "#p.set_title(\"US Median Home Prices\", fontsize = 55)\n",
    "plt.figsize=(50,25)\n",
    "#plt.savefig('images/us_median_plot_1')\n",
    "\n",
    "plt.tight_layout()\n",
    "\n",
    "plt.show();"
   ]
  },
  {
   "cell_type": "markdown",
   "metadata": {},
   "source": [
    "### Analysis: \n",
    "This is a very basic plot, but seems to show that there is a \"sweet spot\" for pricing that is around $300."
   ]
  },
  {
   "cell_type": "code",
   "execution_count": null,
   "metadata": {
    "ExecuteTime": {
     "end_time": "2022-06-09T21:10:53.179505Z",
     "start_time": "2022-06-09T21:10:53.177928Z"
    }
   },
   "outputs": [],
   "source": [
    "#new_df = df[df['5+_reviews'] == True]"
   ]
  },
  {
   "cell_type": "code",
   "execution_count": null,
   "metadata": {
    "ExecuteTime": {
     "end_time": "2022-06-09T21:10:53.182741Z",
     "start_time": "2022-06-09T21:10:53.180834Z"
    }
   },
   "outputs": [],
   "source": [
    "#new_df['5+_reviews'].value_counts()"
   ]
  },
  {
   "cell_type": "code",
   "execution_count": null,
   "metadata": {},
   "outputs": [],
   "source": []
  },
  {
   "cell_type": "code",
   "execution_count": null,
   "metadata": {
    "ExecuteTime": {
     "end_time": "2022-06-09T21:10:53.187362Z",
     "start_time": "2022-06-09T21:10:53.184018Z"
    }
   },
   "outputs": [],
   "source": [
    "scatter_df = df[df['review_scores_rating'] >= 4.0]"
   ]
  },
  {
   "cell_type": "code",
   "execution_count": null,
   "metadata": {
    "ExecuteTime": {
     "end_time": "2022-06-09T21:10:53.191468Z",
     "start_time": "2022-06-09T21:10:53.188266Z"
    }
   },
   "outputs": [],
   "source": [
    "scatter_mean = scatter_df['price'].mean()\n",
    "scatter_mean"
   ]
  },
  {
   "cell_type": "code",
   "execution_count": null,
   "metadata": {
    "ExecuteTime": {
     "end_time": "2022-06-09T21:10:54.529108Z",
     "start_time": "2022-06-09T21:10:53.192382Z"
    }
   },
   "outputs": [],
   "source": [
    "fig, ax = plt.subplots(figsize=(20, 10))\n",
    "\n",
    "p = sns.lineplot(data=scatter_df, x='review_scores_rating', y='price', color='blue');\n",
    "\n",
    "\n",
    "#p.set_xlabel(\"Date\", fontsize = 30)\n",
    "#p.set_ylabel(\"Average Home Prices (Median)\", fontsize = 30)\n",
    "\n",
    "y1 = p.axhline(scatter_mean, color='red') \n",
    "#y2 = p.axvline('2012-01', color='red') #housing market crash ends\n",
    "\n",
    "plt.xticks(fontsize=20)\n",
    "plt.yticks(fontsize=20)\n",
    "\n",
    "fmt = '${x:,.0f}'\n",
    "tick = mtick.StrMethodFormatter(fmt)\n",
    "ax.yaxis.set_major_formatter(tick) \n",
    "\n",
    "#p.set_title(\"US Median Home Prices\", fontsize = 55)\n",
    "plt.figsize=(50,25)\n",
    "#plt.savefig('images/us_median_plot_1')\n",
    "\n",
    "plt.tight_layout()\n",
    "\n",
    "plt.show();"
   ]
  },
  {
   "cell_type": "code",
   "execution_count": null,
   "metadata": {
    "ExecuteTime": {
     "end_time": "2022-06-09T21:10:54.542674Z",
     "start_time": "2022-06-09T21:10:54.531027Z"
    }
   },
   "outputs": [],
   "source": [
    "df.head(1)"
   ]
  },
  {
   "cell_type": "code",
   "execution_count": null,
   "metadata": {
    "ExecuteTime": {
     "end_time": "2022-06-09T21:10:54.558002Z",
     "start_time": "2022-06-09T21:10:54.544119Z"
    }
   },
   "outputs": [],
   "source": [
    "df.sort_values('rating_5', ascending=False).head()"
   ]
  },
  {
   "cell_type": "markdown",
   "metadata": {},
   "source": [
    "### Creating Analysis_df"
   ]
  },
  {
   "cell_type": "code",
   "execution_count": null,
   "metadata": {
    "ExecuteTime": {
     "end_time": "2022-06-09T21:10:54.562267Z",
     "start_time": "2022-06-09T21:10:54.559107Z"
    }
   },
   "outputs": [],
   "source": [
    "analysis_df = df.copy()"
   ]
  },
  {
   "cell_type": "markdown",
   "metadata": {},
   "source": [
    "## Modelling"
   ]
  },
  {
   "cell_type": "markdown",
   "metadata": {},
   "source": [
    "### Getting Data Ready for Modelling"
   ]
  },
  {
   "cell_type": "code",
   "execution_count": null,
   "metadata": {
    "ExecuteTime": {
     "end_time": "2022-06-09T21:10:54.574431Z",
     "start_time": "2022-06-09T21:10:54.563520Z"
    }
   },
   "outputs": [],
   "source": [
    "cont_features = [col for col in df.columns if df[col].dtype in [np.float64, np.int64]]\n",
    "feature_df = df.loc[:, cont_features]\n",
    "feature_df.head()"
   ]
  },
  {
   "cell_type": "code",
   "execution_count": null,
   "metadata": {
    "ExecuteTime": {
     "end_time": "2022-06-09T21:10:54.577349Z",
     "start_time": "2022-06-09T21:10:54.575671Z"
    }
   },
   "outputs": [],
   "source": [
    "#test_df = df.drop(cont_features, axis=1)"
   ]
  },
  {
   "cell_type": "code",
   "execution_count": null,
   "metadata": {
    "ExecuteTime": {
     "end_time": "2022-06-09T21:10:54.580327Z",
     "start_time": "2022-06-09T21:10:54.578393Z"
    }
   },
   "outputs": [],
   "source": [
    "#test_df"
   ]
  },
  {
   "cell_type": "code",
   "execution_count": null,
   "metadata": {
    "ExecuteTime": {
     "end_time": "2022-06-09T21:10:54.583234Z",
     "start_time": "2022-06-09T21:10:54.581604Z"
    }
   },
   "outputs": [],
   "source": [
    "#feature_df.drop(['review_scores_rating', 'review_scores_accuracy','review_scores_cleanliness',\n",
    "#                 'review_scores_checkin', 'review_scores_communication','review_scores_value',\n",
    "#                 'review_scores_location', 'accommodates', 'bedrooms',\n",
    "#                 'beds'], axis=1, inplace=True#)"
   ]
  },
  {
   "cell_type": "code",
   "execution_count": null,
   "metadata": {
    "ExecuteTime": {
     "end_time": "2022-06-09T21:10:54.586038Z",
     "start_time": "2022-06-09T21:10:54.584300Z"
    }
   },
   "outputs": [],
   "source": [
    "#feature_df.drop(['review_scores_location'], axis=1, inplace=True)"
   ]
  },
  {
   "cell_type": "code",
   "execution_count": null,
   "metadata": {
    "ExecuteTime": {
     "end_time": "2022-06-09T21:10:54.596038Z",
     "start_time": "2022-06-09T21:10:54.587322Z"
    }
   },
   "outputs": [],
   "source": [
    "feature_df.head()"
   ]
  },
  {
   "cell_type": "code",
   "execution_count": null,
   "metadata": {
    "ExecuteTime": {
     "end_time": "2022-06-09T21:10:54.606617Z",
     "start_time": "2022-06-09T21:10:54.597572Z"
    }
   },
   "outputs": [],
   "source": [
    "df.info()"
   ]
  },
  {
   "cell_type": "markdown",
   "metadata": {},
   "source": [
    "#### Cleaning and Splitting Amenities"
   ]
  },
  {
   "cell_type": "code",
   "execution_count": null,
   "metadata": {
    "ExecuteTime": {
     "end_time": "2022-06-09T21:13:54.707449Z",
     "start_time": "2022-06-09T21:13:54.680508Z"
    }
   },
   "outputs": [],
   "source": [
    "df_bravo = df.copy()"
   ]
  },
  {
   "cell_type": "code",
   "execution_count": null,
   "metadata": {
    "ExecuteTime": {
     "end_time": "2022-06-09T21:14:20.958777Z",
     "start_time": "2022-06-09T21:14:20.579763Z"
    }
   },
   "outputs": [],
   "source": [
    "data= df_bravo\n",
    "data['amenities_list'] = data['amenities'].str.split(pat=\",\")\n",
    "amenities_data = data.explode('amenities_list')\n",
    "amenities_data.head(5)"
   ]
  },
  {
   "cell_type": "code",
   "execution_count": null,
   "metadata": {
    "ExecuteTime": {
     "end_time": "2022-06-09T21:15:25.393517Z",
     "start_time": "2022-06-09T21:15:25.041425Z"
    }
   },
   "outputs": [],
   "source": [
    "#This works!!!!!!\n",
    "amenities_data['amenities_list_clean']= amenities_data['amenities_list'].str.replace(r'[^\\w\\s]+', '')"
   ]
  },
  {
   "cell_type": "code",
   "execution_count": null,
   "metadata": {
    "ExecuteTime": {
     "end_time": "2022-06-09T21:16:49.205098Z",
     "start_time": "2022-06-09T21:16:49.101206Z"
    }
   },
   "outputs": [],
   "source": [
    "amenities_data.drop('amenities_list', axis=1, inplace=True)"
   ]
  },
  {
   "cell_type": "code",
   "execution_count": null,
   "metadata": {
    "ExecuteTime": {
     "end_time": "2022-06-09T21:17:03.637399Z",
     "start_time": "2022-06-09T21:17:03.630902Z"
    }
   },
   "outputs": [],
   "source": [
    "df = amenities_data"
   ]
  },
  {
   "cell_type": "code",
   "execution_count": null,
   "metadata": {
    "ExecuteTime": {
     "end_time": "2022-06-09T21:17:07.726520Z",
     "start_time": "2022-06-09T21:17:07.713602Z"
    }
   },
   "outputs": [],
   "source": [
    "df.head()"
   ]
  },
  {
   "cell_type": "code",
   "execution_count": null,
   "metadata": {},
   "outputs": [],
   "source": []
  },
  {
   "cell_type": "markdown",
   "metadata": {},
   "source": [
    "#### One Hot Encoding"
   ]
  },
  {
   "cell_type": "code",
   "execution_count": null,
   "metadata": {
    "ExecuteTime": {
     "end_time": "2022-06-09T14:52:57.560086Z",
     "start_time": "2022-06-09T14:52:57.510541Z"
    }
   },
   "outputs": [],
   "source": [
    "need_to_encode = df[['rating_5', 'accuracy_5', 'cleanliness_5', 'checkin_5', \n",
    "                    'location_5', 'value_5', 'communication_5', 'price_high', 'price_low', 'room_type',\n",
    "                     'capacity_couple', 'capacity_family', 'capacity_large',\n",
    "                    #'capacity_1-4', 'capacity_5+',\n",
    "                    # 'capacity_-2','capacity_-4', 'capacity_-6', 'capacity_-10', 'capacity_11+',\n",
    "                    #'bedrooms_1', 'bedrooms_2', 'bedrooms_3', 'bedrooms_4+', 'instant_bookable']]\n",
    "                     'bedrooms_1-2', 'bedrooms_3+', 'instant_bookable', 'booked',\n",
    "                     'host_listings_5+', 'host_is_superhost'\n",
    "                    ]]\n",
    "ohe = OneHotEncoder()\n",
    "ohe.fit(need_to_encode)\n",
    "\n",
    "ohe_1 = ohe.transform(need_to_encode).toarray()\n",
    "\n",
    "ohe_df = pd.DataFrame(ohe_1, columns=ohe.get_feature_names(need_to_encode.columns))\n",
    "ohe_df.head(2)"
   ]
  },
  {
   "cell_type": "code",
   "execution_count": null,
   "metadata": {
    "ExecuteTime": {
     "end_time": "2022-06-07T14:40:11.594852Z",
     "start_time": "2022-06-07T14:40:11.593430Z"
    }
   },
   "outputs": [],
   "source": [
    "# Combining everything together\n",
    "#cleaned_df = pd.concat([pd.DataFrame(feature_df), ohe_df], axis=1)\n",
    "#cleaned_df.head(2)"
   ]
  },
  {
   "cell_type": "code",
   "execution_count": null,
   "metadata": {
    "ExecuteTime": {
     "end_time": "2022-06-09T14:53:00.984722Z",
     "start_time": "2022-06-09T14:53:00.979533Z"
    }
   },
   "outputs": [],
   "source": [
    "cleaned_df = ohe_df"
   ]
  },
  {
   "cell_type": "code",
   "execution_count": null,
   "metadata": {
    "ExecuteTime": {
     "end_time": "2022-06-09T15:16:33.613695Z",
     "start_time": "2022-06-09T15:16:33.603638Z"
    }
   },
   "outputs": [],
   "source": [
    "ohe_df['host_is_superhost_t']"
   ]
  },
  {
   "cell_type": "markdown",
   "metadata": {},
   "source": [
    "### Top Rated and Low Rated DFs Created"
   ]
  },
  {
   "cell_type": "code",
   "execution_count": null,
   "metadata": {
    "ExecuteTime": {
     "end_time": "2022-06-09T14:53:03.424001Z",
     "start_time": "2022-06-09T14:53:03.421461Z"
    }
   },
   "outputs": [],
   "source": [
    "top_rated = cleaned_df[cleaned_df['rating_5_True'] == 1]"
   ]
  },
  {
   "cell_type": "code",
   "execution_count": null,
   "metadata": {
    "ExecuteTime": {
     "end_time": "2022-06-09T14:53:05.994179Z",
     "start_time": "2022-06-09T14:53:05.991806Z"
    }
   },
   "outputs": [],
   "source": [
    "low_rated = cleaned_df[cleaned_df['rating_5_False'] == 1]"
   ]
  },
  {
   "cell_type": "code",
   "execution_count": null,
   "metadata": {
    "ExecuteTime": {
     "end_time": "2022-06-09T14:53:08.773383Z",
     "start_time": "2022-06-09T14:53:08.767524Z"
    }
   },
   "outputs": [],
   "source": [
    "cleaned_df.info()"
   ]
  },
  {
   "cell_type": "markdown",
   "metadata": {},
   "source": [
    "#### Dropping One Value for Categoricals"
   ]
  },
  {
   "cell_type": "code",
   "execution_count": null,
   "metadata": {
    "ExecuteTime": {
     "end_time": "2022-06-09T14:53:47.073959Z",
     "start_time": "2022-06-09T14:53:47.062892Z"
    }
   },
   "outputs": [],
   "source": [
    "cleaned_df = cleaned_df.drop(['rating_5_False', 'accuracy_5_False',\n",
    "                             'cleanliness_5_False', 'checkin_5_False', 'location_5_False',\n",
    "                             'value_5_False', 'price_high_False', 'price_low_False',\n",
    "                           # 'bedrooms_1_False', 'bedrooms_2_False', 'bedrooms_3_False', 'bedrooms_4+_False',\n",
    "                             'bedrooms_1-2_False', 'bedrooms_3+_False',\n",
    "                            #'capacity_1-4_False', 'capacity_5+_False',\n",
    "                             # 'capacity_-2_False','capacity_-4_False', 'capacity_-6_False',\n",
    "                             # 'capacity_-10_False', 'capacity_11+_False',\n",
    "                              'capacity_couple_False', 'capacity_family_False', 'capacity_large_False',\n",
    "                              'instant_bookable_f', 'booked_False', 'room_type_Hotel room',\n",
    "                             'communication_5_False', 'host_is_superhost_f', 'host_listings_5+_False'],\n",
    "                              axis=1)"
   ]
  },
  {
   "cell_type": "code",
   "execution_count": null,
   "metadata": {
    "ExecuteTime": {
     "end_time": "2022-06-07T14:40:11.619737Z",
     "start_time": "2022-06-07T14:40:11.618178Z"
    }
   },
   "outputs": [],
   "source": [
    "#top_rated_df = top_rated.drop(['rating_5_False', 'accuracy_5_False',\n",
    "#                             'cleanliness_5_False', 'checkin_5_False', 'location_5_False',\n",
    "#                             'value_5_False', 'price_high_False', 'price_low_False',\n",
    " #                          # 'bedrooms_1_False', 'bedrooms_2_False', 'bedrooms_3_False', 'bedrooms_4+_False',\n",
    "  #                           'bedrooms_1-2_False', 'bedrooms_3+_False',\n",
    "   #                         'capacity_1-4_False', 'capacity_5+_False', 'instant_bookable_f', 'booked_False'],\n",
    "    #                          axis=1)"
   ]
  },
  {
   "cell_type": "code",
   "execution_count": null,
   "metadata": {
    "ExecuteTime": {
     "end_time": "2022-06-07T14:40:11.622601Z",
     "start_time": "2022-06-07T14:40:11.621073Z"
    }
   },
   "outputs": [],
   "source": [
    "#low_rated_df = low_rated.drop(['rating_5_False', 'accuracy_5_False',\n",
    " #                            'cleanliness_5_False', 'checkin_5_False', 'location_5_False',\n",
    "  #                           'value_5_False', 'price_high_False', 'price_low_False',\n",
    "   #                        # 'bedrooms_1_False', 'bedrooms_2_False', 'bedrooms_3_False', 'bedrooms_4+_False',\n",
    "    #                         'bedrooms_1-2_False', 'bedrooms_3+_False',\n",
    "     #                       'capacity_1-4_False', 'capacity_5+_False', 'instant_bookable_f', 'booked_False'],\n",
    "      #                        axis=1)"
   ]
  },
  {
   "cell_type": "code",
   "execution_count": null,
   "metadata": {
    "ExecuteTime": {
     "end_time": "2022-06-07T14:40:11.625430Z",
     "start_time": "2022-06-07T14:40:11.623830Z"
    }
   },
   "outputs": [],
   "source": [
    "#Dropping a few of the redundant values.\n",
    "#cleaned_df= cleaned_df.drop(['rating_5_False', 'accuracy_5_False',\n",
    "#                             'cleanliness_5_False', 'checkin_5_False', 'location_5_False',\n",
    " #                            'value_5_False', 'price_high_False', 'price_low_False',\n",
    "  #                         # 'bedrooms_1_False', 'bedrooms_2_False', 'bedrooms_3_False', 'bedrooms_4+_False',\n",
    "   #                          'bedrooms_1-2_False', 'bedrooms_3+_False',\n",
    "    #                        'capacity_1-4_False', 'capacity_5+_False', 'instant_bookable_f'], axis=1)"
   ]
  },
  {
   "cell_type": "code",
   "execution_count": null,
   "metadata": {
    "ExecuteTime": {
     "end_time": "2022-06-07T14:40:11.628328Z",
     "start_time": "2022-06-07T14:40:11.626749Z"
    }
   },
   "outputs": [],
   "source": [
    "#cleaned_df= cleaned_df.drop(['price_low_True', 'price_high_True'], axis=1)\n",
    "#cleaned_df= cleaned_df.drop(['price'], axis=1)"
   ]
  },
  {
   "cell_type": "code",
   "execution_count": null,
   "metadata": {
    "ExecuteTime": {
     "end_time": "2022-06-07T14:40:11.631280Z",
     "start_time": "2022-06-07T14:40:11.629535Z"
    }
   },
   "outputs": [],
   "source": [
    "#cleaned_df.head(1)"
   ]
  },
  {
   "cell_type": "code",
   "execution_count": null,
   "metadata": {},
   "outputs": [],
   "source": []
  },
  {
   "cell_type": "code",
   "execution_count": null,
   "metadata": {
    "ExecuteTime": {
     "end_time": "2022-06-09T14:53:51.391804Z",
     "start_time": "2022-06-09T14:53:51.379936Z"
    }
   },
   "outputs": [],
   "source": [
    "cleaned_df['rating_5_True'].value_counts()"
   ]
  },
  {
   "cell_type": "code",
   "execution_count": null,
   "metadata": {
    "ExecuteTime": {
     "end_time": "2022-06-09T14:53:54.226734Z",
     "start_time": "2022-06-09T14:53:54.223280Z"
    }
   },
   "outputs": [],
   "source": [
    "cleaned_df['instant_bookable_t'].value_counts()"
   ]
  },
  {
   "cell_type": "markdown",
   "metadata": {},
   "source": [
    "#### Dealing with Class Imbalance\n",
    "\n",
    "- Rentals without at 5.0 rating are at a rate of 3.4 to 1.\n",
    "- <b> Solution </b>\n",
    "    - Always use class weight parameter in Decision Tree Classifier\n",
    "    - Always stratify Train Test Split.\n",
    "    - Add SMOTE to Training Sets."
   ]
  },
  {
   "cell_type": "code",
   "execution_count": null,
   "metadata": {
    "ExecuteTime": {
     "end_time": "2022-06-09T14:53:59.712611Z",
     "start_time": "2022-06-09T14:53:59.703343Z"
    }
   },
   "outputs": [],
   "source": [
    "cleaned_df['rating_5_True']"
   ]
  },
  {
   "cell_type": "code",
   "execution_count": null,
   "metadata": {
    "ExecuteTime": {
     "end_time": "2022-06-09T14:54:02.599251Z",
     "start_time": "2022-06-09T14:54:02.595517Z"
    }
   },
   "outputs": [],
   "source": [
    "cleaned_df.isna().sum()"
   ]
  },
  {
   "cell_type": "code",
   "execution_count": null,
   "metadata": {
    "ExecuteTime": {
     "end_time": "2022-06-07T14:40:11.651460Z",
     "start_time": "2022-06-07T14:40:11.647916Z"
    }
   },
   "outputs": [],
   "source": [
    "#cleaned_df = cleaned_df.dropna()\n",
    "#top_rated_df = top_rated_df.dropna()\n",
    "#low_rated_df = low_rated_df.dropna()"
   ]
  },
  {
   "cell_type": "code",
   "execution_count": null,
   "metadata": {
    "ExecuteTime": {
     "end_time": "2022-06-07T14:40:11.654193Z",
     "start_time": "2022-06-07T14:40:11.652602Z"
    }
   },
   "outputs": [],
   "source": [
    "#top_rated_df.isna().sum()"
   ]
  },
  {
   "cell_type": "code",
   "execution_count": null,
   "metadata": {
    "ExecuteTime": {
     "end_time": "2022-06-07T14:40:11.657042Z",
     "start_time": "2022-06-07T14:40:11.655446Z"
    }
   },
   "outputs": [],
   "source": [
    "#cleaned_df.info()"
   ]
  },
  {
   "cell_type": "code",
   "execution_count": null,
   "metadata": {
    "ExecuteTime": {
     "end_time": "2022-06-07T14:40:11.659886Z",
     "start_time": "2022-06-07T14:40:11.658111Z"
    }
   },
   "outputs": [],
   "source": [
    "#cleaned_df.isna().sum()"
   ]
  },
  {
   "cell_type": "code",
   "execution_count": null,
   "metadata": {
    "ExecuteTime": {
     "end_time": "2022-06-07T14:40:11.662632Z",
     "start_time": "2022-06-07T14:40:11.661097Z"
    }
   },
   "outputs": [],
   "source": [
    "#cleaned_df.drop(['number_of_reviews', 'number_of_reviews_ltm', 'number_of_reviews_l30d', 'price'], axis=1, inplace=True)"
   ]
  },
  {
   "cell_type": "code",
   "execution_count": null,
   "metadata": {
    "ExecuteTime": {
     "end_time": "2022-06-07T14:40:11.664834Z",
     "start_time": "2022-06-07T14:40:11.663580Z"
    }
   },
   "outputs": [],
   "source": [
    "#dropping accuracy to see what the feature importances are\n",
    "#cleaned_df.drop(['accuracy_5_True'], axis=1, inplace=True)"
   ]
  },
  {
   "cell_type": "code",
   "execution_count": null,
   "metadata": {
    "ExecuteTime": {
     "end_time": "2022-06-07T14:40:11.666884Z",
     "start_time": "2022-06-07T14:40:11.665680Z"
    }
   },
   "outputs": [],
   "source": [
    "#dropping rating_5 and searching for accuracy as the target\n",
    "#cleaned_df.drop(['rating_5_True'], axis=1, inplace=True)\n",
    "#top_rated_df.drop(['rating_5_True'], axis=1, inplace=True)\n",
    "#low_rated_df.drop(['rating_5_True'], axis=1, inplace=True)"
   ]
  },
  {
   "cell_type": "code",
   "execution_count": null,
   "metadata": {
    "ExecuteTime": {
     "end_time": "2022-06-07T14:40:11.670478Z",
     "start_time": "2022-06-07T14:40:11.668632Z"
    }
   },
   "outputs": [],
   "source": [
    "# dropping price_high as it is redundant\n",
    "# price_low means that the listing is below the mean avg price\n",
    "#cleaned_df.drop(['price_high_True'], axis=1, inplace=True)\n",
    "#top_rated_df.drop(['price_high_True'], axis=1, inplace=True)\n",
    "#low_rated_df.drop(['price_high_True'], axis=1, inplace=True)"
   ]
  },
  {
   "cell_type": "code",
   "execution_count": null,
   "metadata": {
    "ExecuteTime": {
     "end_time": "2022-06-09T14:54:05.446861Z",
     "start_time": "2022-06-09T14:54:05.435636Z"
    }
   },
   "outputs": [],
   "source": [
    "booked_df = cleaned_df[cleaned_df['booked_True'] == 1]\n",
    "booked_df.head()"
   ]
  },
  {
   "cell_type": "code",
   "execution_count": null,
   "metadata": {
    "ExecuteTime": {
     "end_time": "2022-06-09T13:43:30.210186Z",
     "start_time": "2022-06-09T13:43:30.129291Z"
    }
   },
   "outputs": [],
   "source": [
    "booked_df.mean()"
   ]
  },
  {
   "cell_type": "code",
   "execution_count": null,
   "metadata": {
    "ExecuteTime": {
     "end_time": "2022-06-07T14:40:11.688763Z",
     "start_time": "2022-06-07T14:40:11.687361Z"
    }
   },
   "outputs": [],
   "source": [
    "#cleaned_df.head(1)"
   ]
  },
  {
   "cell_type": "code",
   "execution_count": null,
   "metadata": {
    "ExecuteTime": {
     "end_time": "2022-06-07T14:40:11.691053Z",
     "start_time": "2022-06-07T14:40:11.689706Z"
    }
   },
   "outputs": [],
   "source": [
    "#top_rated_df.describe()"
   ]
  },
  {
   "cell_type": "code",
   "execution_count": null,
   "metadata": {
    "ExecuteTime": {
     "end_time": "2022-06-07T14:40:11.693625Z",
     "start_time": "2022-06-07T14:40:11.692097Z"
    }
   },
   "outputs": [],
   "source": [
    "#new_df = top_rated_df[['checkin_5_True', 'location_5_True', 'price_low_True', 'capacity_5+_True',\n",
    "#                    'instant_bookable_t', 'booked_True']]"
   ]
  },
  {
   "cell_type": "code",
   "execution_count": null,
   "metadata": {
    "ExecuteTime": {
     "end_time": "2022-06-09T14:54:08.461938Z",
     "start_time": "2022-06-09T14:54:08.412038Z"
    }
   },
   "outputs": [],
   "source": [
    "balanced_df = cleaned_df.copy()\n",
    "#balanced_df = top_rated_df.copy()\n",
    "#balanced_df = new_df.copy()\n",
    "\n",
    "X = balanced_df.drop(['rating_5_True'], axis=1)\n",
    "y = balanced_df['rating_5_True']\n",
    "#X = balanced_df.drop(['booked_True'], axis=1)\n",
    "#y = balanced_df['booked_True']\n",
    "\n",
    "X_train, X_test, y_train, y_test = train_test_split(X, y, test_size=.25, stratify=y, random_state=23)\n",
    "\n",
    "smote = SMOTE(random_state=23)\n",
    "X_train_resampled, y_train_resampled = smote.fit_sample(X_train, y_train) "
   ]
  },
  {
   "cell_type": "markdown",
   "metadata": {},
   "source": [
    "### Metrics Function"
   ]
  },
  {
   "cell_type": "code",
   "execution_count": null,
   "metadata": {
    "ExecuteTime": {
     "end_time": "2022-06-09T14:54:12.357901Z",
     "start_time": "2022-06-09T14:54:12.354939Z"
    }
   },
   "outputs": [],
   "source": [
    "def get_metrics(clf, y_pred):\n",
    "    \n",
    "    \n",
    "    #clf_acc = accuracy_score(y_test, y_pred) * 100\n",
    "    #print('Accuracy is :{0}'.format(clf_acc))\n",
    "    clf_prec = precision_score(y_test, y_pred) * 100\n",
    "    print('Precision is :{0}'.format(clf_prec))\n",
    "    clf_rcl = recall_score(y_test, y_pred) * 100\n",
    "    print('Recall is :{0}'.format(clf_rcl))\n",
    "    clf_f1 = f1_score(y_test, y_pred) * 100\n",
    "    print('F1 Score is :{0}'.format(clf_f1))\n",
    "    false_positive_rate, true_positive_rate, thresholds = roc_curve(y_test, y_pred)\n",
    "    clf_roc_auc = auc(false_positive_rate, true_positive_rate)\n",
    "    print('ROC AUC is :{0}'.format(round(clf_roc_auc, 2)))\n",
    "    clf_cv_score = np.mean(cross_val_score(clf, X_train_resampled, y_train_resampled, cv=10))\n",
    "    print('Cross Validation Score is :{0}'.format(round(clf_cv_score, 3)))"
   ]
  },
  {
   "cell_type": "markdown",
   "metadata": {},
   "source": [
    "### Choosing Evaluation Metrics\n",
    "- My goal is to predict whether a person will get a perfect 5.0 Airbnb rating.\n",
    "- Which is worse?\n",
    "    - Model predicts that someone has a perfect rating, but they actually don't? (more false Positives)\n",
    "    - Model predicts that someone does not have a perfect rating, but they actually do? (more false negatives)"
   ]
  },
  {
   "cell_type": "markdown",
   "metadata": {},
   "source": [
    "<b> Decision </b>\n",
    "- I want false Positives to be as low as possible.\n",
    "- If my model says that a property will have a 5.0 score, I want it to be a near guarantee.\n",
    "- If it misses some that will still get a 5.0 score that is fine.\n",
    "- <b>Therefore, I am most concerned with Precision, balanced out by F1 score.</b>"
   ]
  },
  {
   "cell_type": "markdown",
   "metadata": {},
   "source": [
    "## Baseline Decision Tree"
   ]
  },
  {
   "cell_type": "code",
   "execution_count": null,
   "metadata": {
    "ExecuteTime": {
     "end_time": "2022-06-09T14:54:17.319055Z",
     "start_time": "2022-06-09T14:54:17.113892Z"
    }
   },
   "outputs": [],
   "source": [
    "#w/out SMOTE\n",
    "dt0 = DecisionTreeClassifier(random_state=23, class_weight=\"balanced\")\n",
    "dt0.fit(X_train, y_train)\n",
    "dt0_y_pred = dt0.predict(X_test)\n",
    "get_metrics(dt0, dt0_y_pred)"
   ]
  },
  {
   "cell_type": "code",
   "execution_count": null,
   "metadata": {
    "ExecuteTime": {
     "end_time": "2022-06-09T14:55:37.646522Z",
     "start_time": "2022-06-09T14:55:37.441149Z"
    }
   },
   "outputs": [],
   "source": [
    "dt1 = DecisionTreeClassifier(random_state=23, class_weight=\"balanced\")\n",
    "dt1.fit(X_train_resampled, y_train_resampled)\n",
    "dt1_y_pred = dt1.predict(X_test)\n",
    "get_metrics(dt1, dt1_y_pred)"
   ]
  },
  {
   "cell_type": "code",
   "execution_count": null,
   "metadata": {
    "ExecuteTime": {
     "end_time": "2022-06-09T14:55:57.235813Z",
     "start_time": "2022-06-09T14:55:57.105022Z"
    }
   },
   "outputs": [],
   "source": [
    "dt1_matrix = confusion_matrix(y_test, dt1_y_pred)\n",
    "\n",
    "fig, ax = plt.subplots(figsize=(5,5))\n",
    "\n",
    "ax = sns.heatmap(dt1_matrix, annot=True, cmap='Blues', fmt='d')\n",
    "\n",
    "ax.set_title('Baseline Decision Tree Confusion Matrix', fontsize = 30);\n",
    "ax.set_xlabel('\\nPredicted Values',fontsize = 20)\n",
    "ax.set_ylabel('Actual Values ', fontsize=20);\n",
    "\n",
    "## Ticket labels - List must be in alphabetical order\n",
    "ax.xaxis.set_ticklabels(['Bad Score','5.0 Score'])\n",
    "ax.yaxis.set_ticklabels(['Bad Score','5.0 Score'])\n",
    "\n",
    "## Display the visualization of the Confusion Matrix.\n",
    "plt.show()"
   ]
  },
  {
   "cell_type": "markdown",
   "metadata": {},
   "source": [
    "### Refining Decision Tree through GridSearchCV"
   ]
  },
  {
   "cell_type": "code",
   "execution_count": null,
   "metadata": {
    "ExecuteTime": {
     "end_time": "2022-06-09T14:56:01.194441Z",
     "start_time": "2022-06-09T14:56:01.192454Z"
    }
   },
   "outputs": [],
   "source": [
    "dt_param_grid = {\n",
    "    'criterion': ['gini', 'entropy'],\n",
    "    'max_depth': [None, 2, 3, 4, 5, 6],\n",
    "    'min_samples_split': [2, 5, 10],\n",
    "    'min_samples_leaf': [1, 2, 3, 4, 5, 6]\n",
    "}"
   ]
  },
  {
   "cell_type": "code",
   "execution_count": null,
   "metadata": {
    "ExecuteTime": {
     "end_time": "2022-06-09T14:56:09.946283Z",
     "start_time": "2022-06-09T14:56:05.100256Z"
    }
   },
   "outputs": [],
   "source": [
    "# Instantiate GridSearchCV\n",
    "dt2 = DecisionTreeClassifier(random_state=23)\n",
    "\n",
    "dt_grid_search = GridSearchCV(dt2, dt_param_grid, cv=3, scoring = 'precision')\n",
    "\n",
    "# Fit to the data\n",
    "dt_grid_search.fit(X_train_resampled, y_train_resampled)\n",
    "dt_grid_search.best_params_"
   ]
  },
  {
   "cell_type": "markdown",
   "metadata": {},
   "source": [
    "## Decision Tree 2"
   ]
  },
  {
   "cell_type": "code",
   "execution_count": null,
   "metadata": {
    "ExecuteTime": {
     "end_time": "2022-06-09T14:56:16.678172Z",
     "start_time": "2022-06-09T14:56:16.469643Z"
    }
   },
   "outputs": [],
   "source": [
    "dt2 = DecisionTreeClassifier(criterion='entropy', max_depth=None, min_samples_split=2,\n",
    "                             min_samples_leaf=2, class_weight='balanced', random_state=23)\n",
    "dt2.fit(X_train_resampled, y_train_resampled)\n",
    "dt2_y_pred = dt2.predict(X_test)\n",
    "get_metrics(dt2, dt2_y_pred)"
   ]
  },
  {
   "cell_type": "code",
   "execution_count": null,
   "metadata": {
    "ExecuteTime": {
     "end_time": "2022-06-09T14:56:34.591169Z",
     "start_time": "2022-06-09T14:56:34.469012Z"
    }
   },
   "outputs": [],
   "source": [
    "dt2_matrix = confusion_matrix(y_test, dt2_y_pred)\n",
    "\n",
    "fig, ax = plt.subplots(figsize=(5,5))\n",
    "\n",
    "ax = sns.heatmap(dt2_matrix, annot=True, cmap='Blues', fmt='d')\n",
    "\n",
    "ax.set_title('Decision Tree 2 Confusion Matrix', fontsize = 30);\n",
    "ax.set_xlabel('\\nPredicted Values',fontsize = 20)\n",
    "ax.set_ylabel('Actual Values ', fontsize=20);\n",
    "\n",
    "## Ticket labels - List must be in alphabetical order\n",
    "ax.xaxis.set_ticklabels(['Bad Score','5.0 Score'])\n",
    "ax.yaxis.set_ticklabels(['Bad Score','5.0 Score'])\n",
    "\n",
    "## Display the visualization of the Confusion Matrix.\n",
    "plt.show()"
   ]
  },
  {
   "cell_type": "markdown",
   "metadata": {},
   "source": [
    "## Random Forests"
   ]
  },
  {
   "cell_type": "code",
   "execution_count": null,
   "metadata": {
    "ExecuteTime": {
     "end_time": "2022-06-09T14:56:42.419191Z",
     "start_time": "2022-06-09T14:56:38.588739Z"
    }
   },
   "outputs": [],
   "source": [
    "rf1_clf = RandomForestClassifier(random_state=23, class_weight=\"balanced\")\n",
    "rf1_clf.fit(X_train_resampled, y_train_resampled)\n",
    "rf1_y_pred = rf1_clf.predict(X_test)\n",
    "get_metrics(rf1_clf, rf1_y_pred)"
   ]
  },
  {
   "cell_type": "code",
   "execution_count": null,
   "metadata": {
    "ExecuteTime": {
     "end_time": "2022-06-09T14:56:57.005421Z",
     "start_time": "2022-06-09T14:56:56.883779Z"
    }
   },
   "outputs": [],
   "source": [
    "rf1_matrix = confusion_matrix(y_test, rf1_y_pred)\n",
    "\n",
    "fig, ax = plt.subplots(figsize=(5,5))\n",
    "\n",
    "ax = sns.heatmap(rf1_matrix, annot=True, cmap='Blues', fmt='d')\n",
    "\n",
    "ax.set_title('Ramdom Forests 1 Confusion Matrix', fontsize = 30);\n",
    "ax.set_xlabel('\\nPredicted Values',fontsize = 20)\n",
    "ax.set_ylabel('Actual Values ', fontsize=20);\n",
    "\n",
    "## Ticket labels - List must be in alphabetical order\n",
    "ax.xaxis.set_ticklabels(['Bad Score','5.0 Score'])\n",
    "ax.yaxis.set_ticklabels(['Bad Score','5.0 Score'])\n",
    "\n",
    "## Display the visualization of the Confusion Matrix.\n",
    "plt.show()"
   ]
  },
  {
   "cell_type": "markdown",
   "metadata": {},
   "source": [
    "### GridSearch CV"
   ]
  },
  {
   "cell_type": "code",
   "execution_count": null,
   "metadata": {
    "ExecuteTime": {
     "end_time": "2022-06-09T14:57:01.014414Z",
     "start_time": "2022-06-09T14:57:01.012382Z"
    }
   },
   "outputs": [],
   "source": [
    "rf_param_grid = {\n",
    "    'n_estimators': [10, 30, 100],\n",
    "    'criterion': ['gini', 'entropy'],\n",
    "    'max_depth': [None, 2, 6, 10],\n",
    "    'min_samples_split': [5, 10],\n",
    "    'min_samples_leaf': [3, 6]\n",
    "}"
   ]
  },
  {
   "cell_type": "code",
   "execution_count": null,
   "metadata": {
    "ExecuteTime": {
     "end_time": "2022-06-09T14:57:32.874070Z",
     "start_time": "2022-06-09T14:57:04.966365Z"
    }
   },
   "outputs": [],
   "source": [
    "rf2_clf = RandomForestClassifier(random_state=23)\n",
    "\n",
    "\n",
    "rf1_grid_search= GridSearchCV(rf2_clf, rf_param_grid, scoring = 'precision', cv=3)\n",
    "rf1_grid_search.fit(X_train_resampled, y_train_resampled)\n",
    "\n",
    "print(\"\")\n",
    "print(f\"Random Forest  Optimal Parameters: {rf1_grid_search.best_params_}\")"
   ]
  },
  {
   "cell_type": "markdown",
   "metadata": {},
   "source": [
    "## Random Forests 2"
   ]
  },
  {
   "cell_type": "code",
   "execution_count": null,
   "metadata": {
    "ExecuteTime": {
     "end_time": "2022-06-09T14:57:50.361664Z",
     "start_time": "2022-06-09T14:57:46.865631Z"
    }
   },
   "outputs": [],
   "source": [
    "rf2_clf = RandomForestClassifier(criterion= 'entropy', max_depth= None, min_samples_leaf= 3,\n",
    "                                min_samples_split= 10, n_estimators= 100, random_state=23,\n",
    "                                class_weight='balanced')\n",
    "rf2_clf.fit(X_train_resampled, y_train_resampled)\n",
    "rf2_y_pred = rf2_clf.predict(X_test)\n",
    "get_metrics(rf2_clf, rf2_y_pred)"
   ]
  },
  {
   "cell_type": "code",
   "execution_count": null,
   "metadata": {
    "ExecuteTime": {
     "end_time": "2022-06-09T14:58:06.487472Z",
     "start_time": "2022-06-09T14:58:06.364283Z"
    }
   },
   "outputs": [],
   "source": [
    "rf2_matrix = confusion_matrix(y_test, rf2_y_pred)\n",
    "\n",
    "fig, ax = plt.subplots(figsize=(5,5))\n",
    "\n",
    "ax = sns.heatmap(rf2_matrix, annot=True, cmap='Blues', fmt='d')\n",
    "\n",
    "ax.set_title('Ramdom Forests 2 Confusion Matrix', fontsize = 30);\n",
    "ax.set_xlabel('\\nPredicted Values',fontsize = 20)\n",
    "ax.set_ylabel('Actual Values ', fontsize=20);\n",
    "\n",
    "## Ticket labels - List must be in alphabetical order\n",
    "ax.xaxis.set_ticklabels(['Bad Score','5.0 Score'])\n",
    "ax.yaxis.set_ticklabels(['Bad Score','5.0 Score'])\n",
    "\n",
    "## Display the visualization of the Confusion Matrix.\n",
    "plt.show()"
   ]
  },
  {
   "cell_type": "markdown",
   "metadata": {},
   "source": [
    "## XGBoost Model"
   ]
  },
  {
   "cell_type": "code",
   "execution_count": null,
   "metadata": {
    "ExecuteTime": {
     "end_time": "2022-06-09T14:58:16.859701Z",
     "start_time": "2022-06-09T14:58:13.331611Z"
    }
   },
   "outputs": [],
   "source": [
    "# Instantiate XGBClassifier\n",
    "clf = XGBClassifier(random_state=23)\n",
    "\n",
    "# Fit XGBClassifier\n",
    "xg1 = clf.fit(X_train_resampled, y_train_resampled)\n",
    "\n",
    "# Predict on training and test sets\n",
    "training_preds = clf.predict(X_train_resampled)\n",
    "xg1_y_pred = clf.predict(X_test)\n",
    "get_metrics(xg1, xg1_y_pred)"
   ]
  },
  {
   "cell_type": "code",
   "execution_count": null,
   "metadata": {
    "ExecuteTime": {
     "end_time": "2022-06-09T14:58:34.525409Z",
     "start_time": "2022-06-09T14:58:34.404517Z"
    }
   },
   "outputs": [],
   "source": [
    "xg1_matrix = confusion_matrix(y_test, xg1_y_pred)\n",
    "\n",
    "fig, ax = plt.subplots(figsize=(5,5))\n",
    "\n",
    "ax = sns.heatmap(xg1_matrix, annot=True, cmap='Blues', fmt='d')\n",
    "\n",
    "ax.set_title('XG Boost 1 Confusion Matrix', fontsize = 30);\n",
    "ax.set_xlabel('\\nPredicted Values',fontsize = 20)\n",
    "ax.set_ylabel('Actual Values ', fontsize=20);\n",
    "\n",
    "## Ticket labels - List must be in alphabetical order\n",
    "ax.xaxis.set_ticklabels(['Bad Score','5.0 Score'])\n",
    "ax.yaxis.set_ticklabels(['Bad Score','5.0 Score'])\n",
    "\n",
    "## Display the visualization of the Confusion Matrix.\n",
    "plt.show()"
   ]
  },
  {
   "cell_type": "markdown",
   "metadata": {},
   "source": [
    "### GridSearch"
   ]
  },
  {
   "cell_type": "code",
   "execution_count": null,
   "metadata": {
    "ExecuteTime": {
     "end_time": "2022-06-09T14:58:38.675634Z",
     "start_time": "2022-06-09T14:58:38.673653Z"
    }
   },
   "outputs": [],
   "source": [
    "boost_param_grid = {\n",
    "    'learning_rate': [0.1, 0.2],\n",
    "    'max_depth': [6],\n",
    "    'min_child_weight': [1, 2],\n",
    "    'subsample': [0.5, 0.7],\n",
    "    'n_estimators': [100],\n",
    "}"
   ]
  },
  {
   "cell_type": "markdown",
   "metadata": {},
   "source": [
    "## XGBoost 2"
   ]
  },
  {
   "cell_type": "code",
   "execution_count": null,
   "metadata": {
    "ExecuteTime": {
     "end_time": "2022-06-09T14:58:49.023574Z",
     "start_time": "2022-06-09T14:58:42.773272Z"
    }
   },
   "outputs": [],
   "source": [
    "xg2 = XGBClassifier(random_state=23)\n",
    "\n",
    "grid_clf = GridSearchCV(xg2, boost_param_grid, scoring='precision', cv=3, n_jobs=1)\n",
    "grid_clf.fit(X_train_resampled, y_train_resampled)\n",
    "\n",
    "best_parameters = grid_clf.best_params_\n",
    "\n",
    "print('Grid Search found the following optimal parameters: ')\n",
    "for param_name in sorted(best_parameters.keys()):\n",
    "    print('%s: %r' % (param_name, best_parameters[param_name]))"
   ]
  },
  {
   "cell_type": "code",
   "execution_count": null,
   "metadata": {
    "ExecuteTime": {
     "end_time": "2022-06-09T14:59:04.628438Z",
     "start_time": "2022-06-09T14:59:00.868488Z"
    }
   },
   "outputs": [],
   "source": [
    "xg2 = XGBClassifier(learning_rate= 0.2, max_depth=6, min_child_weight=2,\n",
    "                                n_estimators=100, subsample=0.7, random_state=23)\n",
    "xg2.fit(X_train_resampled, y_train_resampled)\n",
    "xg2_y_pred = xg2.predict(X_test)\n",
    "get_metrics(xg2, xg2_y_pred)"
   ]
  },
  {
   "cell_type": "code",
   "execution_count": null,
   "metadata": {
    "ExecuteTime": {
     "end_time": "2022-06-09T14:59:31.042570Z",
     "start_time": "2022-06-09T14:59:30.910839Z"
    }
   },
   "outputs": [],
   "source": [
    "xg2_matrix = confusion_matrix(y_test, xg2_y_pred)\n",
    "\n",
    "fig, ax = plt.subplots(figsize=(5,5))\n",
    "\n",
    "ax = sns.heatmap(xg2_matrix, annot=True, cmap='Blues', fmt='d')\n",
    "\n",
    "ax.set_title('XG Boost 2 Confusion Matrix', fontsize = 30);\n",
    "ax.set_xlabel('\\nPredicted Values',fontsize = 20)\n",
    "ax.set_ylabel('Actual Values ', fontsize=20);\n",
    "\n",
    "## Ticket labels - List must be in alphabetical order\n",
    "ax.xaxis.set_ticklabels(['Bad Score','5.0 Score'])\n",
    "ax.yaxis.set_ticklabels(['Bad Score','5.0 Score'])\n",
    "\n",
    "## Display the visualization of the Confusion Matrix.\n",
    "plt.show()"
   ]
  },
  {
   "cell_type": "markdown",
   "metadata": {},
   "source": [
    "## FINAL MODEL = XG Boost 1"
   ]
  },
  {
   "cell_type": "code",
   "execution_count": null,
   "metadata": {
    "ExecuteTime": {
     "end_time": "2022-06-09T15:01:18.742138Z",
     "start_time": "2022-06-09T15:01:15.264258Z"
    }
   },
   "outputs": [],
   "source": [
    "get_metrics(xg1, xg1_y_pred)\n",
    "#get_metrics(rf1_clf, rf1_y_pred)"
   ]
  },
  {
   "cell_type": "markdown",
   "metadata": {},
   "source": [
    "### Model Evaluation:\n",
    "- <b> Precision: </b> This Model correctly picks whether a rental will receive a perfect 5 star overall AirBnb rating 79.4% of the time.\n",
    "    - This is 30% better than random guessing.\n",
    "    - The Final Model is also a slight improvement over the baseline model. (about 2% better)\n",
    "- <b> Recall and F1 Score: </b> The Final Model's recall and F1 Scores are also slightly higher than the baseline model. The F1 Score indicates that the Precision is balanced well with Recall.\n",
    "- <b> ROC AUC Score: </b> Shows the True Positive Rate vs. the False Postive Rate. My Random Forests 2 Model performed better on this metric, but also captured more false positives. I want to avoid false positives if at all possible, so I chose XG Boost 2 over Random Forests 2.\n",
    "- <b> Cross Validation Score: </b> The high score shows that this model does a good job with new data that it was not trained on.\n"
   ]
  },
  {
   "cell_type": "markdown",
   "metadata": {
    "ExecuteTime": {
     "end_time": "2022-06-02T19:46:07.261325Z",
     "start_time": "2022-06-02T19:46:07.258239Z"
    }
   },
   "source": [
    "## Feature Importance"
   ]
  },
  {
   "cell_type": "code",
   "execution_count": null,
   "metadata": {
    "ExecuteTime": {
     "end_time": "2022-06-09T15:01:23.027728Z",
     "start_time": "2022-06-09T15:01:23.025306Z"
    }
   },
   "outputs": [],
   "source": [
    "feature_names = list(X)\n",
    "feature_names"
   ]
  },
  {
   "cell_type": "code",
   "execution_count": null,
   "metadata": {
    "ExecuteTime": {
     "end_time": "2022-06-09T15:01:35.896402Z",
     "start_time": "2022-06-09T15:01:35.836430Z"
    }
   },
   "outputs": [],
   "source": [
    "xg1_importance = xg1.feature_importances_\n",
    "xg1_importance"
   ]
  },
  {
   "cell_type": "code",
   "execution_count": null,
   "metadata": {
    "ExecuteTime": {
     "end_time": "2022-06-09T15:01:46.870379Z",
     "start_time": "2022-06-09T15:01:46.852223Z"
    }
   },
   "outputs": [],
   "source": [
    "#feature_importance_df = pd.DataFrame(dt2_importance, feature_names)\n",
    "#feature_importance_df = pd.DataFrame(rf1_importance, feature_names)\n",
    "feature_importance_df = pd.DataFrame(xg1_importance, feature_names)\n",
    "feature_importance_df= feature_importance_df.reset_index()\n",
    "feature_importance_df.rename(columns={'index': 'Feature', 0: 'Importance'}, inplace=True)\n",
    "feature_importance_df = feature_importance_df.sort_values('Importance', ascending=False)\n",
    "feature_importance_df"
   ]
  },
  {
   "cell_type": "code",
   "execution_count": null,
   "metadata": {
    "ExecuteTime": {
     "end_time": "2022-06-09T15:02:18.000517Z",
     "start_time": "2022-06-09T15:02:17.635060Z"
    }
   },
   "outputs": [],
   "source": [
    "# plot feature importance\n",
    "fig, ax = plt.subplots(figsize=(50,20))\n",
    "p = sns.barplot(data=feature_importance_df, x='Importance', y='Feature', color ='mediumpurple' );\n",
    "p.set_xlabel(\"Importance\", fontsize = 50)\n",
    "\n",
    "p.set_ylabel(\"Feature\", fontsize = 50)\n",
    "plt.xticks(fontsize=40)\n",
    "plt.yticks(fontsize=40)\n",
    "\n",
    "p.set_title(\"Features by Importance\", fontsize = 100)\n",
    "plt.figsize=(30,20) \n",
    "\n",
    "plt.show();"
   ]
  },
  {
   "cell_type": "markdown",
   "metadata": {},
   "source": [
    "## <b>Review Metric DF (or Feature Analysis DF)</b>"
   ]
  },
  {
   "cell_type": "code",
   "execution_count": null,
   "metadata": {
    "ExecuteTime": {
     "end_time": "2022-06-09T15:19:05.554294Z",
     "start_time": "2022-06-09T15:19:05.545482Z"
    }
   },
   "outputs": [],
   "source": [
    "review_metrics = df[['rating_5', 'cleanliness_5', 'checkin_5', 'location_5', 'value_5',\n",
    "                     'communication_5', 'accuracy_5',\n",
    "                    'instant_bookable', 'booked', 'host_is_superhost',\n",
    "                    'host_listings_5+', 'capacity_couple', 'capacity_family', 'capacity_large',\n",
    "                     'bedrooms_1-2', 'bedrooms_3+', 'room_type' ]]"
   ]
  },
  {
   "cell_type": "code",
   "execution_count": null,
   "metadata": {
    "ExecuteTime": {
     "end_time": "2022-06-09T15:35:05.769099Z",
     "start_time": "2022-06-09T15:35:05.748081Z"
    }
   },
   "outputs": [],
   "source": [
    "review_metrics.info()"
   ]
  },
  {
   "cell_type": "markdown",
   "metadata": {},
   "source": [
    "## Function get_stats( )"
   ]
  },
  {
   "cell_type": "code",
   "execution_count": null,
   "metadata": {
    "ExecuteTime": {
     "end_time": "2022-06-09T19:11:15.015167Z",
     "start_time": "2022-06-09T19:11:15.004920Z"
    }
   },
   "outputs": [],
   "source": [
    "def get_stats(df):\n",
    "    \n",
    "    df_transposed = df.transpose()\n",
    "    df_transposed = df_transposed.reset_index()\n",
    "    df_transposed.rename(columns={'index': 'Metric'}, inplace=True)\n",
    "    stats_df = df_transposed\n",
    "    total = stats_df.apply(lambda x: x[False] + x[True], axis=1)\n",
    "    stats_df['total'] = total\n",
    "    mean = stats_df.apply(lambda x: x[True] / x['total'], axis=1)\n",
    "    stats_df['mean'] = mean\n",
    "\n",
    "    return stats_df. sort_values('mean', ascending=False)"
   ]
  },
  {
   "cell_type": "code",
   "execution_count": null,
   "metadata": {
    "ExecuteTime": {
     "end_time": "2022-06-09T19:25:04.507630Z",
     "start_time": "2022-06-09T19:25:04.497479Z"
    }
   },
   "outputs": [],
   "source": [
    "def plot_stats(df):\n",
    "    \n",
    "    fig, ax = plt.subplots(figsize=(50,20))\n",
    "    p = sns.lineplot(data=df.head(10), x='Metric', y='mean', color ='seagreen' );\n",
    "    p.set_ylabel(\"Percentage of 5 Star Rentals\", fontsize = 50)\n",
    "\n",
    "    p.set_xlabel(\"Feature\", fontsize = 50)\n",
    "    plt.xticks(fontsize=30)\n",
    "    plt.yticks(fontsize=40)\n",
    "\n",
    "    ax.yaxis.set_major_formatter(mtick.PercentFormatter(xmax=1, decimals=None, symbol='%', is_latex=False))\n",
    "\n",
    "    p.set_title(\"Frequency of Features in 5 Star Rentals \", fontsize = 100)\n",
    "    plt.figsize=(30,20) \n",
    "\n",
    "    return plt.show();"
   ]
  },
  {
   "cell_type": "markdown",
   "metadata": {},
   "source": [
    "### Accuracy Stats"
   ]
  },
  {
   "cell_type": "code",
   "execution_count": null,
   "metadata": {
    "ExecuteTime": {
     "end_time": "2022-06-09T19:15:14.879262Z",
     "start_time": "2022-06-09T19:15:14.849641Z"
    }
   },
   "outputs": [],
   "source": [
    "accuracy_metrics = review_metrics.groupby('accuracy_5').sum()\n",
    "accuracy_metrics"
   ]
  },
  {
   "cell_type": "code",
   "execution_count": null,
   "metadata": {
    "ExecuteTime": {
     "end_time": "2022-06-09T19:15:19.699374Z",
     "start_time": "2022-06-09T19:15:19.690768Z"
    }
   },
   "outputs": [],
   "source": [
    "accuracy_stats = get_stats(accuracy_metrics)\n",
    "accuracy_stats"
   ]
  },
  {
   "cell_type": "code",
   "execution_count": null,
   "metadata": {
    "ExecuteTime": {
     "end_time": "2022-06-09T19:25:10.051616Z",
     "start_time": "2022-06-09T19:25:09.798430Z"
    }
   },
   "outputs": [],
   "source": [
    "accuracy_plot = plot_stats(accuracy_stats)\n",
    "accuracy_plot"
   ]
  },
  {
   "cell_type": "markdown",
   "metadata": {},
   "source": [
    "### Communication Stats"
   ]
  },
  {
   "cell_type": "code",
   "execution_count": null,
   "metadata": {
    "ExecuteTime": {
     "end_time": "2022-06-09T19:18:31.980002Z",
     "start_time": "2022-06-09T19:18:31.955284Z"
    }
   },
   "outputs": [],
   "source": [
    "communication_metrics = review_metrics.groupby('communication_5').sum()\n",
    "communication_metrics"
   ]
  },
  {
   "cell_type": "code",
   "execution_count": null,
   "metadata": {
    "ExecuteTime": {
     "end_time": "2022-06-09T19:19:00.834826Z",
     "start_time": "2022-06-09T19:19:00.809503Z"
    }
   },
   "outputs": [],
   "source": [
    "communication_stats = get_stats(communication_metrics)\n",
    "communication_stats"
   ]
  },
  {
   "cell_type": "code",
   "execution_count": null,
   "metadata": {
    "ExecuteTime": {
     "end_time": "2022-06-09T19:25:35.030841Z",
     "start_time": "2022-06-09T19:25:34.758090Z"
    }
   },
   "outputs": [],
   "source": [
    "communication_plot = plot_stats(communication_stats)\n",
    "communication_plot"
   ]
  },
  {
   "cell_type": "markdown",
   "metadata": {
    "ExecuteTime": {
     "end_time": "2022-06-09T19:09:22.194234Z",
     "start_time": "2022-06-09T19:09:22.189514Z"
    }
   },
   "source": [
    "### Superhost Stats"
   ]
  },
  {
   "cell_type": "code",
   "execution_count": null,
   "metadata": {
    "ExecuteTime": {
     "end_time": "2022-06-09T19:20:49.352897Z",
     "start_time": "2022-06-09T19:20:49.328163Z"
    }
   },
   "outputs": [],
   "source": [
    "superhost_metrics = review_metrics.groupby('host_is_superhost').sum()\n",
    "superhost_metrics"
   ]
  },
  {
   "cell_type": "code",
   "execution_count": null,
   "metadata": {
    "ExecuteTime": {
     "end_time": "2022-06-09T19:21:28.224566Z",
     "start_time": "2022-06-09T19:21:28.199390Z"
    }
   },
   "outputs": [],
   "source": [
    "superhost_stats = get_stats(superhost_metrics)\n",
    "superhost_stats"
   ]
  },
  {
   "cell_type": "code",
   "execution_count": null,
   "metadata": {
    "ExecuteTime": {
     "end_time": "2022-06-09T19:25:46.449948Z",
     "start_time": "2022-06-09T19:25:46.174794Z"
    }
   },
   "outputs": [],
   "source": [
    "superhost_plot = plot_stats(superhost_stats)\n",
    "superhost_plot"
   ]
  },
  {
   "cell_type": "markdown",
   "metadata": {},
   "source": [
    "### Cleanliness Stats"
   ]
  },
  {
   "cell_type": "code",
   "execution_count": null,
   "metadata": {
    "ExecuteTime": {
     "end_time": "2022-06-09T19:22:58.781388Z",
     "start_time": "2022-06-09T19:22:58.757540Z"
    }
   },
   "outputs": [],
   "source": [
    "cleanliness_metrics = review_metrics.groupby('cleanliness_5').sum()\n",
    "cleanliness_metrics"
   ]
  },
  {
   "cell_type": "code",
   "execution_count": null,
   "metadata": {
    "ExecuteTime": {
     "end_time": "2022-06-09T19:23:23.842582Z",
     "start_time": "2022-06-09T19:23:23.817094Z"
    }
   },
   "outputs": [],
   "source": [
    "cleanliness_stats = get_stats(cleanliness_metrics)\n",
    "cleanliness_stats"
   ]
  },
  {
   "cell_type": "code",
   "execution_count": null,
   "metadata": {
    "ExecuteTime": {
     "end_time": "2022-06-09T19:25:51.910979Z",
     "start_time": "2022-06-09T19:25:51.658841Z"
    }
   },
   "outputs": [],
   "source": [
    "cleanliness_plot = plot_stats(cleanliness_stats)\n",
    "cleanliness_plot"
   ]
  },
  {
   "cell_type": "markdown",
   "metadata": {},
   "source": [
    "### Perfect Rating Stats"
   ]
  },
  {
   "cell_type": "code",
   "execution_count": null,
   "metadata": {
    "ExecuteTime": {
     "end_time": "2022-06-09T19:00:42.484387Z",
     "start_time": "2022-06-09T19:00:42.471405Z"
    }
   },
   "outputs": [],
   "source": [
    "review_analysis_df = review_metrics.groupby('rating_5').sum()"
   ]
  },
  {
   "cell_type": "code",
   "execution_count": null,
   "metadata": {
    "ExecuteTime": {
     "end_time": "2022-06-09T19:32:11.304522Z",
     "start_time": "2022-06-09T19:32:11.279861Z"
    }
   },
   "outputs": [],
   "source": [
    "rating_5_stats = get_stats(review_analysis_df)\n",
    "rating_5_stats"
   ]
  },
  {
   "cell_type": "code",
   "execution_count": null,
   "metadata": {
    "ExecuteTime": {
     "end_time": "2022-06-09T19:32:39.995804Z",
     "start_time": "2022-06-09T19:32:39.708346Z"
    }
   },
   "outputs": [],
   "source": [
    "rating_5_plot = plot_stats(rating_5_stats)\n",
    "rating_5_plot"
   ]
  },
  {
   "cell_type": "code",
   "execution_count": null,
   "metadata": {},
   "outputs": [],
   "source": []
  },
  {
   "cell_type": "markdown",
   "metadata": {
    "ExecuteTime": {
     "end_time": "2022-06-09T19:27:59.368297Z",
     "start_time": "2022-06-09T19:27:59.365076Z"
    }
   },
   "source": [
    "## Attempting Master LinePlot"
   ]
  },
  {
   "cell_type": "code",
   "execution_count": null,
   "metadata": {
    "ExecuteTime": {
     "end_time": "2022-06-09T19:33:08.650557Z",
     "start_time": "2022-06-09T19:33:08.292698Z"
    }
   },
   "outputs": [],
   "source": [
    "fig, ax = plt.subplots(figsize=(50,20))\n",
    "p = sns.lineplot(data=communication_stats, x='Metric', y='mean', color ='green' );\n",
    "p = sns.lineplot(data=accuracy_stats, x='Metric', y='mean', color ='blue' );\n",
    "p = sns.lineplot(data=cleanliness_stats, x='Metric', y='mean', color ='black' );\n",
    "p = sns.lineplot(data=superhost_stats, x='Metric', y='mean', color ='purple' );\n",
    "p = sns.lineplot(data=rating_5_stats, x='Metric', y='mean', color ='red' );\n",
    "\n",
    "\n",
    "p.set_ylabel(\"Percentage of 5 Star Rentals\", fontsize = 50)\n",
    "\n",
    "p.set_xlabel(\"Feature\", fontsize = 50)\n",
    "plt.xticks(fontsize=30)\n",
    "plt.yticks(fontsize=40)\n",
    "\n",
    "ax.yaxis.set_major_formatter(mtick.PercentFormatter(xmax=1, decimals=None, symbol='%', is_latex=False))\n",
    "\n",
    "p.set_title(\"Frequency of Features in 5 Star Rentals \", fontsize = 100)\n",
    "plt.figsize=(30,20) \n",
    "\n",
    "plt.show();"
   ]
  },
  {
   "cell_type": "code",
   "execution_count": null,
   "metadata": {},
   "outputs": [],
   "source": []
  },
  {
   "cell_type": "code",
   "execution_count": null,
   "metadata": {},
   "outputs": [],
   "source": []
  },
  {
   "cell_type": "code",
   "execution_count": null,
   "metadata": {},
   "outputs": [],
   "source": []
  },
  {
   "cell_type": "code",
   "execution_count": null,
   "metadata": {},
   "outputs": [],
   "source": []
  },
  {
   "cell_type": "code",
   "execution_count": null,
   "metadata": {
    "ExecuteTime": {
     "end_time": "2022-06-09T19:00:47.396279Z",
     "start_time": "2022-06-09T19:00:47.385895Z"
    }
   },
   "outputs": [],
   "source": [
    "review_analysis_transposed = review_analysis_df.transpose()\n",
    "review_analysis_transposed = review_analysis_transposed.reset_index()\n",
    "review_analysis_transposed.rename(columns={'index': 'Metric'}, inplace=True)\n",
    "df2 = review_analysis_transposed\n",
    "total = df2.apply(lambda x: x[False] + x[True], axis=1)\n",
    "df2['total'] = total\n",
    "mean = df2.apply(lambda x: x[True] / x['total'], axis=1)\n",
    "df2['mean'] = mean\n",
    "\n",
    "df2 = df2.sort_values('mean', ascending=False)\n",
    "df2"
   ]
  },
  {
   "cell_type": "code",
   "execution_count": null,
   "metadata": {
    "ExecuteTime": {
     "end_time": "2022-06-09T18:54:42.803333Z",
     "start_time": "2022-06-09T18:54:42.525388Z"
    }
   },
   "outputs": [],
   "source": [
    "# plot feature importance\n",
    "fig, ax = plt.subplots(figsize=(50,20))\n",
    "p = sns.barplot(data=df2.head(10), x='Metric', y='mean', color ='seagreen' );\n",
    "p.set_ylabel(\"Percentage of 5 Star Rentals\", fontsize = 50)\n",
    "\n",
    "p.set_xlabel(\"Feature\", fontsize = 50)\n",
    "plt.xticks(fontsize=30)\n",
    "plt.yticks(fontsize=40)\n",
    "\n",
    "ax.yaxis.set_major_formatter(mtick.PercentFormatter(xmax=1, decimals=None, symbol='%', is_latex=False))\n",
    "\n",
    "p.set_title(\"Frequency of Features in 5 Star Rentals \", fontsize = 100)\n",
    "plt.figsize=(30,20) \n",
    "\n",
    "plt.show();"
   ]
  },
  {
   "cell_type": "code",
   "execution_count": null,
   "metadata": {
    "ExecuteTime": {
     "end_time": "2022-06-09T15:44:24.238513Z",
     "start_time": "2022-06-09T15:44:24.230554Z"
    }
   },
   "outputs": [],
   "source": [
    "review_metrics['checkin_5'].mean()"
   ]
  },
  {
   "cell_type": "code",
   "execution_count": null,
   "metadata": {
    "ExecuteTime": {
     "end_time": "2022-06-09T15:49:08.451900Z",
     "start_time": "2022-06-09T15:49:08.436477Z"
    }
   },
   "outputs": [],
   "source": [
    "new_df = pd.DataFrame(list(review_metrics.columns.values))"
   ]
  },
  {
   "cell_type": "code",
   "execution_count": null,
   "metadata": {
    "ExecuteTime": {
     "end_time": "2022-06-09T15:49:40.316354Z",
     "start_time": "2022-06-09T15:49:40.301919Z"
    }
   },
   "outputs": [],
   "source": [
    "new_df"
   ]
  },
  {
   "cell_type": "code",
   "execution_count": null,
   "metadata": {
    "ExecuteTime": {
     "end_time": "2022-06-09T15:46:07.004375Z",
     "start_time": "2022-06-09T15:46:06.992752Z"
    }
   },
   "outputs": [],
   "source": [
    "review_metrics['checkin_5'].value_counts()"
   ]
  },
  {
   "cell_type": "code",
   "execution_count": null,
   "metadata": {
    "ExecuteTime": {
     "end_time": "2022-06-09T15:34:56.576908Z",
     "start_time": "2022-06-09T15:34:56.545763Z"
    }
   },
   "outputs": [],
   "source": [
    "review_metrics.describe()"
   ]
  },
  {
   "cell_type": "code",
   "execution_count": null,
   "metadata": {
    "ExecuteTime": {
     "end_time": "2022-06-09T15:19:10.074745Z",
     "start_time": "2022-06-09T15:19:10.067091Z"
    }
   },
   "outputs": [],
   "source": [
    "review_metrics.groupby('rating_5').sum()"
   ]
  },
  {
   "cell_type": "code",
   "execution_count": null,
   "metadata": {
    "ExecuteTime": {
     "end_time": "2022-06-09T15:25:14.020529Z",
     "start_time": "2022-06-09T15:25:13.995546Z"
    }
   },
   "outputs": [],
   "source": [
    "review_metrics.groupby('rating_5').count()"
   ]
  },
  {
   "cell_type": "code",
   "execution_count": null,
   "metadata": {
    "ExecuteTime": {
     "end_time": "2022-06-09T15:26:58.940785Z",
     "start_time": "2022-06-09T15:26:58.915959Z"
    }
   },
   "outputs": [],
   "source": [
    "review_metrics.groupby('accuracy_5').count()"
   ]
  },
  {
   "cell_type": "code",
   "execution_count": null,
   "metadata": {
    "ExecuteTime": {
     "end_time": "2022-06-09T15:28:55.826632Z",
     "start_time": "2022-06-09T15:28:55.803259Z"
    }
   },
   "outputs": [],
   "source": [
    "review_metrics.groupby('cleanliness_5').count()"
   ]
  },
  {
   "cell_type": "code",
   "execution_count": null,
   "metadata": {
    "ExecuteTime": {
     "end_time": "2022-06-09T15:19:14.514997Z",
     "start_time": "2022-06-09T15:19:14.506906Z"
    }
   },
   "outputs": [],
   "source": [
    "review_metrics.groupby('accuracy_5').sum()"
   ]
  },
  {
   "cell_type": "code",
   "execution_count": null,
   "metadata": {
    "ExecuteTime": {
     "end_time": "2022-06-09T15:20:15.686624Z",
     "start_time": "2022-06-09T15:20:15.661570Z"
    }
   },
   "outputs": [],
   "source": [
    "review_metrics.groupby('accuracy_5').mean()"
   ]
  },
  {
   "cell_type": "code",
   "execution_count": null,
   "metadata": {},
   "outputs": [],
   "source": [
    "review_metrics.groupby('accuracy_5').sum()"
   ]
  },
  {
   "cell_type": "code",
   "execution_count": null,
   "metadata": {},
   "outputs": [],
   "source": []
  },
  {
   "cell_type": "code",
   "execution_count": null,
   "metadata": {
    "ExecuteTime": {
     "end_time": "2022-06-09T13:18:56.552624Z",
     "start_time": "2022-06-09T13:18:56.533396Z"
    }
   },
   "outputs": [],
   "source": [
    "balanced_df['accuracy_5_True']"
   ]
  },
  {
   "cell_type": "markdown",
   "metadata": {},
   "source": [
    "## Analysis of Features"
   ]
  },
  {
   "cell_type": "code",
   "execution_count": null,
   "metadata": {
    "ExecuteTime": {
     "end_time": "2022-06-08T16:20:50.704774Z",
     "start_time": "2022-06-08T16:20:50.682237Z"
    }
   },
   "outputs": [],
   "source": [
    "balanced_df.info()"
   ]
  },
  {
   "cell_type": "code",
   "execution_count": null,
   "metadata": {
    "ExecuteTime": {
     "end_time": "2022-06-08T16:21:24.449558Z",
     "start_time": "2022-06-08T16:21:24.443853Z"
    }
   },
   "outputs": [],
   "source": [
    "analysis_df_2 = balanced_df.copy()"
   ]
  },
  {
   "cell_type": "code",
   "execution_count": null,
   "metadata": {
    "ExecuteTime": {
     "end_time": "2022-06-08T16:21:52.434048Z",
     "start_time": "2022-06-08T16:21:52.430422Z"
    }
   },
   "outputs": [],
   "source": [
    "#analysis_df.info()"
   ]
  },
  {
   "cell_type": "code",
   "execution_count": null,
   "metadata": {
    "ExecuteTime": {
     "end_time": "2022-06-07T18:21:51.482867Z",
     "start_time": "2022-06-07T18:21:51.450793Z"
    }
   },
   "outputs": [],
   "source": [
    "#analysis_df.iloc[:, 12:31]"
   ]
  },
  {
   "cell_type": "code",
   "execution_count": null,
   "metadata": {
    "ExecuteTime": {
     "end_time": "2022-06-07T18:22:18.615216Z",
     "start_time": "2022-06-07T18:22:18.605329Z"
    }
   },
   "outputs": [],
   "source": [
    "#analysis_df.drop(analysis_df.iloc[:, 12:31], axis=1, inplace=True)"
   ]
  },
  {
   "cell_type": "code",
   "execution_count": null,
   "metadata": {
    "ExecuteTime": {
     "end_time": "2022-06-08T14:55:00.685754Z",
     "start_time": "2022-06-08T14:55:00.681256Z"
    }
   },
   "outputs": [],
   "source": [
    "#analysis_df['review_scores_rating'].value_counts()"
   ]
  },
  {
   "cell_type": "code",
   "execution_count": null,
   "metadata": {
    "ExecuteTime": {
     "end_time": "2022-06-08T16:22:36.891808Z",
     "start_time": "2022-06-08T16:22:36.876582Z"
    }
   },
   "outputs": [],
   "source": [
    "top_accuracy_df = analysis_df[analysis_df['review_scores_accuracy'] >= 4]\n",
    "top_accuracy_df = top_accuracy_df[top_accuracy_df['review_scores_rating'] >= 4]"
   ]
  },
  {
   "cell_type": "code",
   "execution_count": null,
   "metadata": {
    "ExecuteTime": {
     "end_time": "2022-06-08T16:22:40.670242Z",
     "start_time": "2022-06-08T16:22:40.571436Z"
    }
   },
   "outputs": [],
   "source": [
    "import matplotlib.ticker as mtick\n",
    "\n",
    "fig, ax = plt.subplots(figsize=(10,10))\n",
    "p = sns.scatterplot(x=\"review_scores_accuracy\", y=\"review_scores_rating\", data=top_accuracy_df);\n",
    "\n",
    "p.invert_xaxis()\n",
    "p.invert_yaxis()\n",
    "\n",
    "\n",
    "#p.set_xlabel(\"Total Charge: Mean Value\", fontsize = 15)\n",
    "#p.set_ylabel(\"Churn Rate\", fontsize = 15)\n",
    "#ax.yaxis.set_major_formatter(mtick.PercentFormatter(xmax=1, decimals=None, symbol='%', is_latex=False))\n",
    "#p.xaxis.set_major_formatter(display_millions)\n",
    "#ax.xaxis.set_major_formatter('${x:1.2f}')\n",
    "\n",
    "#p.set_title(\"Churn Rate by Total Charge\", fontsize = 20)\n",
    "plt.figsize=(30,20) \n",
    "\n",
    "#line_1 = plt.axhline(y=.145, color='firebrick')\n",
    "#line_2 = plt.axhline(y=0, color='black')\n",
    "#line_3 = plt.axvline(x=59.45, linestyle='--',color='mediumseagreen')\n",
    "#line_4 = plt.axvline(x=74.00, color='skyblue')\n",
    "\n",
    "#ax.legend([line_1, line_3], ['Regular Churn Line', 'Mean Bill Charge'])\n",
    "#plt.savefig('images/project_3_total_charge_churn')\n",
    "\n",
    "\n",
    "plt.show();"
   ]
  },
  {
   "cell_type": "markdown",
   "metadata": {},
   "source": [
    "### Analysis:\n",
    "    - Even a small drop in accuracy results in a drop in the review score rating."
   ]
  },
  {
   "cell_type": "code",
   "execution_count": null,
   "metadata": {},
   "outputs": [],
   "source": []
  },
  {
   "cell_type": "code",
   "execution_count": null,
   "metadata": {
    "ExecuteTime": {
     "end_time": "2022-06-08T16:22:06.432070Z",
     "start_time": "2022-06-08T16:22:06.419883Z"
    }
   },
   "outputs": [],
   "source": [
    "balanced_df['instant_bookable_t'].value_counts()"
   ]
  },
  {
   "cell_type": "code",
   "execution_count": null,
   "metadata": {},
   "outputs": [],
   "source": []
  },
  {
   "cell_type": "markdown",
   "metadata": {},
   "source": [
    "## Comparison: Location"
   ]
  },
  {
   "cell_type": "code",
   "execution_count": null,
   "metadata": {
    "ExecuteTime": {
     "end_time": "2022-06-08T16:24:30.743242Z",
     "start_time": "2022-06-08T16:24:30.727497Z"
    }
   },
   "outputs": [],
   "source": [
    "top_location_df = analysis_df[analysis_df['review_scores_accuracy'] >= 3.5]\n",
    "top_location_df = top_location_df[top_location_df['review_scores_rating'] >= 3.5]"
   ]
  },
  {
   "cell_type": "code",
   "execution_count": null,
   "metadata": {
    "ExecuteTime": {
     "end_time": "2022-06-08T16:24:34.698468Z",
     "start_time": "2022-06-08T16:24:34.601336Z"
    }
   },
   "outputs": [],
   "source": [
    "fig, ax = plt.subplots(figsize=(10,10))\n",
    "p = sns.scatterplot(x=\"review_scores_rating\", y=\"review_scores_location\", data=top_location_df);\n",
    "\n",
    "p.invert_xaxis()\n",
    "p.invert_yaxis()\n",
    "\n",
    "plt.figsize=(30,20) \n",
    "\n",
    "plt.show();"
   ]
  },
  {
   "cell_type": "markdown",
   "metadata": {},
   "source": [
    "Analysis: Location has a much less linear relationship."
   ]
  },
  {
   "cell_type": "code",
   "execution_count": null,
   "metadata": {
    "ExecuteTime": {
     "end_time": "2022-06-08T16:24:58.677223Z",
     "start_time": "2022-06-08T16:24:58.669378Z"
    }
   },
   "outputs": [],
   "source": [
    "perfect_score_df = analysis_df[analysis_df['review_scores_rating'] == 5.0]"
   ]
  },
  {
   "cell_type": "code",
   "execution_count": null,
   "metadata": {
    "ExecuteTime": {
     "end_time": "2022-06-08T16:25:02.654423Z",
     "start_time": "2022-06-08T16:25:02.593191Z"
    }
   },
   "outputs": [],
   "source": [
    "perfect_score_df.mean()"
   ]
  },
  {
   "cell_type": "code",
   "execution_count": null,
   "metadata": {
    "ExecuteTime": {
     "end_time": "2022-06-08T16:25:06.600727Z",
     "start_time": "2022-06-08T16:25:06.597569Z"
    }
   },
   "outputs": [],
   "source": [
    "not_perfect_score_df = analysis_df[analysis_df['review_scores_rating'] < 5.0]"
   ]
  },
  {
   "cell_type": "code",
   "execution_count": null,
   "metadata": {
    "ExecuteTime": {
     "end_time": "2022-06-08T16:25:11.143248Z",
     "start_time": "2022-06-08T16:25:10.641097Z"
    }
   },
   "outputs": [],
   "source": [
    "not_perfect_df_mean = not_perfect_score_df.mean().reset_index()"
   ]
  },
  {
   "cell_type": "code",
   "execution_count": null,
   "metadata": {
    "ExecuteTime": {
     "end_time": "2022-06-08T16:25:15.210972Z",
     "start_time": "2022-06-08T16:25:15.209121Z"
    }
   },
   "outputs": [],
   "source": [
    "not_perfect_df_mean.rename(columns={\"index\": \"category\", 0: \"Mean\"}, inplace=True)"
   ]
  },
  {
   "cell_type": "code",
   "execution_count": null,
   "metadata": {
    "ExecuteTime": {
     "end_time": "2022-06-08T16:25:19.274507Z",
     "start_time": "2022-06-08T16:25:19.270551Z"
    }
   },
   "outputs": [],
   "source": [
    "not_perfect_df_mean.info()"
   ]
  },
  {
   "cell_type": "markdown",
   "metadata": {},
   "source": [
    "### Attempting to Group records and analyze based on how many records of each type are 5.0 rated"
   ]
  },
  {
   "cell_type": "code",
   "execution_count": null,
   "metadata": {
    "ExecuteTime": {
     "end_time": "2022-06-08T14:24:08.039117Z",
     "start_time": "2022-06-08T14:24:08.008044Z"
    }
   },
   "outputs": [],
   "source": [
    "analysis_df.head()"
   ]
  },
  {
   "cell_type": "code",
   "execution_count": null,
   "metadata": {
    "ExecuteTime": {
     "end_time": "2022-06-08T14:26:45.979779Z",
     "start_time": "2022-06-08T14:26:45.971357Z"
    }
   },
   "outputs": [],
   "source": [
    "analysis_df['instant_bookable'] = analysis_df['instant_bookable'].astype('bool')"
   ]
  },
  {
   "cell_type": "code",
   "execution_count": null,
   "metadata": {
    "ExecuteTime": {
     "end_time": "2022-06-09T13:22:15.473584Z",
     "start_time": "2022-06-09T13:22:15.461435Z"
    }
   },
   "outputs": [],
   "source": [
    "contrast_df = analysis_df_2.groupby('rating_5_True').sum()"
   ]
  },
  {
   "cell_type": "code",
   "execution_count": null,
   "metadata": {
    "ExecuteTime": {
     "end_time": "2022-06-08T16:59:21.460787Z",
     "start_time": "2022-06-08T16:59:21.459261Z"
    }
   },
   "outputs": [],
   "source": [
    "contrast_df_transposed = contrast_df.transpose()"
   ]
  },
  {
   "cell_type": "code",
   "execution_count": null,
   "metadata": {
    "ExecuteTime": {
     "end_time": "2022-06-08T16:59:25.616667Z",
     "start_time": "2022-06-08T16:59:25.614874Z"
    }
   },
   "outputs": [],
   "source": [
    "contrast_df_transposed = contrast_df_transposed.reset_index()"
   ]
  },
  {
   "cell_type": "code",
   "execution_count": null,
   "metadata": {
    "ExecuteTime": {
     "end_time": "2022-06-08T16:59:29.807039Z",
     "start_time": "2022-06-08T16:59:29.804980Z"
    }
   },
   "outputs": [],
   "source": [
    "total = contrast_df_transposed.apply(lambda x: x[1.0] + x[0.0], axis=1)"
   ]
  },
  {
   "cell_type": "code",
   "execution_count": null,
   "metadata": {
    "ExecuteTime": {
     "end_time": "2022-06-08T16:59:33.974797Z",
     "start_time": "2022-06-08T16:59:33.972909Z"
    }
   },
   "outputs": [],
   "source": [
    "contrast_df_transposed['total'] = total"
   ]
  },
  {
   "cell_type": "code",
   "execution_count": null,
   "metadata": {
    "ExecuteTime": {
     "end_time": "2022-06-08T16:59:38.156067Z",
     "start_time": "2022-06-08T16:59:38.150999Z"
    }
   },
   "outputs": [],
   "source": [
    "contrast_df_transposed"
   ]
  },
  {
   "cell_type": "code",
   "execution_count": null,
   "metadata": {
    "ExecuteTime": {
     "end_time": "2022-06-08T16:59:42.390231Z",
     "start_time": "2022-06-08T16:59:42.387948Z"
    }
   },
   "outputs": [],
   "source": [
    "delta = contrast_df_transposed.apply(lambda x: x[1.0] - x[0.0], axis=1)"
   ]
  },
  {
   "cell_type": "code",
   "execution_count": null,
   "metadata": {
    "ExecuteTime": {
     "end_time": "2022-06-08T16:59:46.652742Z",
     "start_time": "2022-06-08T16:59:46.651464Z"
    }
   },
   "outputs": [],
   "source": [
    "#delta_percent = contrast_df_transposed.apply(lambda x: x[0.0] / x[1.0], axis=1)"
   ]
  },
  {
   "cell_type": "code",
   "execution_count": null,
   "metadata": {
    "ExecuteTime": {
     "end_time": "2022-06-08T16:59:50.917215Z",
     "start_time": "2022-06-08T16:59:50.910526Z"
    }
   },
   "outputs": [],
   "source": [
    "percent_of_total_5_star = contrast_df_transposed.apply(lambda x: x[1.0] / x['total'], axis=1)\n",
    "percent_of_total_not = contrast_df_transposed.apply(lambda x: x[0.0] / x['total'], axis=1)"
   ]
  },
  {
   "cell_type": "code",
   "execution_count": null,
   "metadata": {
    "ExecuteTime": {
     "end_time": "2022-06-08T16:59:55.185723Z",
     "start_time": "2022-06-08T16:59:55.183438Z"
    }
   },
   "outputs": [],
   "source": [
    "contrast_df_transposed['delta'] = delta\n",
    "#contrast_df_transposed['delta_percent'] = delta_percent\n",
    "contrast_df_transposed['5_star_percent'] = percent_of_total_5_star\n",
    "contrast_df_transposed['not_5_star_percent'] = percent_of_total_not"
   ]
  },
  {
   "cell_type": "code",
   "execution_count": null,
   "metadata": {
    "ExecuteTime": {
     "end_time": "2022-06-08T16:59:59.402041Z",
     "start_time": "2022-06-08T16:59:59.400137Z"
    }
   },
   "outputs": [],
   "source": [
    "contrast_df_transposed.rename(columns={0.0:'Not_5_Star', 1.0:'5_Star_Rating'}, inplace=True)"
   ]
  },
  {
   "cell_type": "code",
   "execution_count": null,
   "metadata": {
    "ExecuteTime": {
     "end_time": "2022-06-08T17:00:03.635167Z",
     "start_time": "2022-06-08T17:00:03.627905Z"
    }
   },
   "outputs": [],
   "source": [
    "contrast_df_transposed.sort_values('delta', ascending=False)"
   ]
  },
  {
   "cell_type": "code",
   "execution_count": null,
   "metadata": {
    "ExecuteTime": {
     "end_time": "2022-06-08T14:27:15.831405Z",
     "start_time": "2022-06-08T14:27:15.812901Z"
    }
   },
   "outputs": [],
   "source": [
    "contrast_df.iloc[:, 2:8]"
   ]
  },
  {
   "cell_type": "code",
   "execution_count": null,
   "metadata": {
    "ExecuteTime": {
     "end_time": "2022-06-08T14:27:23.078439Z",
     "start_time": "2022-06-08T14:27:23.070807Z"
    }
   },
   "outputs": [],
   "source": [
    "contrast_df.drop(contrast_df.iloc[:, 2:8], axis=1, inplace=True)"
   ]
  },
  {
   "cell_type": "code",
   "execution_count": null,
   "metadata": {
    "ExecuteTime": {
     "end_time": "2022-06-08T14:27:26.387858Z",
     "start_time": "2022-06-08T14:27:26.378518Z"
    }
   },
   "outputs": [],
   "source": [
    "contrast_df"
   ]
  },
  {
   "cell_type": "code",
   "execution_count": null,
   "metadata": {
    "ExecuteTime": {
     "end_time": "2022-06-08T14:27:31.202567Z",
     "start_time": "2022-06-08T14:27:31.194981Z"
    }
   },
   "outputs": [],
   "source": [
    "contrast_df['instant_bookable']"
   ]
  },
  {
   "cell_type": "code",
   "execution_count": null,
   "metadata": {
    "ExecuteTime": {
     "end_time": "2022-06-07T18:35:27.871302Z",
     "start_time": "2022-06-07T18:35:27.861660Z"
    }
   },
   "outputs": [],
   "source": [
    "contrast_df['accuracy_5']"
   ]
  },
  {
   "cell_type": "code",
   "execution_count": null,
   "metadata": {
    "ExecuteTime": {
     "end_time": "2022-06-07T19:08:49.062028Z",
     "start_time": "2022-06-07T19:08:49.050264Z"
    }
   },
   "outputs": [],
   "source": [
    "analysis_df['value_5'].value_counts()"
   ]
  },
  {
   "cell_type": "code",
   "execution_count": null,
   "metadata": {
    "ExecuteTime": {
     "end_time": "2022-06-09T13:22:20.952822Z",
     "start_time": "2022-06-09T13:22:20.928027Z"
    }
   },
   "outputs": [],
   "source": [
    "review_metrics = contrast_df[['accuracy_5', 'cleanliness_5', 'checkin_5', 'location_5', 'value_5',\n",
    "                                        'booked']]"
   ]
  },
  {
   "cell_type": "markdown",
   "metadata": {},
   "source": [
    "## Analysis of Review Metrics"
   ]
  },
  {
   "cell_type": "code",
   "execution_count": null,
   "metadata": {
    "ExecuteTime": {
     "end_time": "2022-06-07T18:39:54.809931Z",
     "start_time": "2022-06-07T18:39:54.792839Z"
    }
   },
   "outputs": [],
   "source": [
    "review_metrics"
   ]
  },
  {
   "cell_type": "markdown",
   "metadata": {},
   "source": [
    "### Analysis:\n",
    "- Units with a perfect accuracy rating were 72% more likely to have a perfect overall rating.\n",
    "- Units with a perfect cleanliness rating were 64% more likely to have a perfect overall rating.\n",
    "- Units with a perfect checkin rating were 63% more likely to have a perfect overall rating.\n",
    "- Units with a perfect location rating were 58% more likely to have a perfect overall rating.\n",
    "- Units with a perfect value rating were 56% more likely to have a perfect overall rating.\n"
   ]
  },
  {
   "cell_type": "code",
   "execution_count": null,
   "metadata": {},
   "outputs": [],
   "source": []
  },
  {
   "cell_type": "markdown",
   "metadata": {},
   "source": [
    "## Analysis of Accuracy_5"
   ]
  },
  {
   "cell_type": "code",
   "execution_count": null,
   "metadata": {
    "ExecuteTime": {
     "end_time": "2022-06-08T14:43:10.110249Z",
     "start_time": "2022-06-08T14:43:10.096203Z"
    }
   },
   "outputs": [],
   "source": [
    "analysis_df['accuracy_5'].value_counts()"
   ]
  },
  {
   "cell_type": "code",
   "execution_count": null,
   "metadata": {
    "ExecuteTime": {
     "end_time": "2022-06-08T14:42:37.101250Z",
     "start_time": "2022-06-08T14:42:37.090727Z"
    }
   },
   "outputs": [],
   "source": [
    "accuracy_test_df = analysis_df[analysis_df['accuracy_5'] == False]"
   ]
  },
  {
   "cell_type": "code",
   "execution_count": null,
   "metadata": {
    "ExecuteTime": {
     "end_time": "2022-06-08T14:43:29.022079Z",
     "start_time": "2022-06-08T14:43:28.983913Z"
    }
   },
   "outputs": [],
   "source": [
    "accuracy_test_df"
   ]
  },
  {
   "cell_type": "code",
   "execution_count": null,
   "metadata": {
    "ExecuteTime": {
     "end_time": "2022-06-08T14:44:21.040084Z",
     "start_time": "2022-06-08T14:44:21.023949Z"
    }
   },
   "outputs": [],
   "source": [
    "accuracy_test_df.groupby('rating_5').mean()"
   ]
  },
  {
   "cell_type": "code",
   "execution_count": null,
   "metadata": {},
   "outputs": [],
   "source": []
  },
  {
   "cell_type": "markdown",
   "metadata": {},
   "source": [
    "## Analysis of Instant Bookable"
   ]
  },
  {
   "cell_type": "code",
   "execution_count": null,
   "metadata": {
    "ExecuteTime": {
     "end_time": "2022-06-08T14:55:53.467057Z",
     "start_time": "2022-06-08T14:55:53.455212Z"
    }
   },
   "outputs": [],
   "source": [
    "analysis_df_2['instant_bookable_t'].value_counts()"
   ]
  },
  {
   "cell_type": "code",
   "execution_count": null,
   "metadata": {
    "ExecuteTime": {
     "end_time": "2022-06-08T14:58:15.337316Z",
     "start_time": "2022-06-08T14:58:15.310308Z"
    }
   },
   "outputs": [],
   "source": [
    "analysis_df_2.groupby('rating_5_True').mean()"
   ]
  },
  {
   "cell_type": "code",
   "execution_count": null,
   "metadata": {},
   "outputs": [],
   "source": []
  },
  {
   "cell_type": "code",
   "execution_count": null,
   "metadata": {},
   "outputs": [],
   "source": []
  },
  {
   "cell_type": "code",
   "execution_count": null,
   "metadata": {},
   "outputs": [],
   "source": []
  },
  {
   "cell_type": "code",
   "execution_count": null,
   "metadata": {},
   "outputs": [],
   "source": []
  },
  {
   "cell_type": "code",
   "execution_count": null,
   "metadata": {
    "ExecuteTime": {
     "end_time": "2022-06-07T18:52:18.385449Z",
     "start_time": "2022-06-07T18:52:18.379311Z"
    }
   },
   "outputs": [],
   "source": [
    "review_diff = review_metrics.diff()"
   ]
  },
  {
   "cell_type": "code",
   "execution_count": null,
   "metadata": {
    "ExecuteTime": {
     "end_time": "2022-06-07T18:52:24.022562Z",
     "start_time": "2022-06-07T18:52:24.004910Z"
    }
   },
   "outputs": [],
   "source": [
    "review_diff"
   ]
  },
  {
   "cell_type": "code",
   "execution_count": null,
   "metadata": {
    "ExecuteTime": {
     "end_time": "2022-06-07T18:45:33.541224Z",
     "start_time": "2022-06-07T18:45:33.535096Z"
    }
   },
   "outputs": [],
   "source": [
    "review_transposed = review_metrics.transpose()"
   ]
  },
  {
   "cell_type": "code",
   "execution_count": null,
   "metadata": {
    "ExecuteTime": {
     "end_time": "2022-06-07T18:54:24.801049Z",
     "start_time": "2022-06-07T18:54:24.760898Z"
    }
   },
   "outputs": [],
   "source": [
    "review_transposed['delta'] = review_transposed.diff(axis=1)"
   ]
  },
  {
   "cell_type": "code",
   "execution_count": null,
   "metadata": {
    "ExecuteTime": {
     "end_time": "2022-06-07T18:49:42.892623Z",
     "start_time": "2022-06-07T18:49:42.885172Z"
    }
   },
   "outputs": [],
   "source": [
    "new_review_df = review_transposed.reset_index()"
   ]
  },
  {
   "cell_type": "code",
   "execution_count": null,
   "metadata": {
    "ExecuteTime": {
     "end_time": "2022-06-07T18:50:23.085903Z",
     "start_time": "2022-06-07T18:50:23.071218Z"
    }
   },
   "outputs": [],
   "source": [
    "new_review_df"
   ]
  },
  {
   "cell_type": "code",
   "execution_count": null,
   "metadata": {
    "ExecuteTime": {
     "end_time": "2022-06-07T18:53:26.144894Z",
     "start_time": "2022-06-07T18:53:26.130383Z"
    }
   },
   "outputs": [],
   "source": [
    "new_review_df.info()"
   ]
  },
  {
   "cell_type": "code",
   "execution_count": null,
   "metadata": {
    "ExecuteTime": {
     "end_time": "2022-06-07T18:53:00.679076Z",
     "start_time": "2022-06-07T18:53:00.638777Z"
    }
   },
   "outputs": [],
   "source": [
    "new_review_df.diff(axis=1)"
   ]
  },
  {
   "cell_type": "code",
   "execution_count": null,
   "metadata": {
    "ExecuteTime": {
     "end_time": "2022-06-07T18:50:06.443500Z",
     "start_time": "2022-06-07T18:50:06.400202Z"
    }
   },
   "outputs": [],
   "source": [
    "new_review_df['delta'] = new_review_df.apply(lambda x: x['True'] - x['False'], axis=1)"
   ]
  },
  {
   "cell_type": "code",
   "execution_count": null,
   "metadata": {
    "ExecuteTime": {
     "end_time": "2022-06-07T18:16:07.069788Z",
     "start_time": "2022-06-07T18:15:28.183Z"
    }
   },
   "outputs": [],
   "source": [
    "fig, ax = plt.subplots(figsize=(10,10))\n",
    "p = sns.scatterplot(x=\"not_perfect_df.mean()\");\n",
    "\n",
    "p.invert_xaxis()\n",
    "p.invert_yaxis()\n",
    "\n",
    "plt.figsize=(30,20) \n",
    "\n",
    "plt.show();"
   ]
  },
  {
   "cell_type": "code",
   "execution_count": null,
   "metadata": {},
   "outputs": [],
   "source": []
  }
 ],
 "metadata": {
  "kernelspec": {
   "display_name": "Python (learn-env)",
   "language": "python",
   "name": "learn-env"
  },
  "language_info": {
   "codemirror_mode": {
    "name": "ipython",
    "version": 3
   },
   "file_extension": ".py",
   "mimetype": "text/x-python",
   "name": "python",
   "nbconvert_exporter": "python",
   "pygments_lexer": "ipython3",
   "version": "3.8.5"
  },
  "toc": {
   "base_numbering": 1,
   "nav_menu": {},
   "number_sections": true,
   "sideBar": true,
   "skip_h1_title": true,
   "title_cell": "Table of Contents",
   "title_sidebar": "Contents",
   "toc_cell": false,
   "toc_position": {
    "height": "calc(100% - 180px)",
    "left": "10px",
    "top": "150px",
    "width": "288px"
   },
   "toc_section_display": true,
   "toc_window_display": true
  },
  "varInspector": {
   "cols": {
    "lenName": 16,
    "lenType": 16,
    "lenVar": 40
   },
   "kernels_config": {
    "python": {
     "delete_cmd_postfix": "",
     "delete_cmd_prefix": "del ",
     "library": "var_list.py",
     "varRefreshCmd": "print(var_dic_list())"
    },
    "r": {
     "delete_cmd_postfix": ") ",
     "delete_cmd_prefix": "rm(",
     "library": "var_list.r",
     "varRefreshCmd": "cat(var_dic_list()) "
    }
   },
   "types_to_exclude": [
    "module",
    "function",
    "builtin_function_or_method",
    "instance",
    "_Feature"
   ],
   "window_display": false
  }
 },
 "nbformat": 4,
 "nbformat_minor": 4
}
