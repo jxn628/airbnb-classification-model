{
 "cells": [
  {
   "cell_type": "markdown",
   "metadata": {},
   "source": [
    "# Scenario\n",
    "Create a model that will predict whether a airbnb will get a perfect 5.0 rating in San Diego California. The purpose of this model is for airbnb hosts to have a way to evaluate their rentals and make sure that they are meeting all of the criteria to get that perfect review."
   ]
  },
  {
   "cell_type": "code",
   "execution_count": null,
   "metadata": {},
   "outputs": [],
   "source": []
  },
  {
   "cell_type": "markdown",
   "metadata": {},
   "source": [
    "## Questions to Answer"
   ]
  },
  {
   "cell_type": "markdown",
   "metadata": {},
   "source": [
    "1. How many units have a perfect rating?\n",
    "2. How long have they had perfect rating?\n",
    "3. How many reviews should the unit have to be considered? (ie, one 5.0 isn't enough)\n",
    "4. What review metrics have the most impact?\n",
    "5. What house factors have the most impact?\n",
    "6. Relationship between price and rating?"
   ]
  },
  {
   "cell_type": "markdown",
   "metadata": {},
   "source": [
    "## Loading Data"
   ]
  },
  {
   "cell_type": "code",
   "execution_count": 1,
   "metadata": {
    "ExecuteTime": {
     "end_time": "2022-06-03T13:50:35.854717Z",
     "start_time": "2022-06-03T13:50:35.053996Z"
    }
   },
   "outputs": [],
   "source": [
    "import warnings\n",
    "warnings.filterwarnings('ignore')\n",
    "import pandas as pd\n",
    "import seaborn as sns\n",
    "import matplotlib.pyplot as plt\n",
    "%matplotlib inline\n",
    "import matplotlib.ticker as mtick\n",
    "from matplotlib.pylab import rcParams\n",
    "import matplotlib.ticker as mtick\n",
    "from sklearn.model_selection import train_test_split, cross_val_score, GridSearchCV\n",
    "from sklearn.tree import DecisionTreeClassifier\n",
    "from sklearn.metrics import accuracy_score, mean_squared_error, mean_squared_log_error, roc_curve, auc\n",
    "from sklearn.metrics import precision_score, recall_score, accuracy_score, f1_score, classification_report\n",
    "from sklearn.metrics import confusion_matrix\n",
    "from sklearn.preprocessing import OneHotEncoder, StandardScaler\n",
    "from sklearn.linear_model import LinearRegression\n",
    "from sklearn.impute import SimpleImputer\n",
    "from sklearn import tree\n",
    "from sklearn.ensemble import RandomForestClassifier\n",
    "from imblearn.over_sampling import SMOTE\n",
    "from sklearn.metrics import plot_confusion_matrix\n",
    "from xgboost import XGBClassifier\n"
   ]
  },
  {
   "cell_type": "code",
   "execution_count": 2,
   "metadata": {
    "ExecuteTime": {
     "end_time": "2022-06-03T13:50:35.857446Z",
     "start_time": "2022-06-03T13:50:35.855792Z"
    }
   },
   "outputs": [],
   "source": [
    "pd.set_option('display.max_rows', 1000)\n",
    "plt.style.use('fivethirtyeight')"
   ]
  },
  {
   "cell_type": "markdown",
   "metadata": {},
   "source": [
    "## Reviews_df: Details on each review post"
   ]
  },
  {
   "cell_type": "code",
   "execution_count": 3,
   "metadata": {
    "ExecuteTime": {
     "end_time": "2022-06-03T13:50:38.342294Z",
     "start_time": "2022-06-03T13:50:35.858702Z"
    }
   },
   "outputs": [],
   "source": [
    "reviews_df = pd.read_csv('reviews.csv.gz')"
   ]
  },
  {
   "cell_type": "code",
   "execution_count": 4,
   "metadata": {
    "ExecuteTime": {
     "end_time": "2022-06-03T13:50:38.351462Z",
     "start_time": "2022-06-03T13:50:38.343439Z"
    }
   },
   "outputs": [
    {
     "data": {
      "text/html": [
       "<div>\n",
       "<style scoped>\n",
       "    .dataframe tbody tr th:only-of-type {\n",
       "        vertical-align: middle;\n",
       "    }\n",
       "\n",
       "    .dataframe tbody tr th {\n",
       "        vertical-align: top;\n",
       "    }\n",
       "\n",
       "    .dataframe thead th {\n",
       "        text-align: right;\n",
       "    }\n",
       "</style>\n",
       "<table border=\"1\" class=\"dataframe\">\n",
       "  <thead>\n",
       "    <tr style=\"text-align: right;\">\n",
       "      <th></th>\n",
       "      <th>listing_id</th>\n",
       "      <th>id</th>\n",
       "      <th>date</th>\n",
       "      <th>reviewer_id</th>\n",
       "      <th>reviewer_name</th>\n",
       "      <th>comments</th>\n",
       "    </tr>\n",
       "  </thead>\n",
       "  <tbody>\n",
       "    <tr>\n",
       "      <th>0</th>\n",
       "      <td>29967</td>\n",
       "      <td>62788</td>\n",
       "      <td>2010-07-09</td>\n",
       "      <td>151260</td>\n",
       "      <td>Debbie</td>\n",
       "      <td>When I booked our stay in San Diego at Dennis ...</td>\n",
       "    </tr>\n",
       "    <tr>\n",
       "      <th>1</th>\n",
       "      <td>29967</td>\n",
       "      <td>64568</td>\n",
       "      <td>2010-07-14</td>\n",
       "      <td>141552</td>\n",
       "      <td>Eric</td>\n",
       "      <td>This was my first experience with using airbnb...</td>\n",
       "    </tr>\n",
       "    <tr>\n",
       "      <th>2</th>\n",
       "      <td>29967</td>\n",
       "      <td>67502</td>\n",
       "      <td>2010-07-22</td>\n",
       "      <td>141591</td>\n",
       "      <td>David</td>\n",
       "      <td>We found the house to be very accommodating--e...</td>\n",
       "    </tr>\n",
       "    <tr>\n",
       "      <th>3</th>\n",
       "      <td>29967</td>\n",
       "      <td>70466</td>\n",
       "      <td>2010-07-29</td>\n",
       "      <td>125982</td>\n",
       "      <td>Anders</td>\n",
       "      <td>As advertised and more. Dennis was very helpfu...</td>\n",
       "    </tr>\n",
       "    <tr>\n",
       "      <th>4</th>\n",
       "      <td>29967</td>\n",
       "      <td>74876</td>\n",
       "      <td>2010-08-07</td>\n",
       "      <td>29835</td>\n",
       "      <td>Miyoko</td>\n",
       "      <td>We had a great time in San Diego. Denis' house...</td>\n",
       "    </tr>\n",
       "  </tbody>\n",
       "</table>\n",
       "</div>"
      ],
      "text/plain": [
       "   listing_id     id        date  reviewer_id reviewer_name  \\\n",
       "0       29967  62788  2010-07-09       151260        Debbie   \n",
       "1       29967  64568  2010-07-14       141552          Eric   \n",
       "2       29967  67502  2010-07-22       141591         David   \n",
       "3       29967  70466  2010-07-29       125982        Anders   \n",
       "4       29967  74876  2010-08-07        29835        Miyoko   \n",
       "\n",
       "                                            comments  \n",
       "0  When I booked our stay in San Diego at Dennis ...  \n",
       "1  This was my first experience with using airbnb...  \n",
       "2  We found the house to be very accommodating--e...  \n",
       "3  As advertised and more. Dennis was very helpfu...  \n",
       "4  We had a great time in San Diego. Denis' house...  "
      ]
     },
     "execution_count": 4,
     "metadata": {},
     "output_type": "execute_result"
    }
   ],
   "source": [
    "reviews_df.head()"
   ]
  },
  {
   "cell_type": "markdown",
   "metadata": {},
   "source": [
    "## Listing_DF: Baseline DF with many columns"
   ]
  },
  {
   "cell_type": "code",
   "execution_count": 5,
   "metadata": {
    "ExecuteTime": {
     "end_time": "2022-06-03T13:50:38.782765Z",
     "start_time": "2022-06-03T13:50:38.352567Z"
    }
   },
   "outputs": [],
   "source": [
    "listing_df = pd.read_csv('listings.csv.gz')"
   ]
  },
  {
   "cell_type": "code",
   "execution_count": 6,
   "metadata": {
    "ExecuteTime": {
     "end_time": "2022-06-03T13:50:38.804769Z",
     "start_time": "2022-06-03T13:50:38.783941Z"
    }
   },
   "outputs": [
    {
     "name": "stdout",
     "output_type": "stream",
     "text": [
      "<class 'pandas.core.frame.DataFrame'>\n",
      "RangeIndex: 10935 entries, 0 to 10934\n",
      "Data columns (total 74 columns):\n",
      " #   Column                                        Non-Null Count  Dtype  \n",
      "---  ------                                        --------------  -----  \n",
      " 0   id                                            10935 non-null  int64  \n",
      " 1   listing_url                                   10935 non-null  object \n",
      " 2   scrape_id                                     10935 non-null  int64  \n",
      " 3   last_scraped                                  10935 non-null  object \n",
      " 4   name                                          10935 non-null  object \n",
      " 5   description                                   10809 non-null  object \n",
      " 6   neighborhood_overview                         7440 non-null   object \n",
      " 7   picture_url                                   10935 non-null  object \n",
      " 8   host_id                                       10935 non-null  int64  \n",
      " 9   host_url                                      10935 non-null  object \n",
      " 10  host_name                                     10931 non-null  object \n",
      " 11  host_since                                    10931 non-null  object \n",
      " 12  host_location                                 10924 non-null  object \n",
      " 13  host_about                                    7436 non-null   object \n",
      " 14  host_response_time                            10113 non-null  object \n",
      " 15  host_response_rate                            10113 non-null  object \n",
      " 16  host_acceptance_rate                          10543 non-null  object \n",
      " 17  host_is_superhost                             10931 non-null  object \n",
      " 18  host_thumbnail_url                            10931 non-null  object \n",
      " 19  host_picture_url                              10931 non-null  object \n",
      " 20  host_neighbourhood                            9900 non-null   object \n",
      " 21  host_listings_count                           10931 non-null  float64\n",
      " 22  host_total_listings_count                     10931 non-null  float64\n",
      " 23  host_verifications                            10935 non-null  object \n",
      " 24  host_has_profile_pic                          10931 non-null  object \n",
      " 25  host_identity_verified                        10931 non-null  object \n",
      " 26  neighbourhood                                 7440 non-null   object \n",
      " 27  neighbourhood_cleansed                        10935 non-null  object \n",
      " 28  neighbourhood_group_cleansed                  0 non-null      float64\n",
      " 29  latitude                                      10935 non-null  float64\n",
      " 30  longitude                                     10935 non-null  float64\n",
      " 31  property_type                                 10935 non-null  object \n",
      " 32  room_type                                     10935 non-null  object \n",
      " 33  accommodates                                  10935 non-null  int64  \n",
      " 34  bathrooms                                     0 non-null      float64\n",
      " 35  bathrooms_text                                10930 non-null  object \n",
      " 36  bedrooms                                      9905 non-null   float64\n",
      " 37  beds                                          10813 non-null  float64\n",
      " 38  amenities                                     10935 non-null  object \n",
      " 39  price                                         10935 non-null  object \n",
      " 40  minimum_nights                                10935 non-null  int64  \n",
      " 41  maximum_nights                                10935 non-null  int64  \n",
      " 42  minimum_minimum_nights                        10934 non-null  float64\n",
      " 43  maximum_minimum_nights                        10934 non-null  float64\n",
      " 44  minimum_maximum_nights                        10934 non-null  float64\n",
      " 45  maximum_maximum_nights                        10934 non-null  float64\n",
      " 46  minimum_nights_avg_ntm                        10934 non-null  float64\n",
      " 47  maximum_nights_avg_ntm                        10934 non-null  float64\n",
      " 48  calendar_updated                              0 non-null      float64\n",
      " 49  has_availability                              10935 non-null  object \n",
      " 50  availability_30                               10935 non-null  int64  \n",
      " 51  availability_60                               10935 non-null  int64  \n",
      " 52  availability_90                               10935 non-null  int64  \n",
      " 53  availability_365                              10935 non-null  int64  \n",
      " 54  calendar_last_scraped                         10935 non-null  object \n",
      " 55  number_of_reviews                             10935 non-null  int64  \n",
      " 56  number_of_reviews_ltm                         10935 non-null  int64  \n",
      " 57  number_of_reviews_l30d                        10935 non-null  int64  \n",
      " 58  first_review                                  9408 non-null   object \n",
      " 59  last_review                                   9408 non-null   object \n",
      " 60  review_scores_rating                          9408 non-null   float64\n",
      " 61  review_scores_accuracy                        9385 non-null   float64\n",
      " 62  review_scores_cleanliness                     9385 non-null   float64\n",
      " 63  review_scores_checkin                         9383 non-null   float64\n",
      " 64  review_scores_communication                   9385 non-null   float64\n",
      " 65  review_scores_location                        9383 non-null   float64\n",
      " 66  review_scores_value                           9383 non-null   float64\n",
      " 67  license                                       0 non-null      float64\n",
      " 68  instant_bookable                              10935 non-null  object \n",
      " 69  calculated_host_listings_count                10935 non-null  int64  \n",
      " 70  calculated_host_listings_count_entire_homes   10935 non-null  int64  \n",
      " 71  calculated_host_listings_count_private_rooms  10935 non-null  int64  \n",
      " 72  calculated_host_listings_count_shared_rooms   10935 non-null  int64  \n",
      " 73  reviews_per_month                             9408 non-null   float64\n",
      "dtypes: float64(24), int64(17), object(33)\n",
      "memory usage: 6.2+ MB\n"
     ]
    }
   ],
   "source": [
    "listing_df.info()"
   ]
  },
  {
   "cell_type": "code",
   "execution_count": 7,
   "metadata": {
    "ExecuteTime": {
     "end_time": "2022-06-03T13:50:38.808887Z",
     "start_time": "2022-06-03T13:50:38.805728Z"
    }
   },
   "outputs": [
    {
     "data": {
      "text/plain": [
       "0         $60.00\n",
       "1        $282.00\n",
       "2        $348.00\n",
       "3        $368.00\n",
       "4        $264.00\n",
       "          ...   \n",
       "10930    $228.00\n",
       "10931    $168.00\n",
       "10932    $500.00\n",
       "10933     $67.00\n",
       "10934     $88.00\n",
       "Name: price, Length: 10935, dtype: object"
      ]
     },
     "execution_count": 7,
     "metadata": {},
     "output_type": "execute_result"
    }
   ],
   "source": [
    "listing_df['price']"
   ]
  },
  {
   "cell_type": "markdown",
   "metadata": {},
   "source": [
    "### Fixing Price"
   ]
  },
  {
   "cell_type": "code",
   "execution_count": 8,
   "metadata": {
    "ExecuteTime": {
     "end_time": "2022-06-03T13:50:38.819923Z",
     "start_time": "2022-06-03T13:50:38.810894Z"
    }
   },
   "outputs": [],
   "source": [
    "listing_df['price'] = listing_df['price'].map(lambda x: x.replace('$',' '))\n",
    "listing_df['price'] = listing_df['price'].map(lambda x: x.replace(',',''))\n",
    "listing_df['price'] = listing_df['price'].astype(float)"
   ]
  },
  {
   "cell_type": "code",
   "execution_count": 9,
   "metadata": {
    "ExecuteTime": {
     "end_time": "2022-06-03T13:50:38.824477Z",
     "start_time": "2022-06-03T13:50:38.821459Z"
    }
   },
   "outputs": [
    {
     "data": {
      "text/plain": [
       "0         60.0\n",
       "1        282.0\n",
       "2        348.0\n",
       "3        368.0\n",
       "4        264.0\n",
       "         ...  \n",
       "10930    228.0\n",
       "10931    168.0\n",
       "10932    500.0\n",
       "10933     67.0\n",
       "10934     88.0\n",
       "Name: price, Length: 10935, dtype: float64"
      ]
     },
     "execution_count": 9,
     "metadata": {},
     "output_type": "execute_result"
    }
   ],
   "source": [
    "listing_df['price']"
   ]
  },
  {
   "cell_type": "markdown",
   "metadata": {},
   "source": [
    "## Review Score DF"
   ]
  },
  {
   "cell_type": "code",
   "execution_count": 10,
   "metadata": {
    "ExecuteTime": {
     "end_time": "2022-06-03T13:50:38.826970Z",
     "start_time": "2022-06-03T13:50:38.825430Z"
    }
   },
   "outputs": [],
   "source": [
    "#review_score_df = listing_df[['id', 'price', 'review_scores_rating', 'review_scores_accuracy',\n",
    "#                             'review_scores_cleanliness', 'review_scores_checkin', 'review_scores_communication',\n",
    "#                             'review_scores_location', 'review_scores_value', 'number_of_reviews',\n",
    "#                             'number_of_reviews_ltm', 'number_of_reviews_l30d']]"
   ]
  },
  {
   "cell_type": "code",
   "execution_count": 11,
   "metadata": {
    "ExecuteTime": {
     "end_time": "2022-06-03T13:50:38.851131Z",
     "start_time": "2022-06-03T13:50:38.828916Z"
    }
   },
   "outputs": [
    {
     "name": "stdout",
     "output_type": "stream",
     "text": [
      "<class 'pandas.core.frame.DataFrame'>\n",
      "RangeIndex: 10935 entries, 0 to 10934\n",
      "Data columns (total 74 columns):\n",
      " #   Column                                        Non-Null Count  Dtype  \n",
      "---  ------                                        --------------  -----  \n",
      " 0   id                                            10935 non-null  int64  \n",
      " 1   listing_url                                   10935 non-null  object \n",
      " 2   scrape_id                                     10935 non-null  int64  \n",
      " 3   last_scraped                                  10935 non-null  object \n",
      " 4   name                                          10935 non-null  object \n",
      " 5   description                                   10809 non-null  object \n",
      " 6   neighborhood_overview                         7440 non-null   object \n",
      " 7   picture_url                                   10935 non-null  object \n",
      " 8   host_id                                       10935 non-null  int64  \n",
      " 9   host_url                                      10935 non-null  object \n",
      " 10  host_name                                     10931 non-null  object \n",
      " 11  host_since                                    10931 non-null  object \n",
      " 12  host_location                                 10924 non-null  object \n",
      " 13  host_about                                    7436 non-null   object \n",
      " 14  host_response_time                            10113 non-null  object \n",
      " 15  host_response_rate                            10113 non-null  object \n",
      " 16  host_acceptance_rate                          10543 non-null  object \n",
      " 17  host_is_superhost                             10931 non-null  object \n",
      " 18  host_thumbnail_url                            10931 non-null  object \n",
      " 19  host_picture_url                              10931 non-null  object \n",
      " 20  host_neighbourhood                            9900 non-null   object \n",
      " 21  host_listings_count                           10931 non-null  float64\n",
      " 22  host_total_listings_count                     10931 non-null  float64\n",
      " 23  host_verifications                            10935 non-null  object \n",
      " 24  host_has_profile_pic                          10931 non-null  object \n",
      " 25  host_identity_verified                        10931 non-null  object \n",
      " 26  neighbourhood                                 7440 non-null   object \n",
      " 27  neighbourhood_cleansed                        10935 non-null  object \n",
      " 28  neighbourhood_group_cleansed                  0 non-null      float64\n",
      " 29  latitude                                      10935 non-null  float64\n",
      " 30  longitude                                     10935 non-null  float64\n",
      " 31  property_type                                 10935 non-null  object \n",
      " 32  room_type                                     10935 non-null  object \n",
      " 33  accommodates                                  10935 non-null  int64  \n",
      " 34  bathrooms                                     0 non-null      float64\n",
      " 35  bathrooms_text                                10930 non-null  object \n",
      " 36  bedrooms                                      9905 non-null   float64\n",
      " 37  beds                                          10813 non-null  float64\n",
      " 38  amenities                                     10935 non-null  object \n",
      " 39  price                                         10935 non-null  float64\n",
      " 40  minimum_nights                                10935 non-null  int64  \n",
      " 41  maximum_nights                                10935 non-null  int64  \n",
      " 42  minimum_minimum_nights                        10934 non-null  float64\n",
      " 43  maximum_minimum_nights                        10934 non-null  float64\n",
      " 44  minimum_maximum_nights                        10934 non-null  float64\n",
      " 45  maximum_maximum_nights                        10934 non-null  float64\n",
      " 46  minimum_nights_avg_ntm                        10934 non-null  float64\n",
      " 47  maximum_nights_avg_ntm                        10934 non-null  float64\n",
      " 48  calendar_updated                              0 non-null      float64\n",
      " 49  has_availability                              10935 non-null  object \n",
      " 50  availability_30                               10935 non-null  int64  \n",
      " 51  availability_60                               10935 non-null  int64  \n",
      " 52  availability_90                               10935 non-null  int64  \n",
      " 53  availability_365                              10935 non-null  int64  \n",
      " 54  calendar_last_scraped                         10935 non-null  object \n",
      " 55  number_of_reviews                             10935 non-null  int64  \n",
      " 56  number_of_reviews_ltm                         10935 non-null  int64  \n",
      " 57  number_of_reviews_l30d                        10935 non-null  int64  \n",
      " 58  first_review                                  9408 non-null   object \n",
      " 59  last_review                                   9408 non-null   object \n",
      " 60  review_scores_rating                          9408 non-null   float64\n",
      " 61  review_scores_accuracy                        9385 non-null   float64\n",
      " 62  review_scores_cleanliness                     9385 non-null   float64\n",
      " 63  review_scores_checkin                         9383 non-null   float64\n",
      " 64  review_scores_communication                   9385 non-null   float64\n",
      " 65  review_scores_location                        9383 non-null   float64\n",
      " 66  review_scores_value                           9383 non-null   float64\n",
      " 67  license                                       0 non-null      float64\n",
      " 68  instant_bookable                              10935 non-null  object \n",
      " 69  calculated_host_listings_count                10935 non-null  int64  \n",
      " 70  calculated_host_listings_count_entire_homes   10935 non-null  int64  \n",
      " 71  calculated_host_listings_count_private_rooms  10935 non-null  int64  \n",
      " 72  calculated_host_listings_count_shared_rooms   10935 non-null  int64  \n",
      " 73  reviews_per_month                             9408 non-null   float64\n",
      "dtypes: float64(25), int64(17), object(32)\n",
      "memory usage: 6.2+ MB\n"
     ]
    }
   ],
   "source": [
    "listing_df.info()"
   ]
  },
  {
   "cell_type": "code",
   "execution_count": 12,
   "metadata": {
    "ExecuteTime": {
     "end_time": "2022-06-03T13:50:38.855176Z",
     "start_time": "2022-06-03T13:50:38.852125Z"
    }
   },
   "outputs": [],
   "source": [
    "review_score_df = listing_df[['price', 'review_scores_rating', 'review_scores_accuracy',\n",
    "                             'review_scores_cleanliness', 'review_scores_checkin', 'review_scores_communication',\n",
    "                             'review_scores_location', 'review_scores_value','accommodates',\n",
    "                              'bedrooms', 'beds', 'instant_bookable',\n",
    "                             'property_type', 'room_type', 'amenities']]"
   ]
  },
  {
   "cell_type": "code",
   "execution_count": 13,
   "metadata": {
    "ExecuteTime": {
     "end_time": "2022-06-03T13:50:38.857712Z",
     "start_time": "2022-06-03T13:50:38.856176Z"
    }
   },
   "outputs": [],
   "source": [
    "df = review_score_df"
   ]
  },
  {
   "cell_type": "code",
   "execution_count": 14,
   "metadata": {
    "ExecuteTime": {
     "end_time": "2022-06-03T13:50:38.868313Z",
     "start_time": "2022-06-03T13:50:38.858627Z"
    }
   },
   "outputs": [
    {
     "data": {
      "text/html": [
       "<div>\n",
       "<style scoped>\n",
       "    .dataframe tbody tr th:only-of-type {\n",
       "        vertical-align: middle;\n",
       "    }\n",
       "\n",
       "    .dataframe tbody tr th {\n",
       "        vertical-align: top;\n",
       "    }\n",
       "\n",
       "    .dataframe thead th {\n",
       "        text-align: right;\n",
       "    }\n",
       "</style>\n",
       "<table border=\"1\" class=\"dataframe\">\n",
       "  <thead>\n",
       "    <tr style=\"text-align: right;\">\n",
       "      <th></th>\n",
       "      <th>price</th>\n",
       "      <th>review_scores_rating</th>\n",
       "      <th>review_scores_accuracy</th>\n",
       "      <th>review_scores_cleanliness</th>\n",
       "      <th>review_scores_checkin</th>\n",
       "      <th>review_scores_communication</th>\n",
       "      <th>review_scores_location</th>\n",
       "      <th>review_scores_value</th>\n",
       "      <th>accommodates</th>\n",
       "      <th>bedrooms</th>\n",
       "      <th>beds</th>\n",
       "      <th>instant_bookable</th>\n",
       "      <th>property_type</th>\n",
       "      <th>room_type</th>\n",
       "      <th>amenities</th>\n",
       "    </tr>\n",
       "  </thead>\n",
       "  <tbody>\n",
       "    <tr>\n",
       "      <th>0</th>\n",
       "      <td>60.0</td>\n",
       "      <td>5.00</td>\n",
       "      <td>5.00</td>\n",
       "      <td>5.00</td>\n",
       "      <td>5.00</td>\n",
       "      <td>5.00</td>\n",
       "      <td>4.00</td>\n",
       "      <td>5.00</td>\n",
       "      <td>2</td>\n",
       "      <td>1.0</td>\n",
       "      <td>1.0</td>\n",
       "      <td>t</td>\n",
       "      <td>Private room in rental unit</td>\n",
       "      <td>Private room</td>\n",
       "      <td>[\"First aid kit\", \"Private patio or balcony\", ...</td>\n",
       "    </tr>\n",
       "    <tr>\n",
       "      <th>1</th>\n",
       "      <td>282.0</td>\n",
       "      <td>4.87</td>\n",
       "      <td>4.91</td>\n",
       "      <td>4.64</td>\n",
       "      <td>4.99</td>\n",
       "      <td>4.98</td>\n",
       "      <td>4.87</td>\n",
       "      <td>4.86</td>\n",
       "      <td>6</td>\n",
       "      <td>3.0</td>\n",
       "      <td>3.0</td>\n",
       "      <td>f</td>\n",
       "      <td>Entire residential home</td>\n",
       "      <td>Entire home/apt</td>\n",
       "      <td>[\"First aid kit\", \"Ethernet connection\", \"Bike...</td>\n",
       "    </tr>\n",
       "    <tr>\n",
       "      <th>2</th>\n",
       "      <td>348.0</td>\n",
       "      <td>4.92</td>\n",
       "      <td>5.00</td>\n",
       "      <td>4.92</td>\n",
       "      <td>5.00</td>\n",
       "      <td>5.00</td>\n",
       "      <td>4.92</td>\n",
       "      <td>4.92</td>\n",
       "      <td>2</td>\n",
       "      <td>1.0</td>\n",
       "      <td>1.0</td>\n",
       "      <td>t</td>\n",
       "      <td>Entire residential home</td>\n",
       "      <td>Entire home/apt</td>\n",
       "      <td>[\"Shower gel\", \"Private patio or balcony\", \"TV...</td>\n",
       "    </tr>\n",
       "    <tr>\n",
       "      <th>3</th>\n",
       "      <td>368.0</td>\n",
       "      <td>4.88</td>\n",
       "      <td>4.96</td>\n",
       "      <td>4.96</td>\n",
       "      <td>5.00</td>\n",
       "      <td>5.00</td>\n",
       "      <td>4.75</td>\n",
       "      <td>4.71</td>\n",
       "      <td>6</td>\n",
       "      <td>3.0</td>\n",
       "      <td>4.0</td>\n",
       "      <td>t</td>\n",
       "      <td>Entire townhouse</td>\n",
       "      <td>Entire home/apt</td>\n",
       "      <td>[\"First aid kit\", \"Private patio or balcony\", ...</td>\n",
       "    </tr>\n",
       "    <tr>\n",
       "      <th>4</th>\n",
       "      <td>264.0</td>\n",
       "      <td>5.00</td>\n",
       "      <td>5.00</td>\n",
       "      <td>4.75</td>\n",
       "      <td>4.75</td>\n",
       "      <td>4.75</td>\n",
       "      <td>5.00</td>\n",
       "      <td>4.75</td>\n",
       "      <td>4</td>\n",
       "      <td>1.0</td>\n",
       "      <td>1.0</td>\n",
       "      <td>f</td>\n",
       "      <td>Entire serviced apartment</td>\n",
       "      <td>Entire home/apt</td>\n",
       "      <td>[\"First aid kit\", \"Shower gel\", \"Outdoor showe...</td>\n",
       "    </tr>\n",
       "  </tbody>\n",
       "</table>\n",
       "</div>"
      ],
      "text/plain": [
       "   price  review_scores_rating  review_scores_accuracy  \\\n",
       "0   60.0                  5.00                    5.00   \n",
       "1  282.0                  4.87                    4.91   \n",
       "2  348.0                  4.92                    5.00   \n",
       "3  368.0                  4.88                    4.96   \n",
       "4  264.0                  5.00                    5.00   \n",
       "\n",
       "   review_scores_cleanliness  review_scores_checkin  \\\n",
       "0                       5.00                   5.00   \n",
       "1                       4.64                   4.99   \n",
       "2                       4.92                   5.00   \n",
       "3                       4.96                   5.00   \n",
       "4                       4.75                   4.75   \n",
       "\n",
       "   review_scores_communication  review_scores_location  review_scores_value  \\\n",
       "0                         5.00                    4.00                 5.00   \n",
       "1                         4.98                    4.87                 4.86   \n",
       "2                         5.00                    4.92                 4.92   \n",
       "3                         5.00                    4.75                 4.71   \n",
       "4                         4.75                    5.00                 4.75   \n",
       "\n",
       "   accommodates  bedrooms  beds instant_bookable                property_type  \\\n",
       "0             2       1.0   1.0                t  Private room in rental unit   \n",
       "1             6       3.0   3.0                f      Entire residential home   \n",
       "2             2       1.0   1.0                t      Entire residential home   \n",
       "3             6       3.0   4.0                t             Entire townhouse   \n",
       "4             4       1.0   1.0                f    Entire serviced apartment   \n",
       "\n",
       "         room_type                                          amenities  \n",
       "0     Private room  [\"First aid kit\", \"Private patio or balcony\", ...  \n",
       "1  Entire home/apt  [\"First aid kit\", \"Ethernet connection\", \"Bike...  \n",
       "2  Entire home/apt  [\"Shower gel\", \"Private patio or balcony\", \"TV...  \n",
       "3  Entire home/apt  [\"First aid kit\", \"Private patio or balcony\", ...  \n",
       "4  Entire home/apt  [\"First aid kit\", \"Shower gel\", \"Outdoor showe...  "
      ]
     },
     "execution_count": 14,
     "metadata": {},
     "output_type": "execute_result"
    }
   ],
   "source": [
    "df.head()"
   ]
  },
  {
   "cell_type": "code",
   "execution_count": 15,
   "metadata": {
    "ExecuteTime": {
     "end_time": "2022-06-03T13:50:38.877579Z",
     "start_time": "2022-06-03T13:50:38.869338Z"
    }
   },
   "outputs": [
    {
     "name": "stdout",
     "output_type": "stream",
     "text": [
      "<class 'pandas.core.frame.DataFrame'>\n",
      "RangeIndex: 10935 entries, 0 to 10934\n",
      "Data columns (total 15 columns):\n",
      " #   Column                       Non-Null Count  Dtype  \n",
      "---  ------                       --------------  -----  \n",
      " 0   price                        10935 non-null  float64\n",
      " 1   review_scores_rating         9408 non-null   float64\n",
      " 2   review_scores_accuracy       9385 non-null   float64\n",
      " 3   review_scores_cleanliness    9385 non-null   float64\n",
      " 4   review_scores_checkin        9383 non-null   float64\n",
      " 5   review_scores_communication  9385 non-null   float64\n",
      " 6   review_scores_location       9383 non-null   float64\n",
      " 7   review_scores_value          9383 non-null   float64\n",
      " 8   accommodates                 10935 non-null  int64  \n",
      " 9   bedrooms                     9905 non-null   float64\n",
      " 10  beds                         10813 non-null  float64\n",
      " 11  instant_bookable             10935 non-null  object \n",
      " 12  property_type                10935 non-null  object \n",
      " 13  room_type                    10935 non-null  object \n",
      " 14  amenities                    10935 non-null  object \n",
      "dtypes: float64(10), int64(1), object(4)\n",
      "memory usage: 1.3+ MB\n"
     ]
    }
   ],
   "source": [
    "df.info()"
   ]
  },
  {
   "cell_type": "markdown",
   "metadata": {},
   "source": [
    "### New Feature: Capacity Ranges"
   ]
  },
  {
   "cell_type": "code",
   "execution_count": 16,
   "metadata": {
    "ExecuteTime": {
     "end_time": "2022-06-03T13:50:38.882123Z",
     "start_time": "2022-06-03T13:50:38.878447Z"
    }
   },
   "outputs": [
    {
     "data": {
      "text/plain": [
       "2     2716\n",
       "4     2306\n",
       "6     1638\n",
       "8      841\n",
       "3      757\n",
       "5      647\n",
       "1      604\n",
       "10     411\n",
       "7      291\n",
       "12     224\n",
       "16     172\n",
       "9      123\n",
       "14      99\n",
       "11      53\n",
       "15      30\n",
       "13      20\n",
       "0        3\n",
       "Name: accommodates, dtype: int64"
      ]
     },
     "execution_count": 16,
     "metadata": {},
     "output_type": "execute_result"
    }
   ],
   "source": [
    "df['accommodates'].value_counts()"
   ]
  },
  {
   "cell_type": "code",
   "execution_count": 17,
   "metadata": {
    "ExecuteTime": {
     "end_time": "2022-06-03T13:50:38.886420Z",
     "start_time": "2022-06-03T13:50:38.883075Z"
    }
   },
   "outputs": [],
   "source": [
    "df['capacity_0-2'] = df['accommodates'] <= 2"
   ]
  },
  {
   "cell_type": "code",
   "execution_count": 18,
   "metadata": {
    "ExecuteTime": {
     "end_time": "2022-06-03T13:50:38.889579Z",
     "start_time": "2022-06-03T13:50:38.887239Z"
    }
   },
   "outputs": [],
   "source": [
    "df['capacity_3-4'] = df['accommodates'] == range(3-4)"
   ]
  },
  {
   "cell_type": "code",
   "execution_count": 19,
   "metadata": {
    "ExecuteTime": {
     "end_time": "2022-06-03T13:50:38.893584Z",
     "start_time": "2022-06-03T13:50:38.890637Z"
    }
   },
   "outputs": [],
   "source": [
    "df['capacity_5-9'] = df['accommodates'] == range(5-9)\n",
    "df['capacity_10+'] = df['accommodates'] >= 10"
   ]
  },
  {
   "cell_type": "markdown",
   "metadata": {},
   "source": [
    "### New Feature: Bedroom Ranges"
   ]
  },
  {
   "cell_type": "code",
   "execution_count": 20,
   "metadata": {
    "ExecuteTime": {
     "end_time": "2022-06-03T13:50:38.898028Z",
     "start_time": "2022-06-03T13:50:38.894405Z"
    }
   },
   "outputs": [
    {
     "data": {
      "text/plain": [
       "1.0     4621\n",
       "2.0     2684\n",
       "3.0     1538\n",
       "4.0      665\n",
       "5.0      254\n",
       "6.0       87\n",
       "7.0       25\n",
       "8.0       16\n",
       "10.0       6\n",
       "9.0        5\n",
       "11.0       2\n",
       "12.0       2\n",
       "Name: bedrooms, dtype: int64"
      ]
     },
     "execution_count": 20,
     "metadata": {},
     "output_type": "execute_result"
    }
   ],
   "source": [
    "df['bedrooms'].value_counts()"
   ]
  },
  {
   "cell_type": "code",
   "execution_count": 21,
   "metadata": {
    "ExecuteTime": {
     "end_time": "2022-06-03T13:50:38.902694Z",
     "start_time": "2022-06-03T13:50:38.898865Z"
    }
   },
   "outputs": [],
   "source": [
    "df['bedrooms_1'] = df['bedrooms'] == 1\n",
    "df['bedrooms_2'] = df['bedrooms'] == 2\n",
    "df['bedrooms_3'] = df['bedrooms'] == 3\n",
    "df['bedrooms_4+'] = df['bedrooms'] >= 4"
   ]
  },
  {
   "cell_type": "code",
   "execution_count": null,
   "metadata": {},
   "outputs": [],
   "source": []
  },
  {
   "cell_type": "markdown",
   "metadata": {},
   "source": [
    "### Number of Units with a 5.0 Avg Rating"
   ]
  },
  {
   "cell_type": "code",
   "execution_count": 22,
   "metadata": {
    "ExecuteTime": {
     "end_time": "2022-06-03T13:50:38.909284Z",
     "start_time": "2022-06-03T13:50:38.903635Z"
    }
   },
   "outputs": [
    {
     "data": {
      "text/plain": [
       "5.00    2054\n",
       "4.80     248\n",
       "4.91     238\n",
       "4.86     237\n",
       "4.88     233\n",
       "4.89     226\n",
       "4.83     220\n",
       "4.92     216\n",
       "4.67     209\n",
       "4.96     207\n",
       "4.94     207\n",
       "4.90     206\n",
       "4.50     202\n",
       "4.93     200\n",
       "4.75     196\n",
       "4.95     184\n",
       "4.85     179\n",
       "4.97     172\n",
       "4.87     165\n",
       "4.00     164\n",
       "4.82     161\n",
       "4.84     154\n",
       "4.98     138\n",
       "4.81     138\n",
       "4.79     137\n",
       "4.78     135\n",
       "4.76     108\n",
       "4.73     107\n",
       "4.71     107\n",
       "4.70     100\n",
       "4.74      99\n",
       "4.77      97\n",
       "4.60      93\n",
       "4.72      89\n",
       "4.69      81\n",
       "4.63      78\n",
       "4.68      71\n",
       "4.65      70\n",
       "4.64      67\n",
       "4.99      59\n",
       "4.33      59\n",
       "4.57      51\n",
       "4.58      51\n",
       "4.62      49\n",
       "3.00      49\n",
       "4.59      47\n",
       "4.66      47\n",
       "4.56      47\n",
       "4.61      45\n",
       "4.40      43\n",
       "4.53      41\n",
       "4.44      36\n",
       "4.52      35\n",
       "4.54      34\n",
       "4.55      33\n",
       "4.43      32\n",
       "1.00      32\n",
       "4.25      32\n",
       "4.38      29\n",
       "4.47      29\n",
       "4.46      23\n",
       "3.67      23\n",
       "4.51      22\n",
       "4.42      22\n",
       "4.48      22\n",
       "4.45      20\n",
       "0.00      19\n",
       "4.20      19\n",
       "4.32      18\n",
       "3.50      18\n",
       "4.39      17\n",
       "4.29      17\n",
       "4.41      14\n",
       "4.35      12\n",
       "4.17      12\n",
       "2.00      12\n",
       "4.14      11\n",
       "3.33      10\n",
       "4.24      10\n",
       "4.13       9\n",
       "4.27       9\n",
       "4.36       9\n",
       "4.34       9\n",
       "4.21       9\n",
       "4.30       8\n",
       "4.31       8\n",
       "3.75       8\n",
       "4.37       7\n",
       "2.50       7\n",
       "4.22       7\n",
       "4.15       7\n",
       "3.71       7\n",
       "3.83       6\n",
       "4.49       6\n",
       "4.18       6\n",
       "1.50       6\n",
       "4.09       5\n",
       "4.26       5\n",
       "4.08       4\n",
       "4.06       4\n",
       "3.80       4\n",
       "4.11       4\n",
       "4.28       4\n",
       "4.19       3\n",
       "3.86       3\n",
       "3.25       3\n",
       "4.07       3\n",
       "4.23       3\n",
       "3.78       2\n",
       "4.04       2\n",
       "3.97       2\n",
       "4.12       2\n",
       "3.40       2\n",
       "3.94       2\n",
       "3.60       2\n",
       "3.89       2\n",
       "4.10       2\n",
       "3.53       2\n",
       "3.54       1\n",
       "1.80       1\n",
       "3.73       1\n",
       "3.13       1\n",
       "4.05       1\n",
       "3.79       1\n",
       "3.93       1\n",
       "3.81       1\n",
       "3.64       1\n",
       "3.91       1\n",
       "2.75       1\n",
       "3.95       1\n",
       "3.82       1\n",
       "3.57       1\n",
       "3.88       1\n",
       "3.70       1\n",
       "1.67       1\n",
       "3.90       1\n",
       "3.44       1\n",
       "4.16       1\n",
       "3.92       1\n",
       "Name: review_scores_rating, dtype: int64"
      ]
     },
     "execution_count": 22,
     "metadata": {},
     "output_type": "execute_result"
    }
   ],
   "source": [
    "df['review_scores_rating'].value_counts()"
   ]
  },
  {
   "cell_type": "code",
   "execution_count": 23,
   "metadata": {
    "ExecuteTime": {
     "end_time": "2022-06-03T13:50:38.916287Z",
     "start_time": "2022-06-03T13:50:38.913618Z"
    }
   },
   "outputs": [
    {
     "data": {
      "text/plain": [
       "1527"
      ]
     },
     "execution_count": 23,
     "metadata": {},
     "output_type": "execute_result"
    }
   ],
   "source": [
    "df['review_scores_rating'].isna().sum()"
   ]
  },
  {
   "cell_type": "markdown",
   "metadata": {},
   "source": [
    "There are 1527 Null records that need to be dealt with. "
   ]
  },
  {
   "cell_type": "code",
   "execution_count": 24,
   "metadata": {
    "ExecuteTime": {
     "end_time": "2022-06-03T13:50:38.922009Z",
     "start_time": "2022-06-03T13:50:38.918945Z"
    }
   },
   "outputs": [],
   "source": [
    "nulls = df[df['review_scores_rating'].isna()]"
   ]
  },
  {
   "cell_type": "code",
   "execution_count": null,
   "metadata": {
    "ExecuteTime": {
     "end_time": "2022-06-03T13:50:38.938832Z",
     "start_time": "2022-06-03T13:50:38.922910Z"
    }
   },
   "outputs": [],
   "source": []
  },
  {
   "cell_type": "markdown",
   "metadata": {},
   "source": [
    "nulls appear to have no ratings. Let's drop them for now."
   ]
  },
  {
   "cell_type": "code",
   "execution_count": 26,
   "metadata": {
    "ExecuteTime": {
     "end_time": "2022-06-03T13:50:38.945388Z",
     "start_time": "2022-06-03T13:50:38.939807Z"
    }
   },
   "outputs": [],
   "source": [
    "df = df.dropna()"
   ]
  },
  {
   "cell_type": "code",
   "execution_count": 27,
   "metadata": {
    "ExecuteTime": {
     "end_time": "2022-06-03T13:50:38.964061Z",
     "start_time": "2022-06-03T13:50:38.946337Z"
    }
   },
   "outputs": [
    {
     "data": {
      "text/html": [
       "<div>\n",
       "<style scoped>\n",
       "    .dataframe tbody tr th:only-of-type {\n",
       "        vertical-align: middle;\n",
       "    }\n",
       "\n",
       "    .dataframe tbody tr th {\n",
       "        vertical-align: top;\n",
       "    }\n",
       "\n",
       "    .dataframe thead th {\n",
       "        text-align: right;\n",
       "    }\n",
       "</style>\n",
       "<table border=\"1\" class=\"dataframe\">\n",
       "  <thead>\n",
       "    <tr style=\"text-align: right;\">\n",
       "      <th></th>\n",
       "      <th>price</th>\n",
       "      <th>review_scores_rating</th>\n",
       "      <th>review_scores_accuracy</th>\n",
       "      <th>review_scores_cleanliness</th>\n",
       "      <th>review_scores_checkin</th>\n",
       "      <th>review_scores_communication</th>\n",
       "      <th>review_scores_location</th>\n",
       "      <th>review_scores_value</th>\n",
       "      <th>accommodates</th>\n",
       "      <th>bedrooms</th>\n",
       "      <th>...</th>\n",
       "      <th>room_type</th>\n",
       "      <th>amenities</th>\n",
       "      <th>capacity_0-2</th>\n",
       "      <th>capacity_3-4</th>\n",
       "      <th>capacity_5-9</th>\n",
       "      <th>capacity_10+</th>\n",
       "      <th>bedrooms_1</th>\n",
       "      <th>bedrooms_2</th>\n",
       "      <th>bedrooms_3</th>\n",
       "      <th>bedrooms_4+</th>\n",
       "    </tr>\n",
       "  </thead>\n",
       "  <tbody>\n",
       "    <tr>\n",
       "      <th>0</th>\n",
       "      <td>60.0</td>\n",
       "      <td>5.00</td>\n",
       "      <td>5.00</td>\n",
       "      <td>5.00</td>\n",
       "      <td>5.00</td>\n",
       "      <td>5.00</td>\n",
       "      <td>4.00</td>\n",
       "      <td>5.00</td>\n",
       "      <td>2</td>\n",
       "      <td>1.0</td>\n",
       "      <td>...</td>\n",
       "      <td>Private room</td>\n",
       "      <td>[\"First aid kit\", \"Private patio or balcony\", ...</td>\n",
       "      <td>True</td>\n",
       "      <td>False</td>\n",
       "      <td>False</td>\n",
       "      <td>False</td>\n",
       "      <td>True</td>\n",
       "      <td>False</td>\n",
       "      <td>False</td>\n",
       "      <td>False</td>\n",
       "    </tr>\n",
       "    <tr>\n",
       "      <th>1</th>\n",
       "      <td>282.0</td>\n",
       "      <td>4.87</td>\n",
       "      <td>4.91</td>\n",
       "      <td>4.64</td>\n",
       "      <td>4.99</td>\n",
       "      <td>4.98</td>\n",
       "      <td>4.87</td>\n",
       "      <td>4.86</td>\n",
       "      <td>6</td>\n",
       "      <td>3.0</td>\n",
       "      <td>...</td>\n",
       "      <td>Entire home/apt</td>\n",
       "      <td>[\"First aid kit\", \"Ethernet connection\", \"Bike...</td>\n",
       "      <td>False</td>\n",
       "      <td>False</td>\n",
       "      <td>False</td>\n",
       "      <td>False</td>\n",
       "      <td>False</td>\n",
       "      <td>False</td>\n",
       "      <td>True</td>\n",
       "      <td>False</td>\n",
       "    </tr>\n",
       "    <tr>\n",
       "      <th>2</th>\n",
       "      <td>348.0</td>\n",
       "      <td>4.92</td>\n",
       "      <td>5.00</td>\n",
       "      <td>4.92</td>\n",
       "      <td>5.00</td>\n",
       "      <td>5.00</td>\n",
       "      <td>4.92</td>\n",
       "      <td>4.92</td>\n",
       "      <td>2</td>\n",
       "      <td>1.0</td>\n",
       "      <td>...</td>\n",
       "      <td>Entire home/apt</td>\n",
       "      <td>[\"Shower gel\", \"Private patio or balcony\", \"TV...</td>\n",
       "      <td>True</td>\n",
       "      <td>False</td>\n",
       "      <td>False</td>\n",
       "      <td>False</td>\n",
       "      <td>True</td>\n",
       "      <td>False</td>\n",
       "      <td>False</td>\n",
       "      <td>False</td>\n",
       "    </tr>\n",
       "    <tr>\n",
       "      <th>3</th>\n",
       "      <td>368.0</td>\n",
       "      <td>4.88</td>\n",
       "      <td>4.96</td>\n",
       "      <td>4.96</td>\n",
       "      <td>5.00</td>\n",
       "      <td>5.00</td>\n",
       "      <td>4.75</td>\n",
       "      <td>4.71</td>\n",
       "      <td>6</td>\n",
       "      <td>3.0</td>\n",
       "      <td>...</td>\n",
       "      <td>Entire home/apt</td>\n",
       "      <td>[\"First aid kit\", \"Private patio or balcony\", ...</td>\n",
       "      <td>False</td>\n",
       "      <td>False</td>\n",
       "      <td>False</td>\n",
       "      <td>False</td>\n",
       "      <td>False</td>\n",
       "      <td>False</td>\n",
       "      <td>True</td>\n",
       "      <td>False</td>\n",
       "    </tr>\n",
       "    <tr>\n",
       "      <th>4</th>\n",
       "      <td>264.0</td>\n",
       "      <td>5.00</td>\n",
       "      <td>5.00</td>\n",
       "      <td>4.75</td>\n",
       "      <td>4.75</td>\n",
       "      <td>4.75</td>\n",
       "      <td>5.00</td>\n",
       "      <td>4.75</td>\n",
       "      <td>4</td>\n",
       "      <td>1.0</td>\n",
       "      <td>...</td>\n",
       "      <td>Entire home/apt</td>\n",
       "      <td>[\"First aid kit\", \"Shower gel\", \"Outdoor showe...</td>\n",
       "      <td>False</td>\n",
       "      <td>False</td>\n",
       "      <td>False</td>\n",
       "      <td>False</td>\n",
       "      <td>True</td>\n",
       "      <td>False</td>\n",
       "      <td>False</td>\n",
       "      <td>False</td>\n",
       "    </tr>\n",
       "    <tr>\n",
       "      <th>...</th>\n",
       "      <td>...</td>\n",
       "      <td>...</td>\n",
       "      <td>...</td>\n",
       "      <td>...</td>\n",
       "      <td>...</td>\n",
       "      <td>...</td>\n",
       "      <td>...</td>\n",
       "      <td>...</td>\n",
       "      <td>...</td>\n",
       "      <td>...</td>\n",
       "      <td>...</td>\n",
       "      <td>...</td>\n",
       "      <td>...</td>\n",
       "      <td>...</td>\n",
       "      <td>...</td>\n",
       "      <td>...</td>\n",
       "      <td>...</td>\n",
       "      <td>...</td>\n",
       "      <td>...</td>\n",
       "      <td>...</td>\n",
       "      <td>...</td>\n",
       "    </tr>\n",
       "    <tr>\n",
       "      <th>10929</th>\n",
       "      <td>531.0</td>\n",
       "      <td>4.89</td>\n",
       "      <td>4.89</td>\n",
       "      <td>5.00</td>\n",
       "      <td>5.00</td>\n",
       "      <td>4.89</td>\n",
       "      <td>5.00</td>\n",
       "      <td>4.78</td>\n",
       "      <td>14</td>\n",
       "      <td>5.0</td>\n",
       "      <td>...</td>\n",
       "      <td>Entire home/apt</td>\n",
       "      <td>[\"First aid kit\", \"Private patio or balcony\", ...</td>\n",
       "      <td>False</td>\n",
       "      <td>False</td>\n",
       "      <td>False</td>\n",
       "      <td>True</td>\n",
       "      <td>False</td>\n",
       "      <td>False</td>\n",
       "      <td>False</td>\n",
       "      <td>True</td>\n",
       "    </tr>\n",
       "    <tr>\n",
       "      <th>10930</th>\n",
       "      <td>228.0</td>\n",
       "      <td>4.78</td>\n",
       "      <td>4.82</td>\n",
       "      <td>4.85</td>\n",
       "      <td>4.98</td>\n",
       "      <td>4.90</td>\n",
       "      <td>4.82</td>\n",
       "      <td>4.80</td>\n",
       "      <td>8</td>\n",
       "      <td>3.0</td>\n",
       "      <td>...</td>\n",
       "      <td>Entire home/apt</td>\n",
       "      <td>[\"Shower gel\", \"Private patio or balcony\", \"Ai...</td>\n",
       "      <td>False</td>\n",
       "      <td>False</td>\n",
       "      <td>False</td>\n",
       "      <td>False</td>\n",
       "      <td>False</td>\n",
       "      <td>False</td>\n",
       "      <td>True</td>\n",
       "      <td>False</td>\n",
       "    </tr>\n",
       "    <tr>\n",
       "      <th>10931</th>\n",
       "      <td>168.0</td>\n",
       "      <td>4.89</td>\n",
       "      <td>4.94</td>\n",
       "      <td>4.89</td>\n",
       "      <td>4.93</td>\n",
       "      <td>4.94</td>\n",
       "      <td>4.92</td>\n",
       "      <td>4.90</td>\n",
       "      <td>8</td>\n",
       "      <td>3.0</td>\n",
       "      <td>...</td>\n",
       "      <td>Entire home/apt</td>\n",
       "      <td>[\"55\\\" HDTV with Netflix\", \"First aid kit\", \"S...</td>\n",
       "      <td>False</td>\n",
       "      <td>False</td>\n",
       "      <td>False</td>\n",
       "      <td>False</td>\n",
       "      <td>False</td>\n",
       "      <td>False</td>\n",
       "      <td>True</td>\n",
       "      <td>False</td>\n",
       "    </tr>\n",
       "    <tr>\n",
       "      <th>10932</th>\n",
       "      <td>500.0</td>\n",
       "      <td>5.00</td>\n",
       "      <td>4.50</td>\n",
       "      <td>5.00</td>\n",
       "      <td>5.00</td>\n",
       "      <td>5.00</td>\n",
       "      <td>5.00</td>\n",
       "      <td>5.00</td>\n",
       "      <td>2</td>\n",
       "      <td>1.0</td>\n",
       "      <td>...</td>\n",
       "      <td>Entire home/apt</td>\n",
       "      <td>[\"First aid kit\", \"Air conditioning\", \"TV\", \"S...</td>\n",
       "      <td>True</td>\n",
       "      <td>False</td>\n",
       "      <td>False</td>\n",
       "      <td>False</td>\n",
       "      <td>True</td>\n",
       "      <td>False</td>\n",
       "      <td>False</td>\n",
       "      <td>False</td>\n",
       "    </tr>\n",
       "    <tr>\n",
       "      <th>10933</th>\n",
       "      <td>67.0</td>\n",
       "      <td>4.53</td>\n",
       "      <td>4.82</td>\n",
       "      <td>4.67</td>\n",
       "      <td>4.67</td>\n",
       "      <td>4.69</td>\n",
       "      <td>4.71</td>\n",
       "      <td>4.61</td>\n",
       "      <td>4</td>\n",
       "      <td>2.0</td>\n",
       "      <td>...</td>\n",
       "      <td>Entire home/apt</td>\n",
       "      <td>[\"TV\", \"Keypad\", \"Stove\", \"Iron\", \"Hangers\", \"...</td>\n",
       "      <td>False</td>\n",
       "      <td>False</td>\n",
       "      <td>False</td>\n",
       "      <td>False</td>\n",
       "      <td>False</td>\n",
       "      <td>True</td>\n",
       "      <td>False</td>\n",
       "      <td>False</td>\n",
       "    </tr>\n",
       "  </tbody>\n",
       "</table>\n",
       "<p>8385 rows × 23 columns</p>\n",
       "</div>"
      ],
      "text/plain": [
       "       price  review_scores_rating  review_scores_accuracy  \\\n",
       "0       60.0                  5.00                    5.00   \n",
       "1      282.0                  4.87                    4.91   \n",
       "2      348.0                  4.92                    5.00   \n",
       "3      368.0                  4.88                    4.96   \n",
       "4      264.0                  5.00                    5.00   \n",
       "...      ...                   ...                     ...   \n",
       "10929  531.0                  4.89                    4.89   \n",
       "10930  228.0                  4.78                    4.82   \n",
       "10931  168.0                  4.89                    4.94   \n",
       "10932  500.0                  5.00                    4.50   \n",
       "10933   67.0                  4.53                    4.82   \n",
       "\n",
       "       review_scores_cleanliness  review_scores_checkin  \\\n",
       "0                           5.00                   5.00   \n",
       "1                           4.64                   4.99   \n",
       "2                           4.92                   5.00   \n",
       "3                           4.96                   5.00   \n",
       "4                           4.75                   4.75   \n",
       "...                          ...                    ...   \n",
       "10929                       5.00                   5.00   \n",
       "10930                       4.85                   4.98   \n",
       "10931                       4.89                   4.93   \n",
       "10932                       5.00                   5.00   \n",
       "10933                       4.67                   4.67   \n",
       "\n",
       "       review_scores_communication  review_scores_location  \\\n",
       "0                             5.00                    4.00   \n",
       "1                             4.98                    4.87   \n",
       "2                             5.00                    4.92   \n",
       "3                             5.00                    4.75   \n",
       "4                             4.75                    5.00   \n",
       "...                            ...                     ...   \n",
       "10929                         4.89                    5.00   \n",
       "10930                         4.90                    4.82   \n",
       "10931                         4.94                    4.92   \n",
       "10932                         5.00                    5.00   \n",
       "10933                         4.69                    4.71   \n",
       "\n",
       "       review_scores_value  accommodates  bedrooms  ...        room_type  \\\n",
       "0                     5.00             2       1.0  ...     Private room   \n",
       "1                     4.86             6       3.0  ...  Entire home/apt   \n",
       "2                     4.92             2       1.0  ...  Entire home/apt   \n",
       "3                     4.71             6       3.0  ...  Entire home/apt   \n",
       "4                     4.75             4       1.0  ...  Entire home/apt   \n",
       "...                    ...           ...       ...  ...              ...   \n",
       "10929                 4.78            14       5.0  ...  Entire home/apt   \n",
       "10930                 4.80             8       3.0  ...  Entire home/apt   \n",
       "10931                 4.90             8       3.0  ...  Entire home/apt   \n",
       "10932                 5.00             2       1.0  ...  Entire home/apt   \n",
       "10933                 4.61             4       2.0  ...  Entire home/apt   \n",
       "\n",
       "                                               amenities capacity_0-2  \\\n",
       "0      [\"First aid kit\", \"Private patio or balcony\", ...         True   \n",
       "1      [\"First aid kit\", \"Ethernet connection\", \"Bike...        False   \n",
       "2      [\"Shower gel\", \"Private patio or balcony\", \"TV...         True   \n",
       "3      [\"First aid kit\", \"Private patio or balcony\", ...        False   \n",
       "4      [\"First aid kit\", \"Shower gel\", \"Outdoor showe...        False   \n",
       "...                                                  ...          ...   \n",
       "10929  [\"First aid kit\", \"Private patio or balcony\", ...        False   \n",
       "10930  [\"Shower gel\", \"Private patio or balcony\", \"Ai...        False   \n",
       "10931  [\"55\\\" HDTV with Netflix\", \"First aid kit\", \"S...        False   \n",
       "10932  [\"First aid kit\", \"Air conditioning\", \"TV\", \"S...         True   \n",
       "10933  [\"TV\", \"Keypad\", \"Stove\", \"Iron\", \"Hangers\", \"...        False   \n",
       "\n",
       "      capacity_3-4 capacity_5-9  capacity_10+  bedrooms_1  bedrooms_2  \\\n",
       "0            False        False         False        True       False   \n",
       "1            False        False         False       False       False   \n",
       "2            False        False         False        True       False   \n",
       "3            False        False         False       False       False   \n",
       "4            False        False         False        True       False   \n",
       "...            ...          ...           ...         ...         ...   \n",
       "10929        False        False          True       False       False   \n",
       "10930        False        False         False       False       False   \n",
       "10931        False        False         False       False       False   \n",
       "10932        False        False         False        True       False   \n",
       "10933        False        False         False       False        True   \n",
       "\n",
       "       bedrooms_3  bedrooms_4+  \n",
       "0           False        False  \n",
       "1            True        False  \n",
       "2           False        False  \n",
       "3            True        False  \n",
       "4           False        False  \n",
       "...           ...          ...  \n",
       "10929       False         True  \n",
       "10930        True        False  \n",
       "10931        True        False  \n",
       "10932       False        False  \n",
       "10933       False        False  \n",
       "\n",
       "[8385 rows x 23 columns]"
      ]
     },
     "execution_count": 27,
     "metadata": {},
     "output_type": "execute_result"
    }
   ],
   "source": [
    "df"
   ]
  },
  {
   "cell_type": "markdown",
   "metadata": {},
   "source": [
    "### Creating Classifier Column"
   ]
  },
  {
   "cell_type": "code",
   "execution_count": 28,
   "metadata": {
    "ExecuteTime": {
     "end_time": "2022-06-03T13:50:38.967440Z",
     "start_time": "2022-06-03T13:50:38.965177Z"
    }
   },
   "outputs": [],
   "source": [
    "#df['perfect_score'] = df['review_scores_rating'] == 5.00\n",
    "df['rating_5'] = df['review_scores_rating'] == 5.00"
   ]
  },
  {
   "cell_type": "code",
   "execution_count": 29,
   "metadata": {
    "ExecuteTime": {
     "end_time": "2022-06-03T13:50:38.972989Z",
     "start_time": "2022-06-03T13:50:38.968455Z"
    }
   },
   "outputs": [],
   "source": [
    "df['accuracy_5'] = df['review_scores_accuracy'] == 5.00\n",
    "df['cleanliness_5'] = df['review_scores_cleanliness'] == 5.00\n",
    "df['checkin_5'] = df['review_scores_checkin'] == 5.00\n",
    "df['location_5'] = df['review_scores_location'] == 5.00\n",
    "df['value_5'] = df['review_scores_value'] == 5.00"
   ]
  },
  {
   "cell_type": "code",
   "execution_count": 30,
   "metadata": {
    "ExecuteTime": {
     "end_time": "2022-06-03T13:50:38.977728Z",
     "start_time": "2022-06-03T13:50:38.973862Z"
    }
   },
   "outputs": [
    {
     "data": {
      "text/plain": [
       "False    6491\n",
       "True     1894\n",
       "Name: rating_5, dtype: int64"
      ]
     },
     "execution_count": 30,
     "metadata": {},
     "output_type": "execute_result"
    }
   ],
   "source": [
    "df['rating_5'].value_counts()"
   ]
  },
  {
   "cell_type": "code",
   "execution_count": 31,
   "metadata": {
    "ExecuteTime": {
     "end_time": "2022-06-03T13:50:38.982188Z",
     "start_time": "2022-06-03T13:50:38.978577Z"
    }
   },
   "outputs": [
    {
     "data": {
      "text/plain": [
       "False    5810\n",
       "True     2575\n",
       "Name: location_5, dtype: int64"
      ]
     },
     "execution_count": 31,
     "metadata": {},
     "output_type": "execute_result"
    }
   ],
   "source": [
    "df['location_5'].value_counts()"
   ]
  },
  {
   "cell_type": "markdown",
   "metadata": {},
   "source": [
    "### Creating Binned Price Categories"
   ]
  },
  {
   "cell_type": "code",
   "execution_count": 32,
   "metadata": {
    "ExecuteTime": {
     "end_time": "2022-06-03T13:50:38.988206Z",
     "start_time": "2022-06-03T13:50:38.983149Z"
    }
   },
   "outputs": [
    {
     "data": {
      "text/plain": [
       "count     8385.000000\n",
       "mean       294.826714\n",
       "std        348.498244\n",
       "min         10.000000\n",
       "25%        120.000000\n",
       "50%        195.000000\n",
       "75%        350.000000\n",
       "max      10000.000000\n",
       "Name: price, dtype: float64"
      ]
     },
     "execution_count": 32,
     "metadata": {},
     "output_type": "execute_result"
    }
   ],
   "source": [
    "df['price'].describe()"
   ]
  },
  {
   "cell_type": "code",
   "execution_count": 33,
   "metadata": {
    "ExecuteTime": {
     "end_time": "2022-06-03T13:50:38.991877Z",
     "start_time": "2022-06-03T13:50:38.989169Z"
    }
   },
   "outputs": [],
   "source": [
    "df['price_high'] = df['price'] >= 325\n",
    "df['price_low'] = df['price'] <= 115"
   ]
  },
  {
   "cell_type": "code",
   "execution_count": 34,
   "metadata": {
    "ExecuteTime": {
     "end_time": "2022-06-03T13:50:39.009687Z",
     "start_time": "2022-06-03T13:50:38.992864Z"
    }
   },
   "outputs": [
    {
     "data": {
      "text/html": [
       "<div>\n",
       "<style scoped>\n",
       "    .dataframe tbody tr th:only-of-type {\n",
       "        vertical-align: middle;\n",
       "    }\n",
       "\n",
       "    .dataframe tbody tr th {\n",
       "        vertical-align: top;\n",
       "    }\n",
       "\n",
       "    .dataframe thead th {\n",
       "        text-align: right;\n",
       "    }\n",
       "</style>\n",
       "<table border=\"1\" class=\"dataframe\">\n",
       "  <thead>\n",
       "    <tr style=\"text-align: right;\">\n",
       "      <th></th>\n",
       "      <th>price</th>\n",
       "      <th>review_scores_rating</th>\n",
       "      <th>review_scores_accuracy</th>\n",
       "      <th>review_scores_cleanliness</th>\n",
       "      <th>review_scores_checkin</th>\n",
       "      <th>review_scores_communication</th>\n",
       "      <th>review_scores_location</th>\n",
       "      <th>review_scores_value</th>\n",
       "      <th>accommodates</th>\n",
       "      <th>bedrooms</th>\n",
       "      <th>...</th>\n",
       "      <th>bedrooms_3</th>\n",
       "      <th>bedrooms_4+</th>\n",
       "      <th>rating_5</th>\n",
       "      <th>accuracy_5</th>\n",
       "      <th>cleanliness_5</th>\n",
       "      <th>checkin_5</th>\n",
       "      <th>location_5</th>\n",
       "      <th>value_5</th>\n",
       "      <th>price_high</th>\n",
       "      <th>price_low</th>\n",
       "    </tr>\n",
       "  </thead>\n",
       "  <tbody>\n",
       "    <tr>\n",
       "      <th>0</th>\n",
       "      <td>60.0</td>\n",
       "      <td>5.00</td>\n",
       "      <td>5.00</td>\n",
       "      <td>5.00</td>\n",
       "      <td>5.00</td>\n",
       "      <td>5.00</td>\n",
       "      <td>4.00</td>\n",
       "      <td>5.00</td>\n",
       "      <td>2</td>\n",
       "      <td>1.0</td>\n",
       "      <td>...</td>\n",
       "      <td>False</td>\n",
       "      <td>False</td>\n",
       "      <td>True</td>\n",
       "      <td>True</td>\n",
       "      <td>True</td>\n",
       "      <td>True</td>\n",
       "      <td>False</td>\n",
       "      <td>True</td>\n",
       "      <td>False</td>\n",
       "      <td>True</td>\n",
       "    </tr>\n",
       "    <tr>\n",
       "      <th>1</th>\n",
       "      <td>282.0</td>\n",
       "      <td>4.87</td>\n",
       "      <td>4.91</td>\n",
       "      <td>4.64</td>\n",
       "      <td>4.99</td>\n",
       "      <td>4.98</td>\n",
       "      <td>4.87</td>\n",
       "      <td>4.86</td>\n",
       "      <td>6</td>\n",
       "      <td>3.0</td>\n",
       "      <td>...</td>\n",
       "      <td>True</td>\n",
       "      <td>False</td>\n",
       "      <td>False</td>\n",
       "      <td>False</td>\n",
       "      <td>False</td>\n",
       "      <td>False</td>\n",
       "      <td>False</td>\n",
       "      <td>False</td>\n",
       "      <td>False</td>\n",
       "      <td>False</td>\n",
       "    </tr>\n",
       "    <tr>\n",
       "      <th>2</th>\n",
       "      <td>348.0</td>\n",
       "      <td>4.92</td>\n",
       "      <td>5.00</td>\n",
       "      <td>4.92</td>\n",
       "      <td>5.00</td>\n",
       "      <td>5.00</td>\n",
       "      <td>4.92</td>\n",
       "      <td>4.92</td>\n",
       "      <td>2</td>\n",
       "      <td>1.0</td>\n",
       "      <td>...</td>\n",
       "      <td>False</td>\n",
       "      <td>False</td>\n",
       "      <td>False</td>\n",
       "      <td>True</td>\n",
       "      <td>False</td>\n",
       "      <td>True</td>\n",
       "      <td>False</td>\n",
       "      <td>False</td>\n",
       "      <td>True</td>\n",
       "      <td>False</td>\n",
       "    </tr>\n",
       "    <tr>\n",
       "      <th>3</th>\n",
       "      <td>368.0</td>\n",
       "      <td>4.88</td>\n",
       "      <td>4.96</td>\n",
       "      <td>4.96</td>\n",
       "      <td>5.00</td>\n",
       "      <td>5.00</td>\n",
       "      <td>4.75</td>\n",
       "      <td>4.71</td>\n",
       "      <td>6</td>\n",
       "      <td>3.0</td>\n",
       "      <td>...</td>\n",
       "      <td>True</td>\n",
       "      <td>False</td>\n",
       "      <td>False</td>\n",
       "      <td>False</td>\n",
       "      <td>False</td>\n",
       "      <td>True</td>\n",
       "      <td>False</td>\n",
       "      <td>False</td>\n",
       "      <td>True</td>\n",
       "      <td>False</td>\n",
       "    </tr>\n",
       "    <tr>\n",
       "      <th>4</th>\n",
       "      <td>264.0</td>\n",
       "      <td>5.00</td>\n",
       "      <td>5.00</td>\n",
       "      <td>4.75</td>\n",
       "      <td>4.75</td>\n",
       "      <td>4.75</td>\n",
       "      <td>5.00</td>\n",
       "      <td>4.75</td>\n",
       "      <td>4</td>\n",
       "      <td>1.0</td>\n",
       "      <td>...</td>\n",
       "      <td>False</td>\n",
       "      <td>False</td>\n",
       "      <td>True</td>\n",
       "      <td>True</td>\n",
       "      <td>False</td>\n",
       "      <td>False</td>\n",
       "      <td>True</td>\n",
       "      <td>False</td>\n",
       "      <td>False</td>\n",
       "      <td>False</td>\n",
       "    </tr>\n",
       "    <tr>\n",
       "      <th>...</th>\n",
       "      <td>...</td>\n",
       "      <td>...</td>\n",
       "      <td>...</td>\n",
       "      <td>...</td>\n",
       "      <td>...</td>\n",
       "      <td>...</td>\n",
       "      <td>...</td>\n",
       "      <td>...</td>\n",
       "      <td>...</td>\n",
       "      <td>...</td>\n",
       "      <td>...</td>\n",
       "      <td>...</td>\n",
       "      <td>...</td>\n",
       "      <td>...</td>\n",
       "      <td>...</td>\n",
       "      <td>...</td>\n",
       "      <td>...</td>\n",
       "      <td>...</td>\n",
       "      <td>...</td>\n",
       "      <td>...</td>\n",
       "      <td>...</td>\n",
       "    </tr>\n",
       "    <tr>\n",
       "      <th>10929</th>\n",
       "      <td>531.0</td>\n",
       "      <td>4.89</td>\n",
       "      <td>4.89</td>\n",
       "      <td>5.00</td>\n",
       "      <td>5.00</td>\n",
       "      <td>4.89</td>\n",
       "      <td>5.00</td>\n",
       "      <td>4.78</td>\n",
       "      <td>14</td>\n",
       "      <td>5.0</td>\n",
       "      <td>...</td>\n",
       "      <td>False</td>\n",
       "      <td>True</td>\n",
       "      <td>False</td>\n",
       "      <td>False</td>\n",
       "      <td>True</td>\n",
       "      <td>True</td>\n",
       "      <td>True</td>\n",
       "      <td>False</td>\n",
       "      <td>True</td>\n",
       "      <td>False</td>\n",
       "    </tr>\n",
       "    <tr>\n",
       "      <th>10930</th>\n",
       "      <td>228.0</td>\n",
       "      <td>4.78</td>\n",
       "      <td>4.82</td>\n",
       "      <td>4.85</td>\n",
       "      <td>4.98</td>\n",
       "      <td>4.90</td>\n",
       "      <td>4.82</td>\n",
       "      <td>4.80</td>\n",
       "      <td>8</td>\n",
       "      <td>3.0</td>\n",
       "      <td>...</td>\n",
       "      <td>True</td>\n",
       "      <td>False</td>\n",
       "      <td>False</td>\n",
       "      <td>False</td>\n",
       "      <td>False</td>\n",
       "      <td>False</td>\n",
       "      <td>False</td>\n",
       "      <td>False</td>\n",
       "      <td>False</td>\n",
       "      <td>False</td>\n",
       "    </tr>\n",
       "    <tr>\n",
       "      <th>10931</th>\n",
       "      <td>168.0</td>\n",
       "      <td>4.89</td>\n",
       "      <td>4.94</td>\n",
       "      <td>4.89</td>\n",
       "      <td>4.93</td>\n",
       "      <td>4.94</td>\n",
       "      <td>4.92</td>\n",
       "      <td>4.90</td>\n",
       "      <td>8</td>\n",
       "      <td>3.0</td>\n",
       "      <td>...</td>\n",
       "      <td>True</td>\n",
       "      <td>False</td>\n",
       "      <td>False</td>\n",
       "      <td>False</td>\n",
       "      <td>False</td>\n",
       "      <td>False</td>\n",
       "      <td>False</td>\n",
       "      <td>False</td>\n",
       "      <td>False</td>\n",
       "      <td>False</td>\n",
       "    </tr>\n",
       "    <tr>\n",
       "      <th>10932</th>\n",
       "      <td>500.0</td>\n",
       "      <td>5.00</td>\n",
       "      <td>4.50</td>\n",
       "      <td>5.00</td>\n",
       "      <td>5.00</td>\n",
       "      <td>5.00</td>\n",
       "      <td>5.00</td>\n",
       "      <td>5.00</td>\n",
       "      <td>2</td>\n",
       "      <td>1.0</td>\n",
       "      <td>...</td>\n",
       "      <td>False</td>\n",
       "      <td>False</td>\n",
       "      <td>True</td>\n",
       "      <td>False</td>\n",
       "      <td>True</td>\n",
       "      <td>True</td>\n",
       "      <td>True</td>\n",
       "      <td>True</td>\n",
       "      <td>True</td>\n",
       "      <td>False</td>\n",
       "    </tr>\n",
       "    <tr>\n",
       "      <th>10933</th>\n",
       "      <td>67.0</td>\n",
       "      <td>4.53</td>\n",
       "      <td>4.82</td>\n",
       "      <td>4.67</td>\n",
       "      <td>4.67</td>\n",
       "      <td>4.69</td>\n",
       "      <td>4.71</td>\n",
       "      <td>4.61</td>\n",
       "      <td>4</td>\n",
       "      <td>2.0</td>\n",
       "      <td>...</td>\n",
       "      <td>False</td>\n",
       "      <td>False</td>\n",
       "      <td>False</td>\n",
       "      <td>False</td>\n",
       "      <td>False</td>\n",
       "      <td>False</td>\n",
       "      <td>False</td>\n",
       "      <td>False</td>\n",
       "      <td>False</td>\n",
       "      <td>True</td>\n",
       "    </tr>\n",
       "  </tbody>\n",
       "</table>\n",
       "<p>8385 rows × 31 columns</p>\n",
       "</div>"
      ],
      "text/plain": [
       "       price  review_scores_rating  review_scores_accuracy  \\\n",
       "0       60.0                  5.00                    5.00   \n",
       "1      282.0                  4.87                    4.91   \n",
       "2      348.0                  4.92                    5.00   \n",
       "3      368.0                  4.88                    4.96   \n",
       "4      264.0                  5.00                    5.00   \n",
       "...      ...                   ...                     ...   \n",
       "10929  531.0                  4.89                    4.89   \n",
       "10930  228.0                  4.78                    4.82   \n",
       "10931  168.0                  4.89                    4.94   \n",
       "10932  500.0                  5.00                    4.50   \n",
       "10933   67.0                  4.53                    4.82   \n",
       "\n",
       "       review_scores_cleanliness  review_scores_checkin  \\\n",
       "0                           5.00                   5.00   \n",
       "1                           4.64                   4.99   \n",
       "2                           4.92                   5.00   \n",
       "3                           4.96                   5.00   \n",
       "4                           4.75                   4.75   \n",
       "...                          ...                    ...   \n",
       "10929                       5.00                   5.00   \n",
       "10930                       4.85                   4.98   \n",
       "10931                       4.89                   4.93   \n",
       "10932                       5.00                   5.00   \n",
       "10933                       4.67                   4.67   \n",
       "\n",
       "       review_scores_communication  review_scores_location  \\\n",
       "0                             5.00                    4.00   \n",
       "1                             4.98                    4.87   \n",
       "2                             5.00                    4.92   \n",
       "3                             5.00                    4.75   \n",
       "4                             4.75                    5.00   \n",
       "...                            ...                     ...   \n",
       "10929                         4.89                    5.00   \n",
       "10930                         4.90                    4.82   \n",
       "10931                         4.94                    4.92   \n",
       "10932                         5.00                    5.00   \n",
       "10933                         4.69                    4.71   \n",
       "\n",
       "       review_scores_value  accommodates  bedrooms  ...  bedrooms_3  \\\n",
       "0                     5.00             2       1.0  ...       False   \n",
       "1                     4.86             6       3.0  ...        True   \n",
       "2                     4.92             2       1.0  ...       False   \n",
       "3                     4.71             6       3.0  ...        True   \n",
       "4                     4.75             4       1.0  ...       False   \n",
       "...                    ...           ...       ...  ...         ...   \n",
       "10929                 4.78            14       5.0  ...       False   \n",
       "10930                 4.80             8       3.0  ...        True   \n",
       "10931                 4.90             8       3.0  ...        True   \n",
       "10932                 5.00             2       1.0  ...       False   \n",
       "10933                 4.61             4       2.0  ...       False   \n",
       "\n",
       "      bedrooms_4+ rating_5 accuracy_5 cleanliness_5  checkin_5  location_5  \\\n",
       "0           False     True       True          True       True       False   \n",
       "1           False    False      False         False      False       False   \n",
       "2           False    False       True         False       True       False   \n",
       "3           False    False      False         False       True       False   \n",
       "4           False     True       True         False      False        True   \n",
       "...           ...      ...        ...           ...        ...         ...   \n",
       "10929        True    False      False          True       True        True   \n",
       "10930       False    False      False         False      False       False   \n",
       "10931       False    False      False         False      False       False   \n",
       "10932       False     True      False          True       True        True   \n",
       "10933       False    False      False         False      False       False   \n",
       "\n",
       "       value_5  price_high  price_low  \n",
       "0         True       False       True  \n",
       "1        False       False      False  \n",
       "2        False        True      False  \n",
       "3        False        True      False  \n",
       "4        False       False      False  \n",
       "...        ...         ...        ...  \n",
       "10929    False        True      False  \n",
       "10930    False       False      False  \n",
       "10931    False       False      False  \n",
       "10932     True        True      False  \n",
       "10933    False       False       True  \n",
       "\n",
       "[8385 rows x 31 columns]"
      ]
     },
     "execution_count": 34,
     "metadata": {},
     "output_type": "execute_result"
    }
   ],
   "source": [
    "df"
   ]
  },
  {
   "cell_type": "markdown",
   "metadata": {
    "ExecuteTime": {
     "end_time": "2022-06-02T15:25:31.459067Z",
     "start_time": "2022-06-02T15:25:31.456428Z"
    }
   },
   "source": [
    "### Checking # of reviews"
   ]
  },
  {
   "cell_type": "code",
   "execution_count": 35,
   "metadata": {
    "ExecuteTime": {
     "end_time": "2022-06-03T13:50:39.132398Z",
     "start_time": "2022-06-03T13:50:39.010646Z"
    }
   },
   "outputs": [
    {
     "ename": "KeyError",
     "evalue": "'number_of_reviews'",
     "output_type": "error",
     "traceback": [
      "\u001b[0;31m---------------------------------------------------------------------------\u001b[0m",
      "\u001b[0;31mKeyError\u001b[0m                                  Traceback (most recent call last)",
      "\u001b[0;32m~/opt/anaconda3/envs/learn-env/lib/python3.8/site-packages/pandas/core/indexes/base.py\u001b[0m in \u001b[0;36mget_loc\u001b[0;34m(self, key, method, tolerance)\u001b[0m\n\u001b[1;32m   2894\u001b[0m             \u001b[0;32mtry\u001b[0m\u001b[0;34m:\u001b[0m\u001b[0;34m\u001b[0m\u001b[0;34m\u001b[0m\u001b[0m\n\u001b[0;32m-> 2895\u001b[0;31m                 \u001b[0;32mreturn\u001b[0m \u001b[0mself\u001b[0m\u001b[0;34m.\u001b[0m\u001b[0m_engine\u001b[0m\u001b[0;34m.\u001b[0m\u001b[0mget_loc\u001b[0m\u001b[0;34m(\u001b[0m\u001b[0mcasted_key\u001b[0m\u001b[0;34m)\u001b[0m\u001b[0;34m\u001b[0m\u001b[0;34m\u001b[0m\u001b[0m\n\u001b[0m\u001b[1;32m   2896\u001b[0m             \u001b[0;32mexcept\u001b[0m \u001b[0mKeyError\u001b[0m \u001b[0;32mas\u001b[0m \u001b[0merr\u001b[0m\u001b[0;34m:\u001b[0m\u001b[0;34m\u001b[0m\u001b[0;34m\u001b[0m\u001b[0m\n",
      "\u001b[0;32mpandas/_libs/index.pyx\u001b[0m in \u001b[0;36mpandas._libs.index.IndexEngine.get_loc\u001b[0;34m()\u001b[0m\n",
      "\u001b[0;32mpandas/_libs/index.pyx\u001b[0m in \u001b[0;36mpandas._libs.index.IndexEngine.get_loc\u001b[0;34m()\u001b[0m\n",
      "\u001b[0;32mpandas/_libs/hashtable_class_helper.pxi\u001b[0m in \u001b[0;36mpandas._libs.hashtable.PyObjectHashTable.get_item\u001b[0;34m()\u001b[0m\n",
      "\u001b[0;32mpandas/_libs/hashtable_class_helper.pxi\u001b[0m in \u001b[0;36mpandas._libs.hashtable.PyObjectHashTable.get_item\u001b[0;34m()\u001b[0m\n",
      "\u001b[0;31mKeyError\u001b[0m: 'number_of_reviews'",
      "\nThe above exception was the direct cause of the following exception:\n",
      "\u001b[0;31mKeyError\u001b[0m                                  Traceback (most recent call last)",
      "\u001b[0;32m<ipython-input-35-386e1ceb2a8f>\u001b[0m in \u001b[0;36m<module>\u001b[0;34m\u001b[0m\n\u001b[0;32m----> 1\u001b[0;31m \u001b[0mdf\u001b[0m\u001b[0;34m[\u001b[0m\u001b[0;34m'number_of_reviews'\u001b[0m\u001b[0;34m]\u001b[0m\u001b[0;34m.\u001b[0m\u001b[0mvalue_counts\u001b[0m\u001b[0;34m(\u001b[0m\u001b[0;34m)\u001b[0m\u001b[0;34m\u001b[0m\u001b[0;34m\u001b[0m\u001b[0m\n\u001b[0m",
      "\u001b[0;32m~/opt/anaconda3/envs/learn-env/lib/python3.8/site-packages/pandas/core/frame.py\u001b[0m in \u001b[0;36m__getitem__\u001b[0;34m(self, key)\u001b[0m\n\u001b[1;32m   2900\u001b[0m             \u001b[0;32mif\u001b[0m \u001b[0mself\u001b[0m\u001b[0;34m.\u001b[0m\u001b[0mcolumns\u001b[0m\u001b[0;34m.\u001b[0m\u001b[0mnlevels\u001b[0m \u001b[0;34m>\u001b[0m \u001b[0;36m1\u001b[0m\u001b[0;34m:\u001b[0m\u001b[0;34m\u001b[0m\u001b[0;34m\u001b[0m\u001b[0m\n\u001b[1;32m   2901\u001b[0m                 \u001b[0;32mreturn\u001b[0m \u001b[0mself\u001b[0m\u001b[0;34m.\u001b[0m\u001b[0m_getitem_multilevel\u001b[0m\u001b[0;34m(\u001b[0m\u001b[0mkey\u001b[0m\u001b[0;34m)\u001b[0m\u001b[0;34m\u001b[0m\u001b[0;34m\u001b[0m\u001b[0m\n\u001b[0;32m-> 2902\u001b[0;31m             \u001b[0mindexer\u001b[0m \u001b[0;34m=\u001b[0m \u001b[0mself\u001b[0m\u001b[0;34m.\u001b[0m\u001b[0mcolumns\u001b[0m\u001b[0;34m.\u001b[0m\u001b[0mget_loc\u001b[0m\u001b[0;34m(\u001b[0m\u001b[0mkey\u001b[0m\u001b[0;34m)\u001b[0m\u001b[0;34m\u001b[0m\u001b[0;34m\u001b[0m\u001b[0m\n\u001b[0m\u001b[1;32m   2903\u001b[0m             \u001b[0;32mif\u001b[0m \u001b[0mis_integer\u001b[0m\u001b[0;34m(\u001b[0m\u001b[0mindexer\u001b[0m\u001b[0;34m)\u001b[0m\u001b[0;34m:\u001b[0m\u001b[0;34m\u001b[0m\u001b[0;34m\u001b[0m\u001b[0m\n\u001b[1;32m   2904\u001b[0m                 \u001b[0mindexer\u001b[0m \u001b[0;34m=\u001b[0m \u001b[0;34m[\u001b[0m\u001b[0mindexer\u001b[0m\u001b[0;34m]\u001b[0m\u001b[0;34m\u001b[0m\u001b[0;34m\u001b[0m\u001b[0m\n",
      "\u001b[0;32m~/opt/anaconda3/envs/learn-env/lib/python3.8/site-packages/pandas/core/indexes/base.py\u001b[0m in \u001b[0;36mget_loc\u001b[0;34m(self, key, method, tolerance)\u001b[0m\n\u001b[1;32m   2895\u001b[0m                 \u001b[0;32mreturn\u001b[0m \u001b[0mself\u001b[0m\u001b[0;34m.\u001b[0m\u001b[0m_engine\u001b[0m\u001b[0;34m.\u001b[0m\u001b[0mget_loc\u001b[0m\u001b[0;34m(\u001b[0m\u001b[0mcasted_key\u001b[0m\u001b[0;34m)\u001b[0m\u001b[0;34m\u001b[0m\u001b[0;34m\u001b[0m\u001b[0m\n\u001b[1;32m   2896\u001b[0m             \u001b[0;32mexcept\u001b[0m \u001b[0mKeyError\u001b[0m \u001b[0;32mas\u001b[0m \u001b[0merr\u001b[0m\u001b[0;34m:\u001b[0m\u001b[0;34m\u001b[0m\u001b[0;34m\u001b[0m\u001b[0m\n\u001b[0;32m-> 2897\u001b[0;31m                 \u001b[0;32mraise\u001b[0m \u001b[0mKeyError\u001b[0m\u001b[0;34m(\u001b[0m\u001b[0mkey\u001b[0m\u001b[0;34m)\u001b[0m \u001b[0;32mfrom\u001b[0m \u001b[0merr\u001b[0m\u001b[0;34m\u001b[0m\u001b[0;34m\u001b[0m\u001b[0m\n\u001b[0m\u001b[1;32m   2898\u001b[0m \u001b[0;34m\u001b[0m\u001b[0m\n\u001b[1;32m   2899\u001b[0m         \u001b[0;32mif\u001b[0m \u001b[0mtolerance\u001b[0m \u001b[0;32mis\u001b[0m \u001b[0;32mnot\u001b[0m \u001b[0;32mNone\u001b[0m\u001b[0;34m:\u001b[0m\u001b[0;34m\u001b[0m\u001b[0;34m\u001b[0m\u001b[0m\n",
      "\u001b[0;31mKeyError\u001b[0m: 'number_of_reviews'"
     ]
    }
   ],
   "source": [
    "#df['number_of_reviews'].value_counts()"
   ]
  },
  {
   "cell_type": "code",
   "execution_count": null,
   "metadata": {
    "ExecuteTime": {
     "end_time": "2022-06-03T13:50:39.181697Z",
     "start_time": "2022-06-03T13:50:35.140Z"
    }
   },
   "outputs": [],
   "source": [
    "#df['5+_reviews'] = df['number_of_reviews'] >= 5.00"
   ]
  },
  {
   "cell_type": "code",
   "execution_count": null,
   "metadata": {
    "ExecuteTime": {
     "end_time": "2022-06-03T13:50:39.182859Z",
     "start_time": "2022-06-03T13:50:35.142Z"
    }
   },
   "outputs": [],
   "source": [
    "df"
   ]
  },
  {
   "cell_type": "code",
   "execution_count": 36,
   "metadata": {
    "ExecuteTime": {
     "end_time": "2022-06-03T13:51:15.869264Z",
     "start_time": "2022-06-03T13:51:15.840683Z"
    }
   },
   "outputs": [],
   "source": [
    "df['stripped_rating'] = df['review_scores_rating'].astype(str).str[:1]"
   ]
  },
  {
   "cell_type": "code",
   "execution_count": 37,
   "metadata": {
    "ExecuteTime": {
     "end_time": "2022-06-03T13:51:17.150206Z",
     "start_time": "2022-06-03T13:51:17.140059Z"
    }
   },
   "outputs": [
    {
     "data": {
      "text/plain": [
       "0        5\n",
       "1        4\n",
       "2        4\n",
       "3        4\n",
       "4        5\n",
       "        ..\n",
       "10929    4\n",
       "10930    4\n",
       "10931    4\n",
       "10932    5\n",
       "10933    4\n",
       "Name: stripped_rating, Length: 8385, dtype: object"
      ]
     },
     "execution_count": 37,
     "metadata": {},
     "output_type": "execute_result"
    }
   ],
   "source": [
    "df['stripped_rating']"
   ]
  },
  {
   "cell_type": "code",
   "execution_count": 38,
   "metadata": {
    "ExecuteTime": {
     "end_time": "2022-06-03T13:51:20.325735Z",
     "start_time": "2022-06-03T13:51:20.306504Z"
    }
   },
   "outputs": [],
   "source": [
    "df = df.sort_values('stripped_rating', ascending=False)"
   ]
  },
  {
   "cell_type": "code",
   "execution_count": 39,
   "metadata": {
    "ExecuteTime": {
     "end_time": "2022-06-03T13:51:21.202868Z",
     "start_time": "2022-06-03T13:51:21.190411Z"
    }
   },
   "outputs": [
    {
     "name": "stdout",
     "output_type": "stream",
     "text": [
      "<class 'pandas.core.frame.DataFrame'>\n",
      "Int64Index: 8385 entries, 0 to 9846\n",
      "Data columns (total 32 columns):\n",
      " #   Column                       Non-Null Count  Dtype  \n",
      "---  ------                       --------------  -----  \n",
      " 0   price                        8385 non-null   float64\n",
      " 1   review_scores_rating         8385 non-null   float64\n",
      " 2   review_scores_accuracy       8385 non-null   float64\n",
      " 3   review_scores_cleanliness    8385 non-null   float64\n",
      " 4   review_scores_checkin        8385 non-null   float64\n",
      " 5   review_scores_communication  8385 non-null   float64\n",
      " 6   review_scores_location       8385 non-null   float64\n",
      " 7   review_scores_value          8385 non-null   float64\n",
      " 8   accommodates                 8385 non-null   int64  \n",
      " 9   bedrooms                     8385 non-null   float64\n",
      " 10  beds                         8385 non-null   float64\n",
      " 11  instant_bookable             8385 non-null   object \n",
      " 12  property_type                8385 non-null   object \n",
      " 13  room_type                    8385 non-null   object \n",
      " 14  amenities                    8385 non-null   object \n",
      " 15  capacity_0-2                 8385 non-null   bool   \n",
      " 16  capacity_3-4                 8385 non-null   bool   \n",
      " 17  capacity_5-9                 8385 non-null   bool   \n",
      " 18  capacity_10+                 8385 non-null   bool   \n",
      " 19  bedrooms_1                   8385 non-null   bool   \n",
      " 20  bedrooms_2                   8385 non-null   bool   \n",
      " 21  bedrooms_3                   8385 non-null   bool   \n",
      " 22  bedrooms_4+                  8385 non-null   bool   \n",
      " 23  rating_5                     8385 non-null   bool   \n",
      " 24  accuracy_5                   8385 non-null   bool   \n",
      " 25  cleanliness_5                8385 non-null   bool   \n",
      " 26  checkin_5                    8385 non-null   bool   \n",
      " 27  location_5                   8385 non-null   bool   \n",
      " 28  value_5                      8385 non-null   bool   \n",
      " 29  price_high                   8385 non-null   bool   \n",
      " 30  price_low                    8385 non-null   bool   \n",
      " 31  stripped_rating              8385 non-null   object \n",
      "dtypes: bool(16), float64(10), int64(1), object(5)\n",
      "memory usage: 1.2+ MB\n"
     ]
    }
   ],
   "source": [
    "df.info()"
   ]
  },
  {
   "cell_type": "markdown",
   "metadata": {},
   "source": [
    "## Attempting visualization"
   ]
  },
  {
   "cell_type": "code",
   "execution_count": 40,
   "metadata": {
    "ExecuteTime": {
     "end_time": "2022-06-03T13:51:28.532038Z",
     "start_time": "2022-06-03T13:51:28.215795Z"
    }
   },
   "outputs": [
    {
     "data": {
      "image/png": "[encoded data removed]",
      "text/plain": [
       "<Figure size 1440x720 with 1 Axes>"
      ]
     },
     "metadata": {},
     "output_type": "display_data"
    }
   ],
   "source": [
    "fig, ax = plt.subplots(figsize=(20, 10))\n",
    "\n",
    "p = sns.lineplot(data=df, x='stripped_rating', y='price', color='blue');\n",
    "\n",
    "\n",
    "#p.set_xlabel(\"Date\", fontsize = 30)\n",
    "#p.set_ylabel(\"Average Home Prices (Median)\", fontsize = 30)\n",
    "\n",
    "#y1 = p.axvline('2008-01', color='red') #housing market crash begins\n",
    "#y2 = p.axvline('2012-01', color='red') #housing market crash ends\n",
    "\n",
    "plt.xticks(fontsize=20)\n",
    "plt.yticks(fontsize=20)\n",
    "\n",
    "fmt = '${x:,.0f}'\n",
    "tick = mtick.StrMethodFormatter(fmt)\n",
    "ax.yaxis.set_major_formatter(tick) \n",
    "\n",
    "#p.set_title(\"US Median Home Prices\", fontsize = 55)\n",
    "plt.figsize=(50,25)\n",
    "#plt.savefig('images/us_median_plot_1')\n",
    "\n",
    "plt.tight_layout()\n",
    "\n",
    "plt.show();"
   ]
  },
  {
   "cell_type": "markdown",
   "metadata": {},
   "source": [
    "### Analysis: \n",
    "This is a very basic plot, but seems to show that there is a \"sweet spot\" for pricing that is around $300."
   ]
  },
  {
   "cell_type": "code",
   "execution_count": 41,
   "metadata": {
    "ExecuteTime": {
     "end_time": "2022-06-03T13:51:31.847607Z",
     "start_time": "2022-06-03T13:51:31.810781Z"
    }
   },
   "outputs": [
    {
     "ename": "KeyError",
     "evalue": "'5+_reviews'",
     "output_type": "error",
     "traceback": [
      "\u001b[0;31m---------------------------------------------------------------------------\u001b[0m",
      "\u001b[0;31mKeyError\u001b[0m                                  Traceback (most recent call last)",
      "\u001b[0;32m~/opt/anaconda3/envs/learn-env/lib/python3.8/site-packages/pandas/core/indexes/base.py\u001b[0m in \u001b[0;36mget_loc\u001b[0;34m(self, key, method, tolerance)\u001b[0m\n\u001b[1;32m   2894\u001b[0m             \u001b[0;32mtry\u001b[0m\u001b[0;34m:\u001b[0m\u001b[0;34m\u001b[0m\u001b[0;34m\u001b[0m\u001b[0m\n\u001b[0;32m-> 2895\u001b[0;31m                 \u001b[0;32mreturn\u001b[0m \u001b[0mself\u001b[0m\u001b[0;34m.\u001b[0m\u001b[0m_engine\u001b[0m\u001b[0;34m.\u001b[0m\u001b[0mget_loc\u001b[0m\u001b[0;34m(\u001b[0m\u001b[0mcasted_key\u001b[0m\u001b[0;34m)\u001b[0m\u001b[0;34m\u001b[0m\u001b[0;34m\u001b[0m\u001b[0m\n\u001b[0m\u001b[1;32m   2896\u001b[0m             \u001b[0;32mexcept\u001b[0m \u001b[0mKeyError\u001b[0m \u001b[0;32mas\u001b[0m \u001b[0merr\u001b[0m\u001b[0;34m:\u001b[0m\u001b[0;34m\u001b[0m\u001b[0;34m\u001b[0m\u001b[0m\n",
      "\u001b[0;32mpandas/_libs/index.pyx\u001b[0m in \u001b[0;36mpandas._libs.index.IndexEngine.get_loc\u001b[0;34m()\u001b[0m\n",
      "\u001b[0;32mpandas/_libs/index.pyx\u001b[0m in \u001b[0;36mpandas._libs.index.IndexEngine.get_loc\u001b[0;34m()\u001b[0m\n",
      "\u001b[0;32mpandas/_libs/hashtable_class_helper.pxi\u001b[0m in \u001b[0;36mpandas._libs.hashtable.PyObjectHashTable.get_item\u001b[0;34m()\u001b[0m\n",
      "\u001b[0;32mpandas/_libs/hashtable_class_helper.pxi\u001b[0m in \u001b[0;36mpandas._libs.hashtable.PyObjectHashTable.get_item\u001b[0;34m()\u001b[0m\n",
      "\u001b[0;31mKeyError\u001b[0m: '5+_reviews'",
      "\nThe above exception was the direct cause of the following exception:\n",
      "\u001b[0;31mKeyError\u001b[0m                                  Traceback (most recent call last)",
      "\u001b[0;32m<ipython-input-41-6a243ad24b53>\u001b[0m in \u001b[0;36m<module>\u001b[0;34m\u001b[0m\n\u001b[0;32m----> 1\u001b[0;31m \u001b[0mnew_df\u001b[0m \u001b[0;34m=\u001b[0m \u001b[0mdf\u001b[0m\u001b[0;34m[\u001b[0m\u001b[0mdf\u001b[0m\u001b[0;34m[\u001b[0m\u001b[0;34m'5+_reviews'\u001b[0m\u001b[0;34m]\u001b[0m \u001b[0;34m==\u001b[0m \u001b[0;32mTrue\u001b[0m\u001b[0;34m]\u001b[0m\u001b[0;34m\u001b[0m\u001b[0;34m\u001b[0m\u001b[0m\n\u001b[0m",
      "\u001b[0;32m~/opt/anaconda3/envs/learn-env/lib/python3.8/site-packages/pandas/core/frame.py\u001b[0m in \u001b[0;36m__getitem__\u001b[0;34m(self, key)\u001b[0m\n\u001b[1;32m   2900\u001b[0m             \u001b[0;32mif\u001b[0m \u001b[0mself\u001b[0m\u001b[0;34m.\u001b[0m\u001b[0mcolumns\u001b[0m\u001b[0;34m.\u001b[0m\u001b[0mnlevels\u001b[0m \u001b[0;34m>\u001b[0m \u001b[0;36m1\u001b[0m\u001b[0;34m:\u001b[0m\u001b[0;34m\u001b[0m\u001b[0;34m\u001b[0m\u001b[0m\n\u001b[1;32m   2901\u001b[0m                 \u001b[0;32mreturn\u001b[0m \u001b[0mself\u001b[0m\u001b[0;34m.\u001b[0m\u001b[0m_getitem_multilevel\u001b[0m\u001b[0;34m(\u001b[0m\u001b[0mkey\u001b[0m\u001b[0;34m)\u001b[0m\u001b[0;34m\u001b[0m\u001b[0;34m\u001b[0m\u001b[0m\n\u001b[0;32m-> 2902\u001b[0;31m             \u001b[0mindexer\u001b[0m \u001b[0;34m=\u001b[0m \u001b[0mself\u001b[0m\u001b[0;34m.\u001b[0m\u001b[0mcolumns\u001b[0m\u001b[0;34m.\u001b[0m\u001b[0mget_loc\u001b[0m\u001b[0;34m(\u001b[0m\u001b[0mkey\u001b[0m\u001b[0;34m)\u001b[0m\u001b[0;34m\u001b[0m\u001b[0;34m\u001b[0m\u001b[0m\n\u001b[0m\u001b[1;32m   2903\u001b[0m             \u001b[0;32mif\u001b[0m \u001b[0mis_integer\u001b[0m\u001b[0;34m(\u001b[0m\u001b[0mindexer\u001b[0m\u001b[0;34m)\u001b[0m\u001b[0;34m:\u001b[0m\u001b[0;34m\u001b[0m\u001b[0;34m\u001b[0m\u001b[0m\n\u001b[1;32m   2904\u001b[0m                 \u001b[0mindexer\u001b[0m \u001b[0;34m=\u001b[0m \u001b[0;34m[\u001b[0m\u001b[0mindexer\u001b[0m\u001b[0;34m]\u001b[0m\u001b[0;34m\u001b[0m\u001b[0;34m\u001b[0m\u001b[0m\n",
      "\u001b[0;32m~/opt/anaconda3/envs/learn-env/lib/python3.8/site-packages/pandas/core/indexes/base.py\u001b[0m in \u001b[0;36mget_loc\u001b[0;34m(self, key, method, tolerance)\u001b[0m\n\u001b[1;32m   2895\u001b[0m                 \u001b[0;32mreturn\u001b[0m \u001b[0mself\u001b[0m\u001b[0;34m.\u001b[0m\u001b[0m_engine\u001b[0m\u001b[0;34m.\u001b[0m\u001b[0mget_loc\u001b[0m\u001b[0;34m(\u001b[0m\u001b[0mcasted_key\u001b[0m\u001b[0;34m)\u001b[0m\u001b[0;34m\u001b[0m\u001b[0;34m\u001b[0m\u001b[0m\n\u001b[1;32m   2896\u001b[0m             \u001b[0;32mexcept\u001b[0m \u001b[0mKeyError\u001b[0m \u001b[0;32mas\u001b[0m \u001b[0merr\u001b[0m\u001b[0;34m:\u001b[0m\u001b[0;34m\u001b[0m\u001b[0;34m\u001b[0m\u001b[0m\n\u001b[0;32m-> 2897\u001b[0;31m                 \u001b[0;32mraise\u001b[0m \u001b[0mKeyError\u001b[0m\u001b[0;34m(\u001b[0m\u001b[0mkey\u001b[0m\u001b[0;34m)\u001b[0m \u001b[0;32mfrom\u001b[0m \u001b[0merr\u001b[0m\u001b[0;34m\u001b[0m\u001b[0;34m\u001b[0m\u001b[0m\n\u001b[0m\u001b[1;32m   2898\u001b[0m \u001b[0;34m\u001b[0m\u001b[0m\n\u001b[1;32m   2899\u001b[0m         \u001b[0;32mif\u001b[0m \u001b[0mtolerance\u001b[0m \u001b[0;32mis\u001b[0m \u001b[0;32mnot\u001b[0m \u001b[0;32mNone\u001b[0m\u001b[0;34m:\u001b[0m\u001b[0;34m\u001b[0m\u001b[0;34m\u001b[0m\u001b[0m\n",
      "\u001b[0;31mKeyError\u001b[0m: '5+_reviews'"
     ]
    }
   ],
   "source": [
    "#new_df = df[df['5+_reviews'] == True]"
   ]
  },
  {
   "cell_type": "code",
   "execution_count": null,
   "metadata": {
    "ExecuteTime": {
     "end_time": "2022-06-03T13:50:39.187865Z",
     "start_time": "2022-06-03T13:50:35.157Z"
    }
   },
   "outputs": [],
   "source": [
    "#new_df['5+_reviews'].value_counts()"
   ]
  },
  {
   "cell_type": "code",
   "execution_count": null,
   "metadata": {},
   "outputs": [],
   "source": []
  },
  {
   "cell_type": "code",
   "execution_count": null,
   "metadata": {
    "ExecuteTime": {
     "end_time": "2022-06-03T13:50:39.188436Z",
     "start_time": "2022-06-03T13:50:35.160Z"
    }
   },
   "outputs": [],
   "source": [
    "fig, ax = plt.subplots(figsize=(20, 10))\n",
    "\n",
    "p = sns.lineplot(data=new_df, x='stripped_rating', y='price', color='blue');\n",
    "\n",
    "\n",
    "#p.set_xlabel(\"Date\", fontsize = 30)\n",
    "#p.set_ylabel(\"Average Home Prices (Median)\", fontsize = 30)\n",
    "\n",
    "#y1 = p.axvline('2008-01', color='red') #housing market crash begins\n",
    "#y2 = p.axvline('2012-01', color='red') #housing market crash ends\n",
    "\n",
    "plt.xticks(fontsize=20)\n",
    "plt.yticks(fontsize=20)\n",
    "\n",
    "fmt = '${x:,.0f}'\n",
    "tick = mtick.StrMethodFormatter(fmt)\n",
    "ax.yaxis.set_major_formatter(tick) \n",
    "\n",
    "#p.set_title(\"US Median Home Prices\", fontsize = 55)\n",
    "plt.figsize=(50,25)\n",
    "#plt.savefig('images/us_median_plot_1')\n",
    "\n",
    "plt.tight_layout()\n",
    "\n",
    "plt.show();"
   ]
  },
  {
   "cell_type": "code",
   "execution_count": 42,
   "metadata": {
    "ExecuteTime": {
     "end_time": "2022-06-03T13:51:49.526332Z",
     "start_time": "2022-06-03T13:51:49.516086Z"
    }
   },
   "outputs": [],
   "source": [
    "scatter_df = df[df['review_scores_rating'] >= 4.0]"
   ]
  },
  {
   "cell_type": "code",
   "execution_count": 43,
   "metadata": {
    "ExecuteTime": {
     "end_time": "2022-06-03T13:51:50.712357Z",
     "start_time": "2022-06-03T13:51:50.704181Z"
    }
   },
   "outputs": [
    {
     "data": {
      "text/plain": [
       "294.45981924767955"
      ]
     },
     "execution_count": 43,
     "metadata": {},
     "output_type": "execute_result"
    }
   ],
   "source": [
    "scatter_mean = scatter_df['price'].mean()\n",
    "scatter_mean"
   ]
  },
  {
   "cell_type": "code",
   "execution_count": 44,
   "metadata": {
    "ExecuteTime": {
     "end_time": "2022-06-03T13:51:53.632098Z",
     "start_time": "2022-06-03T13:51:52.355703Z"
    }
   },
   "outputs": [
    {
     "data": {
      "image/png": "[encoded data removed]",
      "text/plain": [
       "<Figure size 1440x720 with 1 Axes>"
      ]
     },
     "metadata": {},
     "output_type": "display_data"
    }
   ],
   "source": [
    "fig, ax = plt.subplots(figsize=(20, 10))\n",
    "\n",
    "p = sns.lineplot(data=scatter_df, x='review_scores_rating', y='price', color='blue');\n",
    "\n",
    "\n",
    "#p.set_xlabel(\"Date\", fontsize = 30)\n",
    "#p.set_ylabel(\"Average Home Prices (Median)\", fontsize = 30)\n",
    "\n",
    "y1 = p.axhline(scatter_mean, color='red') \n",
    "#y2 = p.axvline('2012-01', color='red') #housing market crash ends\n",
    "\n",
    "plt.xticks(fontsize=20)\n",
    "plt.yticks(fontsize=20)\n",
    "\n",
    "fmt = '${x:,.0f}'\n",
    "tick = mtick.StrMethodFormatter(fmt)\n",
    "ax.yaxis.set_major_formatter(tick) \n",
    "\n",
    "#p.set_title(\"US Median Home Prices\", fontsize = 55)\n",
    "plt.figsize=(50,25)\n",
    "#plt.savefig('images/us_median_plot_1')\n",
    "\n",
    "plt.tight_layout()\n",
    "\n",
    "plt.show();"
   ]
  },
  {
   "cell_type": "code",
   "execution_count": 45,
   "metadata": {
    "ExecuteTime": {
     "end_time": "2022-06-03T13:51:57.061165Z",
     "start_time": "2022-06-03T13:51:57.029996Z"
    }
   },
   "outputs": [
    {
     "data": {
      "text/html": [
       "<div>\n",
       "<style scoped>\n",
       "    .dataframe tbody tr th:only-of-type {\n",
       "        vertical-align: middle;\n",
       "    }\n",
       "\n",
       "    .dataframe tbody tr th {\n",
       "        vertical-align: top;\n",
       "    }\n",
       "\n",
       "    .dataframe thead th {\n",
       "        text-align: right;\n",
       "    }\n",
       "</style>\n",
       "<table border=\"1\" class=\"dataframe\">\n",
       "  <thead>\n",
       "    <tr style=\"text-align: right;\">\n",
       "      <th></th>\n",
       "      <th>price</th>\n",
       "      <th>review_scores_rating</th>\n",
       "      <th>review_scores_accuracy</th>\n",
       "      <th>review_scores_cleanliness</th>\n",
       "      <th>review_scores_checkin</th>\n",
       "      <th>review_scores_communication</th>\n",
       "      <th>review_scores_location</th>\n",
       "      <th>review_scores_value</th>\n",
       "      <th>accommodates</th>\n",
       "      <th>bedrooms</th>\n",
       "      <th>...</th>\n",
       "      <th>bedrooms_4+</th>\n",
       "      <th>rating_5</th>\n",
       "      <th>accuracy_5</th>\n",
       "      <th>cleanliness_5</th>\n",
       "      <th>checkin_5</th>\n",
       "      <th>location_5</th>\n",
       "      <th>value_5</th>\n",
       "      <th>price_high</th>\n",
       "      <th>price_low</th>\n",
       "      <th>stripped_rating</th>\n",
       "    </tr>\n",
       "  </thead>\n",
       "  <tbody>\n",
       "    <tr>\n",
       "      <th>0</th>\n",
       "      <td>60.0</td>\n",
       "      <td>5.0</td>\n",
       "      <td>5.0</td>\n",
       "      <td>5.0</td>\n",
       "      <td>5.0</td>\n",
       "      <td>5.0</td>\n",
       "      <td>4.0</td>\n",
       "      <td>5.0</td>\n",
       "      <td>2</td>\n",
       "      <td>1.0</td>\n",
       "      <td>...</td>\n",
       "      <td>False</td>\n",
       "      <td>True</td>\n",
       "      <td>True</td>\n",
       "      <td>True</td>\n",
       "      <td>True</td>\n",
       "      <td>False</td>\n",
       "      <td>True</td>\n",
       "      <td>False</td>\n",
       "      <td>True</td>\n",
       "      <td>5</td>\n",
       "    </tr>\n",
       "  </tbody>\n",
       "</table>\n",
       "<p>1 rows × 32 columns</p>\n",
       "</div>"
      ],
      "text/plain": [
       "   price  review_scores_rating  review_scores_accuracy  \\\n",
       "0   60.0                   5.0                     5.0   \n",
       "\n",
       "   review_scores_cleanliness  review_scores_checkin  \\\n",
       "0                        5.0                    5.0   \n",
       "\n",
       "   review_scores_communication  review_scores_location  review_scores_value  \\\n",
       "0                          5.0                     4.0                  5.0   \n",
       "\n",
       "   accommodates  bedrooms  ...  bedrooms_4+ rating_5 accuracy_5 cleanliness_5  \\\n",
       "0             2       1.0  ...        False     True       True          True   \n",
       "\n",
       "  checkin_5  location_5  value_5  price_high  price_low  stripped_rating  \n",
       "0      True       False     True       False       True                5  \n",
       "\n",
       "[1 rows x 32 columns]"
      ]
     },
     "execution_count": 45,
     "metadata": {},
     "output_type": "execute_result"
    }
   ],
   "source": [
    "df.head(1)"
   ]
  },
  {
   "cell_type": "code",
   "execution_count": 46,
   "metadata": {
    "ExecuteTime": {
     "end_time": "2022-06-03T13:51:57.943683Z",
     "start_time": "2022-06-03T13:51:57.931073Z"
    }
   },
   "outputs": [
    {
     "data": {
      "text/html": [
       "<div>\n",
       "<style scoped>\n",
       "    .dataframe tbody tr th:only-of-type {\n",
       "        vertical-align: middle;\n",
       "    }\n",
       "\n",
       "    .dataframe tbody tr th {\n",
       "        vertical-align: top;\n",
       "    }\n",
       "\n",
       "    .dataframe thead th {\n",
       "        text-align: right;\n",
       "    }\n",
       "</style>\n",
       "<table border=\"1\" class=\"dataframe\">\n",
       "  <thead>\n",
       "    <tr style=\"text-align: right;\">\n",
       "      <th></th>\n",
       "      <th>price</th>\n",
       "      <th>review_scores_rating</th>\n",
       "      <th>review_scores_accuracy</th>\n",
       "      <th>review_scores_cleanliness</th>\n",
       "      <th>review_scores_checkin</th>\n",
       "      <th>review_scores_communication</th>\n",
       "      <th>review_scores_location</th>\n",
       "      <th>review_scores_value</th>\n",
       "      <th>accommodates</th>\n",
       "      <th>bedrooms</th>\n",
       "      <th>...</th>\n",
       "      <th>bedrooms_4+</th>\n",
       "      <th>rating_5</th>\n",
       "      <th>accuracy_5</th>\n",
       "      <th>cleanliness_5</th>\n",
       "      <th>checkin_5</th>\n",
       "      <th>location_5</th>\n",
       "      <th>value_5</th>\n",
       "      <th>price_high</th>\n",
       "      <th>price_low</th>\n",
       "      <th>stripped_rating</th>\n",
       "    </tr>\n",
       "  </thead>\n",
       "  <tbody>\n",
       "    <tr>\n",
       "      <th>0</th>\n",
       "      <td>60.0</td>\n",
       "      <td>5.0</td>\n",
       "      <td>5.0</td>\n",
       "      <td>5.0</td>\n",
       "      <td>5.00</td>\n",
       "      <td>5.00</td>\n",
       "      <td>4.0</td>\n",
       "      <td>5.00</td>\n",
       "      <td>2</td>\n",
       "      <td>1.0</td>\n",
       "      <td>...</td>\n",
       "      <td>False</td>\n",
       "      <td>True</td>\n",
       "      <td>True</td>\n",
       "      <td>True</td>\n",
       "      <td>True</td>\n",
       "      <td>False</td>\n",
       "      <td>True</td>\n",
       "      <td>False</td>\n",
       "      <td>True</td>\n",
       "      <td>5</td>\n",
       "    </tr>\n",
       "    <tr>\n",
       "      <th>740</th>\n",
       "      <td>1185.0</td>\n",
       "      <td>5.0</td>\n",
       "      <td>5.0</td>\n",
       "      <td>5.0</td>\n",
       "      <td>4.40</td>\n",
       "      <td>3.80</td>\n",
       "      <td>5.0</td>\n",
       "      <td>5.00</td>\n",
       "      <td>12</td>\n",
       "      <td>3.0</td>\n",
       "      <td>...</td>\n",
       "      <td>False</td>\n",
       "      <td>True</td>\n",
       "      <td>True</td>\n",
       "      <td>True</td>\n",
       "      <td>False</td>\n",
       "      <td>True</td>\n",
       "      <td>True</td>\n",
       "      <td>True</td>\n",
       "      <td>False</td>\n",
       "      <td>5</td>\n",
       "    </tr>\n",
       "    <tr>\n",
       "      <th>9722</th>\n",
       "      <td>379.0</td>\n",
       "      <td>5.0</td>\n",
       "      <td>5.0</td>\n",
       "      <td>5.0</td>\n",
       "      <td>5.00</td>\n",
       "      <td>5.00</td>\n",
       "      <td>5.0</td>\n",
       "      <td>5.00</td>\n",
       "      <td>8</td>\n",
       "      <td>3.0</td>\n",
       "      <td>...</td>\n",
       "      <td>False</td>\n",
       "      <td>True</td>\n",
       "      <td>True</td>\n",
       "      <td>True</td>\n",
       "      <td>True</td>\n",
       "      <td>True</td>\n",
       "      <td>True</td>\n",
       "      <td>True</td>\n",
       "      <td>False</td>\n",
       "      <td>5</td>\n",
       "    </tr>\n",
       "    <tr>\n",
       "      <th>9718</th>\n",
       "      <td>55.0</td>\n",
       "      <td>5.0</td>\n",
       "      <td>5.0</td>\n",
       "      <td>4.0</td>\n",
       "      <td>5.00</td>\n",
       "      <td>5.00</td>\n",
       "      <td>4.0</td>\n",
       "      <td>4.00</td>\n",
       "      <td>1</td>\n",
       "      <td>1.0</td>\n",
       "      <td>...</td>\n",
       "      <td>False</td>\n",
       "      <td>True</td>\n",
       "      <td>True</td>\n",
       "      <td>False</td>\n",
       "      <td>True</td>\n",
       "      <td>False</td>\n",
       "      <td>False</td>\n",
       "      <td>False</td>\n",
       "      <td>True</td>\n",
       "      <td>5</td>\n",
       "    </tr>\n",
       "    <tr>\n",
       "      <th>4819</th>\n",
       "      <td>519.0</td>\n",
       "      <td>5.0</td>\n",
       "      <td>5.0</td>\n",
       "      <td>5.0</td>\n",
       "      <td>4.93</td>\n",
       "      <td>4.93</td>\n",
       "      <td>4.6</td>\n",
       "      <td>4.97</td>\n",
       "      <td>7</td>\n",
       "      <td>4.0</td>\n",
       "      <td>...</td>\n",
       "      <td>True</td>\n",
       "      <td>True</td>\n",
       "      <td>True</td>\n",
       "      <td>True</td>\n",
       "      <td>False</td>\n",
       "      <td>False</td>\n",
       "      <td>False</td>\n",
       "      <td>True</td>\n",
       "      <td>False</td>\n",
       "      <td>5</td>\n",
       "    </tr>\n",
       "  </tbody>\n",
       "</table>\n",
       "<p>5 rows × 32 columns</p>\n",
       "</div>"
      ],
      "text/plain": [
       "       price  review_scores_rating  review_scores_accuracy  \\\n",
       "0       60.0                   5.0                     5.0   \n",
       "740   1185.0                   5.0                     5.0   \n",
       "9722   379.0                   5.0                     5.0   \n",
       "9718    55.0                   5.0                     5.0   \n",
       "4819   519.0                   5.0                     5.0   \n",
       "\n",
       "      review_scores_cleanliness  review_scores_checkin  \\\n",
       "0                           5.0                   5.00   \n",
       "740                         5.0                   4.40   \n",
       "9722                        5.0                   5.00   \n",
       "9718                        4.0                   5.00   \n",
       "4819                        5.0                   4.93   \n",
       "\n",
       "      review_scores_communication  review_scores_location  \\\n",
       "0                            5.00                     4.0   \n",
       "740                          3.80                     5.0   \n",
       "9722                         5.00                     5.0   \n",
       "9718                         5.00                     4.0   \n",
       "4819                         4.93                     4.6   \n",
       "\n",
       "      review_scores_value  accommodates  bedrooms  ...  bedrooms_4+ rating_5  \\\n",
       "0                    5.00             2       1.0  ...        False     True   \n",
       "740                  5.00            12       3.0  ...        False     True   \n",
       "9722                 5.00             8       3.0  ...        False     True   \n",
       "9718                 4.00             1       1.0  ...        False     True   \n",
       "4819                 4.97             7       4.0  ...         True     True   \n",
       "\n",
       "     accuracy_5 cleanliness_5 checkin_5  location_5  value_5  price_high  \\\n",
       "0          True          True      True       False     True       False   \n",
       "740        True          True     False        True     True        True   \n",
       "9722       True          True      True        True     True        True   \n",
       "9718       True         False      True       False    False       False   \n",
       "4819       True          True     False       False    False        True   \n",
       "\n",
       "      price_low  stripped_rating  \n",
       "0          True                5  \n",
       "740       False                5  \n",
       "9722      False                5  \n",
       "9718       True                5  \n",
       "4819      False                5  \n",
       "\n",
       "[5 rows x 32 columns]"
      ]
     },
     "execution_count": 46,
     "metadata": {},
     "output_type": "execute_result"
    }
   ],
   "source": [
    "df.sort_values('rating_5', ascending=False).head()"
   ]
  },
  {
   "cell_type": "code",
   "execution_count": null,
   "metadata": {
    "ExecuteTime": {
     "end_time": "2022-06-03T13:50:39.192361Z",
     "start_time": "2022-06-03T13:50:35.172Z"
    }
   },
   "outputs": [],
   "source": [
    "df.info()"
   ]
  },
  {
   "cell_type": "code",
   "execution_count": null,
   "metadata": {},
   "outputs": [],
   "source": []
  },
  {
   "cell_type": "markdown",
   "metadata": {},
   "source": [
    "## Getting Data Ready for Modelling"
   ]
  },
  {
   "cell_type": "code",
   "execution_count": 47,
   "metadata": {
    "ExecuteTime": {
     "end_time": "2022-06-03T13:52:02.404987Z",
     "start_time": "2022-06-03T13:52:02.377698Z"
    }
   },
   "outputs": [
    {
     "data": {
      "text/html": [
       "<div>\n",
       "<style scoped>\n",
       "    .dataframe tbody tr th:only-of-type {\n",
       "        vertical-align: middle;\n",
       "    }\n",
       "\n",
       "    .dataframe tbody tr th {\n",
       "        vertical-align: top;\n",
       "    }\n",
       "\n",
       "    .dataframe thead th {\n",
       "        text-align: right;\n",
       "    }\n",
       "</style>\n",
       "<table border=\"1\" class=\"dataframe\">\n",
       "  <thead>\n",
       "    <tr style=\"text-align: right;\">\n",
       "      <th></th>\n",
       "      <th>price</th>\n",
       "      <th>review_scores_rating</th>\n",
       "      <th>review_scores_accuracy</th>\n",
       "      <th>review_scores_cleanliness</th>\n",
       "      <th>review_scores_checkin</th>\n",
       "      <th>review_scores_communication</th>\n",
       "      <th>review_scores_location</th>\n",
       "      <th>review_scores_value</th>\n",
       "      <th>accommodates</th>\n",
       "      <th>bedrooms</th>\n",
       "      <th>beds</th>\n",
       "    </tr>\n",
       "  </thead>\n",
       "  <tbody>\n",
       "    <tr>\n",
       "      <th>0</th>\n",
       "      <td>60.0</td>\n",
       "      <td>5.0</td>\n",
       "      <td>5.0</td>\n",
       "      <td>5.00</td>\n",
       "      <td>5.0</td>\n",
       "      <td>5.0</td>\n",
       "      <td>4.00</td>\n",
       "      <td>5.00</td>\n",
       "      <td>2</td>\n",
       "      <td>1.0</td>\n",
       "      <td>1.0</td>\n",
       "    </tr>\n",
       "    <tr>\n",
       "      <th>1900</th>\n",
       "      <td>500.0</td>\n",
       "      <td>5.0</td>\n",
       "      <td>5.0</td>\n",
       "      <td>4.91</td>\n",
       "      <td>5.0</td>\n",
       "      <td>5.0</td>\n",
       "      <td>5.00</td>\n",
       "      <td>4.73</td>\n",
       "      <td>6</td>\n",
       "      <td>3.0</td>\n",
       "      <td>3.0</td>\n",
       "    </tr>\n",
       "    <tr>\n",
       "      <th>1886</th>\n",
       "      <td>386.0</td>\n",
       "      <td>5.0</td>\n",
       "      <td>5.0</td>\n",
       "      <td>5.00</td>\n",
       "      <td>5.0</td>\n",
       "      <td>5.0</td>\n",
       "      <td>5.00</td>\n",
       "      <td>5.00</td>\n",
       "      <td>5</td>\n",
       "      <td>2.0</td>\n",
       "      <td>3.0</td>\n",
       "    </tr>\n",
       "    <tr>\n",
       "      <th>8315</th>\n",
       "      <td>152.0</td>\n",
       "      <td>5.0</td>\n",
       "      <td>5.0</td>\n",
       "      <td>5.00</td>\n",
       "      <td>5.0</td>\n",
       "      <td>5.0</td>\n",
       "      <td>5.00</td>\n",
       "      <td>5.00</td>\n",
       "      <td>2</td>\n",
       "      <td>1.0</td>\n",
       "      <td>2.0</td>\n",
       "    </tr>\n",
       "    <tr>\n",
       "      <th>8311</th>\n",
       "      <td>552.0</td>\n",
       "      <td>5.0</td>\n",
       "      <td>5.0</td>\n",
       "      <td>5.00</td>\n",
       "      <td>5.0</td>\n",
       "      <td>5.0</td>\n",
       "      <td>4.83</td>\n",
       "      <td>4.83</td>\n",
       "      <td>6</td>\n",
       "      <td>3.0</td>\n",
       "      <td>3.0</td>\n",
       "    </tr>\n",
       "  </tbody>\n",
       "</table>\n",
       "</div>"
      ],
      "text/plain": [
       "      price  review_scores_rating  review_scores_accuracy  \\\n",
       "0      60.0                   5.0                     5.0   \n",
       "1900  500.0                   5.0                     5.0   \n",
       "1886  386.0                   5.0                     5.0   \n",
       "8315  152.0                   5.0                     5.0   \n",
       "8311  552.0                   5.0                     5.0   \n",
       "\n",
       "      review_scores_cleanliness  review_scores_checkin  \\\n",
       "0                          5.00                    5.0   \n",
       "1900                       4.91                    5.0   \n",
       "1886                       5.00                    5.0   \n",
       "8315                       5.00                    5.0   \n",
       "8311                       5.00                    5.0   \n",
       "\n",
       "      review_scores_communication  review_scores_location  \\\n",
       "0                             5.0                    4.00   \n",
       "1900                          5.0                    5.00   \n",
       "1886                          5.0                    5.00   \n",
       "8315                          5.0                    5.00   \n",
       "8311                          5.0                    4.83   \n",
       "\n",
       "      review_scores_value  accommodates  bedrooms  beds  \n",
       "0                    5.00             2       1.0   1.0  \n",
       "1900                 4.73             6       3.0   3.0  \n",
       "1886                 5.00             5       2.0   3.0  \n",
       "8315                 5.00             2       1.0   2.0  \n",
       "8311                 4.83             6       3.0   3.0  "
      ]
     },
     "execution_count": 47,
     "metadata": {},
     "output_type": "execute_result"
    }
   ],
   "source": [
    "cont_features = [col for col in df.columns if df[col].dtype in [np.float64, np.int64]]\n",
    "feature_df = df.loc[:, cont_features]\n",
    "feature_df.head()"
   ]
  },
  {
   "cell_type": "code",
   "execution_count": 48,
   "metadata": {
    "ExecuteTime": {
     "end_time": "2022-06-03T13:52:06.625502Z",
     "start_time": "2022-06-03T13:52:06.595664Z"
    }
   },
   "outputs": [
    {
     "data": {
      "text/html": [
       "<div>\n",
       "<style scoped>\n",
       "    .dataframe tbody tr th:only-of-type {\n",
       "        vertical-align: middle;\n",
       "    }\n",
       "\n",
       "    .dataframe tbody tr th {\n",
       "        vertical-align: top;\n",
       "    }\n",
       "\n",
       "    .dataframe thead th {\n",
       "        text-align: right;\n",
       "    }\n",
       "</style>\n",
       "<table border=\"1\" class=\"dataframe\">\n",
       "  <thead>\n",
       "    <tr style=\"text-align: right;\">\n",
       "      <th></th>\n",
       "      <th>price</th>\n",
       "      <th>review_scores_rating</th>\n",
       "      <th>review_scores_accuracy</th>\n",
       "      <th>review_scores_cleanliness</th>\n",
       "      <th>review_scores_checkin</th>\n",
       "      <th>review_scores_communication</th>\n",
       "      <th>review_scores_location</th>\n",
       "      <th>review_scores_value</th>\n",
       "      <th>accommodates</th>\n",
       "      <th>bedrooms</th>\n",
       "      <th>beds</th>\n",
       "    </tr>\n",
       "  </thead>\n",
       "  <tbody>\n",
       "    <tr>\n",
       "      <th>0</th>\n",
       "      <td>60.0</td>\n",
       "      <td>5.0</td>\n",
       "      <td>5.0</td>\n",
       "      <td>5.00</td>\n",
       "      <td>5.0</td>\n",
       "      <td>5.0</td>\n",
       "      <td>4.00</td>\n",
       "      <td>5.00</td>\n",
       "      <td>2</td>\n",
       "      <td>1.0</td>\n",
       "      <td>1.0</td>\n",
       "    </tr>\n",
       "    <tr>\n",
       "      <th>1900</th>\n",
       "      <td>500.0</td>\n",
       "      <td>5.0</td>\n",
       "      <td>5.0</td>\n",
       "      <td>4.91</td>\n",
       "      <td>5.0</td>\n",
       "      <td>5.0</td>\n",
       "      <td>5.00</td>\n",
       "      <td>4.73</td>\n",
       "      <td>6</td>\n",
       "      <td>3.0</td>\n",
       "      <td>3.0</td>\n",
       "    </tr>\n",
       "    <tr>\n",
       "      <th>1886</th>\n",
       "      <td>386.0</td>\n",
       "      <td>5.0</td>\n",
       "      <td>5.0</td>\n",
       "      <td>5.00</td>\n",
       "      <td>5.0</td>\n",
       "      <td>5.0</td>\n",
       "      <td>5.00</td>\n",
       "      <td>5.00</td>\n",
       "      <td>5</td>\n",
       "      <td>2.0</td>\n",
       "      <td>3.0</td>\n",
       "    </tr>\n",
       "    <tr>\n",
       "      <th>8315</th>\n",
       "      <td>152.0</td>\n",
       "      <td>5.0</td>\n",
       "      <td>5.0</td>\n",
       "      <td>5.00</td>\n",
       "      <td>5.0</td>\n",
       "      <td>5.0</td>\n",
       "      <td>5.00</td>\n",
       "      <td>5.00</td>\n",
       "      <td>2</td>\n",
       "      <td>1.0</td>\n",
       "      <td>2.0</td>\n",
       "    </tr>\n",
       "    <tr>\n",
       "      <th>8311</th>\n",
       "      <td>552.0</td>\n",
       "      <td>5.0</td>\n",
       "      <td>5.0</td>\n",
       "      <td>5.00</td>\n",
       "      <td>5.0</td>\n",
       "      <td>5.0</td>\n",
       "      <td>4.83</td>\n",
       "      <td>4.83</td>\n",
       "      <td>6</td>\n",
       "      <td>3.0</td>\n",
       "      <td>3.0</td>\n",
       "    </tr>\n",
       "    <tr>\n",
       "      <th>...</th>\n",
       "      <td>...</td>\n",
       "      <td>...</td>\n",
       "      <td>...</td>\n",
       "      <td>...</td>\n",
       "      <td>...</td>\n",
       "      <td>...</td>\n",
       "      <td>...</td>\n",
       "      <td>...</td>\n",
       "      <td>...</td>\n",
       "      <td>...</td>\n",
       "      <td>...</td>\n",
       "    </tr>\n",
       "    <tr>\n",
       "      <th>5239</th>\n",
       "      <td>61.0</td>\n",
       "      <td>1.0</td>\n",
       "      <td>1.0</td>\n",
       "      <td>1.00</td>\n",
       "      <td>3.0</td>\n",
       "      <td>3.0</td>\n",
       "      <td>5.00</td>\n",
       "      <td>3.00</td>\n",
       "      <td>1</td>\n",
       "      <td>1.0</td>\n",
       "      <td>1.0</td>\n",
       "    </tr>\n",
       "    <tr>\n",
       "      <th>4942</th>\n",
       "      <td>299.0</td>\n",
       "      <td>1.0</td>\n",
       "      <td>1.0</td>\n",
       "      <td>3.00</td>\n",
       "      <td>1.0</td>\n",
       "      <td>1.0</td>\n",
       "      <td>1.00</td>\n",
       "      <td>1.00</td>\n",
       "      <td>4</td>\n",
       "      <td>1.0</td>\n",
       "      <td>1.0</td>\n",
       "    </tr>\n",
       "    <tr>\n",
       "      <th>6244</th>\n",
       "      <td>380.0</td>\n",
       "      <td>1.0</td>\n",
       "      <td>1.0</td>\n",
       "      <td>1.00</td>\n",
       "      <td>1.0</td>\n",
       "      <td>1.0</td>\n",
       "      <td>1.00</td>\n",
       "      <td>1.00</td>\n",
       "      <td>6</td>\n",
       "      <td>2.0</td>\n",
       "      <td>3.0</td>\n",
       "    </tr>\n",
       "    <tr>\n",
       "      <th>1725</th>\n",
       "      <td>250.0</td>\n",
       "      <td>1.0</td>\n",
       "      <td>1.0</td>\n",
       "      <td>1.00</td>\n",
       "      <td>1.0</td>\n",
       "      <td>1.0</td>\n",
       "      <td>1.00</td>\n",
       "      <td>1.00</td>\n",
       "      <td>1</td>\n",
       "      <td>1.0</td>\n",
       "      <td>1.0</td>\n",
       "    </tr>\n",
       "    <tr>\n",
       "      <th>9846</th>\n",
       "      <td>129.0</td>\n",
       "      <td>1.0</td>\n",
       "      <td>2.0</td>\n",
       "      <td>2.00</td>\n",
       "      <td>2.0</td>\n",
       "      <td>1.0</td>\n",
       "      <td>1.00</td>\n",
       "      <td>1.00</td>\n",
       "      <td>2</td>\n",
       "      <td>1.0</td>\n",
       "      <td>1.0</td>\n",
       "    </tr>\n",
       "  </tbody>\n",
       "</table>\n",
       "<p>8385 rows × 11 columns</p>\n",
       "</div>"
      ],
      "text/plain": [
       "      price  review_scores_rating  review_scores_accuracy  \\\n",
       "0      60.0                   5.0                     5.0   \n",
       "1900  500.0                   5.0                     5.0   \n",
       "1886  386.0                   5.0                     5.0   \n",
       "8315  152.0                   5.0                     5.0   \n",
       "8311  552.0                   5.0                     5.0   \n",
       "...     ...                   ...                     ...   \n",
       "5239   61.0                   1.0                     1.0   \n",
       "4942  299.0                   1.0                     1.0   \n",
       "6244  380.0                   1.0                     1.0   \n",
       "1725  250.0                   1.0                     1.0   \n",
       "9846  129.0                   1.0                     2.0   \n",
       "\n",
       "      review_scores_cleanliness  review_scores_checkin  \\\n",
       "0                          5.00                    5.0   \n",
       "1900                       4.91                    5.0   \n",
       "1886                       5.00                    5.0   \n",
       "8315                       5.00                    5.0   \n",
       "8311                       5.00                    5.0   \n",
       "...                         ...                    ...   \n",
       "5239                       1.00                    3.0   \n",
       "4942                       3.00                    1.0   \n",
       "6244                       1.00                    1.0   \n",
       "1725                       1.00                    1.0   \n",
       "9846                       2.00                    2.0   \n",
       "\n",
       "      review_scores_communication  review_scores_location  \\\n",
       "0                             5.0                    4.00   \n",
       "1900                          5.0                    5.00   \n",
       "1886                          5.0                    5.00   \n",
       "8315                          5.0                    5.00   \n",
       "8311                          5.0                    4.83   \n",
       "...                           ...                     ...   \n",
       "5239                          3.0                    5.00   \n",
       "4942                          1.0                    1.00   \n",
       "6244                          1.0                    1.00   \n",
       "1725                          1.0                    1.00   \n",
       "9846                          1.0                    1.00   \n",
       "\n",
       "      review_scores_value  accommodates  bedrooms  beds  \n",
       "0                    5.00             2       1.0   1.0  \n",
       "1900                 4.73             6       3.0   3.0  \n",
       "1886                 5.00             5       2.0   3.0  \n",
       "8315                 5.00             2       1.0   2.0  \n",
       "8311                 4.83             6       3.0   3.0  \n",
       "...                   ...           ...       ...   ...  \n",
       "5239                 3.00             1       1.0   1.0  \n",
       "4942                 1.00             4       1.0   1.0  \n",
       "6244                 1.00             6       2.0   3.0  \n",
       "1725                 1.00             1       1.0   1.0  \n",
       "9846                 1.00             2       1.0   1.0  \n",
       "\n",
       "[8385 rows x 11 columns]"
      ]
     },
     "execution_count": 48,
     "metadata": {},
     "output_type": "execute_result"
    }
   ],
   "source": [
    "feature_df"
   ]
  },
  {
   "cell_type": "code",
   "execution_count": 49,
   "metadata": {
    "ExecuteTime": {
     "end_time": "2022-06-03T13:53:37.960810Z",
     "start_time": "2022-06-03T13:53:37.952079Z"
    }
   },
   "outputs": [],
   "source": [
    "feature_df.drop([ 'review_scores_rating', 'review_scores_accuracy','review_scores_cleanliness',\n",
    "                 'review_scores_checkin', 'review_scores_communication','review_scores_value',\n",
    "                 'review_scores_location', 'accommodates', 'bedrooms',\n",
    "                 'beds'], axis=1, inplace=True)"
   ]
  },
  {
   "cell_type": "code",
   "execution_count": null,
   "metadata": {
    "ExecuteTime": {
     "end_time": "2022-06-02T20:53:10.920068Z",
     "start_time": "2022-06-02T20:53:10.918582Z"
    }
   },
   "outputs": [],
   "source": [
    "#feature_df.drop(['review_scores_location'], axis=1, inplace=True)"
   ]
  },
  {
   "cell_type": "code",
   "execution_count": 50,
   "metadata": {
    "ExecuteTime": {
     "end_time": "2022-06-03T13:53:41.367456Z",
     "start_time": "2022-06-03T13:53:41.354903Z"
    }
   },
   "outputs": [
    {
     "data": {
      "text/html": [
       "<div>\n",
       "<style scoped>\n",
       "    .dataframe tbody tr th:only-of-type {\n",
       "        vertical-align: middle;\n",
       "    }\n",
       "\n",
       "    .dataframe tbody tr th {\n",
       "        vertical-align: top;\n",
       "    }\n",
       "\n",
       "    .dataframe thead th {\n",
       "        text-align: right;\n",
       "    }\n",
       "</style>\n",
       "<table border=\"1\" class=\"dataframe\">\n",
       "  <thead>\n",
       "    <tr style=\"text-align: right;\">\n",
       "      <th></th>\n",
       "      <th>price</th>\n",
       "    </tr>\n",
       "  </thead>\n",
       "  <tbody>\n",
       "    <tr>\n",
       "      <th>0</th>\n",
       "      <td>60.0</td>\n",
       "    </tr>\n",
       "    <tr>\n",
       "      <th>1900</th>\n",
       "      <td>500.0</td>\n",
       "    </tr>\n",
       "    <tr>\n",
       "      <th>1886</th>\n",
       "      <td>386.0</td>\n",
       "    </tr>\n",
       "    <tr>\n",
       "      <th>8315</th>\n",
       "      <td>152.0</td>\n",
       "    </tr>\n",
       "    <tr>\n",
       "      <th>8311</th>\n",
       "      <td>552.0</td>\n",
       "    </tr>\n",
       "  </tbody>\n",
       "</table>\n",
       "</div>"
      ],
      "text/plain": [
       "      price\n",
       "0      60.0\n",
       "1900  500.0\n",
       "1886  386.0\n",
       "8315  152.0\n",
       "8311  552.0"
      ]
     },
     "execution_count": 50,
     "metadata": {},
     "output_type": "execute_result"
    }
   ],
   "source": [
    "feature_df.head()"
   ]
  },
  {
   "cell_type": "code",
   "execution_count": 52,
   "metadata": {
    "ExecuteTime": {
     "end_time": "2022-06-03T13:54:25.444603Z",
     "start_time": "2022-06-03T13:54:25.422646Z"
    }
   },
   "outputs": [
    {
     "name": "stdout",
     "output_type": "stream",
     "text": [
      "<class 'pandas.core.frame.DataFrame'>\n",
      "Int64Index: 8385 entries, 0 to 9846\n",
      "Data columns (total 32 columns):\n",
      " #   Column                       Non-Null Count  Dtype  \n",
      "---  ------                       --------------  -----  \n",
      " 0   price                        8385 non-null   float64\n",
      " 1   review_scores_rating         8385 non-null   float64\n",
      " 2   review_scores_accuracy       8385 non-null   float64\n",
      " 3   review_scores_cleanliness    8385 non-null   float64\n",
      " 4   review_scores_checkin        8385 non-null   float64\n",
      " 5   review_scores_communication  8385 non-null   float64\n",
      " 6   review_scores_location       8385 non-null   float64\n",
      " 7   review_scores_value          8385 non-null   float64\n",
      " 8   accommodates                 8385 non-null   int64  \n",
      " 9   bedrooms                     8385 non-null   float64\n",
      " 10  beds                         8385 non-null   float64\n",
      " 11  instant_bookable             8385 non-null   object \n",
      " 12  property_type                8385 non-null   object \n",
      " 13  room_type                    8385 non-null   object \n",
      " 14  amenities                    8385 non-null   object \n",
      " 15  capacity_0-2                 8385 non-null   bool   \n",
      " 16  capacity_3-4                 8385 non-null   bool   \n",
      " 17  capacity_5-9                 8385 non-null   bool   \n",
      " 18  capacity_10+                 8385 non-null   bool   \n",
      " 19  bedrooms_1                   8385 non-null   bool   \n",
      " 20  bedrooms_2                   8385 non-null   bool   \n",
      " 21  bedrooms_3                   8385 non-null   bool   \n",
      " 22  bedrooms_4+                  8385 non-null   bool   \n",
      " 23  rating_5                     8385 non-null   bool   \n",
      " 24  accuracy_5                   8385 non-null   bool   \n",
      " 25  cleanliness_5                8385 non-null   bool   \n",
      " 26  checkin_5                    8385 non-null   bool   \n",
      " 27  location_5                   8385 non-null   bool   \n",
      " 28  value_5                      8385 non-null   bool   \n",
      " 29  price_high                   8385 non-null   bool   \n",
      " 30  price_low                    8385 non-null   bool   \n",
      " 31  stripped_rating              8385 non-null   object \n",
      "dtypes: bool(16), float64(10), int64(1), object(5)\n",
      "memory usage: 1.2+ MB\n"
     ]
    }
   ],
   "source": [
    "df.info()"
   ]
  },
  {
   "cell_type": "markdown",
   "metadata": {},
   "source": [
    "### One Hot Encoding"
   ]
  },
  {
   "cell_type": "code",
   "execution_count": 53,
   "metadata": {
    "ExecuteTime": {
     "end_time": "2022-06-03T14:00:11.493021Z",
     "start_time": "2022-06-03T14:00:11.441513Z"
    }
   },
   "outputs": [
    {
     "data": {
      "text/html": [
       "<div>\n",
       "<style scoped>\n",
       "    .dataframe tbody tr th:only-of-type {\n",
       "        vertical-align: middle;\n",
       "    }\n",
       "\n",
       "    .dataframe tbody tr th {\n",
       "        vertical-align: top;\n",
       "    }\n",
       "\n",
       "    .dataframe thead th {\n",
       "        text-align: right;\n",
       "    }\n",
       "</style>\n",
       "<table border=\"1\" class=\"dataframe\">\n",
       "  <thead>\n",
       "    <tr style=\"text-align: right;\">\n",
       "      <th></th>\n",
       "      <th>rating_5_False</th>\n",
       "      <th>rating_5_True</th>\n",
       "      <th>accuracy_5_False</th>\n",
       "      <th>accuracy_5_True</th>\n",
       "      <th>cleanliness_5_False</th>\n",
       "      <th>cleanliness_5_True</th>\n",
       "      <th>checkin_5_False</th>\n",
       "      <th>checkin_5_True</th>\n",
       "      <th>location_5_False</th>\n",
       "      <th>location_5_True</th>\n",
       "      <th>...</th>\n",
       "      <th>bedrooms_1_False</th>\n",
       "      <th>bedrooms_1_True</th>\n",
       "      <th>bedrooms_2_False</th>\n",
       "      <th>bedrooms_2_True</th>\n",
       "      <th>bedrooms_3_False</th>\n",
       "      <th>bedrooms_3_True</th>\n",
       "      <th>bedrooms_4+_False</th>\n",
       "      <th>bedrooms_4+_True</th>\n",
       "      <th>instant_bookable_f</th>\n",
       "      <th>instant_bookable_t</th>\n",
       "    </tr>\n",
       "  </thead>\n",
       "  <tbody>\n",
       "    <tr>\n",
       "      <th>0</th>\n",
       "      <td>0.0</td>\n",
       "      <td>1.0</td>\n",
       "      <td>0.0</td>\n",
       "      <td>1.0</td>\n",
       "      <td>0.0</td>\n",
       "      <td>1.0</td>\n",
       "      <td>0.0</td>\n",
       "      <td>1.0</td>\n",
       "      <td>1.0</td>\n",
       "      <td>0.0</td>\n",
       "      <td>...</td>\n",
       "      <td>0.0</td>\n",
       "      <td>1.0</td>\n",
       "      <td>1.0</td>\n",
       "      <td>0.0</td>\n",
       "      <td>1.0</td>\n",
       "      <td>0.0</td>\n",
       "      <td>1.0</td>\n",
       "      <td>0.0</td>\n",
       "      <td>0.0</td>\n",
       "      <td>1.0</td>\n",
       "    </tr>\n",
       "    <tr>\n",
       "      <th>1</th>\n",
       "      <td>0.0</td>\n",
       "      <td>1.0</td>\n",
       "      <td>0.0</td>\n",
       "      <td>1.0</td>\n",
       "      <td>1.0</td>\n",
       "      <td>0.0</td>\n",
       "      <td>0.0</td>\n",
       "      <td>1.0</td>\n",
       "      <td>0.0</td>\n",
       "      <td>1.0</td>\n",
       "      <td>...</td>\n",
       "      <td>1.0</td>\n",
       "      <td>0.0</td>\n",
       "      <td>1.0</td>\n",
       "      <td>0.0</td>\n",
       "      <td>0.0</td>\n",
       "      <td>1.0</td>\n",
       "      <td>1.0</td>\n",
       "      <td>0.0</td>\n",
       "      <td>1.0</td>\n",
       "      <td>0.0</td>\n",
       "    </tr>\n",
       "  </tbody>\n",
       "</table>\n",
       "<p>2 rows × 32 columns</p>\n",
       "</div>"
      ],
      "text/plain": [
       "   rating_5_False  rating_5_True  accuracy_5_False  accuracy_5_True  \\\n",
       "0             0.0            1.0               0.0              1.0   \n",
       "1             0.0            1.0               0.0              1.0   \n",
       "\n",
       "   cleanliness_5_False  cleanliness_5_True  checkin_5_False  checkin_5_True  \\\n",
       "0                  0.0                 1.0              0.0             1.0   \n",
       "1                  1.0                 0.0              0.0             1.0   \n",
       "\n",
       "   location_5_False  location_5_True  ...  bedrooms_1_False  bedrooms_1_True  \\\n",
       "0               1.0              0.0  ...               0.0              1.0   \n",
       "1               0.0              1.0  ...               1.0              0.0   \n",
       "\n",
       "   bedrooms_2_False  bedrooms_2_True  bedrooms_3_False  bedrooms_3_True  \\\n",
       "0               1.0              0.0               1.0              0.0   \n",
       "1               1.0              0.0               0.0              1.0   \n",
       "\n",
       "   bedrooms_4+_False  bedrooms_4+_True  instant_bookable_f  instant_bookable_t  \n",
       "0                1.0               0.0                 0.0                 1.0  \n",
       "1                1.0               0.0                 1.0                 0.0  \n",
       "\n",
       "[2 rows x 32 columns]"
      ]
     },
     "execution_count": 53,
     "metadata": {},
     "output_type": "execute_result"
    }
   ],
   "source": [
    "need_to_encode = df[['rating_5', 'accuracy_5', 'cleanliness_5', 'checkin_5', \n",
    "                    'location_5', 'value_5', 'price_high', 'price_low',\n",
    "                    'capacity_0-2', 'capacity_3-4', 'capacity_5-9', 'capacity_10+',\n",
    "                    'bedrooms_1', 'bedrooms_2', 'bedrooms_3', 'bedrooms_4+', 'instant_bookable']]\n",
    "ohe = OneHotEncoder()\n",
    "ohe.fit(need_to_encode)\n",
    "\n",
    "ohe_1 = ohe.transform(need_to_encode).toarray()\n",
    "\n",
    "ohe_df = pd.DataFrame(ohe_1, columns=ohe.get_feature_names(need_to_encode.columns))\n",
    "ohe_df.head(2)"
   ]
  },
  {
   "cell_type": "code",
   "execution_count": 54,
   "metadata": {
    "ExecuteTime": {
     "end_time": "2022-06-03T14:00:26.653024Z",
     "start_time": "2022-06-03T14:00:26.614693Z"
    }
   },
   "outputs": [
    {
     "data": {
      "text/html": [
       "<div>\n",
       "<style scoped>\n",
       "    .dataframe tbody tr th:only-of-type {\n",
       "        vertical-align: middle;\n",
       "    }\n",
       "\n",
       "    .dataframe tbody tr th {\n",
       "        vertical-align: top;\n",
       "    }\n",
       "\n",
       "    .dataframe thead th {\n",
       "        text-align: right;\n",
       "    }\n",
       "</style>\n",
       "<table border=\"1\" class=\"dataframe\">\n",
       "  <thead>\n",
       "    <tr style=\"text-align: right;\">\n",
       "      <th></th>\n",
       "      <th>price</th>\n",
       "      <th>rating_5_False</th>\n",
       "      <th>rating_5_True</th>\n",
       "      <th>accuracy_5_False</th>\n",
       "      <th>accuracy_5_True</th>\n",
       "      <th>cleanliness_5_False</th>\n",
       "      <th>cleanliness_5_True</th>\n",
       "      <th>checkin_5_False</th>\n",
       "      <th>checkin_5_True</th>\n",
       "      <th>location_5_False</th>\n",
       "      <th>...</th>\n",
       "      <th>bedrooms_1_False</th>\n",
       "      <th>bedrooms_1_True</th>\n",
       "      <th>bedrooms_2_False</th>\n",
       "      <th>bedrooms_2_True</th>\n",
       "      <th>bedrooms_3_False</th>\n",
       "      <th>bedrooms_3_True</th>\n",
       "      <th>bedrooms_4+_False</th>\n",
       "      <th>bedrooms_4+_True</th>\n",
       "      <th>instant_bookable_f</th>\n",
       "      <th>instant_bookable_t</th>\n",
       "    </tr>\n",
       "  </thead>\n",
       "  <tbody>\n",
       "    <tr>\n",
       "      <th>0</th>\n",
       "      <td>60.0</td>\n",
       "      <td>0.0</td>\n",
       "      <td>1.0</td>\n",
       "      <td>0.0</td>\n",
       "      <td>1.0</td>\n",
       "      <td>0.0</td>\n",
       "      <td>1.0</td>\n",
       "      <td>0.0</td>\n",
       "      <td>1.0</td>\n",
       "      <td>1.0</td>\n",
       "      <td>...</td>\n",
       "      <td>0.0</td>\n",
       "      <td>1.0</td>\n",
       "      <td>1.0</td>\n",
       "      <td>0.0</td>\n",
       "      <td>1.0</td>\n",
       "      <td>0.0</td>\n",
       "      <td>1.0</td>\n",
       "      <td>0.0</td>\n",
       "      <td>0.0</td>\n",
       "      <td>1.0</td>\n",
       "    </tr>\n",
       "    <tr>\n",
       "      <th>1</th>\n",
       "      <td>282.0</td>\n",
       "      <td>0.0</td>\n",
       "      <td>1.0</td>\n",
       "      <td>0.0</td>\n",
       "      <td>1.0</td>\n",
       "      <td>1.0</td>\n",
       "      <td>0.0</td>\n",
       "      <td>0.0</td>\n",
       "      <td>1.0</td>\n",
       "      <td>0.0</td>\n",
       "      <td>...</td>\n",
       "      <td>1.0</td>\n",
       "      <td>0.0</td>\n",
       "      <td>1.0</td>\n",
       "      <td>0.0</td>\n",
       "      <td>0.0</td>\n",
       "      <td>1.0</td>\n",
       "      <td>1.0</td>\n",
       "      <td>0.0</td>\n",
       "      <td>1.0</td>\n",
       "      <td>0.0</td>\n",
       "    </tr>\n",
       "  </tbody>\n",
       "</table>\n",
       "<p>2 rows × 33 columns</p>\n",
       "</div>"
      ],
      "text/plain": [
       "   price  rating_5_False  rating_5_True  accuracy_5_False  accuracy_5_True  \\\n",
       "0   60.0             0.0            1.0               0.0              1.0   \n",
       "1  282.0             0.0            1.0               0.0              1.0   \n",
       "\n",
       "   cleanliness_5_False  cleanliness_5_True  checkin_5_False  checkin_5_True  \\\n",
       "0                  0.0                 1.0              0.0             1.0   \n",
       "1                  1.0                 0.0              0.0             1.0   \n",
       "\n",
       "   location_5_False  ...  bedrooms_1_False  bedrooms_1_True  bedrooms_2_False  \\\n",
       "0               1.0  ...               0.0              1.0               1.0   \n",
       "1               0.0  ...               1.0              0.0               1.0   \n",
       "\n",
       "   bedrooms_2_True  bedrooms_3_False  bedrooms_3_True  bedrooms_4+_False  \\\n",
       "0              0.0               1.0              0.0                1.0   \n",
       "1              0.0               0.0              1.0                1.0   \n",
       "\n",
       "   bedrooms_4+_True  instant_bookable_f  instant_bookable_t  \n",
       "0               0.0                 0.0                 1.0  \n",
       "1               0.0                 1.0                 0.0  \n",
       "\n",
       "[2 rows x 33 columns]"
      ]
     },
     "execution_count": 54,
     "metadata": {},
     "output_type": "execute_result"
    }
   ],
   "source": [
    "# Combining everything together\n",
    "cleaned_df = pd.concat([pd.DataFrame(feature_df), ohe_df], axis=1)\n",
    "cleaned_df.head(2)"
   ]
  },
  {
   "cell_type": "markdown",
   "metadata": {},
   "source": [
    "#### Dropping One Value for Categoricals"
   ]
  },
  {
   "cell_type": "code",
   "execution_count": 56,
   "metadata": {
    "ExecuteTime": {
     "end_time": "2022-06-03T14:03:07.297713Z",
     "start_time": "2022-06-03T14:03:07.281902Z"
    }
   },
   "outputs": [],
   "source": [
    "#Dropping a few of the redundant values.\n",
    "cleaned_df= cleaned_df.drop(['rating_5_False', 'accuracy_5_False',\n",
    "                             'cleanliness_5_False', 'checkin_5_False', 'location_5_False',\n",
    "                             'value_5_False', 'price_high_False', 'price_low_False',\n",
    "                            'bedrooms_1_False', 'bedrooms_2_False', 'bedrooms_3_False', 'bedrooms_4+_False',\n",
    "                            'capacity_0-2_False', 'capacity_3-4_False', 'capacity_5-9_False',\n",
    "                            'capacity_10+_False', 'instant_bookable_f'], axis=1)"
   ]
  },
  {
   "cell_type": "code",
   "execution_count": 58,
   "metadata": {
    "ExecuteTime": {
     "end_time": "2022-06-03T14:03:51.807057Z",
     "start_time": "2022-06-03T14:03:51.798698Z"
    }
   },
   "outputs": [],
   "source": [
    "#cleaned_df= cleaned_df.drop(['price_low_True', 'price_high_True'], axis=1)\n",
    "cleaned_df= cleaned_df.drop(['price'], axis=1)"
   ]
  },
  {
   "cell_type": "code",
   "execution_count": 59,
   "metadata": {
    "ExecuteTime": {
     "end_time": "2022-06-03T14:03:54.423592Z",
     "start_time": "2022-06-03T14:03:54.397015Z"
    }
   },
   "outputs": [
    {
     "data": {
      "text/html": [
       "<div>\n",
       "<style scoped>\n",
       "    .dataframe tbody tr th:only-of-type {\n",
       "        vertical-align: middle;\n",
       "    }\n",
       "\n",
       "    .dataframe tbody tr th {\n",
       "        vertical-align: top;\n",
       "    }\n",
       "\n",
       "    .dataframe thead th {\n",
       "        text-align: right;\n",
       "    }\n",
       "</style>\n",
       "<table border=\"1\" class=\"dataframe\">\n",
       "  <thead>\n",
       "    <tr style=\"text-align: right;\">\n",
       "      <th></th>\n",
       "      <th>rating_5_True</th>\n",
       "      <th>accuracy_5_True</th>\n",
       "      <th>cleanliness_5_True</th>\n",
       "      <th>checkin_5_True</th>\n",
       "      <th>location_5_True</th>\n",
       "      <th>value_5_True</th>\n",
       "      <th>price_high_True</th>\n",
       "      <th>price_low_True</th>\n",
       "      <th>capacity_0-2_True</th>\n",
       "      <th>capacity_10+_True</th>\n",
       "      <th>bedrooms_1_True</th>\n",
       "      <th>bedrooms_2_True</th>\n",
       "      <th>bedrooms_3_True</th>\n",
       "      <th>bedrooms_4+_True</th>\n",
       "      <th>instant_bookable_t</th>\n",
       "    </tr>\n",
       "  </thead>\n",
       "  <tbody>\n",
       "    <tr>\n",
       "      <th>0</th>\n",
       "      <td>1.0</td>\n",
       "      <td>1.0</td>\n",
       "      <td>1.0</td>\n",
       "      <td>1.0</td>\n",
       "      <td>0.0</td>\n",
       "      <td>1.0</td>\n",
       "      <td>0.0</td>\n",
       "      <td>1.0</td>\n",
       "      <td>1.0</td>\n",
       "      <td>0.0</td>\n",
       "      <td>1.0</td>\n",
       "      <td>0.0</td>\n",
       "      <td>0.0</td>\n",
       "      <td>0.0</td>\n",
       "      <td>1.0</td>\n",
       "    </tr>\n",
       "  </tbody>\n",
       "</table>\n",
       "</div>"
      ],
      "text/plain": [
       "   rating_5_True  accuracy_5_True  cleanliness_5_True  checkin_5_True  \\\n",
       "0            1.0              1.0                 1.0             1.0   \n",
       "\n",
       "   location_5_True  value_5_True  price_high_True  price_low_True  \\\n",
       "0              0.0           1.0              0.0             1.0   \n",
       "\n",
       "   capacity_0-2_True  capacity_10+_True  bedrooms_1_True  bedrooms_2_True  \\\n",
       "0                1.0                0.0              1.0              0.0   \n",
       "\n",
       "   bedrooms_3_True  bedrooms_4+_True  instant_bookable_t  \n",
       "0              0.0               0.0                 1.0  "
      ]
     },
     "execution_count": 59,
     "metadata": {},
     "output_type": "execute_result"
    }
   ],
   "source": [
    "cleaned_df.head(1)"
   ]
  },
  {
   "cell_type": "markdown",
   "metadata": {},
   "source": [
    "## Dealing with Class Imbalance\n",
    "- Always use class weight parameter in Decision Tree Classifier\n",
    "- Always stratify Train Test Split.\n",
    "- Add SMOTE to Training Sets."
   ]
  },
  {
   "cell_type": "code",
   "execution_count": 60,
   "metadata": {
    "ExecuteTime": {
     "end_time": "2022-06-03T14:04:01.696594Z",
     "start_time": "2022-06-03T14:04:01.685148Z"
    }
   },
   "outputs": [
    {
     "data": {
      "text/plain": [
       "0.0    6491\n",
       "1.0    1894\n",
       "Name: rating_5_True, dtype: int64"
      ]
     },
     "execution_count": 60,
     "metadata": {},
     "output_type": "execute_result"
    }
   ],
   "source": [
    "cleaned_df['rating_5_True'].value_counts()"
   ]
  },
  {
   "cell_type": "code",
   "execution_count": 61,
   "metadata": {
    "ExecuteTime": {
     "end_time": "2022-06-03T14:04:04.026271Z",
     "start_time": "2022-06-03T14:04:04.014848Z"
    }
   },
   "outputs": [
    {
     "data": {
      "text/plain": [
       "rating_5_True         1505\n",
       "accuracy_5_True       1505\n",
       "cleanliness_5_True    1505\n",
       "checkin_5_True        1505\n",
       "location_5_True       1505\n",
       "value_5_True          1505\n",
       "price_high_True       1505\n",
       "price_low_True        1505\n",
       "capacity_0-2_True     1505\n",
       "capacity_10+_True     1505\n",
       "bedrooms_1_True       1505\n",
       "bedrooms_2_True       1505\n",
       "bedrooms_3_True       1505\n",
       "bedrooms_4+_True      1505\n",
       "instant_bookable_t    1505\n",
       "dtype: int64"
      ]
     },
     "execution_count": 61,
     "metadata": {},
     "output_type": "execute_result"
    }
   ],
   "source": [
    "cleaned_df.isna().sum()"
   ]
  },
  {
   "cell_type": "code",
   "execution_count": 62,
   "metadata": {
    "ExecuteTime": {
     "end_time": "2022-06-03T14:04:07.399393Z",
     "start_time": "2022-06-03T14:04:07.390920Z"
    }
   },
   "outputs": [],
   "source": [
    "cleaned_df = cleaned_df.dropna()"
   ]
  },
  {
   "cell_type": "code",
   "execution_count": 63,
   "metadata": {
    "ExecuteTime": {
     "end_time": "2022-06-03T14:04:09.406595Z",
     "start_time": "2022-06-03T14:04:09.390312Z"
    }
   },
   "outputs": [
    {
     "name": "stdout",
     "output_type": "stream",
     "text": [
      "<class 'pandas.core.frame.DataFrame'>\n",
      "Int64Index: 8385 entries, 0 to 8384\n",
      "Data columns (total 15 columns):\n",
      " #   Column              Non-Null Count  Dtype  \n",
      "---  ------              --------------  -----  \n",
      " 0   rating_5_True       8385 non-null   float64\n",
      " 1   accuracy_5_True     8385 non-null   float64\n",
      " 2   cleanliness_5_True  8385 non-null   float64\n",
      " 3   checkin_5_True      8385 non-null   float64\n",
      " 4   location_5_True     8385 non-null   float64\n",
      " 5   value_5_True        8385 non-null   float64\n",
      " 6   price_high_True     8385 non-null   float64\n",
      " 7   price_low_True      8385 non-null   float64\n",
      " 8   capacity_0-2_True   8385 non-null   float64\n",
      " 9   capacity_10+_True   8385 non-null   float64\n",
      " 10  bedrooms_1_True     8385 non-null   float64\n",
      " 11  bedrooms_2_True     8385 non-null   float64\n",
      " 12  bedrooms_3_True     8385 non-null   float64\n",
      " 13  bedrooms_4+_True    8385 non-null   float64\n",
      " 14  instant_bookable_t  8385 non-null   float64\n",
      "dtypes: float64(15)\n",
      "memory usage: 1.0 MB\n"
     ]
    }
   ],
   "source": [
    "cleaned_df.info()"
   ]
  },
  {
   "cell_type": "code",
   "execution_count": 64,
   "metadata": {
    "ExecuteTime": {
     "end_time": "2022-06-03T14:04:15.029697Z",
     "start_time": "2022-06-03T14:04:15.018133Z"
    }
   },
   "outputs": [
    {
     "data": {
      "text/plain": [
       "rating_5_True         0\n",
       "accuracy_5_True       0\n",
       "cleanliness_5_True    0\n",
       "checkin_5_True        0\n",
       "location_5_True       0\n",
       "value_5_True          0\n",
       "price_high_True       0\n",
       "price_low_True        0\n",
       "capacity_0-2_True     0\n",
       "capacity_10+_True     0\n",
       "bedrooms_1_True       0\n",
       "bedrooms_2_True       0\n",
       "bedrooms_3_True       0\n",
       "bedrooms_4+_True      0\n",
       "instant_bookable_t    0\n",
       "dtype: int64"
      ]
     },
     "execution_count": 64,
     "metadata": {},
     "output_type": "execute_result"
    }
   ],
   "source": [
    "cleaned_df.isna().sum()"
   ]
  },
  {
   "cell_type": "code",
   "execution_count": null,
   "metadata": {
    "ExecuteTime": {
     "end_time": "2022-06-02T20:53:11.016539Z",
     "start_time": "2022-06-02T20:53:11.014147Z"
    }
   },
   "outputs": [],
   "source": [
    "#cleaned_df.drop(['number_of_reviews', 'number_of_reviews_ltm', 'number_of_reviews_l30d', 'price'], axis=1, inplace=True)"
   ]
  },
  {
   "cell_type": "code",
   "execution_count": 65,
   "metadata": {
    "ExecuteTime": {
     "end_time": "2022-06-03T14:04:28.002765Z",
     "start_time": "2022-06-03T14:04:27.922256Z"
    }
   },
   "outputs": [],
   "source": [
    "balanced_df = cleaned_df.copy()\n",
    "\n",
    "X = balanced_df.drop(['rating_5_True'], axis=1)\n",
    "y = balanced_df['rating_5_True']\n",
    "\n",
    "X_train, X_test, y_train, y_test = train_test_split(X, y, test_size=.25, stratify=y, random_state=23)\n",
    "\n",
    "smote = SMOTE(random_state=23)\n",
    "X_train_resampled, y_train_resampled = smote.fit_sample(X_train, y_train) "
   ]
  },
  {
   "cell_type": "markdown",
   "metadata": {},
   "source": [
    "### Metrics Function"
   ]
  },
  {
   "cell_type": "code",
   "execution_count": 66,
   "metadata": {
    "ExecuteTime": {
     "end_time": "2022-06-03T14:04:30.124985Z",
     "start_time": "2022-06-03T14:04:30.118536Z"
    }
   },
   "outputs": [],
   "source": [
    "def get_metrics(clf, y_pred):\n",
    "    \n",
    "    \n",
    "    #clf_acc = accuracy_score(y_test, y_pred) * 100\n",
    "    #print('Accuracy is :{0}'.format(clf_acc))\n",
    "    #clf_prec = precision_score(y_test, y_pred) * 100\n",
    "    #print('Precision is :{0}'.format(clf_prec))\n",
    "    clf_rcl = recall_score(y_test, y_pred) * 100\n",
    "    print('Recall is :{0}'.format(clf_rcl))\n",
    "    clf_f1 = f1_score(y_test, y_pred) * 100\n",
    "    print('F1 Score is :{0}'.format(clf_f1))\n",
    "    false_positive_rate, true_positive_rate, thresholds = roc_curve(y_test, y_pred)\n",
    "    clf_roc_auc = auc(false_positive_rate, true_positive_rate)\n",
    "    print('ROC AUC is :{0}'.format(round(clf_roc_auc, 2)))"
   ]
  },
  {
   "cell_type": "markdown",
   "metadata": {},
   "source": [
    "## Baseline Decision Tree"
   ]
  },
  {
   "cell_type": "code",
   "execution_count": null,
   "metadata": {
    "ExecuteTime": {
     "end_time": "2022-06-02T20:53:57.623352Z",
     "start_time": "2022-06-02T20:53:57.599374Z"
    }
   },
   "outputs": [],
   "source": [
    "dt1 = DecisionTreeClassifier(random_state=23, class_weight=\"balanced\")\n",
    "dt1.fit(X_train_resampled, y_train_resampled)\n",
    "dt1_y_pred = dt1.predict(X_test)"
   ]
  },
  {
   "cell_type": "code",
   "execution_count": null,
   "metadata": {
    "ExecuteTime": {
     "end_time": "2022-06-02T20:54:01.611119Z",
     "start_time": "2022-06-02T20:54:01.593639Z"
    }
   },
   "outputs": [],
   "source": [
    "get_metrics(dt1, dt1_y_pred)"
   ]
  },
  {
   "cell_type": "code",
   "execution_count": null,
   "metadata": {
    "ExecuteTime": {
     "end_time": "2022-06-02T20:54:26.294334Z",
     "start_time": "2022-06-02T20:54:26.251104Z"
    }
   },
   "outputs": [],
   "source": [
    "dt1_cv_score = np.mean(cross_val_score(dt1, X_train_resampled, y_train_resampled, cv=3))\n",
    "dt1_cv_score"
   ]
  },
  {
   "cell_type": "code",
   "execution_count": null,
   "metadata": {
    "ExecuteTime": {
     "end_time": "2022-06-02T20:54:33.996287Z",
     "start_time": "2022-06-02T20:54:33.860800Z"
    }
   },
   "outputs": [],
   "source": [
    "dt1_matrix = confusion_matrix(y_test, dt1_y_pred)\n",
    "\n",
    "fig, ax = plt.subplots(figsize=(5,5))\n",
    "\n",
    "ax = sns.heatmap(dt1_matrix, annot=True, cmap='Blues', fmt='d')\n",
    "\n",
    "ax.set_title('Baseline Decision Tree Confusion Matrix', fontsize = 30);\n",
    "ax.set_xlabel('\\nPredicted Values',fontsize = 20)\n",
    "ax.set_ylabel('Actual Values ', fontsize=20);\n",
    "\n",
    "## Ticket labels - List must be in alphabetical order\n",
    "ax.xaxis.set_ticklabels(['Bad Score','5.0 Score'])\n",
    "ax.yaxis.set_ticklabels(['Bad Score','5.0 Score'])\n",
    "\n",
    "## Display the visualization of the Confusion Matrix.\n",
    "plt.show()"
   ]
  },
  {
   "cell_type": "markdown",
   "metadata": {},
   "source": [
    "### Refining Decision Tree through GridSearchCV"
   ]
  },
  {
   "cell_type": "code",
   "execution_count": null,
   "metadata": {
    "ExecuteTime": {
     "end_time": "2022-06-02T20:54:36.876602Z",
     "start_time": "2022-06-02T20:54:36.869565Z"
    }
   },
   "outputs": [],
   "source": [
    "dt_param_grid = {\n",
    "    'criterion': ['gini', 'entropy'],\n",
    "    'max_depth': [None, 2, 3, 4, 5, 6],\n",
    "    'min_samples_split': [2, 5, 10],\n",
    "    'min_samples_leaf': [1, 2, 3, 4, 5, 6]\n",
    "}"
   ]
  },
  {
   "cell_type": "code",
   "execution_count": null,
   "metadata": {
    "ExecuteTime": {
     "end_time": "2022-06-02T20:54:42.081987Z",
     "start_time": "2022-06-02T20:54:39.477246Z"
    }
   },
   "outputs": [],
   "source": [
    "# Instantiate GridSearchCV\n",
    "dt2 = DecisionTreeClassifier(random_state=23)\n",
    "\n",
    "dt_grid_search = GridSearchCV(dt2, dt_param_grid, cv=3, scoring = 'recall')\n",
    "\n",
    "# Fit to the data\n",
    "dt_grid_search.fit(X_train_resampled, y_train_resampled)"
   ]
  },
  {
   "cell_type": "code",
   "execution_count": null,
   "metadata": {
    "ExecuteTime": {
     "end_time": "2022-06-02T20:54:43.080994Z",
     "start_time": "2022-06-02T20:54:43.078869Z"
    }
   },
   "outputs": [],
   "source": [
    "dt_grid_search.best_params_"
   ]
  },
  {
   "cell_type": "markdown",
   "metadata": {},
   "source": [
    "## Decision Tree 2"
   ]
  },
  {
   "cell_type": "code",
   "execution_count": null,
   "metadata": {
    "ExecuteTime": {
     "end_time": "2022-06-02T20:54:52.641060Z",
     "start_time": "2022-06-02T20:54:52.616765Z"
    }
   },
   "outputs": [],
   "source": [
    "dt2 = DecisionTreeClassifier(criterion='entropy', max_depth=4, min_samples_split=2,\n",
    "                             min_samples_leaf=1, class_weight='balanced', random_state=23)\n",
    "dt2.fit(X_train_resampled, y_train_resampled)\n",
    "dt2_y_pred = dt2.predict(X_test)"
   ]
  },
  {
   "cell_type": "code",
   "execution_count": null,
   "metadata": {
    "ExecuteTime": {
     "end_time": "2022-06-02T20:54:54.312734Z",
     "start_time": "2022-06-02T20:54:54.293257Z"
    }
   },
   "outputs": [],
   "source": [
    "get_metrics(dt2, dt2_y_pred)"
   ]
  },
  {
   "cell_type": "code",
   "execution_count": null,
   "metadata": {
    "ExecuteTime": {
     "end_time": "2022-06-02T20:55:04.650979Z",
     "start_time": "2022-06-02T20:55:04.607573Z"
    }
   },
   "outputs": [],
   "source": [
    "dt2_cv_score = np.mean(cross_val_score(dt2, X_train_resampled, y_train_resampled, cv=3))\n",
    "dt2_cv_score"
   ]
  },
  {
   "cell_type": "code",
   "execution_count": null,
   "metadata": {
    "ExecuteTime": {
     "end_time": "2022-06-02T20:55:18.632866Z",
     "start_time": "2022-06-02T20:55:18.504207Z"
    }
   },
   "outputs": [],
   "source": [
    "dt2_matrix = confusion_matrix(y_test, dt2_y_pred)\n",
    "\n",
    "fig, ax = plt.subplots(figsize=(5,5))\n",
    "\n",
    "ax = sns.heatmap(dt2_matrix, annot=True, cmap='Blues', fmt='d')\n",
    "\n",
    "ax.set_title('Decision Tree 2 Confusion Matrix', fontsize = 30);\n",
    "ax.set_xlabel('\\nPredicted Values',fontsize = 20)\n",
    "ax.set_ylabel('Actual Values ', fontsize=20);\n",
    "\n",
    "## Ticket labels - List must be in alphabetical order\n",
    "ax.xaxis.set_ticklabels(['Bad Score','5.0 Score'])\n",
    "ax.yaxis.set_ticklabels(['Bad Score','5.0 Score'])\n",
    "\n",
    "## Display the visualization of the Confusion Matrix.\n",
    "plt.show()"
   ]
  },
  {
   "cell_type": "markdown",
   "metadata": {},
   "source": [
    "## Random Forests"
   ]
  },
  {
   "cell_type": "code",
   "execution_count": null,
   "metadata": {
    "ExecuteTime": {
     "end_time": "2022-06-02T20:55:21.500242Z",
     "start_time": "2022-06-02T20:55:21.274253Z"
    }
   },
   "outputs": [],
   "source": [
    "rf1_clf = RandomForestClassifier(random_state=23, class_weight=\"balanced\")\n",
    "rf1_clf.fit(X_train_resampled, y_train_resampled)\n",
    "rf1_y_pred = rf1_clf.predict(X_test)"
   ]
  },
  {
   "cell_type": "code",
   "execution_count": null,
   "metadata": {
    "ExecuteTime": {
     "end_time": "2022-06-02T20:55:26.790280Z",
     "start_time": "2022-06-02T20:55:26.774227Z"
    }
   },
   "outputs": [],
   "source": [
    "get_metrics(rf1_clf, rf1_y_pred)"
   ]
  },
  {
   "cell_type": "code",
   "execution_count": null,
   "metadata": {
    "ExecuteTime": {
     "end_time": "2022-06-02T20:56:16.091400Z",
     "start_time": "2022-06-02T20:56:15.610780Z"
    }
   },
   "outputs": [],
   "source": [
    "rf1_cv_score = np.mean(cross_val_score(rf1_clf, X_train_resampled, y_train_resampled, cv=3))\n",
    "rf1_cv_score"
   ]
  },
  {
   "cell_type": "markdown",
   "metadata": {},
   "source": [
    "### GridSearch CV"
   ]
  },
  {
   "cell_type": "code",
   "execution_count": null,
   "metadata": {
    "ExecuteTime": {
     "end_time": "2022-06-02T20:56:22.242742Z",
     "start_time": "2022-06-02T20:56:22.234958Z"
    }
   },
   "outputs": [],
   "source": [
    "rf_param_grid = {\n",
    "    'n_estimators': [10, 30, 100],\n",
    "    'criterion': ['gini', 'entropy'],\n",
    "    'max_depth': [None, 2, 6, 10],\n",
    "    'min_samples_split': [5, 10],\n",
    "    'min_samples_leaf': [3, 6]\n",
    "}"
   ]
  },
  {
   "cell_type": "code",
   "execution_count": null,
   "metadata": {
    "ExecuteTime": {
     "end_time": "2022-06-02T20:56:45.498288Z",
     "start_time": "2022-06-02T20:56:26.462600Z"
    }
   },
   "outputs": [],
   "source": [
    "rf2_clf = RandomForestClassifier(random_state=23)\n",
    "\n",
    "\n",
    "rf1_grid_search= GridSearchCV(rf2_clf, rf_param_grid, scoring = 'recall', cv=3)\n",
    "rf1_grid_search.fit(X_train_resampled, y_train_resampled)\n",
    "\n",
    "print(\"\")\n",
    "print(f\"Random Forest  Optimal Parameters: {rf1_grid_search.best_params_}\")"
   ]
  },
  {
   "cell_type": "markdown",
   "metadata": {},
   "source": [
    "## Random Forests 2"
   ]
  },
  {
   "cell_type": "code",
   "execution_count": null,
   "metadata": {
    "ExecuteTime": {
     "end_time": "2022-06-02T20:57:07.699366Z",
     "start_time": "2022-06-02T20:57:07.636361Z"
    }
   },
   "outputs": [],
   "source": [
    "rf2_clf = RandomForestClassifier(criterion= 'entropy', max_depth= 2, min_samples_leaf= 3,\n",
    "                                min_samples_split= 5, n_estimators= 30, random_state=23,\n",
    "                                class_weight='balanced')\n",
    "rf2_clf.fit(X_train_resampled, y_train_resampled)\n",
    "rf2_y_pred = rf2_clf.predict(X_test)"
   ]
  },
  {
   "cell_type": "code",
   "execution_count": null,
   "metadata": {
    "ExecuteTime": {
     "end_time": "2022-06-02T20:57:11.194897Z",
     "start_time": "2022-06-02T20:57:11.176082Z"
    }
   },
   "outputs": [],
   "source": [
    "get_metrics(rf2_clf, rf2_y_pred)"
   ]
  },
  {
   "cell_type": "code",
   "execution_count": null,
   "metadata": {
    "ExecuteTime": {
     "end_time": "2022-06-02T20:57:23.470630Z",
     "start_time": "2022-06-02T20:57:23.307189Z"
    }
   },
   "outputs": [],
   "source": [
    "rf2_cv_score = np.mean(cross_val_score(rf2_clf, X_train_resampled, y_train_resampled, cv=3))\n",
    "rf2_cv_score"
   ]
  },
  {
   "cell_type": "markdown",
   "metadata": {},
   "source": [
    "## XGBoost Model"
   ]
  },
  {
   "cell_type": "code",
   "execution_count": null,
   "metadata": {
    "ExecuteTime": {
     "end_time": "2022-06-02T20:57:30.328698Z",
     "start_time": "2022-06-02T20:57:30.091004Z"
    }
   },
   "outputs": [],
   "source": [
    "# Instantiate XGBClassifier\n",
    "clf = XGBClassifier(random_state=23)\n",
    "\n",
    "# Fit XGBClassifier\n",
    "xg1 = clf.fit(X_train_resampled, y_train_resampled)\n",
    "\n",
    "# Predict on training and test sets\n",
    "training_preds = clf.predict(X_train_resampled)\n",
    "xg1_y_pred = clf.predict(X_test)"
   ]
  },
  {
   "cell_type": "code",
   "execution_count": null,
   "metadata": {
    "ExecuteTime": {
     "end_time": "2022-06-02T20:57:31.741126Z",
     "start_time": "2022-06-02T20:57:31.724386Z"
    }
   },
   "outputs": [],
   "source": [
    "get_metrics(xg1, xg1_y_pred)"
   ]
  },
  {
   "cell_type": "code",
   "execution_count": null,
   "metadata": {
    "ExecuteTime": {
     "end_time": "2022-06-02T20:57:43.632920Z",
     "start_time": "2022-06-02T20:57:43.174443Z"
    }
   },
   "outputs": [],
   "source": [
    "xg1_cv_score = np.mean(cross_val_score(xg1, X_train_resampled, y_train_resampled, cv=3))\n",
    "xg1_cv_score"
   ]
  },
  {
   "cell_type": "markdown",
   "metadata": {},
   "source": [
    "### GridSearch"
   ]
  },
  {
   "cell_type": "code",
   "execution_count": null,
   "metadata": {
    "ExecuteTime": {
     "end_time": "2022-06-02T20:57:50.495891Z",
     "start_time": "2022-06-02T20:57:50.491796Z"
    }
   },
   "outputs": [],
   "source": [
    "boost_param_grid = {\n",
    "    'learning_rate': [0.1, 0.2],\n",
    "    'max_depth': [6],\n",
    "    'min_child_weight': [1, 2],\n",
    "    'subsample': [0.5, 0.7],\n",
    "    'n_estimators': [100],\n",
    "}"
   ]
  },
  {
   "cell_type": "markdown",
   "metadata": {},
   "source": [
    "## XGBoost 2"
   ]
  },
  {
   "cell_type": "code",
   "execution_count": null,
   "metadata": {
    "ExecuteTime": {
     "end_time": "2022-06-02T20:57:56.976072Z",
     "start_time": "2022-06-02T20:57:52.937782Z"
    }
   },
   "outputs": [],
   "source": [
    "xg2 = XGBClassifier(random_state=23)\n",
    "\n",
    "grid_clf = GridSearchCV(xg2, boost_param_grid, scoring='recall', cv=3, n_jobs=1)\n",
    "grid_clf.fit(X_train_resampled, y_train_resampled)\n",
    "\n",
    "best_parameters = grid_clf.best_params_\n",
    "\n",
    "print('Grid Search found the following optimal parameters: ')\n",
    "for param_name in sorted(best_parameters.keys()):\n",
    "    print('%s: %r' % (param_name, best_parameters[param_name]))"
   ]
  },
  {
   "cell_type": "code",
   "execution_count": null,
   "metadata": {
    "ExecuteTime": {
     "end_time": "2022-06-02T20:58:06.209187Z",
     "start_time": "2022-06-02T20:58:05.953058Z"
    }
   },
   "outputs": [],
   "source": [
    "xg2 = XGBClassifier(learning_rate= 0.2, max_depth=6, min_child_weight=2,\n",
    "                                n_estimators=100, subsample=0.5, random_state=23)\n",
    "xg2.fit(X_train_resampled, y_train_resampled)\n",
    "xg2_y_pred = xg2.predict(X_test)"
   ]
  },
  {
   "cell_type": "code",
   "execution_count": null,
   "metadata": {
    "ExecuteTime": {
     "end_time": "2022-06-02T20:58:08.339058Z",
     "start_time": "2022-06-02T20:58:08.319846Z"
    }
   },
   "outputs": [],
   "source": [
    "get_metrics(xg2, xg2_y_pred)"
   ]
  },
  {
   "cell_type": "code",
   "execution_count": null,
   "metadata": {
    "ExecuteTime": {
     "end_time": "2022-06-02T20:58:28.088658Z",
     "start_time": "2022-06-02T20:58:27.565471Z"
    }
   },
   "outputs": [],
   "source": [
    "xg2_cv_score = np.mean(cross_val_score(xg2, X_train_resampled, y_train_resampled, cv=3))\n",
    "xg2_cv_score"
   ]
  },
  {
   "cell_type": "code",
   "execution_count": null,
   "metadata": {
    "ExecuteTime": {
     "end_time": "2022-06-02T20:58:33.342298Z",
     "start_time": "2022-06-02T20:58:33.213366Z"
    }
   },
   "outputs": [],
   "source": [
    "xg2_matrix = confusion_matrix(y_test, xg2_y_pred)\n",
    "\n",
    "fig, ax = plt.subplots(figsize=(5,5))\n",
    "\n",
    "ax = sns.heatmap(xg2_matrix, annot=True, cmap='Blues', fmt='d')\n",
    "\n",
    "ax.set_title('XG Boost 2 Confusion Matrix', fontsize = 30);\n",
    "ax.set_xlabel('\\nPredicted Values',fontsize = 20)\n",
    "ax.set_ylabel('Actual Values ', fontsize=20);\n",
    "\n",
    "## Ticket labels - List must be in alphabetical order\n",
    "ax.xaxis.set_ticklabels(['Bad Score','5.0 Score'])\n",
    "ax.yaxis.set_ticklabels(['Bad Score','5.0 Score'])\n",
    "\n",
    "## Display the visualization of the Confusion Matrix.\n",
    "plt.show()"
   ]
  },
  {
   "cell_type": "markdown",
   "metadata": {},
   "source": [
    "## FINAL MODEL = Decision Tree 2"
   ]
  },
  {
   "cell_type": "markdown",
   "metadata": {
    "ExecuteTime": {
     "end_time": "2022-06-02T19:46:07.261325Z",
     "start_time": "2022-06-02T19:46:07.258239Z"
    }
   },
   "source": [
    "## Feature Importance"
   ]
  },
  {
   "cell_type": "code",
   "execution_count": null,
   "metadata": {
    "ExecuteTime": {
     "end_time": "2022-06-02T20:58:58.328347Z",
     "start_time": "2022-06-02T20:58:58.323527Z"
    }
   },
   "outputs": [],
   "source": [
    "feature_names = list(X)\n",
    "feature_names"
   ]
  },
  {
   "cell_type": "code",
   "execution_count": null,
   "metadata": {
    "ExecuteTime": {
     "end_time": "2022-06-02T20:58:59.519221Z",
     "start_time": "2022-06-02T20:58:59.505752Z"
    }
   },
   "outputs": [],
   "source": [
    "dt2_importance = dt2.feature_importances_\n",
    "dt2_importance"
   ]
  },
  {
   "cell_type": "code",
   "execution_count": null,
   "metadata": {
    "ExecuteTime": {
     "end_time": "2022-06-02T20:59:01.351618Z",
     "start_time": "2022-06-02T20:59:01.333419Z"
    }
   },
   "outputs": [],
   "source": [
    "feature_importance_df = pd.DataFrame(dt2_importance, feature_names)\n",
    "#feature_importance_df = pd.DataFrame(rf2_importance, feature_names)\n",
    "#feature_importance_df = pd.DataFrame(xg2_importance, feature_names)\n",
    "feature_importance_df= feature_importance_df.reset_index()\n",
    "feature_importance_df.rename(columns={'index': 'Feature', 0: 'Importance'}, inplace=True)\n",
    "feature_importance_df = feature_importance_df.sort_values('Importance', ascending=False)\n",
    "feature_importance_df"
   ]
  },
  {
   "cell_type": "code",
   "execution_count": null,
   "metadata": {
    "ExecuteTime": {
     "end_time": "2022-06-02T20:59:04.085199Z",
     "start_time": "2022-06-02T20:59:03.818258Z"
    }
   },
   "outputs": [],
   "source": [
    "# plot feature importance\n",
    "fig, ax = plt.subplots(figsize=(50,20))\n",
    "p = sns.barplot(data=feature_importance_df, x='Importance', y='Feature', color ='mediumpurple' );\n",
    "p.set_xlabel(\"Importance\", fontsize = 50)\n",
    "\n",
    "p.set_ylabel(\"Feature\", fontsize = 50)\n",
    "plt.xticks(fontsize=40)\n",
    "plt.yticks(fontsize=40)\n",
    "\n",
    "p.set_title(\"Features by Importance\", fontsize = 100)\n",
    "plt.figsize=(30,20) \n",
    "\n",
    "plt.show();"
   ]
  },
  {
   "cell_type": "code",
   "execution_count": null,
   "metadata": {},
   "outputs": [],
   "source": []
  }
 ],
 "metadata": {
  "kernelspec": {
   "display_name": "Python (learn-env)",
   "language": "python",
   "name": "learn-env"
  },
  "language_info": {
   "codemirror_mode": {
    "name": "ipython",
    "version": 3
   },
   "file_extension": ".py",
   "mimetype": "text/x-python",
   "name": "python",
   "nbconvert_exporter": "python",
   "pygments_lexer": "ipython3",
   "version": "3.8.5"
  },
  "toc": {
   "base_numbering": 1,
   "nav_menu": {},
   "number_sections": true,
   "sideBar": true,
   "skip_h1_title": true,
   "title_cell": "Table of Contents",
   "title_sidebar": "Contents",
   "toc_cell": false,
   "toc_position": {
    "height": "calc(100% - 180px)",
    "left": "10px",
    "top": "150px",
    "width": "288px"
   },
   "toc_section_display": true,
   "toc_window_display": true
  },
  "varInspector": {
   "cols": {
    "lenName": 16,
    "lenType": 16,
    "lenVar": 40
   },
   "kernels_config": {
    "python": {
     "delete_cmd_postfix": "",
     "delete_cmd_prefix": "del ",
     "library": "var_list.py",
     "varRefreshCmd": "print(var_dic_list())"
    },
    "r": {
     "delete_cmd_postfix": ") ",
     "delete_cmd_prefix": "rm(",
     "library": "var_list.r",
     "varRefreshCmd": "cat(var_dic_list()) "
    }
   },
   "types_to_exclude": [
    "module",
    "function",
    "builtin_function_or_method",
    "instance",
    "_Feature"
   ],
   "window_display": false
  }
 },
 "nbformat": 4,
 "nbformat_minor": 4
}
