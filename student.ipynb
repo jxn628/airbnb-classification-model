{
 "cells": [
  {
   "cell_type": "markdown",
   "metadata": {},
   "source": [
    "# Scenario\n",
    "Create a model that will predict whether a airbnb will get a perfect 5.0 rating in San Diego California. The purpose of this model is for airbnb hosts to have a way to evaluate their rentals and make sure that they are meeting all of the criteria to get that perfect review."
   ]
  },
  {
   "cell_type": "code",
   "execution_count": null,
   "metadata": {},
   "outputs": [],
   "source": []
  },
  {
   "cell_type": "markdown",
   "metadata": {},
   "source": [
    "## Questions to Answer"
   ]
  },
  {
   "cell_type": "markdown",
   "metadata": {},
   "source": [
    "1. How many units have a perfect rating?\n",
    "2. How long have they had perfect rating?\n",
    "3. How many reviews should the unit have to be considered? (ie, one 5.0 isn't enough)\n",
    "4. What review metrics have the most impact?\n",
    "5. What house factors have the most impact?\n",
    "6. Relationship between price and rating?"
   ]
  },
  {
   "cell_type": "markdown",
   "metadata": {},
   "source": [
    "## Loading Data"
   ]
  },
  {
   "cell_type": "code",
   "execution_count": 1,
   "metadata": {
    "ExecuteTime": {
     "end_time": "2022-06-06T19:00:08.867242Z",
     "start_time": "2022-06-06T19:00:07.987173Z"
    }
   },
   "outputs": [],
   "source": [
    "import warnings\n",
    "warnings.filterwarnings('ignore')\n",
    "import pandas as pd\n",
    "import seaborn as sns\n",
    "import matplotlib.pyplot as plt\n",
    "%matplotlib inline\n",
    "import matplotlib.ticker as mtick\n",
    "from matplotlib.pylab import rcParams\n",
    "import matplotlib.ticker as mtick\n",
    "from sklearn.model_selection import train_test_split, cross_val_score, GridSearchCV\n",
    "from sklearn.tree import DecisionTreeClassifier\n",
    "from sklearn.metrics import accuracy_score, mean_squared_error, mean_squared_log_error, roc_curve, auc\n",
    "from sklearn.metrics import precision_score, recall_score, accuracy_score, f1_score, classification_report\n",
    "from sklearn.metrics import confusion_matrix\n",
    "from sklearn.preprocessing import OneHotEncoder, StandardScaler\n",
    "from sklearn.linear_model import LinearRegression\n",
    "from sklearn.impute import SimpleImputer\n",
    "from sklearn import tree\n",
    "from sklearn.ensemble import RandomForestClassifier\n",
    "from imblearn.over_sampling import SMOTE\n",
    "from sklearn.metrics import plot_confusion_matrix\n",
    "from xgboost import XGBClassifier\n",
    "import numpy as np\n"
   ]
  },
  {
   "cell_type": "code",
   "execution_count": 2,
   "metadata": {
    "ExecuteTime": {
     "end_time": "2022-06-06T19:00:08.869998Z",
     "start_time": "2022-06-06T19:00:08.868328Z"
    }
   },
   "outputs": [],
   "source": [
    "pd.set_option('display.max_rows', 1000)\n",
    "plt.style.use('fivethirtyeight')"
   ]
  },
  {
   "cell_type": "markdown",
   "metadata": {},
   "source": [
    "## Reviews_df: Details on each review post"
   ]
  },
  {
   "cell_type": "code",
   "execution_count": 3,
   "metadata": {
    "ExecuteTime": {
     "end_time": "2022-06-06T19:00:11.334135Z",
     "start_time": "2022-06-06T19:00:08.871174Z"
    }
   },
   "outputs": [],
   "source": [
    "reviews_df = pd.read_csv('reviews.csv.gz')"
   ]
  },
  {
   "cell_type": "code",
   "execution_count": 4,
   "metadata": {
    "ExecuteTime": {
     "end_time": "2022-06-06T19:00:11.342298Z",
     "start_time": "2022-06-06T19:00:11.335373Z"
    }
   },
   "outputs": [
    {
     "data": {
      "text/html": [
       "<div>\n",
       "<style scoped>\n",
       "    .dataframe tbody tr th:only-of-type {\n",
       "        vertical-align: middle;\n",
       "    }\n",
       "\n",
       "    .dataframe tbody tr th {\n",
       "        vertical-align: top;\n",
       "    }\n",
       "\n",
       "    .dataframe thead th {\n",
       "        text-align: right;\n",
       "    }\n",
       "</style>\n",
       "<table border=\"1\" class=\"dataframe\">\n",
       "  <thead>\n",
       "    <tr style=\"text-align: right;\">\n",
       "      <th></th>\n",
       "      <th>listing_id</th>\n",
       "      <th>id</th>\n",
       "      <th>date</th>\n",
       "      <th>reviewer_id</th>\n",
       "      <th>reviewer_name</th>\n",
       "      <th>comments</th>\n",
       "    </tr>\n",
       "  </thead>\n",
       "  <tbody>\n",
       "    <tr>\n",
       "      <th>0</th>\n",
       "      <td>29967</td>\n",
       "      <td>62788</td>\n",
       "      <td>2010-07-09</td>\n",
       "      <td>151260</td>\n",
       "      <td>Debbie</td>\n",
       "      <td>When I booked our stay in San Diego at Dennis ...</td>\n",
       "    </tr>\n",
       "    <tr>\n",
       "      <th>1</th>\n",
       "      <td>29967</td>\n",
       "      <td>64568</td>\n",
       "      <td>2010-07-14</td>\n",
       "      <td>141552</td>\n",
       "      <td>Eric</td>\n",
       "      <td>This was my first experience with using airbnb...</td>\n",
       "    </tr>\n",
       "    <tr>\n",
       "      <th>2</th>\n",
       "      <td>29967</td>\n",
       "      <td>67502</td>\n",
       "      <td>2010-07-22</td>\n",
       "      <td>141591</td>\n",
       "      <td>David</td>\n",
       "      <td>We found the house to be very accommodating--e...</td>\n",
       "    </tr>\n",
       "    <tr>\n",
       "      <th>3</th>\n",
       "      <td>29967</td>\n",
       "      <td>70466</td>\n",
       "      <td>2010-07-29</td>\n",
       "      <td>125982</td>\n",
       "      <td>Anders</td>\n",
       "      <td>As advertised and more. Dennis was very helpfu...</td>\n",
       "    </tr>\n",
       "    <tr>\n",
       "      <th>4</th>\n",
       "      <td>29967</td>\n",
       "      <td>74876</td>\n",
       "      <td>2010-08-07</td>\n",
       "      <td>29835</td>\n",
       "      <td>Miyoko</td>\n",
       "      <td>We had a great time in San Diego. Denis' house...</td>\n",
       "    </tr>\n",
       "  </tbody>\n",
       "</table>\n",
       "</div>"
      ],
      "text/plain": [
       "   listing_id     id        date  reviewer_id reviewer_name  \\\n",
       "0       29967  62788  2010-07-09       151260        Debbie   \n",
       "1       29967  64568  2010-07-14       141552          Eric   \n",
       "2       29967  67502  2010-07-22       141591         David   \n",
       "3       29967  70466  2010-07-29       125982        Anders   \n",
       "4       29967  74876  2010-08-07        29835        Miyoko   \n",
       "\n",
       "                                            comments  \n",
       "0  When I booked our stay in San Diego at Dennis ...  \n",
       "1  This was my first experience with using airbnb...  \n",
       "2  We found the house to be very accommodating--e...  \n",
       "3  As advertised and more. Dennis was very helpfu...  \n",
       "4  We had a great time in San Diego. Denis' house...  "
      ]
     },
     "execution_count": 4,
     "metadata": {},
     "output_type": "execute_result"
    }
   ],
   "source": [
    "reviews_df.head()"
   ]
  },
  {
   "cell_type": "markdown",
   "metadata": {},
   "source": [
    "## Listing_DF: Baseline DF with many columns"
   ]
  },
  {
   "cell_type": "code",
   "execution_count": 5,
   "metadata": {
    "ExecuteTime": {
     "end_time": "2022-06-06T19:00:11.763090Z",
     "start_time": "2022-06-06T19:00:11.343135Z"
    }
   },
   "outputs": [],
   "source": [
    "listing_df = pd.read_csv('listings.csv.gz')"
   ]
  },
  {
   "cell_type": "code",
   "execution_count": 6,
   "metadata": {
    "ExecuteTime": {
     "end_time": "2022-06-06T19:00:11.784801Z",
     "start_time": "2022-06-06T19:00:11.764102Z"
    }
   },
   "outputs": [
    {
     "name": "stdout",
     "output_type": "stream",
     "text": [
      "<class 'pandas.core.frame.DataFrame'>\n",
      "RangeIndex: 10935 entries, 0 to 10934\n",
      "Data columns (total 74 columns):\n",
      " #   Column                                        Non-Null Count  Dtype  \n",
      "---  ------                                        --------------  -----  \n",
      " 0   id                                            10935 non-null  int64  \n",
      " 1   listing_url                                   10935 non-null  object \n",
      " 2   scrape_id                                     10935 non-null  int64  \n",
      " 3   last_scraped                                  10935 non-null  object \n",
      " 4   name                                          10935 non-null  object \n",
      " 5   description                                   10809 non-null  object \n",
      " 6   neighborhood_overview                         7440 non-null   object \n",
      " 7   picture_url                                   10935 non-null  object \n",
      " 8   host_id                                       10935 non-null  int64  \n",
      " 9   host_url                                      10935 non-null  object \n",
      " 10  host_name                                     10931 non-null  object \n",
      " 11  host_since                                    10931 non-null  object \n",
      " 12  host_location                                 10924 non-null  object \n",
      " 13  host_about                                    7436 non-null   object \n",
      " 14  host_response_time                            10113 non-null  object \n",
      " 15  host_response_rate                            10113 non-null  object \n",
      " 16  host_acceptance_rate                          10543 non-null  object \n",
      " 17  host_is_superhost                             10931 non-null  object \n",
      " 18  host_thumbnail_url                            10931 non-null  object \n",
      " 19  host_picture_url                              10931 non-null  object \n",
      " 20  host_neighbourhood                            9900 non-null   object \n",
      " 21  host_listings_count                           10931 non-null  float64\n",
      " 22  host_total_listings_count                     10931 non-null  float64\n",
      " 23  host_verifications                            10935 non-null  object \n",
      " 24  host_has_profile_pic                          10931 non-null  object \n",
      " 25  host_identity_verified                        10931 non-null  object \n",
      " 26  neighbourhood                                 7440 non-null   object \n",
      " 27  neighbourhood_cleansed                        10935 non-null  object \n",
      " 28  neighbourhood_group_cleansed                  0 non-null      float64\n",
      " 29  latitude                                      10935 non-null  float64\n",
      " 30  longitude                                     10935 non-null  float64\n",
      " 31  property_type                                 10935 non-null  object \n",
      " 32  room_type                                     10935 non-null  object \n",
      " 33  accommodates                                  10935 non-null  int64  \n",
      " 34  bathrooms                                     0 non-null      float64\n",
      " 35  bathrooms_text                                10930 non-null  object \n",
      " 36  bedrooms                                      9905 non-null   float64\n",
      " 37  beds                                          10813 non-null  float64\n",
      " 38  amenities                                     10935 non-null  object \n",
      " 39  price                                         10935 non-null  object \n",
      " 40  minimum_nights                                10935 non-null  int64  \n",
      " 41  maximum_nights                                10935 non-null  int64  \n",
      " 42  minimum_minimum_nights                        10934 non-null  float64\n",
      " 43  maximum_minimum_nights                        10934 non-null  float64\n",
      " 44  minimum_maximum_nights                        10934 non-null  float64\n",
      " 45  maximum_maximum_nights                        10934 non-null  float64\n",
      " 46  minimum_nights_avg_ntm                        10934 non-null  float64\n",
      " 47  maximum_nights_avg_ntm                        10934 non-null  float64\n",
      " 48  calendar_updated                              0 non-null      float64\n",
      " 49  has_availability                              10935 non-null  object \n",
      " 50  availability_30                               10935 non-null  int64  \n",
      " 51  availability_60                               10935 non-null  int64  \n",
      " 52  availability_90                               10935 non-null  int64  \n",
      " 53  availability_365                              10935 non-null  int64  \n",
      " 54  calendar_last_scraped                         10935 non-null  object \n",
      " 55  number_of_reviews                             10935 non-null  int64  \n",
      " 56  number_of_reviews_ltm                         10935 non-null  int64  \n",
      " 57  number_of_reviews_l30d                        10935 non-null  int64  \n",
      " 58  first_review                                  9408 non-null   object \n",
      " 59  last_review                                   9408 non-null   object \n",
      " 60  review_scores_rating                          9408 non-null   float64\n",
      " 61  review_scores_accuracy                        9385 non-null   float64\n",
      " 62  review_scores_cleanliness                     9385 non-null   float64\n",
      " 63  review_scores_checkin                         9383 non-null   float64\n",
      " 64  review_scores_communication                   9385 non-null   float64\n",
      " 65  review_scores_location                        9383 non-null   float64\n",
      " 66  review_scores_value                           9383 non-null   float64\n",
      " 67  license                                       0 non-null      float64\n",
      " 68  instant_bookable                              10935 non-null  object \n",
      " 69  calculated_host_listings_count                10935 non-null  int64  \n",
      " 70  calculated_host_listings_count_entire_homes   10935 non-null  int64  \n",
      " 71  calculated_host_listings_count_private_rooms  10935 non-null  int64  \n",
      " 72  calculated_host_listings_count_shared_rooms   10935 non-null  int64  \n",
      " 73  reviews_per_month                             9408 non-null   float64\n",
      "dtypes: float64(24), int64(17), object(33)\n",
      "memory usage: 6.2+ MB\n"
     ]
    }
   ],
   "source": [
    "listing_df.info()"
   ]
  },
  {
   "cell_type": "code",
   "execution_count": 7,
   "metadata": {
    "ExecuteTime": {
     "end_time": "2022-06-06T19:00:11.788950Z",
     "start_time": "2022-06-06T19:00:11.785653Z"
    }
   },
   "outputs": [
    {
     "data": {
      "text/plain": [
       "0         $60.00\n",
       "1        $282.00\n",
       "2        $348.00\n",
       "3        $368.00\n",
       "4        $264.00\n",
       "          ...   \n",
       "10930    $228.00\n",
       "10931    $168.00\n",
       "10932    $500.00\n",
       "10933     $67.00\n",
       "10934     $88.00\n",
       "Name: price, Length: 10935, dtype: object"
      ]
     },
     "execution_count": 7,
     "metadata": {},
     "output_type": "execute_result"
    }
   ],
   "source": [
    "listing_df['price']"
   ]
  },
  {
   "cell_type": "markdown",
   "metadata": {},
   "source": [
    "### Fixing Price"
   ]
  },
  {
   "cell_type": "code",
   "execution_count": 8,
   "metadata": {
    "ExecuteTime": {
     "end_time": "2022-06-06T19:00:11.800019Z",
     "start_time": "2022-06-06T19:00:11.791054Z"
    }
   },
   "outputs": [],
   "source": [
    "listing_df['price'] = listing_df['price'].map(lambda x: x.replace('$',' '))\n",
    "listing_df['price'] = listing_df['price'].map(lambda x: x.replace(',',''))\n",
    "listing_df['price'] = listing_df['price'].astype(float)"
   ]
  },
  {
   "cell_type": "code",
   "execution_count": 9,
   "metadata": {
    "ExecuteTime": {
     "end_time": "2022-06-06T19:00:11.804871Z",
     "start_time": "2022-06-06T19:00:11.801646Z"
    }
   },
   "outputs": [
    {
     "data": {
      "text/plain": [
       "0         60.0\n",
       "1        282.0\n",
       "2        348.0\n",
       "3        368.0\n",
       "4        264.0\n",
       "         ...  \n",
       "10930    228.0\n",
       "10931    168.0\n",
       "10932    500.0\n",
       "10933     67.0\n",
       "10934     88.0\n",
       "Name: price, Length: 10935, dtype: float64"
      ]
     },
     "execution_count": 9,
     "metadata": {},
     "output_type": "execute_result"
    }
   ],
   "source": [
    "listing_df['price']"
   ]
  },
  {
   "cell_type": "markdown",
   "metadata": {},
   "source": [
    "## Review Score DF"
   ]
  },
  {
   "cell_type": "code",
   "execution_count": 10,
   "metadata": {
    "ExecuteTime": {
     "end_time": "2022-06-06T19:00:11.808053Z",
     "start_time": "2022-06-06T19:00:11.805775Z"
    }
   },
   "outputs": [],
   "source": [
    "#review_score_df = listing_df[['id', 'price', 'review_scores_rating', 'review_scores_accuracy',\n",
    "#                             'review_scores_cleanliness', 'review_scores_checkin', 'review_scores_communication',\n",
    "#                             'review_scores_location', 'review_scores_value', 'number_of_reviews',\n",
    "#                             'number_of_reviews_ltm', 'number_of_reviews_l30d']]"
   ]
  },
  {
   "cell_type": "code",
   "execution_count": 11,
   "metadata": {
    "ExecuteTime": {
     "end_time": "2022-06-06T19:00:11.831475Z",
     "start_time": "2022-06-06T19:00:11.809505Z"
    }
   },
   "outputs": [
    {
     "name": "stdout",
     "output_type": "stream",
     "text": [
      "<class 'pandas.core.frame.DataFrame'>\n",
      "RangeIndex: 10935 entries, 0 to 10934\n",
      "Data columns (total 74 columns):\n",
      " #   Column                                        Non-Null Count  Dtype  \n",
      "---  ------                                        --------------  -----  \n",
      " 0   id                                            10935 non-null  int64  \n",
      " 1   listing_url                                   10935 non-null  object \n",
      " 2   scrape_id                                     10935 non-null  int64  \n",
      " 3   last_scraped                                  10935 non-null  object \n",
      " 4   name                                          10935 non-null  object \n",
      " 5   description                                   10809 non-null  object \n",
      " 6   neighborhood_overview                         7440 non-null   object \n",
      " 7   picture_url                                   10935 non-null  object \n",
      " 8   host_id                                       10935 non-null  int64  \n",
      " 9   host_url                                      10935 non-null  object \n",
      " 10  host_name                                     10931 non-null  object \n",
      " 11  host_since                                    10931 non-null  object \n",
      " 12  host_location                                 10924 non-null  object \n",
      " 13  host_about                                    7436 non-null   object \n",
      " 14  host_response_time                            10113 non-null  object \n",
      " 15  host_response_rate                            10113 non-null  object \n",
      " 16  host_acceptance_rate                          10543 non-null  object \n",
      " 17  host_is_superhost                             10931 non-null  object \n",
      " 18  host_thumbnail_url                            10931 non-null  object \n",
      " 19  host_picture_url                              10931 non-null  object \n",
      " 20  host_neighbourhood                            9900 non-null   object \n",
      " 21  host_listings_count                           10931 non-null  float64\n",
      " 22  host_total_listings_count                     10931 non-null  float64\n",
      " 23  host_verifications                            10935 non-null  object \n",
      " 24  host_has_profile_pic                          10931 non-null  object \n",
      " 25  host_identity_verified                        10931 non-null  object \n",
      " 26  neighbourhood                                 7440 non-null   object \n",
      " 27  neighbourhood_cleansed                        10935 non-null  object \n",
      " 28  neighbourhood_group_cleansed                  0 non-null      float64\n",
      " 29  latitude                                      10935 non-null  float64\n",
      " 30  longitude                                     10935 non-null  float64\n",
      " 31  property_type                                 10935 non-null  object \n",
      " 32  room_type                                     10935 non-null  object \n",
      " 33  accommodates                                  10935 non-null  int64  \n",
      " 34  bathrooms                                     0 non-null      float64\n",
      " 35  bathrooms_text                                10930 non-null  object \n",
      " 36  bedrooms                                      9905 non-null   float64\n",
      " 37  beds                                          10813 non-null  float64\n",
      " 38  amenities                                     10935 non-null  object \n",
      " 39  price                                         10935 non-null  float64\n",
      " 40  minimum_nights                                10935 non-null  int64  \n",
      " 41  maximum_nights                                10935 non-null  int64  \n",
      " 42  minimum_minimum_nights                        10934 non-null  float64\n",
      " 43  maximum_minimum_nights                        10934 non-null  float64\n",
      " 44  minimum_maximum_nights                        10934 non-null  float64\n",
      " 45  maximum_maximum_nights                        10934 non-null  float64\n",
      " 46  minimum_nights_avg_ntm                        10934 non-null  float64\n",
      " 47  maximum_nights_avg_ntm                        10934 non-null  float64\n",
      " 48  calendar_updated                              0 non-null      float64\n",
      " 49  has_availability                              10935 non-null  object \n",
      " 50  availability_30                               10935 non-null  int64  \n",
      " 51  availability_60                               10935 non-null  int64  \n",
      " 52  availability_90                               10935 non-null  int64  \n",
      " 53  availability_365                              10935 non-null  int64  \n",
      " 54  calendar_last_scraped                         10935 non-null  object \n",
      " 55  number_of_reviews                             10935 non-null  int64  \n",
      " 56  number_of_reviews_ltm                         10935 non-null  int64  \n",
      " 57  number_of_reviews_l30d                        10935 non-null  int64  \n",
      " 58  first_review                                  9408 non-null   object \n",
      " 59  last_review                                   9408 non-null   object \n",
      " 60  review_scores_rating                          9408 non-null   float64\n",
      " 61  review_scores_accuracy                        9385 non-null   float64\n",
      " 62  review_scores_cleanliness                     9385 non-null   float64\n",
      " 63  review_scores_checkin                         9383 non-null   float64\n",
      " 64  review_scores_communication                   9385 non-null   float64\n",
      " 65  review_scores_location                        9383 non-null   float64\n",
      " 66  review_scores_value                           9383 non-null   float64\n",
      " 67  license                                       0 non-null      float64\n",
      " 68  instant_bookable                              10935 non-null  object \n",
      " 69  calculated_host_listings_count                10935 non-null  int64  \n",
      " 70  calculated_host_listings_count_entire_homes   10935 non-null  int64  \n",
      " 71  calculated_host_listings_count_private_rooms  10935 non-null  int64  \n",
      " 72  calculated_host_listings_count_shared_rooms   10935 non-null  int64  \n",
      " 73  reviews_per_month                             9408 non-null   float64\n",
      "dtypes: float64(25), int64(17), object(32)\n",
      "memory usage: 6.2+ MB\n"
     ]
    }
   ],
   "source": [
    "listing_df.info()"
   ]
  },
  {
   "cell_type": "code",
   "execution_count": 12,
   "metadata": {
    "ExecuteTime": {
     "end_time": "2022-06-06T19:00:11.835651Z",
     "start_time": "2022-06-06T19:00:11.832530Z"
    }
   },
   "outputs": [],
   "source": [
    "review_score_df = listing_df[['price', 'review_scores_rating', 'review_scores_accuracy',\n",
    "                             'review_scores_cleanliness', 'review_scores_checkin', 'review_scores_communication',\n",
    "                             'review_scores_location', 'review_scores_value','accommodates',\n",
    "                              'bedrooms', 'beds', 'instant_bookable',\n",
    "                             'property_type', 'room_type', 'amenities', 'availability_365', 'availability_30',\n",
    "                             'availability_90']]"
   ]
  },
  {
   "cell_type": "code",
   "execution_count": 13,
   "metadata": {
    "ExecuteTime": {
     "end_time": "2022-06-06T19:00:11.838133Z",
     "start_time": "2022-06-06T19:00:11.836609Z"
    }
   },
   "outputs": [],
   "source": [
    "df = review_score_df"
   ]
  },
  {
   "cell_type": "code",
   "execution_count": 14,
   "metadata": {
    "ExecuteTime": {
     "end_time": "2022-06-06T19:00:11.849302Z",
     "start_time": "2022-06-06T19:00:11.838984Z"
    }
   },
   "outputs": [
    {
     "data": {
      "text/html": [
       "<div>\n",
       "<style scoped>\n",
       "    .dataframe tbody tr th:only-of-type {\n",
       "        vertical-align: middle;\n",
       "    }\n",
       "\n",
       "    .dataframe tbody tr th {\n",
       "        vertical-align: top;\n",
       "    }\n",
       "\n",
       "    .dataframe thead th {\n",
       "        text-align: right;\n",
       "    }\n",
       "</style>\n",
       "<table border=\"1\" class=\"dataframe\">\n",
       "  <thead>\n",
       "    <tr style=\"text-align: right;\">\n",
       "      <th></th>\n",
       "      <th>price</th>\n",
       "      <th>review_scores_rating</th>\n",
       "      <th>review_scores_accuracy</th>\n",
       "      <th>review_scores_cleanliness</th>\n",
       "      <th>review_scores_checkin</th>\n",
       "      <th>review_scores_communication</th>\n",
       "      <th>review_scores_location</th>\n",
       "      <th>review_scores_value</th>\n",
       "      <th>accommodates</th>\n",
       "      <th>bedrooms</th>\n",
       "      <th>beds</th>\n",
       "      <th>instant_bookable</th>\n",
       "      <th>property_type</th>\n",
       "      <th>room_type</th>\n",
       "      <th>amenities</th>\n",
       "      <th>availability_365</th>\n",
       "      <th>availability_30</th>\n",
       "      <th>availability_90</th>\n",
       "    </tr>\n",
       "  </thead>\n",
       "  <tbody>\n",
       "    <tr>\n",
       "      <th>0</th>\n",
       "      <td>60.0</td>\n",
       "      <td>5.00</td>\n",
       "      <td>5.00</td>\n",
       "      <td>5.00</td>\n",
       "      <td>5.00</td>\n",
       "      <td>5.00</td>\n",
       "      <td>4.00</td>\n",
       "      <td>5.00</td>\n",
       "      <td>2</td>\n",
       "      <td>1.0</td>\n",
       "      <td>1.0</td>\n",
       "      <td>t</td>\n",
       "      <td>Private room in rental unit</td>\n",
       "      <td>Private room</td>\n",
       "      <td>[\"First aid kit\", \"Private patio or balcony\", ...</td>\n",
       "      <td>51</td>\n",
       "      <td>0</td>\n",
       "      <td>51</td>\n",
       "    </tr>\n",
       "    <tr>\n",
       "      <th>1</th>\n",
       "      <td>282.0</td>\n",
       "      <td>4.87</td>\n",
       "      <td>4.91</td>\n",
       "      <td>4.64</td>\n",
       "      <td>4.99</td>\n",
       "      <td>4.98</td>\n",
       "      <td>4.87</td>\n",
       "      <td>4.86</td>\n",
       "      <td>6</td>\n",
       "      <td>3.0</td>\n",
       "      <td>3.0</td>\n",
       "      <td>f</td>\n",
       "      <td>Entire residential home</td>\n",
       "      <td>Entire home/apt</td>\n",
       "      <td>[\"First aid kit\", \"Ethernet connection\", \"Bike...</td>\n",
       "      <td>241</td>\n",
       "      <td>12</td>\n",
       "      <td>63</td>\n",
       "    </tr>\n",
       "    <tr>\n",
       "      <th>2</th>\n",
       "      <td>348.0</td>\n",
       "      <td>4.92</td>\n",
       "      <td>5.00</td>\n",
       "      <td>4.92</td>\n",
       "      <td>5.00</td>\n",
       "      <td>5.00</td>\n",
       "      <td>4.92</td>\n",
       "      <td>4.92</td>\n",
       "      <td>2</td>\n",
       "      <td>1.0</td>\n",
       "      <td>1.0</td>\n",
       "      <td>t</td>\n",
       "      <td>Entire residential home</td>\n",
       "      <td>Entire home/apt</td>\n",
       "      <td>[\"Shower gel\", \"Private patio or balcony\", \"TV...</td>\n",
       "      <td>93</td>\n",
       "      <td>5</td>\n",
       "      <td>5</td>\n",
       "    </tr>\n",
       "    <tr>\n",
       "      <th>3</th>\n",
       "      <td>368.0</td>\n",
       "      <td>4.88</td>\n",
       "      <td>4.96</td>\n",
       "      <td>4.96</td>\n",
       "      <td>5.00</td>\n",
       "      <td>5.00</td>\n",
       "      <td>4.75</td>\n",
       "      <td>4.71</td>\n",
       "      <td>6</td>\n",
       "      <td>3.0</td>\n",
       "      <td>4.0</td>\n",
       "      <td>t</td>\n",
       "      <td>Entire townhouse</td>\n",
       "      <td>Entire home/apt</td>\n",
       "      <td>[\"First aid kit\", \"Private patio or balcony\", ...</td>\n",
       "      <td>112</td>\n",
       "      <td>10</td>\n",
       "      <td>53</td>\n",
       "    </tr>\n",
       "    <tr>\n",
       "      <th>4</th>\n",
       "      <td>264.0</td>\n",
       "      <td>5.00</td>\n",
       "      <td>5.00</td>\n",
       "      <td>4.75</td>\n",
       "      <td>4.75</td>\n",
       "      <td>4.75</td>\n",
       "      <td>5.00</td>\n",
       "      <td>4.75</td>\n",
       "      <td>4</td>\n",
       "      <td>1.0</td>\n",
       "      <td>1.0</td>\n",
       "      <td>f</td>\n",
       "      <td>Entire serviced apartment</td>\n",
       "      <td>Entire home/apt</td>\n",
       "      <td>[\"First aid kit\", \"Shower gel\", \"Outdoor showe...</td>\n",
       "      <td>126</td>\n",
       "      <td>25</td>\n",
       "      <td>85</td>\n",
       "    </tr>\n",
       "  </tbody>\n",
       "</table>\n",
       "</div>"
      ],
      "text/plain": [
       "   price  review_scores_rating  review_scores_accuracy  \\\n",
       "0   60.0                  5.00                    5.00   \n",
       "1  282.0                  4.87                    4.91   \n",
       "2  348.0                  4.92                    5.00   \n",
       "3  368.0                  4.88                    4.96   \n",
       "4  264.0                  5.00                    5.00   \n",
       "\n",
       "   review_scores_cleanliness  review_scores_checkin  \\\n",
       "0                       5.00                   5.00   \n",
       "1                       4.64                   4.99   \n",
       "2                       4.92                   5.00   \n",
       "3                       4.96                   5.00   \n",
       "4                       4.75                   4.75   \n",
       "\n",
       "   review_scores_communication  review_scores_location  review_scores_value  \\\n",
       "0                         5.00                    4.00                 5.00   \n",
       "1                         4.98                    4.87                 4.86   \n",
       "2                         5.00                    4.92                 4.92   \n",
       "3                         5.00                    4.75                 4.71   \n",
       "4                         4.75                    5.00                 4.75   \n",
       "\n",
       "   accommodates  bedrooms  beds instant_bookable                property_type  \\\n",
       "0             2       1.0   1.0                t  Private room in rental unit   \n",
       "1             6       3.0   3.0                f      Entire residential home   \n",
       "2             2       1.0   1.0                t      Entire residential home   \n",
       "3             6       3.0   4.0                t             Entire townhouse   \n",
       "4             4       1.0   1.0                f    Entire serviced apartment   \n",
       "\n",
       "         room_type                                          amenities  \\\n",
       "0     Private room  [\"First aid kit\", \"Private patio or balcony\", ...   \n",
       "1  Entire home/apt  [\"First aid kit\", \"Ethernet connection\", \"Bike...   \n",
       "2  Entire home/apt  [\"Shower gel\", \"Private patio or balcony\", \"TV...   \n",
       "3  Entire home/apt  [\"First aid kit\", \"Private patio or balcony\", ...   \n",
       "4  Entire home/apt  [\"First aid kit\", \"Shower gel\", \"Outdoor showe...   \n",
       "\n",
       "   availability_365  availability_30  availability_90  \n",
       "0                51                0               51  \n",
       "1               241               12               63  \n",
       "2                93                5                5  \n",
       "3               112               10               53  \n",
       "4               126               25               85  "
      ]
     },
     "execution_count": 14,
     "metadata": {},
     "output_type": "execute_result"
    }
   ],
   "source": [
    "df.head()"
   ]
  },
  {
   "cell_type": "code",
   "execution_count": 15,
   "metadata": {
    "ExecuteTime": {
     "end_time": "2022-06-06T19:00:11.855846Z",
     "start_time": "2022-06-06T19:00:11.850719Z"
    }
   },
   "outputs": [
    {
     "data": {
      "text/plain": [
       "0      861\n",
       "365    194\n",
       "364    151\n",
       "358    150\n",
       "81      82\n",
       "360     72\n",
       "361     71\n",
       "356     68\n",
       "1       62\n",
       "82      62\n",
       "89      60\n",
       "51      59\n",
       "90      58\n",
       "20      57\n",
       "355     57\n",
       "362     56\n",
       "50      51\n",
       "52      51\n",
       "80      50\n",
       "359     50\n",
       "363     49\n",
       "357     49\n",
       "63      48\n",
       "326     47\n",
       "352     47\n",
       "57      46\n",
       "234     45\n",
       "329     44\n",
       "49      43\n",
       "351     43\n",
       "203     43\n",
       "344     43\n",
       "295     41\n",
       "296     41\n",
       "346     41\n",
       "75      41\n",
       "83      41\n",
       "79      40\n",
       "353     40\n",
       "327     40\n",
       "3       40\n",
       "72      40\n",
       "275     39\n",
       "173     39\n",
       "65      39\n",
       "84      39\n",
       "69      39\n",
       "340     38\n",
       "87      38\n",
       "110     38\n",
       "70      37\n",
       "85      37\n",
       "77      37\n",
       "66      37\n",
       "220     37\n",
       "88      37\n",
       "180     37\n",
       "266     36\n",
       "265     36\n",
       "336     36\n",
       "349     36\n",
       "235     36\n",
       "60      36\n",
       "2       36\n",
       "324     36\n",
       "270     36\n",
       "78      35\n",
       "74      35\n",
       "328     35\n",
       "56      35\n",
       "64      35\n",
       "179     34\n",
       "33      34\n",
       "354     34\n",
       "35      34\n",
       "53      34\n",
       "67      34\n",
       "73      33\n",
       "30      33\n",
       "58      33\n",
       "59      33\n",
       "126     33\n",
       "141     33\n",
       "36      33\n",
       "44      33\n",
       "142     33\n",
       "323     32\n",
       "163     32\n",
       "309     32\n",
       "325     32\n",
       "341     32\n",
       "171     32\n",
       "312     32\n",
       "86      32\n",
       "159     31\n",
       "315     31\n",
       "258     30\n",
       "62      30\n",
       "37      30\n",
       "337     30\n",
       "350     30\n",
       "11      30\n",
       "4       30\n",
       "17      30\n",
       "343     29\n",
       "151     29\n",
       "261     29\n",
       "216     29\n",
       "48      29\n",
       "294     29\n",
       "26      29\n",
       "45      29\n",
       "247     29\n",
       "177     29\n",
       "274     29\n",
       "124     29\n",
       "127     29\n",
       "21      29\n",
       "252     29\n",
       "347     29\n",
       "348     29\n",
       "41      28\n",
       "303     28\n",
       "214     28\n",
       "334     28\n",
       "338     28\n",
       "342     28\n",
       "241     28\n",
       "28      28\n",
       "97      28\n",
       "112     28\n",
       "71      28\n",
       "47      28\n",
       "339     27\n",
       "168     27\n",
       "250     27\n",
       "136     27\n",
       "14      27\n",
       "292     27\n",
       "92      27\n",
       "6       27\n",
       "264     27\n",
       "230     27\n",
       "229     27\n",
       "167     27\n",
       "277     27\n",
       "207     27\n",
       "335     27\n",
       "263     27\n",
       "32      27\n",
       "333     27\n",
       "31      26\n",
       "18      26\n",
       "238     26\n",
       "111     26\n",
       "236     26\n",
       "46      26\n",
       "160     26\n",
       "23      26\n",
       "319     26\n",
       "120     26\n",
       "297     26\n",
       "76      25\n",
       "9       25\n",
       "293     25\n",
       "19      25\n",
       "140     25\n",
       "233     25\n",
       "256     25\n",
       "284     25\n",
       "5       25\n",
       "260     25\n",
       "228     25\n",
       "224     25\n",
       "61      25\n",
       "320     25\n",
       "218     25\n",
       "158     25\n",
       "249     25\n",
       "259     24\n",
       "123     24\n",
       "24      24\n",
       "104     24\n",
       "248     24\n",
       "128     24\n",
       "280     24\n",
       "22      24\n",
       "25      24\n",
       "269     24\n",
       "145     24\n",
       "174     24\n",
       "273     24\n",
       "289     24\n",
       "313     24\n",
       "345     24\n",
       "39      24\n",
       "254     24\n",
       "262     24\n",
       "42      24\n",
       "276     24\n",
       "306     24\n",
       "314     24\n",
       "322     24\n",
       "137     24\n",
       "330     23\n",
       "299     23\n",
       "125     23\n",
       "331     23\n",
       "100     23\n",
       "302     23\n",
       "278     23\n",
       "255     23\n",
       "243     23\n",
       "227     23\n",
       "231     23\n",
       "143     23\n",
       "13      23\n",
       "129     22\n",
       "122     22\n",
       "225     22\n",
       "133     22\n",
       "316     22\n",
       "321     22\n",
       "132     22\n",
       "281     22\n",
       "29      22\n",
       "68      22\n",
       "154     22\n",
       "149     22\n",
       "307     22\n",
       "27      22\n",
       "95      22\n",
       "166     22\n",
       "7       21\n",
       "94      21\n",
       "155     21\n",
       "10      21\n",
       "332     21\n",
       "115     21\n",
       "308     21\n",
       "257     21\n",
       "244     21\n",
       "204     21\n",
       "96      21\n",
       "153     21\n",
       "310     21\n",
       "38      21\n",
       "146     21\n",
       "285     21\n",
       "172     21\n",
       "118     21\n",
       "43      21\n",
       "242     21\n",
       "288     20\n",
       "267     20\n",
       "156     20\n",
       "165     20\n",
       "286     20\n",
       "139     20\n",
       "311     20\n",
       "134     20\n",
       "223     20\n",
       "253     20\n",
       "176     20\n",
       "200     20\n",
       "301     20\n",
       "251     20\n",
       "246     20\n",
       "215     19\n",
       "232     19\n",
       "102     19\n",
       "157     19\n",
       "54      19\n",
       "169     19\n",
       "119     19\n",
       "113     19\n",
       "144     19\n",
       "152     19\n",
       "239     19\n",
       "91      19\n",
       "279     19\n",
       "147     19\n",
       "34      19\n",
       "283     19\n",
       "300     19\n",
       "212     19\n",
       "130     19\n",
       "226     19\n",
       "202     18\n",
       "317     18\n",
       "210     18\n",
       "287     18\n",
       "109     18\n",
       "164     18\n",
       "12      18\n",
       "150     18\n",
       "272     18\n",
       "222     18\n",
       "209     18\n",
       "240     18\n",
       "196     18\n",
       "298     18\n",
       "40      18\n",
       "198     17\n",
       "237     17\n",
       "271     17\n",
       "162     17\n",
       "318     17\n",
       "245     17\n",
       "188     17\n",
       "268     17\n",
       "189     17\n",
       "205     17\n",
       "55      17\n",
       "161     17\n",
       "291     17\n",
       "186     17\n",
       "105     16\n",
       "178     16\n",
       "170     16\n",
       "290     16\n",
       "219     16\n",
       "114     16\n",
       "193     16\n",
       "107     16\n",
       "135     16\n",
       "211     16\n",
       "131     16\n",
       "305     16\n",
       "282     16\n",
       "15      15\n",
       "99      15\n",
       "108     15\n",
       "187     15\n",
       "148     15\n",
       "195     15\n",
       "201     15\n",
       "106     15\n",
       "121     15\n",
       "213     15\n",
       "221     15\n",
       "194     14\n",
       "117     14\n",
       "93      14\n",
       "304     14\n",
       "116     14\n",
       "8       14\n",
       "103     13\n",
       "192     13\n",
       "199     12\n",
       "185     12\n",
       "138     12\n",
       "206     11\n",
       "190     11\n",
       "175     11\n",
       "191     11\n",
       "208     11\n",
       "182     11\n",
       "16      11\n",
       "217     10\n",
       "181      9\n",
       "183      9\n",
       "98       8\n",
       "101      8\n",
       "197      5\n",
       "184      5\n",
       "Name: availability_365, dtype: int64"
      ]
     },
     "execution_count": 15,
     "metadata": {},
     "output_type": "execute_result"
    }
   ],
   "source": [
    "df['availability_365'].value_counts()"
   ]
  },
  {
   "cell_type": "code",
   "execution_count": 16,
   "metadata": {
    "ExecuteTime": {
     "end_time": "2022-06-06T19:00:11.860643Z",
     "start_time": "2022-06-06T19:00:11.856825Z"
    }
   },
   "outputs": [
    {
     "data": {
      "text/plain": [
       "0     1479\n",
       "90     323\n",
       "89     225\n",
       "83     201\n",
       "20     190\n",
       "86     162\n",
       "81     161\n",
       "51     160\n",
       "87     141\n",
       "85     133\n",
       "1      133\n",
       "82     126\n",
       "80     123\n",
       "53     123\n",
       "50     121\n",
       "30     121\n",
       "21     120\n",
       "65     119\n",
       "69     116\n",
       "52     115\n",
       "36     113\n",
       "79     113\n",
       "63     112\n",
       "47     108\n",
       "77     107\n",
       "45     107\n",
       "60     106\n",
       "70     105\n",
       "57     104\n",
       "56     104\n",
       "78     103\n",
       "59     103\n",
       "32     101\n",
       "66     101\n",
       "18     101\n",
       "76     100\n",
       "64     100\n",
       "88      99\n",
       "22      98\n",
       "33      98\n",
       "71      97\n",
       "58      97\n",
       "25      97\n",
       "73      97\n",
       "72      97\n",
       "23      96\n",
       "35      96\n",
       "44      95\n",
       "49      95\n",
       "26      95\n",
       "2       94\n",
       "48      94\n",
       "24      94\n",
       "75      94\n",
       "43      94\n",
       "37      94\n",
       "28      93\n",
       "54      93\n",
       "9       92\n",
       "38      92\n",
       "17      91\n",
       "46      91\n",
       "61      90\n",
       "74      90\n",
       "42      88\n",
       "27      88\n",
       "84      88\n",
       "41      87\n",
       "29      87\n",
       "31      87\n",
       "5       85\n",
       "3       85\n",
       "34      85\n",
       "11      85\n",
       "67      85\n",
       "68      84\n",
       "12      83\n",
       "19      83\n",
       "7       83\n",
       "14      81\n",
       "16      81\n",
       "39      81\n",
       "4       80\n",
       "40      80\n",
       "10      78\n",
       "13      77\n",
       "55      77\n",
       "62      74\n",
       "8       73\n",
       "15      73\n",
       "6       64\n",
       "Name: availability_90, dtype: int64"
      ]
     },
     "execution_count": 16,
     "metadata": {},
     "output_type": "execute_result"
    }
   ],
   "source": [
    "df['availability_90'].value_counts()"
   ]
  },
  {
   "cell_type": "code",
   "execution_count": 17,
   "metadata": {
    "ExecuteTime": {
     "end_time": "2022-06-06T19:00:11.865248Z",
     "start_time": "2022-06-06T19:00:11.861822Z"
    }
   },
   "outputs": [
    {
     "data": {
      "text/plain": [
       "0     2939\n",
       "5      450\n",
       "1      447\n",
       "2      434\n",
       "4      432\n",
       "3      400\n",
       "30     394\n",
       "6      383\n",
       "8      333\n",
       "9      308\n",
       "7      297\n",
       "29     275\n",
       "11     259\n",
       "10     258\n",
       "23     244\n",
       "13     240\n",
       "12     239\n",
       "21     238\n",
       "14     218\n",
       "16     208\n",
       "15     206\n",
       "20     202\n",
       "26     193\n",
       "19     192\n",
       "17     191\n",
       "18     187\n",
       "27     180\n",
       "22     163\n",
       "25     158\n",
       "28     141\n",
       "24     126\n",
       "Name: availability_30, dtype: int64"
      ]
     },
     "execution_count": 17,
     "metadata": {},
     "output_type": "execute_result"
    }
   ],
   "source": [
    "df['availability_30'].value_counts()"
   ]
  },
  {
   "cell_type": "markdown",
   "metadata": {},
   "source": [
    "### Analysis of Availability\n",
    "- 2939 (26.8% of units) have no availability a month out.\n",
    "- 1479 (13.5% of units) have no availability 3 months out.\n",
    "- \n",
    "\n",
    "- 5102 (46.7%) have 5 or less days available for the month ahead."
   ]
  },
  {
   "cell_type": "markdown",
   "metadata": {},
   "source": [
    "## <B> CHANGING TARGET: PREDICT WHETHER UNIT WILL BE BOOKED FOR ALL BUT 5 DAYS FOR THE MONTH AHEAD</B>"
   ]
  },
  {
   "cell_type": "code",
   "execution_count": 18,
   "metadata": {
    "ExecuteTime": {
     "end_time": "2022-06-06T19:00:11.873767Z",
     "start_time": "2022-06-06T19:00:11.866117Z"
    },
    "scrolled": true
   },
   "outputs": [
    {
     "name": "stdout",
     "output_type": "stream",
     "text": [
      "<class 'pandas.core.frame.DataFrame'>\n",
      "RangeIndex: 10935 entries, 0 to 10934\n",
      "Data columns (total 18 columns):\n",
      " #   Column                       Non-Null Count  Dtype  \n",
      "---  ------                       --------------  -----  \n",
      " 0   price                        10935 non-null  float64\n",
      " 1   review_scores_rating         9408 non-null   float64\n",
      " 2   review_scores_accuracy       9385 non-null   float64\n",
      " 3   review_scores_cleanliness    9385 non-null   float64\n",
      " 4   review_scores_checkin        9383 non-null   float64\n",
      " 5   review_scores_communication  9385 non-null   float64\n",
      " 6   review_scores_location       9383 non-null   float64\n",
      " 7   review_scores_value          9383 non-null   float64\n",
      " 8   accommodates                 10935 non-null  int64  \n",
      " 9   bedrooms                     9905 non-null   float64\n",
      " 10  beds                         10813 non-null  float64\n",
      " 11  instant_bookable             10935 non-null  object \n",
      " 12  property_type                10935 non-null  object \n",
      " 13  room_type                    10935 non-null  object \n",
      " 14  amenities                    10935 non-null  object \n",
      " 15  availability_365             10935 non-null  int64  \n",
      " 16  availability_30              10935 non-null  int64  \n",
      " 17  availability_90              10935 non-null  int64  \n",
      "dtypes: float64(10), int64(4), object(4)\n",
      "memory usage: 1.5+ MB\n"
     ]
    }
   ],
   "source": [
    "df.info()"
   ]
  },
  {
   "cell_type": "markdown",
   "metadata": {},
   "source": [
    "### New Feature: Capacity Ranges"
   ]
  },
  {
   "cell_type": "code",
   "execution_count": 19,
   "metadata": {
    "ExecuteTime": {
     "end_time": "2022-06-06T19:00:11.878075Z",
     "start_time": "2022-06-06T19:00:11.874932Z"
    }
   },
   "outputs": [
    {
     "data": {
      "text/plain": [
       "2     2716\n",
       "4     2306\n",
       "6     1638\n",
       "8      841\n",
       "3      757\n",
       "5      647\n",
       "1      604\n",
       "10     411\n",
       "7      291\n",
       "12     224\n",
       "16     172\n",
       "9      123\n",
       "14      99\n",
       "11      53\n",
       "15      30\n",
       "13      20\n",
       "0        3\n",
       "Name: accommodates, dtype: int64"
      ]
     },
     "execution_count": 19,
     "metadata": {},
     "output_type": "execute_result"
    }
   ],
   "source": [
    "df['accommodates'].value_counts()"
   ]
  },
  {
   "cell_type": "code",
   "execution_count": 20,
   "metadata": {
    "ExecuteTime": {
     "end_time": "2022-06-06T19:00:11.880166Z",
     "start_time": "2022-06-06T19:00:11.878888Z"
    }
   },
   "outputs": [],
   "source": [
    "#df['capacity_0-2'] = df['accommodates'] <= 2"
   ]
  },
  {
   "cell_type": "code",
   "execution_count": 21,
   "metadata": {
    "ExecuteTime": {
     "end_time": "2022-06-06T19:00:11.882452Z",
     "start_time": "2022-06-06T19:00:11.881109Z"
    }
   },
   "outputs": [],
   "source": [
    "#df['capacity_3-4'] = df['accommodates'] == range(3-4)"
   ]
  },
  {
   "cell_type": "code",
   "execution_count": 22,
   "metadata": {
    "ExecuteTime": {
     "end_time": "2022-06-06T19:00:11.884613Z",
     "start_time": "2022-06-06T19:00:11.883297Z"
    }
   },
   "outputs": [],
   "source": [
    "#df['capacity_5-9'] = df['accommodates'] == range(5-9)\n",
    "#df['capacity_10+'] = df['accommodates'] >= 10"
   ]
  },
  {
   "cell_type": "code",
   "execution_count": 23,
   "metadata": {
    "ExecuteTime": {
     "end_time": "2022-06-06T19:00:11.893591Z",
     "start_time": "2022-06-06T19:00:11.888523Z"
    }
   },
   "outputs": [],
   "source": [
    "df['capacity_-2'] = df['accommodates'] <= 2\n",
    "df['capacity_-4'] = df['accommodates'] <= 4\n",
    "df['capacity_-6'] = df['accommodates'] <= 6\n",
    "df['capacity_-10'] = df['accommodates'] <= 10\n",
    "df['capacity_11+'] = df['accommodates'] >= 11\n"
   ]
  },
  {
   "cell_type": "markdown",
   "metadata": {},
   "source": [
    "### New Feature: Bedroom Ranges"
   ]
  },
  {
   "cell_type": "code",
   "execution_count": 24,
   "metadata": {
    "ExecuteTime": {
     "end_time": "2022-06-06T19:00:11.899870Z",
     "start_time": "2022-06-06T19:00:11.896229Z"
    }
   },
   "outputs": [
    {
     "data": {
      "text/plain": [
       "1.0     4621\n",
       "2.0     2684\n",
       "3.0     1538\n",
       "4.0      665\n",
       "5.0      254\n",
       "6.0       87\n",
       "7.0       25\n",
       "8.0       16\n",
       "10.0       6\n",
       "9.0        5\n",
       "11.0       2\n",
       "12.0       2\n",
       "Name: bedrooms, dtype: int64"
      ]
     },
     "execution_count": 24,
     "metadata": {},
     "output_type": "execute_result"
    }
   ],
   "source": [
    "df['bedrooms'].value_counts()"
   ]
  },
  {
   "cell_type": "code",
   "execution_count": 25,
   "metadata": {
    "ExecuteTime": {
     "end_time": "2022-06-06T19:00:11.902024Z",
     "start_time": "2022-06-06T19:00:11.900773Z"
    }
   },
   "outputs": [],
   "source": [
    "#df['bedrooms_1'] = df['bedrooms'] == 1\n",
    "#df['bedrooms_2'] = df['bedrooms'] == 2\n",
    "#df['bedrooms_3'] = df['bedrooms'] == 3\n",
    "#df['bedrooms_4+'] = df['bedrooms'] >= 4"
   ]
  },
  {
   "cell_type": "code",
   "execution_count": 26,
   "metadata": {
    "ExecuteTime": {
     "end_time": "2022-06-06T19:00:11.906546Z",
     "start_time": "2022-06-06T19:00:11.902903Z"
    }
   },
   "outputs": [],
   "source": [
    "df['bedrooms_1-2'] = df['bedrooms'] == range(0-2)\n",
    "df['bedrooms_3+'] = df['bedrooms'] >= 3"
   ]
  },
  {
   "cell_type": "markdown",
   "metadata": {},
   "source": [
    "### New Feature: Booked\n",
    "- Booked: For the next 30 days, at least 25 days have already been booked."
   ]
  },
  {
   "cell_type": "code",
   "execution_count": 27,
   "metadata": {
    "ExecuteTime": {
     "end_time": "2022-06-06T19:00:11.910067Z",
     "start_time": "2022-06-06T19:00:11.907666Z"
    }
   },
   "outputs": [],
   "source": [
    "df['booked'] = df['availability_30'] <= 5"
   ]
  },
  {
   "cell_type": "code",
   "execution_count": 28,
   "metadata": {
    "ExecuteTime": {
     "end_time": "2022-06-06T19:00:11.923337Z",
     "start_time": "2022-06-06T19:00:11.910883Z"
    }
   },
   "outputs": [
    {
     "data": {
      "text/html": [
       "<div>\n",
       "<style scoped>\n",
       "    .dataframe tbody tr th:only-of-type {\n",
       "        vertical-align: middle;\n",
       "    }\n",
       "\n",
       "    .dataframe tbody tr th {\n",
       "        vertical-align: top;\n",
       "    }\n",
       "\n",
       "    .dataframe thead th {\n",
       "        text-align: right;\n",
       "    }\n",
       "</style>\n",
       "<table border=\"1\" class=\"dataframe\">\n",
       "  <thead>\n",
       "    <tr style=\"text-align: right;\">\n",
       "      <th></th>\n",
       "      <th>price</th>\n",
       "      <th>review_scores_rating</th>\n",
       "      <th>review_scores_accuracy</th>\n",
       "      <th>review_scores_cleanliness</th>\n",
       "      <th>review_scores_checkin</th>\n",
       "      <th>review_scores_communication</th>\n",
       "      <th>review_scores_location</th>\n",
       "      <th>review_scores_value</th>\n",
       "      <th>accommodates</th>\n",
       "      <th>bedrooms</th>\n",
       "      <th>...</th>\n",
       "      <th>availability_30</th>\n",
       "      <th>availability_90</th>\n",
       "      <th>capacity_-2</th>\n",
       "      <th>capacity_-4</th>\n",
       "      <th>capacity_-6</th>\n",
       "      <th>capacity_-10</th>\n",
       "      <th>capacity_11+</th>\n",
       "      <th>bedrooms_1-2</th>\n",
       "      <th>bedrooms_3+</th>\n",
       "      <th>booked</th>\n",
       "    </tr>\n",
       "  </thead>\n",
       "  <tbody>\n",
       "    <tr>\n",
       "      <th>0</th>\n",
       "      <td>60.0</td>\n",
       "      <td>5.00</td>\n",
       "      <td>5.00</td>\n",
       "      <td>5.00</td>\n",
       "      <td>5.00</td>\n",
       "      <td>5.00</td>\n",
       "      <td>4.00</td>\n",
       "      <td>5.00</td>\n",
       "      <td>2</td>\n",
       "      <td>1.0</td>\n",
       "      <td>...</td>\n",
       "      <td>0</td>\n",
       "      <td>51</td>\n",
       "      <td>True</td>\n",
       "      <td>True</td>\n",
       "      <td>True</td>\n",
       "      <td>True</td>\n",
       "      <td>False</td>\n",
       "      <td>False</td>\n",
       "      <td>False</td>\n",
       "      <td>True</td>\n",
       "    </tr>\n",
       "    <tr>\n",
       "      <th>1</th>\n",
       "      <td>282.0</td>\n",
       "      <td>4.87</td>\n",
       "      <td>4.91</td>\n",
       "      <td>4.64</td>\n",
       "      <td>4.99</td>\n",
       "      <td>4.98</td>\n",
       "      <td>4.87</td>\n",
       "      <td>4.86</td>\n",
       "      <td>6</td>\n",
       "      <td>3.0</td>\n",
       "      <td>...</td>\n",
       "      <td>12</td>\n",
       "      <td>63</td>\n",
       "      <td>False</td>\n",
       "      <td>False</td>\n",
       "      <td>True</td>\n",
       "      <td>True</td>\n",
       "      <td>False</td>\n",
       "      <td>False</td>\n",
       "      <td>True</td>\n",
       "      <td>False</td>\n",
       "    </tr>\n",
       "    <tr>\n",
       "      <th>2</th>\n",
       "      <td>348.0</td>\n",
       "      <td>4.92</td>\n",
       "      <td>5.00</td>\n",
       "      <td>4.92</td>\n",
       "      <td>5.00</td>\n",
       "      <td>5.00</td>\n",
       "      <td>4.92</td>\n",
       "      <td>4.92</td>\n",
       "      <td>2</td>\n",
       "      <td>1.0</td>\n",
       "      <td>...</td>\n",
       "      <td>5</td>\n",
       "      <td>5</td>\n",
       "      <td>True</td>\n",
       "      <td>True</td>\n",
       "      <td>True</td>\n",
       "      <td>True</td>\n",
       "      <td>False</td>\n",
       "      <td>False</td>\n",
       "      <td>False</td>\n",
       "      <td>True</td>\n",
       "    </tr>\n",
       "    <tr>\n",
       "      <th>3</th>\n",
       "      <td>368.0</td>\n",
       "      <td>4.88</td>\n",
       "      <td>4.96</td>\n",
       "      <td>4.96</td>\n",
       "      <td>5.00</td>\n",
       "      <td>5.00</td>\n",
       "      <td>4.75</td>\n",
       "      <td>4.71</td>\n",
       "      <td>6</td>\n",
       "      <td>3.0</td>\n",
       "      <td>...</td>\n",
       "      <td>10</td>\n",
       "      <td>53</td>\n",
       "      <td>False</td>\n",
       "      <td>False</td>\n",
       "      <td>True</td>\n",
       "      <td>True</td>\n",
       "      <td>False</td>\n",
       "      <td>False</td>\n",
       "      <td>True</td>\n",
       "      <td>False</td>\n",
       "    </tr>\n",
       "    <tr>\n",
       "      <th>4</th>\n",
       "      <td>264.0</td>\n",
       "      <td>5.00</td>\n",
       "      <td>5.00</td>\n",
       "      <td>4.75</td>\n",
       "      <td>4.75</td>\n",
       "      <td>4.75</td>\n",
       "      <td>5.00</td>\n",
       "      <td>4.75</td>\n",
       "      <td>4</td>\n",
       "      <td>1.0</td>\n",
       "      <td>...</td>\n",
       "      <td>25</td>\n",
       "      <td>85</td>\n",
       "      <td>False</td>\n",
       "      <td>True</td>\n",
       "      <td>True</td>\n",
       "      <td>True</td>\n",
       "      <td>False</td>\n",
       "      <td>False</td>\n",
       "      <td>False</td>\n",
       "      <td>False</td>\n",
       "    </tr>\n",
       "  </tbody>\n",
       "</table>\n",
       "<p>5 rows × 26 columns</p>\n",
       "</div>"
      ],
      "text/plain": [
       "   price  review_scores_rating  review_scores_accuracy  \\\n",
       "0   60.0                  5.00                    5.00   \n",
       "1  282.0                  4.87                    4.91   \n",
       "2  348.0                  4.92                    5.00   \n",
       "3  368.0                  4.88                    4.96   \n",
       "4  264.0                  5.00                    5.00   \n",
       "\n",
       "   review_scores_cleanliness  review_scores_checkin  \\\n",
       "0                       5.00                   5.00   \n",
       "1                       4.64                   4.99   \n",
       "2                       4.92                   5.00   \n",
       "3                       4.96                   5.00   \n",
       "4                       4.75                   4.75   \n",
       "\n",
       "   review_scores_communication  review_scores_location  review_scores_value  \\\n",
       "0                         5.00                    4.00                 5.00   \n",
       "1                         4.98                    4.87                 4.86   \n",
       "2                         5.00                    4.92                 4.92   \n",
       "3                         5.00                    4.75                 4.71   \n",
       "4                         4.75                    5.00                 4.75   \n",
       "\n",
       "   accommodates  bedrooms  ...  availability_30 availability_90 capacity_-2  \\\n",
       "0             2       1.0  ...                0              51        True   \n",
       "1             6       3.0  ...               12              63       False   \n",
       "2             2       1.0  ...                5               5        True   \n",
       "3             6       3.0  ...               10              53       False   \n",
       "4             4       1.0  ...               25              85       False   \n",
       "\n",
       "  capacity_-4 capacity_-6  capacity_-10  capacity_11+  bedrooms_1-2  \\\n",
       "0        True        True          True         False         False   \n",
       "1       False        True          True         False         False   \n",
       "2        True        True          True         False         False   \n",
       "3       False        True          True         False         False   \n",
       "4        True        True          True         False         False   \n",
       "\n",
       "   bedrooms_3+  booked  \n",
       "0        False    True  \n",
       "1         True   False  \n",
       "2        False    True  \n",
       "3         True   False  \n",
       "4        False   False  \n",
       "\n",
       "[5 rows x 26 columns]"
      ]
     },
     "execution_count": 28,
     "metadata": {},
     "output_type": "execute_result"
    }
   ],
   "source": [
    "df.head()"
   ]
  },
  {
   "cell_type": "code",
   "execution_count": 29,
   "metadata": {
    "ExecuteTime": {
     "end_time": "2022-06-06T19:00:11.927591Z",
     "start_time": "2022-06-06T19:00:11.924258Z"
    }
   },
   "outputs": [],
   "source": [
    "df.drop(['availability_30', 'availability_90', 'availability_365'], axis=1, inplace=True)"
   ]
  },
  {
   "cell_type": "code",
   "execution_count": 30,
   "metadata": {
    "ExecuteTime": {
     "end_time": "2022-06-06T19:00:11.936342Z",
     "start_time": "2022-06-06T19:00:11.928465Z"
    }
   },
   "outputs": [
    {
     "name": "stdout",
     "output_type": "stream",
     "text": [
      "<class 'pandas.core.frame.DataFrame'>\n",
      "RangeIndex: 10935 entries, 0 to 10934\n",
      "Data columns (total 23 columns):\n",
      " #   Column                       Non-Null Count  Dtype  \n",
      "---  ------                       --------------  -----  \n",
      " 0   price                        10935 non-null  float64\n",
      " 1   review_scores_rating         9408 non-null   float64\n",
      " 2   review_scores_accuracy       9385 non-null   float64\n",
      " 3   review_scores_cleanliness    9385 non-null   float64\n",
      " 4   review_scores_checkin        9383 non-null   float64\n",
      " 5   review_scores_communication  9385 non-null   float64\n",
      " 6   review_scores_location       9383 non-null   float64\n",
      " 7   review_scores_value          9383 non-null   float64\n",
      " 8   accommodates                 10935 non-null  int64  \n",
      " 9   bedrooms                     9905 non-null   float64\n",
      " 10  beds                         10813 non-null  float64\n",
      " 11  instant_bookable             10935 non-null  object \n",
      " 12  property_type                10935 non-null  object \n",
      " 13  room_type                    10935 non-null  object \n",
      " 14  amenities                    10935 non-null  object \n",
      " 15  capacity_-2                  10935 non-null  bool   \n",
      " 16  capacity_-4                  10935 non-null  bool   \n",
      " 17  capacity_-6                  10935 non-null  bool   \n",
      " 18  capacity_-10                 10935 non-null  bool   \n",
      " 19  capacity_11+                 10935 non-null  bool   \n",
      " 20  bedrooms_1-2                 10935 non-null  bool   \n",
      " 21  bedrooms_3+                  10935 non-null  bool   \n",
      " 22  booked                       10935 non-null  bool   \n",
      "dtypes: bool(8), float64(10), int64(1), object(4)\n",
      "memory usage: 1.3+ MB\n"
     ]
    }
   ],
   "source": [
    "df.info()"
   ]
  },
  {
   "cell_type": "markdown",
   "metadata": {},
   "source": [
    "### Number of Units with a 5.0 Avg Rating"
   ]
  },
  {
   "cell_type": "code",
   "execution_count": 31,
   "metadata": {
    "ExecuteTime": {
     "end_time": "2022-06-06T19:00:11.942006Z",
     "start_time": "2022-06-06T19:00:11.937351Z"
    }
   },
   "outputs": [
    {
     "data": {
      "text/plain": [
       "5.00    2054\n",
       "4.80     248\n",
       "4.91     238\n",
       "4.86     237\n",
       "4.88     233\n",
       "4.89     226\n",
       "4.83     220\n",
       "4.92     216\n",
       "4.67     209\n",
       "4.96     207\n",
       "4.94     207\n",
       "4.90     206\n",
       "4.50     202\n",
       "4.93     200\n",
       "4.75     196\n",
       "4.95     184\n",
       "4.85     179\n",
       "4.97     172\n",
       "4.87     165\n",
       "4.00     164\n",
       "4.82     161\n",
       "4.84     154\n",
       "4.98     138\n",
       "4.81     138\n",
       "4.79     137\n",
       "4.78     135\n",
       "4.76     108\n",
       "4.73     107\n",
       "4.71     107\n",
       "4.70     100\n",
       "4.74      99\n",
       "4.77      97\n",
       "4.60      93\n",
       "4.72      89\n",
       "4.69      81\n",
       "4.63      78\n",
       "4.68      71\n",
       "4.65      70\n",
       "4.64      67\n",
       "4.99      59\n",
       "4.33      59\n",
       "4.57      51\n",
       "4.58      51\n",
       "4.62      49\n",
       "3.00      49\n",
       "4.59      47\n",
       "4.66      47\n",
       "4.56      47\n",
       "4.61      45\n",
       "4.40      43\n",
       "4.53      41\n",
       "4.44      36\n",
       "4.52      35\n",
       "4.54      34\n",
       "4.55      33\n",
       "4.43      32\n",
       "1.00      32\n",
       "4.25      32\n",
       "4.38      29\n",
       "4.47      29\n",
       "4.46      23\n",
       "3.67      23\n",
       "4.51      22\n",
       "4.42      22\n",
       "4.48      22\n",
       "4.45      20\n",
       "0.00      19\n",
       "4.20      19\n",
       "4.32      18\n",
       "3.50      18\n",
       "4.39      17\n",
       "4.29      17\n",
       "4.41      14\n",
       "4.35      12\n",
       "4.17      12\n",
       "2.00      12\n",
       "4.14      11\n",
       "3.33      10\n",
       "4.24      10\n",
       "4.13       9\n",
       "4.27       9\n",
       "4.36       9\n",
       "4.34       9\n",
       "4.21       9\n",
       "4.30       8\n",
       "4.31       8\n",
       "3.75       8\n",
       "4.37       7\n",
       "2.50       7\n",
       "4.22       7\n",
       "4.15       7\n",
       "3.71       7\n",
       "3.83       6\n",
       "4.49       6\n",
       "4.18       6\n",
       "1.50       6\n",
       "4.09       5\n",
       "4.26       5\n",
       "4.08       4\n",
       "4.06       4\n",
       "3.80       4\n",
       "4.11       4\n",
       "4.28       4\n",
       "4.19       3\n",
       "3.86       3\n",
       "3.25       3\n",
       "4.07       3\n",
       "4.23       3\n",
       "3.78       2\n",
       "4.04       2\n",
       "3.97       2\n",
       "4.12       2\n",
       "3.40       2\n",
       "3.94       2\n",
       "3.60       2\n",
       "3.89       2\n",
       "4.10       2\n",
       "3.53       2\n",
       "3.54       1\n",
       "1.80       1\n",
       "3.73       1\n",
       "3.13       1\n",
       "4.05       1\n",
       "3.79       1\n",
       "3.93       1\n",
       "3.81       1\n",
       "3.64       1\n",
       "3.91       1\n",
       "2.75       1\n",
       "3.95       1\n",
       "3.82       1\n",
       "3.57       1\n",
       "3.88       1\n",
       "3.70       1\n",
       "1.67       1\n",
       "3.90       1\n",
       "3.44       1\n",
       "4.16       1\n",
       "3.92       1\n",
       "Name: review_scores_rating, dtype: int64"
      ]
     },
     "execution_count": 31,
     "metadata": {},
     "output_type": "execute_result"
    }
   ],
   "source": [
    "df['review_scores_rating'].value_counts()"
   ]
  },
  {
   "cell_type": "code",
   "execution_count": 32,
   "metadata": {
    "ExecuteTime": {
     "end_time": "2022-06-06T19:00:11.945809Z",
     "start_time": "2022-06-06T19:00:11.942905Z"
    }
   },
   "outputs": [
    {
     "data": {
      "text/plain": [
       "1527"
      ]
     },
     "execution_count": 32,
     "metadata": {},
     "output_type": "execute_result"
    }
   ],
   "source": [
    "df['review_scores_rating'].isna().sum()"
   ]
  },
  {
   "cell_type": "markdown",
   "metadata": {},
   "source": [
    "There are 1527 Null records that need to be dealt with. "
   ]
  },
  {
   "cell_type": "code",
   "execution_count": 33,
   "metadata": {
    "ExecuteTime": {
     "end_time": "2022-06-06T19:00:11.949329Z",
     "start_time": "2022-06-06T19:00:11.946805Z"
    }
   },
   "outputs": [],
   "source": [
    "nulls = df[df['review_scores_rating'].isna()]"
   ]
  },
  {
   "cell_type": "code",
   "execution_count": null,
   "metadata": {
    "ExecuteTime": {
     "end_time": "2022-06-03T13:50:38.938832Z",
     "start_time": "2022-06-03T13:50:38.922910Z"
    }
   },
   "outputs": [],
   "source": []
  },
  {
   "cell_type": "markdown",
   "metadata": {},
   "source": [
    "nulls appear to have no ratings. Let's drop them for now."
   ]
  },
  {
   "cell_type": "code",
   "execution_count": 34,
   "metadata": {
    "ExecuteTime": {
     "end_time": "2022-06-06T19:00:11.955999Z",
     "start_time": "2022-06-06T19:00:11.950234Z"
    }
   },
   "outputs": [],
   "source": [
    "df = df.dropna()"
   ]
  },
  {
   "cell_type": "code",
   "execution_count": 35,
   "metadata": {
    "ExecuteTime": {
     "end_time": "2022-06-06T19:00:11.967237Z",
     "start_time": "2022-06-06T19:00:11.956929Z"
    }
   },
   "outputs": [
    {
     "data": {
      "text/html": [
       "<div>\n",
       "<style scoped>\n",
       "    .dataframe tbody tr th:only-of-type {\n",
       "        vertical-align: middle;\n",
       "    }\n",
       "\n",
       "    .dataframe tbody tr th {\n",
       "        vertical-align: top;\n",
       "    }\n",
       "\n",
       "    .dataframe thead th {\n",
       "        text-align: right;\n",
       "    }\n",
       "</style>\n",
       "<table border=\"1\" class=\"dataframe\">\n",
       "  <thead>\n",
       "    <tr style=\"text-align: right;\">\n",
       "      <th></th>\n",
       "      <th>price</th>\n",
       "      <th>review_scores_rating</th>\n",
       "      <th>review_scores_accuracy</th>\n",
       "      <th>review_scores_cleanliness</th>\n",
       "      <th>review_scores_checkin</th>\n",
       "      <th>review_scores_communication</th>\n",
       "      <th>review_scores_location</th>\n",
       "      <th>review_scores_value</th>\n",
       "      <th>accommodates</th>\n",
       "      <th>bedrooms</th>\n",
       "      <th>...</th>\n",
       "      <th>room_type</th>\n",
       "      <th>amenities</th>\n",
       "      <th>capacity_-2</th>\n",
       "      <th>capacity_-4</th>\n",
       "      <th>capacity_-6</th>\n",
       "      <th>capacity_-10</th>\n",
       "      <th>capacity_11+</th>\n",
       "      <th>bedrooms_1-2</th>\n",
       "      <th>bedrooms_3+</th>\n",
       "      <th>booked</th>\n",
       "    </tr>\n",
       "  </thead>\n",
       "  <tbody>\n",
       "    <tr>\n",
       "      <th>0</th>\n",
       "      <td>60.0</td>\n",
       "      <td>5.0</td>\n",
       "      <td>5.0</td>\n",
       "      <td>5.0</td>\n",
       "      <td>5.0</td>\n",
       "      <td>5.0</td>\n",
       "      <td>4.0</td>\n",
       "      <td>5.0</td>\n",
       "      <td>2</td>\n",
       "      <td>1.0</td>\n",
       "      <td>...</td>\n",
       "      <td>Private room</td>\n",
       "      <td>[\"First aid kit\", \"Private patio or balcony\", ...</td>\n",
       "      <td>True</td>\n",
       "      <td>True</td>\n",
       "      <td>True</td>\n",
       "      <td>True</td>\n",
       "      <td>False</td>\n",
       "      <td>False</td>\n",
       "      <td>False</td>\n",
       "      <td>True</td>\n",
       "    </tr>\n",
       "  </tbody>\n",
       "</table>\n",
       "<p>1 rows × 23 columns</p>\n",
       "</div>"
      ],
      "text/plain": [
       "   price  review_scores_rating  review_scores_accuracy  \\\n",
       "0   60.0                   5.0                     5.0   \n",
       "\n",
       "   review_scores_cleanliness  review_scores_checkin  \\\n",
       "0                        5.0                    5.0   \n",
       "\n",
       "   review_scores_communication  review_scores_location  review_scores_value  \\\n",
       "0                          5.0                     4.0                  5.0   \n",
       "\n",
       "   accommodates  bedrooms  ...     room_type  \\\n",
       "0             2       1.0  ...  Private room   \n",
       "\n",
       "                                           amenities capacity_-2 capacity_-4  \\\n",
       "0  [\"First aid kit\", \"Private patio or balcony\", ...        True        True   \n",
       "\n",
       "  capacity_-6  capacity_-10  capacity_11+  bedrooms_1-2  bedrooms_3+  booked  \n",
       "0        True          True         False         False        False    True  \n",
       "\n",
       "[1 rows x 23 columns]"
      ]
     },
     "execution_count": 35,
     "metadata": {},
     "output_type": "execute_result"
    }
   ],
   "source": [
    "df.head(1)"
   ]
  },
  {
   "cell_type": "markdown",
   "metadata": {},
   "source": [
    "### Creating Classifier Column"
   ]
  },
  {
   "cell_type": "code",
   "execution_count": 36,
   "metadata": {
    "ExecuteTime": {
     "end_time": "2022-06-06T19:00:11.970520Z",
     "start_time": "2022-06-06T19:00:11.968164Z"
    }
   },
   "outputs": [],
   "source": [
    "#df['perfect_score'] = df['review_scores_rating'] == 5.00\n",
    "df['rating_5'] = df['review_scores_rating'] == 5.00"
   ]
  },
  {
   "cell_type": "code",
   "execution_count": 37,
   "metadata": {
    "ExecuteTime": {
     "end_time": "2022-06-06T19:00:11.975672Z",
     "start_time": "2022-06-06T19:00:11.971422Z"
    }
   },
   "outputs": [],
   "source": [
    "df['accuracy_5'] = df['review_scores_accuracy'] == 5.00\n",
    "df['cleanliness_5'] = df['review_scores_cleanliness'] == 5.00\n",
    "df['checkin_5'] = df['review_scores_checkin'] == 5.00\n",
    "df['location_5'] = df['review_scores_location'] == 5.00\n",
    "df['value_5'] = df['review_scores_value'] == 5.00"
   ]
  },
  {
   "cell_type": "code",
   "execution_count": 38,
   "metadata": {
    "ExecuteTime": {
     "end_time": "2022-06-06T19:00:11.979898Z",
     "start_time": "2022-06-06T19:00:11.976610Z"
    }
   },
   "outputs": [
    {
     "data": {
      "text/plain": [
       "False    6491\n",
       "True     1894\n",
       "Name: rating_5, dtype: int64"
      ]
     },
     "execution_count": 38,
     "metadata": {},
     "output_type": "execute_result"
    }
   ],
   "source": [
    "df['rating_5'].value_counts()"
   ]
  },
  {
   "cell_type": "markdown",
   "metadata": {},
   "source": [
    "### 5.0 Rating Analysis:\n",
    "- Out of 8385 records:\n",
    "-- 22.5% had a perfect rating\n",
    "-- 77.5% did not have a perfect rating"
   ]
  },
  {
   "cell_type": "code",
   "execution_count": 39,
   "metadata": {
    "ExecuteTime": {
     "end_time": "2022-06-06T19:00:11.984698Z",
     "start_time": "2022-06-06T19:00:11.980647Z"
    }
   },
   "outputs": [
    {
     "data": {
      "text/plain": [
       "False    5810\n",
       "True     2575\n",
       "Name: location_5, dtype: int64"
      ]
     },
     "execution_count": 39,
     "metadata": {},
     "output_type": "execute_result"
    }
   ],
   "source": [
    "df['location_5'].value_counts()"
   ]
  },
  {
   "cell_type": "markdown",
   "metadata": {},
   "source": [
    "### Creating Binned Price Categories"
   ]
  },
  {
   "cell_type": "code",
   "execution_count": 40,
   "metadata": {
    "ExecuteTime": {
     "end_time": "2022-06-06T19:00:11.991309Z",
     "start_time": "2022-06-06T19:00:11.986005Z"
    }
   },
   "outputs": [
    {
     "data": {
      "text/plain": [
       "count     8385.000000\n",
       "mean       294.826714\n",
       "std        348.498244\n",
       "min         10.000000\n",
       "25%        120.000000\n",
       "50%        195.000000\n",
       "75%        350.000000\n",
       "max      10000.000000\n",
       "Name: price, dtype: float64"
      ]
     },
     "execution_count": 40,
     "metadata": {},
     "output_type": "execute_result"
    }
   ],
   "source": [
    "df['price'].describe()"
   ]
  },
  {
   "cell_type": "code",
   "execution_count": 41,
   "metadata": {
    "ExecuteTime": {
     "end_time": "2022-06-06T19:00:11.994973Z",
     "start_time": "2022-06-06T19:00:11.992253Z"
    }
   },
   "outputs": [],
   "source": [
    "df['price_high'] = df['price'] >= 350\n",
    "df['price_low'] = df['price'] <= 120"
   ]
  },
  {
   "cell_type": "code",
   "execution_count": 42,
   "metadata": {
    "ExecuteTime": {
     "end_time": "2022-06-06T19:00:11.997210Z",
     "start_time": "2022-06-06T19:00:11.995949Z"
    }
   },
   "outputs": [],
   "source": [
    "#df['price_high'] = df['price'] >= 200\n",
    "#df['price_low'] = df['price'] < 200"
   ]
  },
  {
   "cell_type": "code",
   "execution_count": 43,
   "metadata": {
    "ExecuteTime": {
     "end_time": "2022-06-06T19:00:12.015198Z",
     "start_time": "2022-06-06T19:00:11.998054Z"
    }
   },
   "outputs": [
    {
     "data": {
      "text/html": [
       "<div>\n",
       "<style scoped>\n",
       "    .dataframe tbody tr th:only-of-type {\n",
       "        vertical-align: middle;\n",
       "    }\n",
       "\n",
       "    .dataframe tbody tr th {\n",
       "        vertical-align: top;\n",
       "    }\n",
       "\n",
       "    .dataframe thead th {\n",
       "        text-align: right;\n",
       "    }\n",
       "</style>\n",
       "<table border=\"1\" class=\"dataframe\">\n",
       "  <thead>\n",
       "    <tr style=\"text-align: right;\">\n",
       "      <th></th>\n",
       "      <th>price</th>\n",
       "      <th>review_scores_rating</th>\n",
       "      <th>review_scores_accuracy</th>\n",
       "      <th>review_scores_cleanliness</th>\n",
       "      <th>review_scores_checkin</th>\n",
       "      <th>review_scores_communication</th>\n",
       "      <th>review_scores_location</th>\n",
       "      <th>review_scores_value</th>\n",
       "      <th>accommodates</th>\n",
       "      <th>bedrooms</th>\n",
       "      <th>...</th>\n",
       "      <th>bedrooms_3+</th>\n",
       "      <th>booked</th>\n",
       "      <th>rating_5</th>\n",
       "      <th>accuracy_5</th>\n",
       "      <th>cleanliness_5</th>\n",
       "      <th>checkin_5</th>\n",
       "      <th>location_5</th>\n",
       "      <th>value_5</th>\n",
       "      <th>price_high</th>\n",
       "      <th>price_low</th>\n",
       "    </tr>\n",
       "  </thead>\n",
       "  <tbody>\n",
       "    <tr>\n",
       "      <th>0</th>\n",
       "      <td>60.0</td>\n",
       "      <td>5.00</td>\n",
       "      <td>5.00</td>\n",
       "      <td>5.00</td>\n",
       "      <td>5.00</td>\n",
       "      <td>5.00</td>\n",
       "      <td>4.00</td>\n",
       "      <td>5.00</td>\n",
       "      <td>2</td>\n",
       "      <td>1.0</td>\n",
       "      <td>...</td>\n",
       "      <td>False</td>\n",
       "      <td>True</td>\n",
       "      <td>True</td>\n",
       "      <td>True</td>\n",
       "      <td>True</td>\n",
       "      <td>True</td>\n",
       "      <td>False</td>\n",
       "      <td>True</td>\n",
       "      <td>False</td>\n",
       "      <td>True</td>\n",
       "    </tr>\n",
       "    <tr>\n",
       "      <th>1</th>\n",
       "      <td>282.0</td>\n",
       "      <td>4.87</td>\n",
       "      <td>4.91</td>\n",
       "      <td>4.64</td>\n",
       "      <td>4.99</td>\n",
       "      <td>4.98</td>\n",
       "      <td>4.87</td>\n",
       "      <td>4.86</td>\n",
       "      <td>6</td>\n",
       "      <td>3.0</td>\n",
       "      <td>...</td>\n",
       "      <td>True</td>\n",
       "      <td>False</td>\n",
       "      <td>False</td>\n",
       "      <td>False</td>\n",
       "      <td>False</td>\n",
       "      <td>False</td>\n",
       "      <td>False</td>\n",
       "      <td>False</td>\n",
       "      <td>False</td>\n",
       "      <td>False</td>\n",
       "    </tr>\n",
       "    <tr>\n",
       "      <th>2</th>\n",
       "      <td>348.0</td>\n",
       "      <td>4.92</td>\n",
       "      <td>5.00</td>\n",
       "      <td>4.92</td>\n",
       "      <td>5.00</td>\n",
       "      <td>5.00</td>\n",
       "      <td>4.92</td>\n",
       "      <td>4.92</td>\n",
       "      <td>2</td>\n",
       "      <td>1.0</td>\n",
       "      <td>...</td>\n",
       "      <td>False</td>\n",
       "      <td>True</td>\n",
       "      <td>False</td>\n",
       "      <td>True</td>\n",
       "      <td>False</td>\n",
       "      <td>True</td>\n",
       "      <td>False</td>\n",
       "      <td>False</td>\n",
       "      <td>False</td>\n",
       "      <td>False</td>\n",
       "    </tr>\n",
       "    <tr>\n",
       "      <th>3</th>\n",
       "      <td>368.0</td>\n",
       "      <td>4.88</td>\n",
       "      <td>4.96</td>\n",
       "      <td>4.96</td>\n",
       "      <td>5.00</td>\n",
       "      <td>5.00</td>\n",
       "      <td>4.75</td>\n",
       "      <td>4.71</td>\n",
       "      <td>6</td>\n",
       "      <td>3.0</td>\n",
       "      <td>...</td>\n",
       "      <td>True</td>\n",
       "      <td>False</td>\n",
       "      <td>False</td>\n",
       "      <td>False</td>\n",
       "      <td>False</td>\n",
       "      <td>True</td>\n",
       "      <td>False</td>\n",
       "      <td>False</td>\n",
       "      <td>True</td>\n",
       "      <td>False</td>\n",
       "    </tr>\n",
       "    <tr>\n",
       "      <th>4</th>\n",
       "      <td>264.0</td>\n",
       "      <td>5.00</td>\n",
       "      <td>5.00</td>\n",
       "      <td>4.75</td>\n",
       "      <td>4.75</td>\n",
       "      <td>4.75</td>\n",
       "      <td>5.00</td>\n",
       "      <td>4.75</td>\n",
       "      <td>4</td>\n",
       "      <td>1.0</td>\n",
       "      <td>...</td>\n",
       "      <td>False</td>\n",
       "      <td>False</td>\n",
       "      <td>True</td>\n",
       "      <td>True</td>\n",
       "      <td>False</td>\n",
       "      <td>False</td>\n",
       "      <td>True</td>\n",
       "      <td>False</td>\n",
       "      <td>False</td>\n",
       "      <td>False</td>\n",
       "    </tr>\n",
       "    <tr>\n",
       "      <th>...</th>\n",
       "      <td>...</td>\n",
       "      <td>...</td>\n",
       "      <td>...</td>\n",
       "      <td>...</td>\n",
       "      <td>...</td>\n",
       "      <td>...</td>\n",
       "      <td>...</td>\n",
       "      <td>...</td>\n",
       "      <td>...</td>\n",
       "      <td>...</td>\n",
       "      <td>...</td>\n",
       "      <td>...</td>\n",
       "      <td>...</td>\n",
       "      <td>...</td>\n",
       "      <td>...</td>\n",
       "      <td>...</td>\n",
       "      <td>...</td>\n",
       "      <td>...</td>\n",
       "      <td>...</td>\n",
       "      <td>...</td>\n",
       "      <td>...</td>\n",
       "    </tr>\n",
       "    <tr>\n",
       "      <th>10929</th>\n",
       "      <td>531.0</td>\n",
       "      <td>4.89</td>\n",
       "      <td>4.89</td>\n",
       "      <td>5.00</td>\n",
       "      <td>5.00</td>\n",
       "      <td>4.89</td>\n",
       "      <td>5.00</td>\n",
       "      <td>4.78</td>\n",
       "      <td>14</td>\n",
       "      <td>5.0</td>\n",
       "      <td>...</td>\n",
       "      <td>True</td>\n",
       "      <td>False</td>\n",
       "      <td>False</td>\n",
       "      <td>False</td>\n",
       "      <td>True</td>\n",
       "      <td>True</td>\n",
       "      <td>True</td>\n",
       "      <td>False</td>\n",
       "      <td>True</td>\n",
       "      <td>False</td>\n",
       "    </tr>\n",
       "    <tr>\n",
       "      <th>10930</th>\n",
       "      <td>228.0</td>\n",
       "      <td>4.78</td>\n",
       "      <td>4.82</td>\n",
       "      <td>4.85</td>\n",
       "      <td>4.98</td>\n",
       "      <td>4.90</td>\n",
       "      <td>4.82</td>\n",
       "      <td>4.80</td>\n",
       "      <td>8</td>\n",
       "      <td>3.0</td>\n",
       "      <td>...</td>\n",
       "      <td>True</td>\n",
       "      <td>False</td>\n",
       "      <td>False</td>\n",
       "      <td>False</td>\n",
       "      <td>False</td>\n",
       "      <td>False</td>\n",
       "      <td>False</td>\n",
       "      <td>False</td>\n",
       "      <td>False</td>\n",
       "      <td>False</td>\n",
       "    </tr>\n",
       "    <tr>\n",
       "      <th>10931</th>\n",
       "      <td>168.0</td>\n",
       "      <td>4.89</td>\n",
       "      <td>4.94</td>\n",
       "      <td>4.89</td>\n",
       "      <td>4.93</td>\n",
       "      <td>4.94</td>\n",
       "      <td>4.92</td>\n",
       "      <td>4.90</td>\n",
       "      <td>8</td>\n",
       "      <td>3.0</td>\n",
       "      <td>...</td>\n",
       "      <td>True</td>\n",
       "      <td>False</td>\n",
       "      <td>False</td>\n",
       "      <td>False</td>\n",
       "      <td>False</td>\n",
       "      <td>False</td>\n",
       "      <td>False</td>\n",
       "      <td>False</td>\n",
       "      <td>False</td>\n",
       "      <td>False</td>\n",
       "    </tr>\n",
       "    <tr>\n",
       "      <th>10932</th>\n",
       "      <td>500.0</td>\n",
       "      <td>5.00</td>\n",
       "      <td>4.50</td>\n",
       "      <td>5.00</td>\n",
       "      <td>5.00</td>\n",
       "      <td>5.00</td>\n",
       "      <td>5.00</td>\n",
       "      <td>5.00</td>\n",
       "      <td>2</td>\n",
       "      <td>1.0</td>\n",
       "      <td>...</td>\n",
       "      <td>False</td>\n",
       "      <td>False</td>\n",
       "      <td>True</td>\n",
       "      <td>False</td>\n",
       "      <td>True</td>\n",
       "      <td>True</td>\n",
       "      <td>True</td>\n",
       "      <td>True</td>\n",
       "      <td>True</td>\n",
       "      <td>False</td>\n",
       "    </tr>\n",
       "    <tr>\n",
       "      <th>10933</th>\n",
       "      <td>67.0</td>\n",
       "      <td>4.53</td>\n",
       "      <td>4.82</td>\n",
       "      <td>4.67</td>\n",
       "      <td>4.67</td>\n",
       "      <td>4.69</td>\n",
       "      <td>4.71</td>\n",
       "      <td>4.61</td>\n",
       "      <td>4</td>\n",
       "      <td>2.0</td>\n",
       "      <td>...</td>\n",
       "      <td>False</td>\n",
       "      <td>False</td>\n",
       "      <td>False</td>\n",
       "      <td>False</td>\n",
       "      <td>False</td>\n",
       "      <td>False</td>\n",
       "      <td>False</td>\n",
       "      <td>False</td>\n",
       "      <td>False</td>\n",
       "      <td>True</td>\n",
       "    </tr>\n",
       "  </tbody>\n",
       "</table>\n",
       "<p>8385 rows × 31 columns</p>\n",
       "</div>"
      ],
      "text/plain": [
       "       price  review_scores_rating  review_scores_accuracy  \\\n",
       "0       60.0                  5.00                    5.00   \n",
       "1      282.0                  4.87                    4.91   \n",
       "2      348.0                  4.92                    5.00   \n",
       "3      368.0                  4.88                    4.96   \n",
       "4      264.0                  5.00                    5.00   \n",
       "...      ...                   ...                     ...   \n",
       "10929  531.0                  4.89                    4.89   \n",
       "10930  228.0                  4.78                    4.82   \n",
       "10931  168.0                  4.89                    4.94   \n",
       "10932  500.0                  5.00                    4.50   \n",
       "10933   67.0                  4.53                    4.82   \n",
       "\n",
       "       review_scores_cleanliness  review_scores_checkin  \\\n",
       "0                           5.00                   5.00   \n",
       "1                           4.64                   4.99   \n",
       "2                           4.92                   5.00   \n",
       "3                           4.96                   5.00   \n",
       "4                           4.75                   4.75   \n",
       "...                          ...                    ...   \n",
       "10929                       5.00                   5.00   \n",
       "10930                       4.85                   4.98   \n",
       "10931                       4.89                   4.93   \n",
       "10932                       5.00                   5.00   \n",
       "10933                       4.67                   4.67   \n",
       "\n",
       "       review_scores_communication  review_scores_location  \\\n",
       "0                             5.00                    4.00   \n",
       "1                             4.98                    4.87   \n",
       "2                             5.00                    4.92   \n",
       "3                             5.00                    4.75   \n",
       "4                             4.75                    5.00   \n",
       "...                            ...                     ...   \n",
       "10929                         4.89                    5.00   \n",
       "10930                         4.90                    4.82   \n",
       "10931                         4.94                    4.92   \n",
       "10932                         5.00                    5.00   \n",
       "10933                         4.69                    4.71   \n",
       "\n",
       "       review_scores_value  accommodates  bedrooms  ...  bedrooms_3+ booked  \\\n",
       "0                     5.00             2       1.0  ...        False   True   \n",
       "1                     4.86             6       3.0  ...         True  False   \n",
       "2                     4.92             2       1.0  ...        False   True   \n",
       "3                     4.71             6       3.0  ...         True  False   \n",
       "4                     4.75             4       1.0  ...        False  False   \n",
       "...                    ...           ...       ...  ...          ...    ...   \n",
       "10929                 4.78            14       5.0  ...         True  False   \n",
       "10930                 4.80             8       3.0  ...         True  False   \n",
       "10931                 4.90             8       3.0  ...         True  False   \n",
       "10932                 5.00             2       1.0  ...        False  False   \n",
       "10933                 4.61             4       2.0  ...        False  False   \n",
       "\n",
       "      rating_5 accuracy_5 cleanliness_5  checkin_5  location_5  value_5  \\\n",
       "0         True       True          True       True       False     True   \n",
       "1        False      False         False      False       False    False   \n",
       "2        False       True         False       True       False    False   \n",
       "3        False      False         False       True       False    False   \n",
       "4         True       True         False      False        True    False   \n",
       "...        ...        ...           ...        ...         ...      ...   \n",
       "10929    False      False          True       True        True    False   \n",
       "10930    False      False         False      False       False    False   \n",
       "10931    False      False         False      False       False    False   \n",
       "10932     True      False          True       True        True     True   \n",
       "10933    False      False         False      False       False    False   \n",
       "\n",
       "       price_high  price_low  \n",
       "0           False       True  \n",
       "1           False      False  \n",
       "2           False      False  \n",
       "3            True      False  \n",
       "4           False      False  \n",
       "...           ...        ...  \n",
       "10929        True      False  \n",
       "10930       False      False  \n",
       "10931       False      False  \n",
       "10932        True      False  \n",
       "10933       False       True  \n",
       "\n",
       "[8385 rows x 31 columns]"
      ]
     },
     "execution_count": 43,
     "metadata": {},
     "output_type": "execute_result"
    }
   ],
   "source": [
    "df"
   ]
  },
  {
   "cell_type": "markdown",
   "metadata": {
    "ExecuteTime": {
     "end_time": "2022-06-02T15:25:31.459067Z",
     "start_time": "2022-06-02T15:25:31.456428Z"
    }
   },
   "source": [
    "### Checking # of reviews"
   ]
  },
  {
   "cell_type": "code",
   "execution_count": 44,
   "metadata": {
    "ExecuteTime": {
     "end_time": "2022-06-06T19:00:12.017674Z",
     "start_time": "2022-06-06T19:00:12.016240Z"
    }
   },
   "outputs": [],
   "source": [
    "#df['number_of_reviews'].value_counts()"
   ]
  },
  {
   "cell_type": "code",
   "execution_count": 45,
   "metadata": {
    "ExecuteTime": {
     "end_time": "2022-06-06T19:00:12.020362Z",
     "start_time": "2022-06-06T19:00:12.018604Z"
    }
   },
   "outputs": [],
   "source": [
    "#df['5+_reviews'] = df['number_of_reviews'] >= 5.00"
   ]
  },
  {
   "cell_type": "code",
   "execution_count": 46,
   "metadata": {
    "ExecuteTime": {
     "end_time": "2022-06-06T19:00:12.039108Z",
     "start_time": "2022-06-06T19:00:12.021287Z"
    }
   },
   "outputs": [
    {
     "data": {
      "text/html": [
       "<div>\n",
       "<style scoped>\n",
       "    .dataframe tbody tr th:only-of-type {\n",
       "        vertical-align: middle;\n",
       "    }\n",
       "\n",
       "    .dataframe tbody tr th {\n",
       "        vertical-align: top;\n",
       "    }\n",
       "\n",
       "    .dataframe thead th {\n",
       "        text-align: right;\n",
       "    }\n",
       "</style>\n",
       "<table border=\"1\" class=\"dataframe\">\n",
       "  <thead>\n",
       "    <tr style=\"text-align: right;\">\n",
       "      <th></th>\n",
       "      <th>price</th>\n",
       "      <th>review_scores_rating</th>\n",
       "      <th>review_scores_accuracy</th>\n",
       "      <th>review_scores_cleanliness</th>\n",
       "      <th>review_scores_checkin</th>\n",
       "      <th>review_scores_communication</th>\n",
       "      <th>review_scores_location</th>\n",
       "      <th>review_scores_value</th>\n",
       "      <th>accommodates</th>\n",
       "      <th>bedrooms</th>\n",
       "      <th>...</th>\n",
       "      <th>bedrooms_3+</th>\n",
       "      <th>booked</th>\n",
       "      <th>rating_5</th>\n",
       "      <th>accuracy_5</th>\n",
       "      <th>cleanliness_5</th>\n",
       "      <th>checkin_5</th>\n",
       "      <th>location_5</th>\n",
       "      <th>value_5</th>\n",
       "      <th>price_high</th>\n",
       "      <th>price_low</th>\n",
       "    </tr>\n",
       "  </thead>\n",
       "  <tbody>\n",
       "    <tr>\n",
       "      <th>0</th>\n",
       "      <td>60.0</td>\n",
       "      <td>5.00</td>\n",
       "      <td>5.00</td>\n",
       "      <td>5.00</td>\n",
       "      <td>5.00</td>\n",
       "      <td>5.00</td>\n",
       "      <td>4.00</td>\n",
       "      <td>5.00</td>\n",
       "      <td>2</td>\n",
       "      <td>1.0</td>\n",
       "      <td>...</td>\n",
       "      <td>False</td>\n",
       "      <td>True</td>\n",
       "      <td>True</td>\n",
       "      <td>True</td>\n",
       "      <td>True</td>\n",
       "      <td>True</td>\n",
       "      <td>False</td>\n",
       "      <td>True</td>\n",
       "      <td>False</td>\n",
       "      <td>True</td>\n",
       "    </tr>\n",
       "    <tr>\n",
       "      <th>1</th>\n",
       "      <td>282.0</td>\n",
       "      <td>4.87</td>\n",
       "      <td>4.91</td>\n",
       "      <td>4.64</td>\n",
       "      <td>4.99</td>\n",
       "      <td>4.98</td>\n",
       "      <td>4.87</td>\n",
       "      <td>4.86</td>\n",
       "      <td>6</td>\n",
       "      <td>3.0</td>\n",
       "      <td>...</td>\n",
       "      <td>True</td>\n",
       "      <td>False</td>\n",
       "      <td>False</td>\n",
       "      <td>False</td>\n",
       "      <td>False</td>\n",
       "      <td>False</td>\n",
       "      <td>False</td>\n",
       "      <td>False</td>\n",
       "      <td>False</td>\n",
       "      <td>False</td>\n",
       "    </tr>\n",
       "    <tr>\n",
       "      <th>2</th>\n",
       "      <td>348.0</td>\n",
       "      <td>4.92</td>\n",
       "      <td>5.00</td>\n",
       "      <td>4.92</td>\n",
       "      <td>5.00</td>\n",
       "      <td>5.00</td>\n",
       "      <td>4.92</td>\n",
       "      <td>4.92</td>\n",
       "      <td>2</td>\n",
       "      <td>1.0</td>\n",
       "      <td>...</td>\n",
       "      <td>False</td>\n",
       "      <td>True</td>\n",
       "      <td>False</td>\n",
       "      <td>True</td>\n",
       "      <td>False</td>\n",
       "      <td>True</td>\n",
       "      <td>False</td>\n",
       "      <td>False</td>\n",
       "      <td>False</td>\n",
       "      <td>False</td>\n",
       "    </tr>\n",
       "    <tr>\n",
       "      <th>3</th>\n",
       "      <td>368.0</td>\n",
       "      <td>4.88</td>\n",
       "      <td>4.96</td>\n",
       "      <td>4.96</td>\n",
       "      <td>5.00</td>\n",
       "      <td>5.00</td>\n",
       "      <td>4.75</td>\n",
       "      <td>4.71</td>\n",
       "      <td>6</td>\n",
       "      <td>3.0</td>\n",
       "      <td>...</td>\n",
       "      <td>True</td>\n",
       "      <td>False</td>\n",
       "      <td>False</td>\n",
       "      <td>False</td>\n",
       "      <td>False</td>\n",
       "      <td>True</td>\n",
       "      <td>False</td>\n",
       "      <td>False</td>\n",
       "      <td>True</td>\n",
       "      <td>False</td>\n",
       "    </tr>\n",
       "    <tr>\n",
       "      <th>4</th>\n",
       "      <td>264.0</td>\n",
       "      <td>5.00</td>\n",
       "      <td>5.00</td>\n",
       "      <td>4.75</td>\n",
       "      <td>4.75</td>\n",
       "      <td>4.75</td>\n",
       "      <td>5.00</td>\n",
       "      <td>4.75</td>\n",
       "      <td>4</td>\n",
       "      <td>1.0</td>\n",
       "      <td>...</td>\n",
       "      <td>False</td>\n",
       "      <td>False</td>\n",
       "      <td>True</td>\n",
       "      <td>True</td>\n",
       "      <td>False</td>\n",
       "      <td>False</td>\n",
       "      <td>True</td>\n",
       "      <td>False</td>\n",
       "      <td>False</td>\n",
       "      <td>False</td>\n",
       "    </tr>\n",
       "    <tr>\n",
       "      <th>...</th>\n",
       "      <td>...</td>\n",
       "      <td>...</td>\n",
       "      <td>...</td>\n",
       "      <td>...</td>\n",
       "      <td>...</td>\n",
       "      <td>...</td>\n",
       "      <td>...</td>\n",
       "      <td>...</td>\n",
       "      <td>...</td>\n",
       "      <td>...</td>\n",
       "      <td>...</td>\n",
       "      <td>...</td>\n",
       "      <td>...</td>\n",
       "      <td>...</td>\n",
       "      <td>...</td>\n",
       "      <td>...</td>\n",
       "      <td>...</td>\n",
       "      <td>...</td>\n",
       "      <td>...</td>\n",
       "      <td>...</td>\n",
       "      <td>...</td>\n",
       "    </tr>\n",
       "    <tr>\n",
       "      <th>10929</th>\n",
       "      <td>531.0</td>\n",
       "      <td>4.89</td>\n",
       "      <td>4.89</td>\n",
       "      <td>5.00</td>\n",
       "      <td>5.00</td>\n",
       "      <td>4.89</td>\n",
       "      <td>5.00</td>\n",
       "      <td>4.78</td>\n",
       "      <td>14</td>\n",
       "      <td>5.0</td>\n",
       "      <td>...</td>\n",
       "      <td>True</td>\n",
       "      <td>False</td>\n",
       "      <td>False</td>\n",
       "      <td>False</td>\n",
       "      <td>True</td>\n",
       "      <td>True</td>\n",
       "      <td>True</td>\n",
       "      <td>False</td>\n",
       "      <td>True</td>\n",
       "      <td>False</td>\n",
       "    </tr>\n",
       "    <tr>\n",
       "      <th>10930</th>\n",
       "      <td>228.0</td>\n",
       "      <td>4.78</td>\n",
       "      <td>4.82</td>\n",
       "      <td>4.85</td>\n",
       "      <td>4.98</td>\n",
       "      <td>4.90</td>\n",
       "      <td>4.82</td>\n",
       "      <td>4.80</td>\n",
       "      <td>8</td>\n",
       "      <td>3.0</td>\n",
       "      <td>...</td>\n",
       "      <td>True</td>\n",
       "      <td>False</td>\n",
       "      <td>False</td>\n",
       "      <td>False</td>\n",
       "      <td>False</td>\n",
       "      <td>False</td>\n",
       "      <td>False</td>\n",
       "      <td>False</td>\n",
       "      <td>False</td>\n",
       "      <td>False</td>\n",
       "    </tr>\n",
       "    <tr>\n",
       "      <th>10931</th>\n",
       "      <td>168.0</td>\n",
       "      <td>4.89</td>\n",
       "      <td>4.94</td>\n",
       "      <td>4.89</td>\n",
       "      <td>4.93</td>\n",
       "      <td>4.94</td>\n",
       "      <td>4.92</td>\n",
       "      <td>4.90</td>\n",
       "      <td>8</td>\n",
       "      <td>3.0</td>\n",
       "      <td>...</td>\n",
       "      <td>True</td>\n",
       "      <td>False</td>\n",
       "      <td>False</td>\n",
       "      <td>False</td>\n",
       "      <td>False</td>\n",
       "      <td>False</td>\n",
       "      <td>False</td>\n",
       "      <td>False</td>\n",
       "      <td>False</td>\n",
       "      <td>False</td>\n",
       "    </tr>\n",
       "    <tr>\n",
       "      <th>10932</th>\n",
       "      <td>500.0</td>\n",
       "      <td>5.00</td>\n",
       "      <td>4.50</td>\n",
       "      <td>5.00</td>\n",
       "      <td>5.00</td>\n",
       "      <td>5.00</td>\n",
       "      <td>5.00</td>\n",
       "      <td>5.00</td>\n",
       "      <td>2</td>\n",
       "      <td>1.0</td>\n",
       "      <td>...</td>\n",
       "      <td>False</td>\n",
       "      <td>False</td>\n",
       "      <td>True</td>\n",
       "      <td>False</td>\n",
       "      <td>True</td>\n",
       "      <td>True</td>\n",
       "      <td>True</td>\n",
       "      <td>True</td>\n",
       "      <td>True</td>\n",
       "      <td>False</td>\n",
       "    </tr>\n",
       "    <tr>\n",
       "      <th>10933</th>\n",
       "      <td>67.0</td>\n",
       "      <td>4.53</td>\n",
       "      <td>4.82</td>\n",
       "      <td>4.67</td>\n",
       "      <td>4.67</td>\n",
       "      <td>4.69</td>\n",
       "      <td>4.71</td>\n",
       "      <td>4.61</td>\n",
       "      <td>4</td>\n",
       "      <td>2.0</td>\n",
       "      <td>...</td>\n",
       "      <td>False</td>\n",
       "      <td>False</td>\n",
       "      <td>False</td>\n",
       "      <td>False</td>\n",
       "      <td>False</td>\n",
       "      <td>False</td>\n",
       "      <td>False</td>\n",
       "      <td>False</td>\n",
       "      <td>False</td>\n",
       "      <td>True</td>\n",
       "    </tr>\n",
       "  </tbody>\n",
       "</table>\n",
       "<p>8385 rows × 31 columns</p>\n",
       "</div>"
      ],
      "text/plain": [
       "       price  review_scores_rating  review_scores_accuracy  \\\n",
       "0       60.0                  5.00                    5.00   \n",
       "1      282.0                  4.87                    4.91   \n",
       "2      348.0                  4.92                    5.00   \n",
       "3      368.0                  4.88                    4.96   \n",
       "4      264.0                  5.00                    5.00   \n",
       "...      ...                   ...                     ...   \n",
       "10929  531.0                  4.89                    4.89   \n",
       "10930  228.0                  4.78                    4.82   \n",
       "10931  168.0                  4.89                    4.94   \n",
       "10932  500.0                  5.00                    4.50   \n",
       "10933   67.0                  4.53                    4.82   \n",
       "\n",
       "       review_scores_cleanliness  review_scores_checkin  \\\n",
       "0                           5.00                   5.00   \n",
       "1                           4.64                   4.99   \n",
       "2                           4.92                   5.00   \n",
       "3                           4.96                   5.00   \n",
       "4                           4.75                   4.75   \n",
       "...                          ...                    ...   \n",
       "10929                       5.00                   5.00   \n",
       "10930                       4.85                   4.98   \n",
       "10931                       4.89                   4.93   \n",
       "10932                       5.00                   5.00   \n",
       "10933                       4.67                   4.67   \n",
       "\n",
       "       review_scores_communication  review_scores_location  \\\n",
       "0                             5.00                    4.00   \n",
       "1                             4.98                    4.87   \n",
       "2                             5.00                    4.92   \n",
       "3                             5.00                    4.75   \n",
       "4                             4.75                    5.00   \n",
       "...                            ...                     ...   \n",
       "10929                         4.89                    5.00   \n",
       "10930                         4.90                    4.82   \n",
       "10931                         4.94                    4.92   \n",
       "10932                         5.00                    5.00   \n",
       "10933                         4.69                    4.71   \n",
       "\n",
       "       review_scores_value  accommodates  bedrooms  ...  bedrooms_3+ booked  \\\n",
       "0                     5.00             2       1.0  ...        False   True   \n",
       "1                     4.86             6       3.0  ...         True  False   \n",
       "2                     4.92             2       1.0  ...        False   True   \n",
       "3                     4.71             6       3.0  ...         True  False   \n",
       "4                     4.75             4       1.0  ...        False  False   \n",
       "...                    ...           ...       ...  ...          ...    ...   \n",
       "10929                 4.78            14       5.0  ...         True  False   \n",
       "10930                 4.80             8       3.0  ...         True  False   \n",
       "10931                 4.90             8       3.0  ...         True  False   \n",
       "10932                 5.00             2       1.0  ...        False  False   \n",
       "10933                 4.61             4       2.0  ...        False  False   \n",
       "\n",
       "      rating_5 accuracy_5 cleanliness_5  checkin_5  location_5  value_5  \\\n",
       "0         True       True          True       True       False     True   \n",
       "1        False      False         False      False       False    False   \n",
       "2        False       True         False       True       False    False   \n",
       "3        False      False         False       True       False    False   \n",
       "4         True       True         False      False        True    False   \n",
       "...        ...        ...           ...        ...         ...      ...   \n",
       "10929    False      False          True       True        True    False   \n",
       "10930    False      False         False      False       False    False   \n",
       "10931    False      False         False      False       False    False   \n",
       "10932     True      False          True       True        True     True   \n",
       "10933    False      False         False      False       False    False   \n",
       "\n",
       "       price_high  price_low  \n",
       "0           False       True  \n",
       "1           False      False  \n",
       "2           False      False  \n",
       "3            True      False  \n",
       "4           False      False  \n",
       "...           ...        ...  \n",
       "10929        True      False  \n",
       "10930       False      False  \n",
       "10931       False      False  \n",
       "10932        True      False  \n",
       "10933       False       True  \n",
       "\n",
       "[8385 rows x 31 columns]"
      ]
     },
     "execution_count": 46,
     "metadata": {},
     "output_type": "execute_result"
    }
   ],
   "source": [
    "df"
   ]
  },
  {
   "cell_type": "code",
   "execution_count": 47,
   "metadata": {
    "ExecuteTime": {
     "end_time": "2022-06-06T19:00:12.049372Z",
     "start_time": "2022-06-06T19:00:12.040115Z"
    }
   },
   "outputs": [],
   "source": [
    "df['stripped_rating'] = df['review_scores_rating'].astype(str).str[:1]"
   ]
  },
  {
   "cell_type": "code",
   "execution_count": 48,
   "metadata": {
    "ExecuteTime": {
     "end_time": "2022-06-06T19:00:12.053605Z",
     "start_time": "2022-06-06T19:00:12.050427Z"
    }
   },
   "outputs": [
    {
     "data": {
      "text/plain": [
       "0        5\n",
       "1        4\n",
       "2        4\n",
       "3        4\n",
       "4        5\n",
       "        ..\n",
       "10929    4\n",
       "10930    4\n",
       "10931    4\n",
       "10932    5\n",
       "10933    4\n",
       "Name: stripped_rating, Length: 8385, dtype: object"
      ]
     },
     "execution_count": 48,
     "metadata": {},
     "output_type": "execute_result"
    }
   ],
   "source": [
    "df['stripped_rating']"
   ]
  },
  {
   "cell_type": "code",
   "execution_count": 49,
   "metadata": {
    "ExecuteTime": {
     "end_time": "2022-06-06T19:00:12.061573Z",
     "start_time": "2022-06-06T19:00:12.054587Z"
    }
   },
   "outputs": [],
   "source": [
    "df = df.sort_values('stripped_rating', ascending=False)"
   ]
  },
  {
   "cell_type": "code",
   "execution_count": 50,
   "metadata": {
    "ExecuteTime": {
     "end_time": "2022-06-06T19:00:12.070332Z",
     "start_time": "2022-06-06T19:00:12.062569Z"
    }
   },
   "outputs": [
    {
     "name": "stdout",
     "output_type": "stream",
     "text": [
      "<class 'pandas.core.frame.DataFrame'>\n",
      "Int64Index: 8385 entries, 0 to 9846\n",
      "Data columns (total 32 columns):\n",
      " #   Column                       Non-Null Count  Dtype  \n",
      "---  ------                       --------------  -----  \n",
      " 0   price                        8385 non-null   float64\n",
      " 1   review_scores_rating         8385 non-null   float64\n",
      " 2   review_scores_accuracy       8385 non-null   float64\n",
      " 3   review_scores_cleanliness    8385 non-null   float64\n",
      " 4   review_scores_checkin        8385 non-null   float64\n",
      " 5   review_scores_communication  8385 non-null   float64\n",
      " 6   review_scores_location       8385 non-null   float64\n",
      " 7   review_scores_value          8385 non-null   float64\n",
      " 8   accommodates                 8385 non-null   int64  \n",
      " 9   bedrooms                     8385 non-null   float64\n",
      " 10  beds                         8385 non-null   float64\n",
      " 11  instant_bookable             8385 non-null   object \n",
      " 12  property_type                8385 non-null   object \n",
      " 13  room_type                    8385 non-null   object \n",
      " 14  amenities                    8385 non-null   object \n",
      " 15  capacity_-2                  8385 non-null   bool   \n",
      " 16  capacity_-4                  8385 non-null   bool   \n",
      " 17  capacity_-6                  8385 non-null   bool   \n",
      " 18  capacity_-10                 8385 non-null   bool   \n",
      " 19  capacity_11+                 8385 non-null   bool   \n",
      " 20  bedrooms_1-2                 8385 non-null   bool   \n",
      " 21  bedrooms_3+                  8385 non-null   bool   \n",
      " 22  booked                       8385 non-null   bool   \n",
      " 23  rating_5                     8385 non-null   bool   \n",
      " 24  accuracy_5                   8385 non-null   bool   \n",
      " 25  cleanliness_5                8385 non-null   bool   \n",
      " 26  checkin_5                    8385 non-null   bool   \n",
      " 27  location_5                   8385 non-null   bool   \n",
      " 28  value_5                      8385 non-null   bool   \n",
      " 29  price_high                   8385 non-null   bool   \n",
      " 30  price_low                    8385 non-null   bool   \n",
      " 31  stripped_rating              8385 non-null   object \n",
      "dtypes: bool(16), float64(10), int64(1), object(5)\n",
      "memory usage: 1.2+ MB\n"
     ]
    }
   ],
   "source": [
    "df.info()"
   ]
  },
  {
   "cell_type": "markdown",
   "metadata": {},
   "source": [
    "## Attempting visualization"
   ]
  },
  {
   "cell_type": "code",
   "execution_count": 51,
   "metadata": {
    "ExecuteTime": {
     "end_time": "2022-06-06T19:00:12.306116Z",
     "start_time": "2022-06-06T19:00:12.071237Z"
    }
   },
   "outputs": [
    {
     "data": {
      "image/png": "[encoded data removed]",
      "text/plain": [
       "<Figure size 1440x720 with 1 Axes>"
      ]
     },
     "metadata": {},
     "output_type": "display_data"
    }
   ],
   "source": [
    "fig, ax = plt.subplots(figsize=(20, 10))\n",
    "\n",
    "p = sns.lineplot(data=df, x='stripped_rating', y='price', color='blue');\n",
    "\n",
    "\n",
    "#p.set_xlabel(\"Date\", fontsize = 30)\n",
    "#p.set_ylabel(\"Average Home Prices (Median)\", fontsize = 30)\n",
    "\n",
    "#y1 = p.axvline('2008-01', color='red') #housing market crash begins\n",
    "#y2 = p.axvline('2012-01', color='red') #housing market crash ends\n",
    "\n",
    "plt.xticks(fontsize=20)\n",
    "plt.yticks(fontsize=20)\n",
    "\n",
    "fmt = '${x:,.0f}'\n",
    "tick = mtick.StrMethodFormatter(fmt)\n",
    "ax.yaxis.set_major_formatter(tick) \n",
    "\n",
    "#p.set_title(\"US Median Home Prices\", fontsize = 55)\n",
    "plt.figsize=(50,25)\n",
    "#plt.savefig('images/us_median_plot_1')\n",
    "\n",
    "plt.tight_layout()\n",
    "\n",
    "plt.show();"
   ]
  },
  {
   "cell_type": "markdown",
   "metadata": {},
   "source": [
    "### Analysis: \n",
    "This is a very basic plot, but seems to show that there is a \"sweet spot\" for pricing that is around $300."
   ]
  },
  {
   "cell_type": "code",
   "execution_count": 52,
   "metadata": {
    "ExecuteTime": {
     "end_time": "2022-06-06T19:00:12.309487Z",
     "start_time": "2022-06-06T19:00:12.307587Z"
    }
   },
   "outputs": [],
   "source": [
    "#new_df = df[df['5+_reviews'] == True]"
   ]
  },
  {
   "cell_type": "code",
   "execution_count": 53,
   "metadata": {
    "ExecuteTime": {
     "end_time": "2022-06-06T19:00:12.312254Z",
     "start_time": "2022-06-06T19:00:12.310759Z"
    }
   },
   "outputs": [],
   "source": [
    "#new_df['5+_reviews'].value_counts()"
   ]
  },
  {
   "cell_type": "code",
   "execution_count": null,
   "metadata": {},
   "outputs": [],
   "source": []
  },
  {
   "cell_type": "code",
   "execution_count": 54,
   "metadata": {
    "ExecuteTime": {
     "end_time": "2022-06-06T19:00:12.316696Z",
     "start_time": "2022-06-06T19:00:12.313309Z"
    }
   },
   "outputs": [],
   "source": [
    "scatter_df = df[df['review_scores_rating'] >= 4.0]"
   ]
  },
  {
   "cell_type": "code",
   "execution_count": 55,
   "metadata": {
    "ExecuteTime": {
     "end_time": "2022-06-06T19:00:12.320920Z",
     "start_time": "2022-06-06T19:00:12.317730Z"
    }
   },
   "outputs": [
    {
     "data": {
      "text/plain": [
       "294.45981924767955"
      ]
     },
     "execution_count": 55,
     "metadata": {},
     "output_type": "execute_result"
    }
   ],
   "source": [
    "scatter_mean = scatter_df['price'].mean()\n",
    "scatter_mean"
   ]
  },
  {
   "cell_type": "code",
   "execution_count": 56,
   "metadata": {
    "ExecuteTime": {
     "end_time": "2022-06-06T19:00:13.573222Z",
     "start_time": "2022-06-06T19:00:12.322045Z"
    }
   },
   "outputs": [
    {
     "data": {
      "image/png": "[encoded data removed]",
      "text/plain": [
       "<Figure size 1440x720 with 1 Axes>"
      ]
     },
     "metadata": {},
     "output_type": "display_data"
    }
   ],
   "source": [
    "fig, ax = plt.subplots(figsize=(20, 10))\n",
    "\n",
    "p = sns.lineplot(data=scatter_df, x='review_scores_rating', y='price', color='blue');\n",
    "\n",
    "\n",
    "#p.set_xlabel(\"Date\", fontsize = 30)\n",
    "#p.set_ylabel(\"Average Home Prices (Median)\", fontsize = 30)\n",
    "\n",
    "y1 = p.axhline(scatter_mean, color='red') \n",
    "#y2 = p.axvline('2012-01', color='red') #housing market crash ends\n",
    "\n",
    "plt.xticks(fontsize=20)\n",
    "plt.yticks(fontsize=20)\n",
    "\n",
    "fmt = '${x:,.0f}'\n",
    "tick = mtick.StrMethodFormatter(fmt)\n",
    "ax.yaxis.set_major_formatter(tick) \n",
    "\n",
    "#p.set_title(\"US Median Home Prices\", fontsize = 55)\n",
    "plt.figsize=(50,25)\n",
    "#plt.savefig('images/us_median_plot_1')\n",
    "\n",
    "plt.tight_layout()\n",
    "\n",
    "plt.show();"
   ]
  },
  {
   "cell_type": "code",
   "execution_count": 57,
   "metadata": {
    "ExecuteTime": {
     "end_time": "2022-06-06T19:00:13.584627Z",
     "start_time": "2022-06-06T19:00:13.574234Z"
    }
   },
   "outputs": [
    {
     "data": {
      "text/html": [
       "<div>\n",
       "<style scoped>\n",
       "    .dataframe tbody tr th:only-of-type {\n",
       "        vertical-align: middle;\n",
       "    }\n",
       "\n",
       "    .dataframe tbody tr th {\n",
       "        vertical-align: top;\n",
       "    }\n",
       "\n",
       "    .dataframe thead th {\n",
       "        text-align: right;\n",
       "    }\n",
       "</style>\n",
       "<table border=\"1\" class=\"dataframe\">\n",
       "  <thead>\n",
       "    <tr style=\"text-align: right;\">\n",
       "      <th></th>\n",
       "      <th>price</th>\n",
       "      <th>review_scores_rating</th>\n",
       "      <th>review_scores_accuracy</th>\n",
       "      <th>review_scores_cleanliness</th>\n",
       "      <th>review_scores_checkin</th>\n",
       "      <th>review_scores_communication</th>\n",
       "      <th>review_scores_location</th>\n",
       "      <th>review_scores_value</th>\n",
       "      <th>accommodates</th>\n",
       "      <th>bedrooms</th>\n",
       "      <th>...</th>\n",
       "      <th>booked</th>\n",
       "      <th>rating_5</th>\n",
       "      <th>accuracy_5</th>\n",
       "      <th>cleanliness_5</th>\n",
       "      <th>checkin_5</th>\n",
       "      <th>location_5</th>\n",
       "      <th>value_5</th>\n",
       "      <th>price_high</th>\n",
       "      <th>price_low</th>\n",
       "      <th>stripped_rating</th>\n",
       "    </tr>\n",
       "  </thead>\n",
       "  <tbody>\n",
       "    <tr>\n",
       "      <th>0</th>\n",
       "      <td>60.0</td>\n",
       "      <td>5.0</td>\n",
       "      <td>5.0</td>\n",
       "      <td>5.0</td>\n",
       "      <td>5.0</td>\n",
       "      <td>5.0</td>\n",
       "      <td>4.0</td>\n",
       "      <td>5.0</td>\n",
       "      <td>2</td>\n",
       "      <td>1.0</td>\n",
       "      <td>...</td>\n",
       "      <td>True</td>\n",
       "      <td>True</td>\n",
       "      <td>True</td>\n",
       "      <td>True</td>\n",
       "      <td>True</td>\n",
       "      <td>False</td>\n",
       "      <td>True</td>\n",
       "      <td>False</td>\n",
       "      <td>True</td>\n",
       "      <td>5</td>\n",
       "    </tr>\n",
       "  </tbody>\n",
       "</table>\n",
       "<p>1 rows × 32 columns</p>\n",
       "</div>"
      ],
      "text/plain": [
       "   price  review_scores_rating  review_scores_accuracy  \\\n",
       "0   60.0                   5.0                     5.0   \n",
       "\n",
       "   review_scores_cleanliness  review_scores_checkin  \\\n",
       "0                        5.0                    5.0   \n",
       "\n",
       "   review_scores_communication  review_scores_location  review_scores_value  \\\n",
       "0                          5.0                     4.0                  5.0   \n",
       "\n",
       "   accommodates  bedrooms  ...  booked rating_5 accuracy_5 cleanliness_5  \\\n",
       "0             2       1.0  ...    True     True       True          True   \n",
       "\n",
       "  checkin_5  location_5  value_5  price_high  price_low  stripped_rating  \n",
       "0      True       False     True       False       True                5  \n",
       "\n",
       "[1 rows x 32 columns]"
      ]
     },
     "execution_count": 57,
     "metadata": {},
     "output_type": "execute_result"
    }
   ],
   "source": [
    "df.head(1)"
   ]
  },
  {
   "cell_type": "code",
   "execution_count": 58,
   "metadata": {
    "ExecuteTime": {
     "end_time": "2022-06-06T19:00:13.599792Z",
     "start_time": "2022-06-06T19:00:13.585788Z"
    }
   },
   "outputs": [
    {
     "data": {
      "text/html": [
       "<div>\n",
       "<style scoped>\n",
       "    .dataframe tbody tr th:only-of-type {\n",
       "        vertical-align: middle;\n",
       "    }\n",
       "\n",
       "    .dataframe tbody tr th {\n",
       "        vertical-align: top;\n",
       "    }\n",
       "\n",
       "    .dataframe thead th {\n",
       "        text-align: right;\n",
       "    }\n",
       "</style>\n",
       "<table border=\"1\" class=\"dataframe\">\n",
       "  <thead>\n",
       "    <tr style=\"text-align: right;\">\n",
       "      <th></th>\n",
       "      <th>price</th>\n",
       "      <th>review_scores_rating</th>\n",
       "      <th>review_scores_accuracy</th>\n",
       "      <th>review_scores_cleanliness</th>\n",
       "      <th>review_scores_checkin</th>\n",
       "      <th>review_scores_communication</th>\n",
       "      <th>review_scores_location</th>\n",
       "      <th>review_scores_value</th>\n",
       "      <th>accommodates</th>\n",
       "      <th>bedrooms</th>\n",
       "      <th>...</th>\n",
       "      <th>booked</th>\n",
       "      <th>rating_5</th>\n",
       "      <th>accuracy_5</th>\n",
       "      <th>cleanliness_5</th>\n",
       "      <th>checkin_5</th>\n",
       "      <th>location_5</th>\n",
       "      <th>value_5</th>\n",
       "      <th>price_high</th>\n",
       "      <th>price_low</th>\n",
       "      <th>stripped_rating</th>\n",
       "    </tr>\n",
       "  </thead>\n",
       "  <tbody>\n",
       "    <tr>\n",
       "      <th>0</th>\n",
       "      <td>60.0</td>\n",
       "      <td>5.0</td>\n",
       "      <td>5.0</td>\n",
       "      <td>5.0</td>\n",
       "      <td>5.00</td>\n",
       "      <td>5.00</td>\n",
       "      <td>4.0</td>\n",
       "      <td>5.00</td>\n",
       "      <td>2</td>\n",
       "      <td>1.0</td>\n",
       "      <td>...</td>\n",
       "      <td>True</td>\n",
       "      <td>True</td>\n",
       "      <td>True</td>\n",
       "      <td>True</td>\n",
       "      <td>True</td>\n",
       "      <td>False</td>\n",
       "      <td>True</td>\n",
       "      <td>False</td>\n",
       "      <td>True</td>\n",
       "      <td>5</td>\n",
       "    </tr>\n",
       "    <tr>\n",
       "      <th>740</th>\n",
       "      <td>1185.0</td>\n",
       "      <td>5.0</td>\n",
       "      <td>5.0</td>\n",
       "      <td>5.0</td>\n",
       "      <td>4.40</td>\n",
       "      <td>3.80</td>\n",
       "      <td>5.0</td>\n",
       "      <td>5.00</td>\n",
       "      <td>12</td>\n",
       "      <td>3.0</td>\n",
       "      <td>...</td>\n",
       "      <td>False</td>\n",
       "      <td>True</td>\n",
       "      <td>True</td>\n",
       "      <td>True</td>\n",
       "      <td>False</td>\n",
       "      <td>True</td>\n",
       "      <td>True</td>\n",
       "      <td>True</td>\n",
       "      <td>False</td>\n",
       "      <td>5</td>\n",
       "    </tr>\n",
       "    <tr>\n",
       "      <th>9722</th>\n",
       "      <td>379.0</td>\n",
       "      <td>5.0</td>\n",
       "      <td>5.0</td>\n",
       "      <td>5.0</td>\n",
       "      <td>5.00</td>\n",
       "      <td>5.00</td>\n",
       "      <td>5.0</td>\n",
       "      <td>5.00</td>\n",
       "      <td>8</td>\n",
       "      <td>3.0</td>\n",
       "      <td>...</td>\n",
       "      <td>False</td>\n",
       "      <td>True</td>\n",
       "      <td>True</td>\n",
       "      <td>True</td>\n",
       "      <td>True</td>\n",
       "      <td>True</td>\n",
       "      <td>True</td>\n",
       "      <td>True</td>\n",
       "      <td>False</td>\n",
       "      <td>5</td>\n",
       "    </tr>\n",
       "    <tr>\n",
       "      <th>9718</th>\n",
       "      <td>55.0</td>\n",
       "      <td>5.0</td>\n",
       "      <td>5.0</td>\n",
       "      <td>4.0</td>\n",
       "      <td>5.00</td>\n",
       "      <td>5.00</td>\n",
       "      <td>4.0</td>\n",
       "      <td>4.00</td>\n",
       "      <td>1</td>\n",
       "      <td>1.0</td>\n",
       "      <td>...</td>\n",
       "      <td>False</td>\n",
       "      <td>True</td>\n",
       "      <td>True</td>\n",
       "      <td>False</td>\n",
       "      <td>True</td>\n",
       "      <td>False</td>\n",
       "      <td>False</td>\n",
       "      <td>False</td>\n",
       "      <td>True</td>\n",
       "      <td>5</td>\n",
       "    </tr>\n",
       "    <tr>\n",
       "      <th>4819</th>\n",
       "      <td>519.0</td>\n",
       "      <td>5.0</td>\n",
       "      <td>5.0</td>\n",
       "      <td>5.0</td>\n",
       "      <td>4.93</td>\n",
       "      <td>4.93</td>\n",
       "      <td>4.6</td>\n",
       "      <td>4.97</td>\n",
       "      <td>7</td>\n",
       "      <td>4.0</td>\n",
       "      <td>...</td>\n",
       "      <td>False</td>\n",
       "      <td>True</td>\n",
       "      <td>True</td>\n",
       "      <td>True</td>\n",
       "      <td>False</td>\n",
       "      <td>False</td>\n",
       "      <td>False</td>\n",
       "      <td>True</td>\n",
       "      <td>False</td>\n",
       "      <td>5</td>\n",
       "    </tr>\n",
       "  </tbody>\n",
       "</table>\n",
       "<p>5 rows × 32 columns</p>\n",
       "</div>"
      ],
      "text/plain": [
       "       price  review_scores_rating  review_scores_accuracy  \\\n",
       "0       60.0                   5.0                     5.0   \n",
       "740   1185.0                   5.0                     5.0   \n",
       "9722   379.0                   5.0                     5.0   \n",
       "9718    55.0                   5.0                     5.0   \n",
       "4819   519.0                   5.0                     5.0   \n",
       "\n",
       "      review_scores_cleanliness  review_scores_checkin  \\\n",
       "0                           5.0                   5.00   \n",
       "740                         5.0                   4.40   \n",
       "9722                        5.0                   5.00   \n",
       "9718                        4.0                   5.00   \n",
       "4819                        5.0                   4.93   \n",
       "\n",
       "      review_scores_communication  review_scores_location  \\\n",
       "0                            5.00                     4.0   \n",
       "740                          3.80                     5.0   \n",
       "9722                         5.00                     5.0   \n",
       "9718                         5.00                     4.0   \n",
       "4819                         4.93                     4.6   \n",
       "\n",
       "      review_scores_value  accommodates  bedrooms  ...  booked rating_5  \\\n",
       "0                    5.00             2       1.0  ...    True     True   \n",
       "740                  5.00            12       3.0  ...   False     True   \n",
       "9722                 5.00             8       3.0  ...   False     True   \n",
       "9718                 4.00             1       1.0  ...   False     True   \n",
       "4819                 4.97             7       4.0  ...   False     True   \n",
       "\n",
       "     accuracy_5 cleanliness_5 checkin_5  location_5  value_5  price_high  \\\n",
       "0          True          True      True       False     True       False   \n",
       "740        True          True     False        True     True        True   \n",
       "9722       True          True      True        True     True        True   \n",
       "9718       True         False      True       False    False       False   \n",
       "4819       True          True     False       False    False        True   \n",
       "\n",
       "      price_low  stripped_rating  \n",
       "0          True                5  \n",
       "740       False                5  \n",
       "9722      False                5  \n",
       "9718       True                5  \n",
       "4819      False                5  \n",
       "\n",
       "[5 rows x 32 columns]"
      ]
     },
     "execution_count": 58,
     "metadata": {},
     "output_type": "execute_result"
    }
   ],
   "source": [
    "df.sort_values('rating_5', ascending=False).head()"
   ]
  },
  {
   "cell_type": "code",
   "execution_count": 59,
   "metadata": {
    "ExecuteTime": {
     "end_time": "2022-06-06T19:00:13.609115Z",
     "start_time": "2022-06-06T19:00:13.600845Z"
    }
   },
   "outputs": [
    {
     "name": "stdout",
     "output_type": "stream",
     "text": [
      "<class 'pandas.core.frame.DataFrame'>\n",
      "Int64Index: 8385 entries, 0 to 9846\n",
      "Data columns (total 32 columns):\n",
      " #   Column                       Non-Null Count  Dtype  \n",
      "---  ------                       --------------  -----  \n",
      " 0   price                        8385 non-null   float64\n",
      " 1   review_scores_rating         8385 non-null   float64\n",
      " 2   review_scores_accuracy       8385 non-null   float64\n",
      " 3   review_scores_cleanliness    8385 non-null   float64\n",
      " 4   review_scores_checkin        8385 non-null   float64\n",
      " 5   review_scores_communication  8385 non-null   float64\n",
      " 6   review_scores_location       8385 non-null   float64\n",
      " 7   review_scores_value          8385 non-null   float64\n",
      " 8   accommodates                 8385 non-null   int64  \n",
      " 9   bedrooms                     8385 non-null   float64\n",
      " 10  beds                         8385 non-null   float64\n",
      " 11  instant_bookable             8385 non-null   object \n",
      " 12  property_type                8385 non-null   object \n",
      " 13  room_type                    8385 non-null   object \n",
      " 14  amenities                    8385 non-null   object \n",
      " 15  capacity_-2                  8385 non-null   bool   \n",
      " 16  capacity_-4                  8385 non-null   bool   \n",
      " 17  capacity_-6                  8385 non-null   bool   \n",
      " 18  capacity_-10                 8385 non-null   bool   \n",
      " 19  capacity_11+                 8385 non-null   bool   \n",
      " 20  bedrooms_1-2                 8385 non-null   bool   \n",
      " 21  bedrooms_3+                  8385 non-null   bool   \n",
      " 22  booked                       8385 non-null   bool   \n",
      " 23  rating_5                     8385 non-null   bool   \n",
      " 24  accuracy_5                   8385 non-null   bool   \n",
      " 25  cleanliness_5                8385 non-null   bool   \n",
      " 26  checkin_5                    8385 non-null   bool   \n",
      " 27  location_5                   8385 non-null   bool   \n",
      " 28  value_5                      8385 non-null   bool   \n",
      " 29  price_high                   8385 non-null   bool   \n",
      " 30  price_low                    8385 non-null   bool   \n",
      " 31  stripped_rating              8385 non-null   object \n",
      "dtypes: bool(16), float64(10), int64(1), object(5)\n",
      "memory usage: 1.2+ MB\n"
     ]
    }
   ],
   "source": [
    "df.info()"
   ]
  },
  {
   "cell_type": "markdown",
   "metadata": {},
   "source": [
    "## Modelling"
   ]
  },
  {
   "cell_type": "markdown",
   "metadata": {},
   "source": [
    "### Getting Data Ready for Modelling"
   ]
  },
  {
   "cell_type": "code",
   "execution_count": 60,
   "metadata": {
    "ExecuteTime": {
     "end_time": "2022-06-06T19:00:13.619658Z",
     "start_time": "2022-06-06T19:00:13.610353Z"
    }
   },
   "outputs": [
    {
     "data": {
      "text/html": [
       "<div>\n",
       "<style scoped>\n",
       "    .dataframe tbody tr th:only-of-type {\n",
       "        vertical-align: middle;\n",
       "    }\n",
       "\n",
       "    .dataframe tbody tr th {\n",
       "        vertical-align: top;\n",
       "    }\n",
       "\n",
       "    .dataframe thead th {\n",
       "        text-align: right;\n",
       "    }\n",
       "</style>\n",
       "<table border=\"1\" class=\"dataframe\">\n",
       "  <thead>\n",
       "    <tr style=\"text-align: right;\">\n",
       "      <th></th>\n",
       "      <th>price</th>\n",
       "      <th>review_scores_rating</th>\n",
       "      <th>review_scores_accuracy</th>\n",
       "      <th>review_scores_cleanliness</th>\n",
       "      <th>review_scores_checkin</th>\n",
       "      <th>review_scores_communication</th>\n",
       "      <th>review_scores_location</th>\n",
       "      <th>review_scores_value</th>\n",
       "      <th>accommodates</th>\n",
       "      <th>bedrooms</th>\n",
       "      <th>beds</th>\n",
       "    </tr>\n",
       "  </thead>\n",
       "  <tbody>\n",
       "    <tr>\n",
       "      <th>0</th>\n",
       "      <td>60.0</td>\n",
       "      <td>5.0</td>\n",
       "      <td>5.0</td>\n",
       "      <td>5.00</td>\n",
       "      <td>5.0</td>\n",
       "      <td>5.0</td>\n",
       "      <td>4.00</td>\n",
       "      <td>5.00</td>\n",
       "      <td>2</td>\n",
       "      <td>1.0</td>\n",
       "      <td>1.0</td>\n",
       "    </tr>\n",
       "    <tr>\n",
       "      <th>1900</th>\n",
       "      <td>500.0</td>\n",
       "      <td>5.0</td>\n",
       "      <td>5.0</td>\n",
       "      <td>4.91</td>\n",
       "      <td>5.0</td>\n",
       "      <td>5.0</td>\n",
       "      <td>5.00</td>\n",
       "      <td>4.73</td>\n",
       "      <td>6</td>\n",
       "      <td>3.0</td>\n",
       "      <td>3.0</td>\n",
       "    </tr>\n",
       "    <tr>\n",
       "      <th>1886</th>\n",
       "      <td>386.0</td>\n",
       "      <td>5.0</td>\n",
       "      <td>5.0</td>\n",
       "      <td>5.00</td>\n",
       "      <td>5.0</td>\n",
       "      <td>5.0</td>\n",
       "      <td>5.00</td>\n",
       "      <td>5.00</td>\n",
       "      <td>5</td>\n",
       "      <td>2.0</td>\n",
       "      <td>3.0</td>\n",
       "    </tr>\n",
       "    <tr>\n",
       "      <th>8315</th>\n",
       "      <td>152.0</td>\n",
       "      <td>5.0</td>\n",
       "      <td>5.0</td>\n",
       "      <td>5.00</td>\n",
       "      <td>5.0</td>\n",
       "      <td>5.0</td>\n",
       "      <td>5.00</td>\n",
       "      <td>5.00</td>\n",
       "      <td>2</td>\n",
       "      <td>1.0</td>\n",
       "      <td>2.0</td>\n",
       "    </tr>\n",
       "    <tr>\n",
       "      <th>8311</th>\n",
       "      <td>552.0</td>\n",
       "      <td>5.0</td>\n",
       "      <td>5.0</td>\n",
       "      <td>5.00</td>\n",
       "      <td>5.0</td>\n",
       "      <td>5.0</td>\n",
       "      <td>4.83</td>\n",
       "      <td>4.83</td>\n",
       "      <td>6</td>\n",
       "      <td>3.0</td>\n",
       "      <td>3.0</td>\n",
       "    </tr>\n",
       "  </tbody>\n",
       "</table>\n",
       "</div>"
      ],
      "text/plain": [
       "      price  review_scores_rating  review_scores_accuracy  \\\n",
       "0      60.0                   5.0                     5.0   \n",
       "1900  500.0                   5.0                     5.0   \n",
       "1886  386.0                   5.0                     5.0   \n",
       "8315  152.0                   5.0                     5.0   \n",
       "8311  552.0                   5.0                     5.0   \n",
       "\n",
       "      review_scores_cleanliness  review_scores_checkin  \\\n",
       "0                          5.00                    5.0   \n",
       "1900                       4.91                    5.0   \n",
       "1886                       5.00                    5.0   \n",
       "8315                       5.00                    5.0   \n",
       "8311                       5.00                    5.0   \n",
       "\n",
       "      review_scores_communication  review_scores_location  \\\n",
       "0                             5.0                    4.00   \n",
       "1900                          5.0                    5.00   \n",
       "1886                          5.0                    5.00   \n",
       "8315                          5.0                    5.00   \n",
       "8311                          5.0                    4.83   \n",
       "\n",
       "      review_scores_value  accommodates  bedrooms  beds  \n",
       "0                    5.00             2       1.0   1.0  \n",
       "1900                 4.73             6       3.0   3.0  \n",
       "1886                 5.00             5       2.0   3.0  \n",
       "8315                 5.00             2       1.0   2.0  \n",
       "8311                 4.83             6       3.0   3.0  "
      ]
     },
     "execution_count": 60,
     "metadata": {},
     "output_type": "execute_result"
    }
   ],
   "source": [
    "cont_features = [col for col in df.columns if df[col].dtype in [np.float64, np.int64]]\n",
    "feature_df = df.loc[:, cont_features]\n",
    "feature_df.head()"
   ]
  },
  {
   "cell_type": "code",
   "execution_count": 61,
   "metadata": {
    "ExecuteTime": {
     "end_time": "2022-06-06T19:00:13.622583Z",
     "start_time": "2022-06-06T19:00:13.620886Z"
    }
   },
   "outputs": [],
   "source": [
    "#test_df = df.drop(cont_features, axis=1)"
   ]
  },
  {
   "cell_type": "code",
   "execution_count": 62,
   "metadata": {
    "ExecuteTime": {
     "end_time": "2022-06-06T19:00:13.625693Z",
     "start_time": "2022-06-06T19:00:13.623769Z"
    }
   },
   "outputs": [],
   "source": [
    "#test_df"
   ]
  },
  {
   "cell_type": "code",
   "execution_count": 63,
   "metadata": {
    "ExecuteTime": {
     "end_time": "2022-06-06T19:00:13.629637Z",
     "start_time": "2022-06-06T19:00:13.627690Z"
    }
   },
   "outputs": [],
   "source": [
    "#feature_df.drop(['review_scores_rating', 'review_scores_accuracy','review_scores_cleanliness',\n",
    "#                 'review_scores_checkin', 'review_scores_communication','review_scores_value',\n",
    "#                 'review_scores_location', 'accommodates', 'bedrooms',\n",
    "#                 'beds'], axis=1, inplace=True#)"
   ]
  },
  {
   "cell_type": "code",
   "execution_count": 64,
   "metadata": {
    "ExecuteTime": {
     "end_time": "2022-06-06T19:00:13.632464Z",
     "start_time": "2022-06-06T19:00:13.630951Z"
    }
   },
   "outputs": [],
   "source": [
    "#feature_df.drop(['review_scores_location'], axis=1, inplace=True)"
   ]
  },
  {
   "cell_type": "code",
   "execution_count": 65,
   "metadata": {
    "ExecuteTime": {
     "end_time": "2022-06-06T19:00:13.641312Z",
     "start_time": "2022-06-06T19:00:13.633487Z"
    }
   },
   "outputs": [
    {
     "data": {
      "text/html": [
       "<div>\n",
       "<style scoped>\n",
       "    .dataframe tbody tr th:only-of-type {\n",
       "        vertical-align: middle;\n",
       "    }\n",
       "\n",
       "    .dataframe tbody tr th {\n",
       "        vertical-align: top;\n",
       "    }\n",
       "\n",
       "    .dataframe thead th {\n",
       "        text-align: right;\n",
       "    }\n",
       "</style>\n",
       "<table border=\"1\" class=\"dataframe\">\n",
       "  <thead>\n",
       "    <tr style=\"text-align: right;\">\n",
       "      <th></th>\n",
       "      <th>price</th>\n",
       "      <th>review_scores_rating</th>\n",
       "      <th>review_scores_accuracy</th>\n",
       "      <th>review_scores_cleanliness</th>\n",
       "      <th>review_scores_checkin</th>\n",
       "      <th>review_scores_communication</th>\n",
       "      <th>review_scores_location</th>\n",
       "      <th>review_scores_value</th>\n",
       "      <th>accommodates</th>\n",
       "      <th>bedrooms</th>\n",
       "      <th>beds</th>\n",
       "    </tr>\n",
       "  </thead>\n",
       "  <tbody>\n",
       "    <tr>\n",
       "      <th>0</th>\n",
       "      <td>60.0</td>\n",
       "      <td>5.0</td>\n",
       "      <td>5.0</td>\n",
       "      <td>5.00</td>\n",
       "      <td>5.0</td>\n",
       "      <td>5.0</td>\n",
       "      <td>4.00</td>\n",
       "      <td>5.00</td>\n",
       "      <td>2</td>\n",
       "      <td>1.0</td>\n",
       "      <td>1.0</td>\n",
       "    </tr>\n",
       "    <tr>\n",
       "      <th>1900</th>\n",
       "      <td>500.0</td>\n",
       "      <td>5.0</td>\n",
       "      <td>5.0</td>\n",
       "      <td>4.91</td>\n",
       "      <td>5.0</td>\n",
       "      <td>5.0</td>\n",
       "      <td>5.00</td>\n",
       "      <td>4.73</td>\n",
       "      <td>6</td>\n",
       "      <td>3.0</td>\n",
       "      <td>3.0</td>\n",
       "    </tr>\n",
       "    <tr>\n",
       "      <th>1886</th>\n",
       "      <td>386.0</td>\n",
       "      <td>5.0</td>\n",
       "      <td>5.0</td>\n",
       "      <td>5.00</td>\n",
       "      <td>5.0</td>\n",
       "      <td>5.0</td>\n",
       "      <td>5.00</td>\n",
       "      <td>5.00</td>\n",
       "      <td>5</td>\n",
       "      <td>2.0</td>\n",
       "      <td>3.0</td>\n",
       "    </tr>\n",
       "    <tr>\n",
       "      <th>8315</th>\n",
       "      <td>152.0</td>\n",
       "      <td>5.0</td>\n",
       "      <td>5.0</td>\n",
       "      <td>5.00</td>\n",
       "      <td>5.0</td>\n",
       "      <td>5.0</td>\n",
       "      <td>5.00</td>\n",
       "      <td>5.00</td>\n",
       "      <td>2</td>\n",
       "      <td>1.0</td>\n",
       "      <td>2.0</td>\n",
       "    </tr>\n",
       "    <tr>\n",
       "      <th>8311</th>\n",
       "      <td>552.0</td>\n",
       "      <td>5.0</td>\n",
       "      <td>5.0</td>\n",
       "      <td>5.00</td>\n",
       "      <td>5.0</td>\n",
       "      <td>5.0</td>\n",
       "      <td>4.83</td>\n",
       "      <td>4.83</td>\n",
       "      <td>6</td>\n",
       "      <td>3.0</td>\n",
       "      <td>3.0</td>\n",
       "    </tr>\n",
       "  </tbody>\n",
       "</table>\n",
       "</div>"
      ],
      "text/plain": [
       "      price  review_scores_rating  review_scores_accuracy  \\\n",
       "0      60.0                   5.0                     5.0   \n",
       "1900  500.0                   5.0                     5.0   \n",
       "1886  386.0                   5.0                     5.0   \n",
       "8315  152.0                   5.0                     5.0   \n",
       "8311  552.0                   5.0                     5.0   \n",
       "\n",
       "      review_scores_cleanliness  review_scores_checkin  \\\n",
       "0                          5.00                    5.0   \n",
       "1900                       4.91                    5.0   \n",
       "1886                       5.00                    5.0   \n",
       "8315                       5.00                    5.0   \n",
       "8311                       5.00                    5.0   \n",
       "\n",
       "      review_scores_communication  review_scores_location  \\\n",
       "0                             5.0                    4.00   \n",
       "1900                          5.0                    5.00   \n",
       "1886                          5.0                    5.00   \n",
       "8315                          5.0                    5.00   \n",
       "8311                          5.0                    4.83   \n",
       "\n",
       "      review_scores_value  accommodates  bedrooms  beds  \n",
       "0                    5.00             2       1.0   1.0  \n",
       "1900                 4.73             6       3.0   3.0  \n",
       "1886                 5.00             5       2.0   3.0  \n",
       "8315                 5.00             2       1.0   2.0  \n",
       "8311                 4.83             6       3.0   3.0  "
      ]
     },
     "execution_count": 65,
     "metadata": {},
     "output_type": "execute_result"
    }
   ],
   "source": [
    "feature_df.head()"
   ]
  },
  {
   "cell_type": "code",
   "execution_count": 66,
   "metadata": {
    "ExecuteTime": {
     "end_time": "2022-06-06T19:00:13.655975Z",
     "start_time": "2022-06-06T19:00:13.642550Z"
    }
   },
   "outputs": [
    {
     "data": {
      "text/html": [
       "<div>\n",
       "<style scoped>\n",
       "    .dataframe tbody tr th:only-of-type {\n",
       "        vertical-align: middle;\n",
       "    }\n",
       "\n",
       "    .dataframe tbody tr th {\n",
       "        vertical-align: top;\n",
       "    }\n",
       "\n",
       "    .dataframe thead th {\n",
       "        text-align: right;\n",
       "    }\n",
       "</style>\n",
       "<table border=\"1\" class=\"dataframe\">\n",
       "  <thead>\n",
       "    <tr style=\"text-align: right;\">\n",
       "      <th></th>\n",
       "      <th>price</th>\n",
       "      <th>review_scores_rating</th>\n",
       "      <th>review_scores_accuracy</th>\n",
       "      <th>review_scores_cleanliness</th>\n",
       "      <th>review_scores_checkin</th>\n",
       "      <th>review_scores_communication</th>\n",
       "      <th>review_scores_location</th>\n",
       "      <th>review_scores_value</th>\n",
       "      <th>accommodates</th>\n",
       "      <th>bedrooms</th>\n",
       "      <th>...</th>\n",
       "      <th>booked</th>\n",
       "      <th>rating_5</th>\n",
       "      <th>accuracy_5</th>\n",
       "      <th>cleanliness_5</th>\n",
       "      <th>checkin_5</th>\n",
       "      <th>location_5</th>\n",
       "      <th>value_5</th>\n",
       "      <th>price_high</th>\n",
       "      <th>price_low</th>\n",
       "      <th>stripped_rating</th>\n",
       "    </tr>\n",
       "  </thead>\n",
       "  <tbody>\n",
       "    <tr>\n",
       "      <th>0</th>\n",
       "      <td>60.0</td>\n",
       "      <td>5.0</td>\n",
       "      <td>5.0</td>\n",
       "      <td>5.00</td>\n",
       "      <td>5.0</td>\n",
       "      <td>5.0</td>\n",
       "      <td>4.00</td>\n",
       "      <td>5.00</td>\n",
       "      <td>2</td>\n",
       "      <td>1.0</td>\n",
       "      <td>...</td>\n",
       "      <td>True</td>\n",
       "      <td>True</td>\n",
       "      <td>True</td>\n",
       "      <td>True</td>\n",
       "      <td>True</td>\n",
       "      <td>False</td>\n",
       "      <td>True</td>\n",
       "      <td>False</td>\n",
       "      <td>True</td>\n",
       "      <td>5</td>\n",
       "    </tr>\n",
       "    <tr>\n",
       "      <th>1900</th>\n",
       "      <td>500.0</td>\n",
       "      <td>5.0</td>\n",
       "      <td>5.0</td>\n",
       "      <td>4.91</td>\n",
       "      <td>5.0</td>\n",
       "      <td>5.0</td>\n",
       "      <td>5.00</td>\n",
       "      <td>4.73</td>\n",
       "      <td>6</td>\n",
       "      <td>3.0</td>\n",
       "      <td>...</td>\n",
       "      <td>True</td>\n",
       "      <td>True</td>\n",
       "      <td>True</td>\n",
       "      <td>False</td>\n",
       "      <td>True</td>\n",
       "      <td>True</td>\n",
       "      <td>False</td>\n",
       "      <td>True</td>\n",
       "      <td>False</td>\n",
       "      <td>5</td>\n",
       "    </tr>\n",
       "    <tr>\n",
       "      <th>1886</th>\n",
       "      <td>386.0</td>\n",
       "      <td>5.0</td>\n",
       "      <td>5.0</td>\n",
       "      <td>5.00</td>\n",
       "      <td>5.0</td>\n",
       "      <td>5.0</td>\n",
       "      <td>5.00</td>\n",
       "      <td>5.00</td>\n",
       "      <td>5</td>\n",
       "      <td>2.0</td>\n",
       "      <td>...</td>\n",
       "      <td>True</td>\n",
       "      <td>True</td>\n",
       "      <td>True</td>\n",
       "      <td>True</td>\n",
       "      <td>True</td>\n",
       "      <td>True</td>\n",
       "      <td>True</td>\n",
       "      <td>True</td>\n",
       "      <td>False</td>\n",
       "      <td>5</td>\n",
       "    </tr>\n",
       "    <tr>\n",
       "      <th>8315</th>\n",
       "      <td>152.0</td>\n",
       "      <td>5.0</td>\n",
       "      <td>5.0</td>\n",
       "      <td>5.00</td>\n",
       "      <td>5.0</td>\n",
       "      <td>5.0</td>\n",
       "      <td>5.00</td>\n",
       "      <td>5.00</td>\n",
       "      <td>2</td>\n",
       "      <td>1.0</td>\n",
       "      <td>...</td>\n",
       "      <td>True</td>\n",
       "      <td>True</td>\n",
       "      <td>True</td>\n",
       "      <td>True</td>\n",
       "      <td>True</td>\n",
       "      <td>True</td>\n",
       "      <td>True</td>\n",
       "      <td>False</td>\n",
       "      <td>False</td>\n",
       "      <td>5</td>\n",
       "    </tr>\n",
       "    <tr>\n",
       "      <th>8311</th>\n",
       "      <td>552.0</td>\n",
       "      <td>5.0</td>\n",
       "      <td>5.0</td>\n",
       "      <td>5.00</td>\n",
       "      <td>5.0</td>\n",
       "      <td>5.0</td>\n",
       "      <td>4.83</td>\n",
       "      <td>4.83</td>\n",
       "      <td>6</td>\n",
       "      <td>3.0</td>\n",
       "      <td>...</td>\n",
       "      <td>True</td>\n",
       "      <td>True</td>\n",
       "      <td>True</td>\n",
       "      <td>True</td>\n",
       "      <td>True</td>\n",
       "      <td>False</td>\n",
       "      <td>False</td>\n",
       "      <td>True</td>\n",
       "      <td>False</td>\n",
       "      <td>5</td>\n",
       "    </tr>\n",
       "  </tbody>\n",
       "</table>\n",
       "<p>5 rows × 32 columns</p>\n",
       "</div>"
      ],
      "text/plain": [
       "      price  review_scores_rating  review_scores_accuracy  \\\n",
       "0      60.0                   5.0                     5.0   \n",
       "1900  500.0                   5.0                     5.0   \n",
       "1886  386.0                   5.0                     5.0   \n",
       "8315  152.0                   5.0                     5.0   \n",
       "8311  552.0                   5.0                     5.0   \n",
       "\n",
       "      review_scores_cleanliness  review_scores_checkin  \\\n",
       "0                          5.00                    5.0   \n",
       "1900                       4.91                    5.0   \n",
       "1886                       5.00                    5.0   \n",
       "8315                       5.00                    5.0   \n",
       "8311                       5.00                    5.0   \n",
       "\n",
       "      review_scores_communication  review_scores_location  \\\n",
       "0                             5.0                    4.00   \n",
       "1900                          5.0                    5.00   \n",
       "1886                          5.0                    5.00   \n",
       "8315                          5.0                    5.00   \n",
       "8311                          5.0                    4.83   \n",
       "\n",
       "      review_scores_value  accommodates  bedrooms  ...  booked rating_5  \\\n",
       "0                    5.00             2       1.0  ...    True     True   \n",
       "1900                 4.73             6       3.0  ...    True     True   \n",
       "1886                 5.00             5       2.0  ...    True     True   \n",
       "8315                 5.00             2       1.0  ...    True     True   \n",
       "8311                 4.83             6       3.0  ...    True     True   \n",
       "\n",
       "     accuracy_5 cleanliness_5 checkin_5  location_5  value_5  price_high  \\\n",
       "0          True          True      True       False     True       False   \n",
       "1900       True         False      True        True    False        True   \n",
       "1886       True          True      True        True     True        True   \n",
       "8315       True          True      True        True     True       False   \n",
       "8311       True          True      True       False    False        True   \n",
       "\n",
       "      price_low  stripped_rating  \n",
       "0          True                5  \n",
       "1900      False                5  \n",
       "1886      False                5  \n",
       "8315      False                5  \n",
       "8311      False                5  \n",
       "\n",
       "[5 rows x 32 columns]"
      ]
     },
     "execution_count": 66,
     "metadata": {},
     "output_type": "execute_result"
    }
   ],
   "source": [
    "df.head()"
   ]
  },
  {
   "cell_type": "markdown",
   "metadata": {},
   "source": [
    "#### One Hot Encoding"
   ]
  },
  {
   "cell_type": "code",
   "execution_count": 67,
   "metadata": {
    "ExecuteTime": {
     "end_time": "2022-06-06T19:00:13.679629Z",
     "start_time": "2022-06-06T19:00:13.657877Z"
    }
   },
   "outputs": [
    {
     "data": {
      "text/html": [
       "<div>\n",
       "<style scoped>\n",
       "    .dataframe tbody tr th:only-of-type {\n",
       "        vertical-align: middle;\n",
       "    }\n",
       "\n",
       "    .dataframe tbody tr th {\n",
       "        vertical-align: top;\n",
       "    }\n",
       "\n",
       "    .dataframe thead th {\n",
       "        text-align: right;\n",
       "    }\n",
       "</style>\n",
       "<table border=\"1\" class=\"dataframe\">\n",
       "  <thead>\n",
       "    <tr style=\"text-align: right;\">\n",
       "      <th></th>\n",
       "      <th>rating_5_False</th>\n",
       "      <th>rating_5_True</th>\n",
       "      <th>accuracy_5_False</th>\n",
       "      <th>accuracy_5_True</th>\n",
       "      <th>cleanliness_5_False</th>\n",
       "      <th>cleanliness_5_True</th>\n",
       "      <th>checkin_5_False</th>\n",
       "      <th>checkin_5_True</th>\n",
       "      <th>location_5_False</th>\n",
       "      <th>location_5_True</th>\n",
       "      <th>...</th>\n",
       "      <th>capacity_-10_True</th>\n",
       "      <th>capacity_11+_False</th>\n",
       "      <th>capacity_11+_True</th>\n",
       "      <th>bedrooms_1-2_False</th>\n",
       "      <th>bedrooms_3+_False</th>\n",
       "      <th>bedrooms_3+_True</th>\n",
       "      <th>instant_bookable_f</th>\n",
       "      <th>instant_bookable_t</th>\n",
       "      <th>booked_False</th>\n",
       "      <th>booked_True</th>\n",
       "    </tr>\n",
       "  </thead>\n",
       "  <tbody>\n",
       "    <tr>\n",
       "      <th>0</th>\n",
       "      <td>0.0</td>\n",
       "      <td>1.0</td>\n",
       "      <td>0.0</td>\n",
       "      <td>1.0</td>\n",
       "      <td>0.0</td>\n",
       "      <td>1.0</td>\n",
       "      <td>0.0</td>\n",
       "      <td>1.0</td>\n",
       "      <td>1.0</td>\n",
       "      <td>0.0</td>\n",
       "      <td>...</td>\n",
       "      <td>1.0</td>\n",
       "      <td>1.0</td>\n",
       "      <td>0.0</td>\n",
       "      <td>1.0</td>\n",
       "      <td>1.0</td>\n",
       "      <td>0.0</td>\n",
       "      <td>0.0</td>\n",
       "      <td>1.0</td>\n",
       "      <td>0.0</td>\n",
       "      <td>1.0</td>\n",
       "    </tr>\n",
       "    <tr>\n",
       "      <th>1</th>\n",
       "      <td>0.0</td>\n",
       "      <td>1.0</td>\n",
       "      <td>0.0</td>\n",
       "      <td>1.0</td>\n",
       "      <td>1.0</td>\n",
       "      <td>0.0</td>\n",
       "      <td>0.0</td>\n",
       "      <td>1.0</td>\n",
       "      <td>0.0</td>\n",
       "      <td>1.0</td>\n",
       "      <td>...</td>\n",
       "      <td>1.0</td>\n",
       "      <td>1.0</td>\n",
       "      <td>0.0</td>\n",
       "      <td>1.0</td>\n",
       "      <td>0.0</td>\n",
       "      <td>1.0</td>\n",
       "      <td>1.0</td>\n",
       "      <td>0.0</td>\n",
       "      <td>0.0</td>\n",
       "      <td>1.0</td>\n",
       "    </tr>\n",
       "  </tbody>\n",
       "</table>\n",
       "<p>2 rows × 33 columns</p>\n",
       "</div>"
      ],
      "text/plain": [
       "   rating_5_False  rating_5_True  accuracy_5_False  accuracy_5_True  \\\n",
       "0             0.0            1.0               0.0              1.0   \n",
       "1             0.0            1.0               0.0              1.0   \n",
       "\n",
       "   cleanliness_5_False  cleanliness_5_True  checkin_5_False  checkin_5_True  \\\n",
       "0                  0.0                 1.0              0.0             1.0   \n",
       "1                  1.0                 0.0              0.0             1.0   \n",
       "\n",
       "   location_5_False  location_5_True  ...  capacity_-10_True  \\\n",
       "0               1.0              0.0  ...                1.0   \n",
       "1               0.0              1.0  ...                1.0   \n",
       "\n",
       "   capacity_11+_False  capacity_11+_True  bedrooms_1-2_False  \\\n",
       "0                 1.0                0.0                 1.0   \n",
       "1                 1.0                0.0                 1.0   \n",
       "\n",
       "   bedrooms_3+_False  bedrooms_3+_True  instant_bookable_f  \\\n",
       "0                1.0               0.0                 0.0   \n",
       "1                0.0               1.0                 1.0   \n",
       "\n",
       "   instant_bookable_t  booked_False  booked_True  \n",
       "0                 1.0           0.0          1.0  \n",
       "1                 0.0           0.0          1.0  \n",
       "\n",
       "[2 rows x 33 columns]"
      ]
     },
     "execution_count": 67,
     "metadata": {},
     "output_type": "execute_result"
    }
   ],
   "source": [
    "need_to_encode = df[['rating_5', 'accuracy_5', 'cleanliness_5', 'checkin_5', \n",
    "                    'location_5', 'value_5', 'price_high', 'price_low',\n",
    "                    #'capacity_1-4', 'capacity_5+',\n",
    "                     'capacity_-2','capacity_-4', 'capacity_-6', 'capacity_-10', 'capacity_11+',\n",
    "                    #'bedrooms_1', 'bedrooms_2', 'bedrooms_3', 'bedrooms_4+', 'instant_bookable']]\n",
    "                     'bedrooms_1-2', 'bedrooms_3+', 'instant_bookable', 'booked']]\n",
    "ohe = OneHotEncoder()\n",
    "ohe.fit(need_to_encode)\n",
    "\n",
    "ohe_1 = ohe.transform(need_to_encode).toarray()\n",
    "\n",
    "ohe_df = pd.DataFrame(ohe_1, columns=ohe.get_feature_names(need_to_encode.columns))\n",
    "ohe_df.head(2)"
   ]
  },
  {
   "cell_type": "code",
   "execution_count": 68,
   "metadata": {
    "ExecuteTime": {
     "end_time": "2022-06-06T19:00:13.695184Z",
     "start_time": "2022-06-06T19:00:13.693494Z"
    }
   },
   "outputs": [],
   "source": [
    "# Combining everything together\n",
    "#cleaned_df = pd.concat([pd.DataFrame(feature_df), ohe_df], axis=1)\n",
    "#cleaned_df.head(2)"
   ]
  },
  {
   "cell_type": "code",
   "execution_count": 70,
   "metadata": {
    "ExecuteTime": {
     "end_time": "2022-06-06T19:01:08.221685Z",
     "start_time": "2022-06-06T19:01:08.216265Z"
    }
   },
   "outputs": [],
   "source": [
    "cleaned_df = ohe_df"
   ]
  },
  {
   "cell_type": "code",
   "execution_count": null,
   "metadata": {
    "ExecuteTime": {
     "end_time": "2022-06-06T18:59:28.398564Z",
     "start_time": "2022-06-06T18:59:28.396235Z"
    }
   },
   "outputs": [],
   "source": [
    "top_rated = cleaned_df[cleaned_df['rating_5_True'] == 1]"
   ]
  },
  {
   "cell_type": "code",
   "execution_count": null,
   "metadata": {
    "ExecuteTime": {
     "end_time": "2022-06-06T18:59:29.949740Z",
     "start_time": "2022-06-06T18:59:29.947666Z"
    }
   },
   "outputs": [],
   "source": [
    "low_rated = cleaned_df[cleaned_df['rating_5_False'] == 1]"
   ]
  },
  {
   "cell_type": "markdown",
   "metadata": {},
   "source": [
    "#### Dropping One Value for Categoricals"
   ]
  },
  {
   "cell_type": "code",
   "execution_count": 71,
   "metadata": {
    "ExecuteTime": {
     "end_time": "2022-06-06T19:01:10.037402Z",
     "start_time": "2022-06-06T19:01:10.027727Z"
    }
   },
   "outputs": [],
   "source": [
    "cleaned_df = cleaned_df.drop(['rating_5_False', 'accuracy_5_False',\n",
    "                             'cleanliness_5_False', 'checkin_5_False', 'location_5_False',\n",
    "                             'value_5_False', 'price_high_False', 'price_low_False',\n",
    "                           # 'bedrooms_1_False', 'bedrooms_2_False', 'bedrooms_3_False', 'bedrooms_4+_False',\n",
    "                             'bedrooms_1-2_False', 'bedrooms_3+_False',\n",
    "                            #'capacity_1-4_False', 'capacity_5+_False',\n",
    "                              'capacity_-2_False','capacity_-4_False', 'capacity_-6_False',\n",
    "                              'capacity_-10_False', 'capacity_11+_False',\n",
    "                              'instant_bookable_f', 'booked_False'],\n",
    "                              axis=1)"
   ]
  },
  {
   "cell_type": "code",
   "execution_count": null,
   "metadata": {
    "ExecuteTime": {
     "end_time": "2022-06-06T18:59:31.538746Z",
     "start_time": "2022-06-06T18:59:30.145Z"
    }
   },
   "outputs": [],
   "source": [
    "#top_rated_df = top_rated.drop(['rating_5_False', 'accuracy_5_False',\n",
    "#                             'cleanliness_5_False', 'checkin_5_False', 'location_5_False',\n",
    "#                             'value_5_False', 'price_high_False', 'price_low_False',\n",
    " #                          # 'bedrooms_1_False', 'bedrooms_2_False', 'bedrooms_3_False', 'bedrooms_4+_False',\n",
    "  #                           'bedrooms_1-2_False', 'bedrooms_3+_False',\n",
    "   #                         'capacity_1-4_False', 'capacity_5+_False', 'instant_bookable_f', 'booked_False'],\n",
    "    #                          axis=1)"
   ]
  },
  {
   "cell_type": "code",
   "execution_count": null,
   "metadata": {
    "ExecuteTime": {
     "end_time": "2022-06-06T18:59:31.547691Z",
     "start_time": "2022-06-06T18:59:30.817Z"
    }
   },
   "outputs": [],
   "source": [
    "#low_rated_df = low_rated.drop(['rating_5_False', 'accuracy_5_False',\n",
    " #                            'cleanliness_5_False', 'checkin_5_False', 'location_5_False',\n",
    "  #                           'value_5_False', 'price_high_False', 'price_low_False',\n",
    "   #                        # 'bedrooms_1_False', 'bedrooms_2_False', 'bedrooms_3_False', 'bedrooms_4+_False',\n",
    "    #                         'bedrooms_1-2_False', 'bedrooms_3+_False',\n",
    "     #                       'capacity_1-4_False', 'capacity_5+_False', 'instant_bookable_f', 'booked_False'],\n",
    "      #                        axis=1)"
   ]
  },
  {
   "cell_type": "code",
   "execution_count": null,
   "metadata": {
    "ExecuteTime": {
     "end_time": "2022-06-06T18:59:31.560073Z",
     "start_time": "2022-06-06T18:59:31.375Z"
    }
   },
   "outputs": [],
   "source": [
    "#Dropping a few of the redundant values.\n",
    "#cleaned_df= cleaned_df.drop(['rating_5_False', 'accuracy_5_False',\n",
    "#                             'cleanliness_5_False', 'checkin_5_False', 'location_5_False',\n",
    " #                            'value_5_False', 'price_high_False', 'price_low_False',\n",
    "  #                         # 'bedrooms_1_False', 'bedrooms_2_False', 'bedrooms_3_False', 'bedrooms_4+_False',\n",
    "   #                          'bedrooms_1-2_False', 'bedrooms_3+_False',\n",
    "    #                        'capacity_1-4_False', 'capacity_5+_False', 'instant_bookable_f'], axis=1)"
   ]
  },
  {
   "cell_type": "code",
   "execution_count": null,
   "metadata": {
    "ExecuteTime": {
     "end_time": "2022-06-06T18:59:32.022049Z",
     "start_time": "2022-06-06T18:59:32.017503Z"
    }
   },
   "outputs": [],
   "source": [
    "#cleaned_df= cleaned_df.drop(['price_low_True', 'price_high_True'], axis=1)\n",
    "#cleaned_df= cleaned_df.drop(['price'], axis=1)"
   ]
  },
  {
   "cell_type": "code",
   "execution_count": null,
   "metadata": {
    "ExecuteTime": {
     "end_time": "2022-06-06T18:59:33.649871Z",
     "start_time": "2022-06-06T18:59:33.648394Z"
    }
   },
   "outputs": [],
   "source": [
    "#cleaned_df.head(1)"
   ]
  },
  {
   "cell_type": "markdown",
   "metadata": {},
   "source": [
    "#### Dealing with Class Imbalance\n",
    "- Always use class weight parameter in Decision Tree Classifier\n",
    "- Always stratify Train Test Split.\n",
    "- Add SMOTE to Training Sets."
   ]
  },
  {
   "cell_type": "code",
   "execution_count": 72,
   "metadata": {
    "ExecuteTime": {
     "end_time": "2022-06-06T19:01:15.109749Z",
     "start_time": "2022-06-06T19:01:15.099584Z"
    }
   },
   "outputs": [
    {
     "data": {
      "text/plain": [
       "0.0    6491\n",
       "1.0    1894\n",
       "Name: rating_5_True, dtype: int64"
      ]
     },
     "execution_count": 72,
     "metadata": {},
     "output_type": "execute_result"
    }
   ],
   "source": [
    "cleaned_df['rating_5_True'].value_counts()"
   ]
  },
  {
   "cell_type": "code",
   "execution_count": 73,
   "metadata": {
    "ExecuteTime": {
     "end_time": "2022-06-06T19:01:16.132664Z",
     "start_time": "2022-06-06T19:01:16.129913Z"
    }
   },
   "outputs": [
    {
     "data": {
      "text/plain": [
       "0       1.0\n",
       "1       1.0\n",
       "2       1.0\n",
       "3       1.0\n",
       "4       1.0\n",
       "       ... \n",
       "8380    0.0\n",
       "8381    0.0\n",
       "8382    0.0\n",
       "8383    0.0\n",
       "8384    0.0\n",
       "Name: rating_5_True, Length: 8385, dtype: float64"
      ]
     },
     "execution_count": 73,
     "metadata": {},
     "output_type": "execute_result"
    }
   ],
   "source": [
    "cleaned_df['rating_5_True']"
   ]
  },
  {
   "cell_type": "code",
   "execution_count": 74,
   "metadata": {
    "ExecuteTime": {
     "end_time": "2022-06-06T19:01:17.090460Z",
     "start_time": "2022-06-06T19:01:17.087556Z"
    }
   },
   "outputs": [
    {
     "data": {
      "text/plain": [
       "rating_5_True         0\n",
       "accuracy_5_True       0\n",
       "cleanliness_5_True    0\n",
       "checkin_5_True        0\n",
       "location_5_True       0\n",
       "value_5_True          0\n",
       "price_high_True       0\n",
       "price_low_True        0\n",
       "capacity_-2_True      0\n",
       "capacity_-4_True      0\n",
       "capacity_-6_True      0\n",
       "capacity_-10_True     0\n",
       "capacity_11+_True     0\n",
       "bedrooms_3+_True      0\n",
       "instant_bookable_t    0\n",
       "booked_True           0\n",
       "dtype: int64"
      ]
     },
     "execution_count": 74,
     "metadata": {},
     "output_type": "execute_result"
    }
   ],
   "source": [
    "cleaned_df.isna().sum()"
   ]
  },
  {
   "cell_type": "code",
   "execution_count": 75,
   "metadata": {
    "ExecuteTime": {
     "end_time": "2022-06-06T19:01:20.665645Z",
     "start_time": "2022-06-06T19:01:20.655175Z"
    }
   },
   "outputs": [],
   "source": [
    "cleaned_df = cleaned_df.dropna()\n",
    "#top_rated_df = top_rated_df.dropna()\n",
    "#low_rated_df = low_rated_df.dropna()"
   ]
  },
  {
   "cell_type": "code",
   "execution_count": null,
   "metadata": {
    "ExecuteTime": {
     "end_time": "2022-06-06T17:08:03.276192Z",
     "start_time": "2022-06-06T17:08:03.272554Z"
    }
   },
   "outputs": [],
   "source": [
    "#top_rated_df.isna().sum()"
   ]
  },
  {
   "cell_type": "code",
   "execution_count": null,
   "metadata": {
    "ExecuteTime": {
     "end_time": "2022-06-06T17:08:03.278811Z",
     "start_time": "2022-06-06T17:08:03.277081Z"
    }
   },
   "outputs": [],
   "source": [
    "#cleaned_df.info()"
   ]
  },
  {
   "cell_type": "code",
   "execution_count": null,
   "metadata": {
    "ExecuteTime": {
     "end_time": "2022-06-06T17:08:03.282604Z",
     "start_time": "2022-06-06T17:08:03.280588Z"
    }
   },
   "outputs": [],
   "source": [
    "#cleaned_df.isna().sum()"
   ]
  },
  {
   "cell_type": "code",
   "execution_count": null,
   "metadata": {
    "ExecuteTime": {
     "end_time": "2022-06-06T17:08:03.285518Z",
     "start_time": "2022-06-06T17:08:03.284114Z"
    }
   },
   "outputs": [],
   "source": [
    "#cleaned_df.drop(['number_of_reviews', 'number_of_reviews_ltm', 'number_of_reviews_l30d', 'price'], axis=1, inplace=True)"
   ]
  },
  {
   "cell_type": "code",
   "execution_count": null,
   "metadata": {
    "ExecuteTime": {
     "end_time": "2022-06-06T17:08:03.287609Z",
     "start_time": "2022-06-06T17:08:03.286333Z"
    }
   },
   "outputs": [],
   "source": [
    "#dropping accuracy to see what the feature importances are\n",
    "#cleaned_df.drop(['accuracy_5_True'], axis=1, inplace=True)"
   ]
  },
  {
   "cell_type": "code",
   "execution_count": null,
   "metadata": {
    "ExecuteTime": {
     "end_time": "2022-06-06T17:08:03.289624Z",
     "start_time": "2022-06-06T17:08:03.288462Z"
    }
   },
   "outputs": [],
   "source": [
    "#dropping rating_5 and searching for accuracy as the target\n",
    "#cleaned_df.drop(['rating_5_True'], axis=1, inplace=True)\n",
    "#top_rated_df.drop(['rating_5_True'], axis=1, inplace=True)\n",
    "#low_rated_df.drop(['rating_5_True'], axis=1, inplace=True)"
   ]
  },
  {
   "cell_type": "code",
   "execution_count": null,
   "metadata": {
    "ExecuteTime": {
     "end_time": "2022-06-06T17:11:44.165741Z",
     "start_time": "2022-06-06T17:11:44.153493Z"
    }
   },
   "outputs": [],
   "source": [
    "# dropping price_high as it is redundant\n",
    "# price_low means that the listing is below the mean avg price\n",
    "#cleaned_df.drop(['price_high_True'], axis=1, inplace=True)\n",
    "#top_rated_df.drop(['price_high_True'], axis=1, inplace=True)\n",
    "#low_rated_df.drop(['price_high_True'], axis=1, inplace=True)"
   ]
  },
  {
   "cell_type": "code",
   "execution_count": 76,
   "metadata": {
    "ExecuteTime": {
     "end_time": "2022-06-06T19:01:24.284593Z",
     "start_time": "2022-06-06T19:01:24.255160Z"
    }
   },
   "outputs": [
    {
     "data": {
      "text/html": [
       "<div>\n",
       "<style scoped>\n",
       "    .dataframe tbody tr th:only-of-type {\n",
       "        vertical-align: middle;\n",
       "    }\n",
       "\n",
       "    .dataframe tbody tr th {\n",
       "        vertical-align: top;\n",
       "    }\n",
       "\n",
       "    .dataframe thead th {\n",
       "        text-align: right;\n",
       "    }\n",
       "</style>\n",
       "<table border=\"1\" class=\"dataframe\">\n",
       "  <thead>\n",
       "    <tr style=\"text-align: right;\">\n",
       "      <th></th>\n",
       "      <th>rating_5_True</th>\n",
       "      <th>accuracy_5_True</th>\n",
       "      <th>cleanliness_5_True</th>\n",
       "      <th>checkin_5_True</th>\n",
       "      <th>location_5_True</th>\n",
       "      <th>value_5_True</th>\n",
       "      <th>price_high_True</th>\n",
       "      <th>price_low_True</th>\n",
       "      <th>capacity_-2_True</th>\n",
       "      <th>capacity_-4_True</th>\n",
       "      <th>capacity_-6_True</th>\n",
       "      <th>capacity_-10_True</th>\n",
       "      <th>capacity_11+_True</th>\n",
       "      <th>bedrooms_3+_True</th>\n",
       "      <th>instant_bookable_t</th>\n",
       "      <th>booked_True</th>\n",
       "    </tr>\n",
       "  </thead>\n",
       "  <tbody>\n",
       "    <tr>\n",
       "      <th>0</th>\n",
       "      <td>1.0</td>\n",
       "      <td>1.0</td>\n",
       "      <td>1.0</td>\n",
       "      <td>1.0</td>\n",
       "      <td>0.0</td>\n",
       "      <td>1.0</td>\n",
       "      <td>0.0</td>\n",
       "      <td>1.0</td>\n",
       "      <td>1.0</td>\n",
       "      <td>1.0</td>\n",
       "      <td>1.0</td>\n",
       "      <td>1.0</td>\n",
       "      <td>0.0</td>\n",
       "      <td>0.0</td>\n",
       "      <td>1.0</td>\n",
       "      <td>1.0</td>\n",
       "    </tr>\n",
       "    <tr>\n",
       "      <th>1</th>\n",
       "      <td>1.0</td>\n",
       "      <td>1.0</td>\n",
       "      <td>0.0</td>\n",
       "      <td>1.0</td>\n",
       "      <td>1.0</td>\n",
       "      <td>0.0</td>\n",
       "      <td>1.0</td>\n",
       "      <td>0.0</td>\n",
       "      <td>0.0</td>\n",
       "      <td>0.0</td>\n",
       "      <td>1.0</td>\n",
       "      <td>1.0</td>\n",
       "      <td>0.0</td>\n",
       "      <td>1.0</td>\n",
       "      <td>0.0</td>\n",
       "      <td>1.0</td>\n",
       "    </tr>\n",
       "    <tr>\n",
       "      <th>2</th>\n",
       "      <td>1.0</td>\n",
       "      <td>1.0</td>\n",
       "      <td>1.0</td>\n",
       "      <td>1.0</td>\n",
       "      <td>1.0</td>\n",
       "      <td>1.0</td>\n",
       "      <td>1.0</td>\n",
       "      <td>0.0</td>\n",
       "      <td>0.0</td>\n",
       "      <td>0.0</td>\n",
       "      <td>1.0</td>\n",
       "      <td>1.0</td>\n",
       "      <td>0.0</td>\n",
       "      <td>0.0</td>\n",
       "      <td>0.0</td>\n",
       "      <td>1.0</td>\n",
       "    </tr>\n",
       "    <tr>\n",
       "      <th>3</th>\n",
       "      <td>1.0</td>\n",
       "      <td>1.0</td>\n",
       "      <td>1.0</td>\n",
       "      <td>1.0</td>\n",
       "      <td>1.0</td>\n",
       "      <td>1.0</td>\n",
       "      <td>0.0</td>\n",
       "      <td>0.0</td>\n",
       "      <td>1.0</td>\n",
       "      <td>1.0</td>\n",
       "      <td>1.0</td>\n",
       "      <td>1.0</td>\n",
       "      <td>0.0</td>\n",
       "      <td>0.0</td>\n",
       "      <td>0.0</td>\n",
       "      <td>1.0</td>\n",
       "    </tr>\n",
       "    <tr>\n",
       "      <th>4</th>\n",
       "      <td>1.0</td>\n",
       "      <td>1.0</td>\n",
       "      <td>1.0</td>\n",
       "      <td>1.0</td>\n",
       "      <td>0.0</td>\n",
       "      <td>0.0</td>\n",
       "      <td>1.0</td>\n",
       "      <td>0.0</td>\n",
       "      <td>0.0</td>\n",
       "      <td>0.0</td>\n",
       "      <td>1.0</td>\n",
       "      <td>1.0</td>\n",
       "      <td>0.0</td>\n",
       "      <td>1.0</td>\n",
       "      <td>0.0</td>\n",
       "      <td>1.0</td>\n",
       "    </tr>\n",
       "  </tbody>\n",
       "</table>\n",
       "</div>"
      ],
      "text/plain": [
       "   rating_5_True  accuracy_5_True  cleanliness_5_True  checkin_5_True  \\\n",
       "0            1.0              1.0                 1.0             1.0   \n",
       "1            1.0              1.0                 0.0             1.0   \n",
       "2            1.0              1.0                 1.0             1.0   \n",
       "3            1.0              1.0                 1.0             1.0   \n",
       "4            1.0              1.0                 1.0             1.0   \n",
       "\n",
       "   location_5_True  value_5_True  price_high_True  price_low_True  \\\n",
       "0              0.0           1.0              0.0             1.0   \n",
       "1              1.0           0.0              1.0             0.0   \n",
       "2              1.0           1.0              1.0             0.0   \n",
       "3              1.0           1.0              0.0             0.0   \n",
       "4              0.0           0.0              1.0             0.0   \n",
       "\n",
       "   capacity_-2_True  capacity_-4_True  capacity_-6_True  capacity_-10_True  \\\n",
       "0               1.0               1.0               1.0                1.0   \n",
       "1               0.0               0.0               1.0                1.0   \n",
       "2               0.0               0.0               1.0                1.0   \n",
       "3               1.0               1.0               1.0                1.0   \n",
       "4               0.0               0.0               1.0                1.0   \n",
       "\n",
       "   capacity_11+_True  bedrooms_3+_True  instant_bookable_t  booked_True  \n",
       "0                0.0               0.0                 1.0          1.0  \n",
       "1                0.0               1.0                 0.0          1.0  \n",
       "2                0.0               0.0                 0.0          1.0  \n",
       "3                0.0               0.0                 0.0          1.0  \n",
       "4                0.0               1.0                 0.0          1.0  "
      ]
     },
     "execution_count": 76,
     "metadata": {},
     "output_type": "execute_result"
    }
   ],
   "source": [
    "booked_df = cleaned_df[cleaned_df['booked_True'] == 1]\n",
    "booked_df.head()"
   ]
  },
  {
   "cell_type": "code",
   "execution_count": 77,
   "metadata": {
    "ExecuteTime": {
     "end_time": "2022-06-06T19:01:25.345420Z",
     "start_time": "2022-06-06T19:01:25.341903Z"
    }
   },
   "outputs": [
    {
     "data": {
      "text/plain": [
       "rating_5_True         0.239490\n",
       "accuracy_5_True       0.275924\n",
       "cleanliness_5_True    0.241529\n",
       "checkin_5_True        0.379363\n",
       "location_5_True       0.318471\n",
       "value_5_True          0.171975\n",
       "price_high_True       0.197452\n",
       "price_low_True        0.298089\n",
       "capacity_-2_True      0.298599\n",
       "capacity_-4_True      0.586242\n",
       "capacity_-6_True      0.808917\n",
       "capacity_-10_True     0.955669\n",
       "capacity_11+_True     0.044331\n",
       "bedrooms_3+_True      0.231592\n",
       "instant_bookable_t    0.389809\n",
       "booked_True           1.000000\n",
       "dtype: float64"
      ]
     },
     "execution_count": 77,
     "metadata": {},
     "output_type": "execute_result"
    }
   ],
   "source": [
    "booked_df.mean()"
   ]
  },
  {
   "cell_type": "code",
   "execution_count": null,
   "metadata": {
    "ExecuteTime": {
     "end_time": "2022-06-06T17:08:03.292024Z",
     "start_time": "2022-06-06T17:08:03.290591Z"
    }
   },
   "outputs": [],
   "source": [
    "#cleaned_df.head(1)"
   ]
  },
  {
   "cell_type": "code",
   "execution_count": null,
   "metadata": {
    "ExecuteTime": {
     "end_time": "2022-06-06T17:12:21.096212Z",
     "start_time": "2022-06-06T17:12:21.048223Z"
    }
   },
   "outputs": [],
   "source": [
    "#top_rated_df.describe()"
   ]
  },
  {
   "cell_type": "code",
   "execution_count": null,
   "metadata": {
    "ExecuteTime": {
     "end_time": "2022-06-06T18:48:18.601305Z",
     "start_time": "2022-06-06T18:48:18.597181Z"
    }
   },
   "outputs": [],
   "source": [
    "#new_df = top_rated_df[['checkin_5_True', 'location_5_True', 'price_low_True', 'capacity_5+_True',\n",
    "#                    'instant_bookable_t', 'booked_True']]"
   ]
  },
  {
   "cell_type": "code",
   "execution_count": 78,
   "metadata": {
    "ExecuteTime": {
     "end_time": "2022-06-06T19:01:28.516896Z",
     "start_time": "2022-06-06T19:01:28.445746Z"
    }
   },
   "outputs": [],
   "source": [
    "balanced_df = cleaned_df.copy()\n",
    "#balanced_df = top_rated_df.copy()\n",
    "#balanced_df = new_df.copy()\n",
    "\n",
    "X = balanced_df.drop(['rating_5_True'], axis=1)\n",
    "y = balanced_df['rating_5_True']\n",
    "#X = balanced_df.drop(['booked_True'], axis=1)\n",
    "#y = balanced_df['booked_True']\n",
    "\n",
    "X_train, X_test, y_train, y_test = train_test_split(X, y, test_size=.25, stratify=y, random_state=23)\n",
    "\n",
    "smote = SMOTE(random_state=23)\n",
    "X_train_resampled, y_train_resampled = smote.fit_sample(X_train, y_train) "
   ]
  },
  {
   "cell_type": "markdown",
   "metadata": {},
   "source": [
    "### Metrics Function"
   ]
  },
  {
   "cell_type": "code",
   "execution_count": 79,
   "metadata": {
    "ExecuteTime": {
     "end_time": "2022-06-06T19:01:30.365107Z",
     "start_time": "2022-06-06T19:01:30.353018Z"
    }
   },
   "outputs": [],
   "source": [
    "def get_metrics(clf, y_pred):\n",
    "    \n",
    "    \n",
    "    #clf_acc = accuracy_score(y_test, y_pred) * 100\n",
    "    #print('Accuracy is :{0}'.format(clf_acc))\n",
    "    #clf_prec = precision_score(y_test, y_pred) * 100\n",
    "    #print('Precision is :{0}'.format(clf_prec))\n",
    "    clf_rcl = recall_score(y_test, y_pred) * 100\n",
    "    print('Recall is :{0}'.format(clf_rcl))\n",
    "    clf_f1 = f1_score(y_test, y_pred) * 100\n",
    "    print('F1 Score is :{0}'.format(clf_f1))\n",
    "    false_positive_rate, true_positive_rate, thresholds = roc_curve(y_test, y_pred)\n",
    "    clf_roc_auc = auc(false_positive_rate, true_positive_rate)\n",
    "    print('ROC AUC is :{0}'.format(round(clf_roc_auc, 2)))\n",
    "    clf_cv_score = np.mean(cross_val_score(clf, X_train_resampled, y_train_resampled, cv=3))\n",
    "    print('Cross Validation Score is :{0}'.format(round(clf_cv_score, 3)))"
   ]
  },
  {
   "cell_type": "markdown",
   "metadata": {},
   "source": [
    "## Baseline Decision Tree"
   ]
  },
  {
   "cell_type": "code",
   "execution_count": 80,
   "metadata": {
    "ExecuteTime": {
     "end_time": "2022-06-06T19:01:31.816891Z",
     "start_time": "2022-06-06T19:01:31.800625Z"
    }
   },
   "outputs": [],
   "source": [
    "dt1 = DecisionTreeClassifier(random_state=23, class_weight=\"balanced\")\n",
    "dt1.fit(X_train_resampled, y_train_resampled)\n",
    "dt1_y_pred = dt1.predict(X_test)"
   ]
  },
  {
   "cell_type": "code",
   "execution_count": 81,
   "metadata": {
    "ExecuteTime": {
     "end_time": "2022-06-06T19:01:33.234511Z",
     "start_time": "2022-06-06T19:01:33.199470Z"
    }
   },
   "outputs": [
    {
     "name": "stdout",
     "output_type": "stream",
     "text": [
      "Recall is :71.09704641350211\n",
      "F1 Score is :74.06593406593407\n",
      "ROC AUC is :0.82\n",
      "Cross Validation Score is :0.901\n"
     ]
    }
   ],
   "source": [
    "get_metrics(dt1, dt1_y_pred)"
   ]
  },
  {
   "cell_type": "code",
   "execution_count": null,
   "metadata": {
    "ExecuteTime": {
     "end_time": "2022-06-06T15:30:49.784767Z",
     "start_time": "2022-06-06T15:30:49.783401Z"
    }
   },
   "outputs": [],
   "source": [
    "#dt1_cv_score = np.mean(cross_val_score(dt1, X_train_resampled, y_train_resampled, cv=3))\n",
    "#dt1_cv_score"
   ]
  },
  {
   "cell_type": "code",
   "execution_count": 82,
   "metadata": {
    "ExecuteTime": {
     "end_time": "2022-06-06T19:01:38.835458Z",
     "start_time": "2022-06-06T19:01:38.702163Z"
    }
   },
   "outputs": [
    {
     "data": {
      "image/png": "[encoded data removed]",
      "text/plain": [
       "<Figure size 360x360 with 2 Axes>"
      ]
     },
     "metadata": {},
     "output_type": "display_data"
    }
   ],
   "source": [
    "dt1_matrix = confusion_matrix(y_test, dt1_y_pred)\n",
    "\n",
    "fig, ax = plt.subplots(figsize=(5,5))\n",
    "\n",
    "ax = sns.heatmap(dt1_matrix, annot=True, cmap='Blues', fmt='d')\n",
    "\n",
    "ax.set_title('Baseline Decision Tree Confusion Matrix', fontsize = 30);\n",
    "ax.set_xlabel('\\nPredicted Values',fontsize = 20)\n",
    "ax.set_ylabel('Actual Values ', fontsize=20);\n",
    "\n",
    "## Ticket labels - List must be in alphabetical order\n",
    "ax.xaxis.set_ticklabels(['Bad Score','5.0 Score'])\n",
    "ax.yaxis.set_ticklabels(['Bad Score','5.0 Score'])\n",
    "\n",
    "## Display the visualization of the Confusion Matrix.\n",
    "plt.show()"
   ]
  },
  {
   "cell_type": "markdown",
   "metadata": {},
   "source": [
    "### Refining Decision Tree through GridSearchCV"
   ]
  },
  {
   "cell_type": "code",
   "execution_count": 83,
   "metadata": {
    "ExecuteTime": {
     "end_time": "2022-06-06T19:01:40.277709Z",
     "start_time": "2022-06-06T19:01:40.275766Z"
    }
   },
   "outputs": [],
   "source": [
    "dt_param_grid = {\n",
    "    'criterion': ['gini', 'entropy'],\n",
    "    'max_depth': [None, 2, 3, 4, 5, 6],\n",
    "    'min_samples_split': [2, 5, 10],\n",
    "    'min_samples_leaf': [1, 2, 3, 4, 5, 6]\n",
    "}"
   ]
  },
  {
   "cell_type": "code",
   "execution_count": 84,
   "metadata": {
    "ExecuteTime": {
     "end_time": "2022-06-06T19:01:45.873240Z",
     "start_time": "2022-06-06T19:01:41.653881Z"
    }
   },
   "outputs": [
    {
     "data": {
      "text/plain": [
       "GridSearchCV(cv=3, estimator=DecisionTreeClassifier(random_state=23),\n",
       "             param_grid={'criterion': ['gini', 'entropy'],\n",
       "                         'max_depth': [None, 2, 3, 4, 5, 6],\n",
       "                         'min_samples_leaf': [1, 2, 3, 4, 5, 6],\n",
       "                         'min_samples_split': [2, 5, 10]},\n",
       "             scoring='recall')"
      ]
     },
     "execution_count": 84,
     "metadata": {},
     "output_type": "execute_result"
    }
   ],
   "source": [
    "# Instantiate GridSearchCV\n",
    "dt2 = DecisionTreeClassifier(random_state=23)\n",
    "\n",
    "dt_grid_search = GridSearchCV(dt2, dt_param_grid, cv=3, scoring = 'recall')\n",
    "\n",
    "# Fit to the data\n",
    "dt_grid_search.fit(X_train_resampled, y_train_resampled)"
   ]
  },
  {
   "cell_type": "code",
   "execution_count": 85,
   "metadata": {
    "ExecuteTime": {
     "end_time": "2022-06-06T19:01:47.253158Z",
     "start_time": "2022-06-06T19:01:47.250843Z"
    }
   },
   "outputs": [
    {
     "data": {
      "text/plain": [
       "{'criterion': 'gini',\n",
       " 'max_depth': 6,\n",
       " 'min_samples_leaf': 1,\n",
       " 'min_samples_split': 2}"
      ]
     },
     "execution_count": 85,
     "metadata": {},
     "output_type": "execute_result"
    }
   ],
   "source": [
    "dt_grid_search.best_params_"
   ]
  },
  {
   "cell_type": "markdown",
   "metadata": {},
   "source": [
    "## Decision Tree 2"
   ]
  },
  {
   "cell_type": "code",
   "execution_count": 86,
   "metadata": {
    "ExecuteTime": {
     "end_time": "2022-06-06T19:01:48.648829Z",
     "start_time": "2022-06-06T19:01:48.636610Z"
    }
   },
   "outputs": [],
   "source": [
    "dt2 = DecisionTreeClassifier(criterion='gini', max_depth=6, min_samples_split=2,\n",
    "                             min_samples_leaf=1, class_weight='balanced', random_state=23)\n",
    "dt2.fit(X_train_resampled, y_train_resampled)\n",
    "dt2_y_pred = dt2.predict(X_test)"
   ]
  },
  {
   "cell_type": "code",
   "execution_count": 87,
   "metadata": {
    "ExecuteTime": {
     "end_time": "2022-06-06T19:01:50.059834Z",
     "start_time": "2022-06-06T19:01:50.031603Z"
    }
   },
   "outputs": [
    {
     "name": "stdout",
     "output_type": "stream",
     "text": [
      "Recall is :86.28691983122363\n",
      "F1 Score is :77.97902764537655\n",
      "ROC AUC is :0.88\n",
      "Cross Validation Score is :0.893\n"
     ]
    }
   ],
   "source": [
    "get_metrics(dt2, dt2_y_pred)"
   ]
  },
  {
   "cell_type": "code",
   "execution_count": 88,
   "metadata": {
    "ExecuteTime": {
     "end_time": "2022-06-06T19:01:51.444936Z",
     "start_time": "2022-06-06T19:01:51.443744Z"
    }
   },
   "outputs": [],
   "source": [
    "#dt2_cv_score = np.mean(cross_val_score(dt2, X_train_resampled, y_train_resampled, cv=3))\n",
    "#dt2_cv_score"
   ]
  },
  {
   "cell_type": "code",
   "execution_count": 89,
   "metadata": {
    "ExecuteTime": {
     "end_time": "2022-06-06T19:01:52.922053Z",
     "start_time": "2022-06-06T19:01:52.833133Z"
    }
   },
   "outputs": [
    {
     "data": {
      "image/png": "[encoded data removed]",
      "text/plain": [
       "<Figure size 360x360 with 2 Axes>"
      ]
     },
     "metadata": {},
     "output_type": "display_data"
    }
   ],
   "source": [
    "dt2_matrix = confusion_matrix(y_test, dt2_y_pred)\n",
    "\n",
    "fig, ax = plt.subplots(figsize=(5,5))\n",
    "\n",
    "ax = sns.heatmap(dt2_matrix, annot=True, cmap='Blues', fmt='d')\n",
    "\n",
    "ax.set_title('Decision Tree 2 Confusion Matrix', fontsize = 30);\n",
    "ax.set_xlabel('\\nPredicted Values',fontsize = 20)\n",
    "ax.set_ylabel('Actual Values ', fontsize=20);\n",
    "\n",
    "## Ticket labels - List must be in alphabetical order\n",
    "ax.xaxis.set_ticklabels(['Bad Score','5.0 Score'])\n",
    "ax.yaxis.set_ticklabels(['Bad Score','5.0 Score'])\n",
    "\n",
    "## Display the visualization of the Confusion Matrix.\n",
    "plt.show()"
   ]
  },
  {
   "cell_type": "markdown",
   "metadata": {},
   "source": [
    "## Random Forests"
   ]
  },
  {
   "cell_type": "code",
   "execution_count": 90,
   "metadata": {
    "ExecuteTime": {
     "end_time": "2022-06-06T19:02:06.851736Z",
     "start_time": "2022-06-06T19:02:06.469382Z"
    }
   },
   "outputs": [],
   "source": [
    "rf1_clf = RandomForestClassifier(random_state=23, class_weight=\"balanced\")\n",
    "rf1_clf.fit(X_train_resampled, y_train_resampled)\n",
    "rf1_y_pred = rf1_clf.predict(X_test)"
   ]
  },
  {
   "cell_type": "code",
   "execution_count": 91,
   "metadata": {
    "ExecuteTime": {
     "end_time": "2022-06-06T19:02:09.038006Z",
     "start_time": "2022-06-06T19:02:08.251746Z"
    }
   },
   "outputs": [
    {
     "name": "stdout",
     "output_type": "stream",
     "text": [
      "Recall is :73.62869198312237\n",
      "F1 Score is :74.25531914893617\n",
      "ROC AUC is :0.83\n",
      "Cross Validation Score is :0.91\n"
     ]
    }
   ],
   "source": [
    "get_metrics(rf1_clf, rf1_y_pred)"
   ]
  },
  {
   "cell_type": "code",
   "execution_count": 92,
   "metadata": {
    "ExecuteTime": {
     "end_time": "2022-06-06T19:02:12.478681Z",
     "start_time": "2022-06-06T19:02:12.474391Z"
    }
   },
   "outputs": [],
   "source": [
    "#rf1_cv_score = np.mean(cross_val_score(rf1_clf, X_train_resampled, y_train_resampled, cv=3))\n",
    "#rf1_cv_score"
   ]
  },
  {
   "cell_type": "markdown",
   "metadata": {},
   "source": [
    "### GridSearch CV"
   ]
  },
  {
   "cell_type": "code",
   "execution_count": 93,
   "metadata": {
    "ExecuteTime": {
     "end_time": "2022-06-06T19:02:13.973271Z",
     "start_time": "2022-06-06T19:02:13.971286Z"
    }
   },
   "outputs": [],
   "source": [
    "rf_param_grid = {\n",
    "    'n_estimators': [10, 30, 100],\n",
    "    'criterion': ['gini', 'entropy'],\n",
    "    'max_depth': [None, 2, 6, 10],\n",
    "    'min_samples_split': [5, 10],\n",
    "    'min_samples_leaf': [3, 6]\n",
    "}"
   ]
  },
  {
   "cell_type": "code",
   "execution_count": 94,
   "metadata": {
    "ExecuteTime": {
     "end_time": "2022-06-06T19:02:40.875633Z",
     "start_time": "2022-06-06T19:02:15.384670Z"
    }
   },
   "outputs": [
    {
     "name": "stdout",
     "output_type": "stream",
     "text": [
      "\n",
      "Random Forest  Optimal Parameters: {'criterion': 'gini', 'max_depth': 10, 'min_samples_leaf': 3, 'min_samples_split': 10, 'n_estimators': 100}\n"
     ]
    }
   ],
   "source": [
    "rf2_clf = RandomForestClassifier(random_state=23)\n",
    "\n",
    "\n",
    "rf1_grid_search= GridSearchCV(rf2_clf, rf_param_grid, scoring = 'recall', cv=3)\n",
    "rf1_grid_search.fit(X_train_resampled, y_train_resampled)\n",
    "\n",
    "print(\"\")\n",
    "print(f\"Random Forest  Optimal Parameters: {rf1_grid_search.best_params_}\")"
   ]
  },
  {
   "cell_type": "markdown",
   "metadata": {},
   "source": [
    "## Random Forests 2"
   ]
  },
  {
   "cell_type": "code",
   "execution_count": 95,
   "metadata": {
    "ExecuteTime": {
     "end_time": "2022-06-06T19:02:42.563516Z",
     "start_time": "2022-06-06T19:02:42.287658Z"
    }
   },
   "outputs": [],
   "source": [
    "rf2_clf = RandomForestClassifier(criterion= 'gini', max_depth= 10, min_samples_leaf= 3,\n",
    "                                min_samples_split= 10, n_estimators= 100, random_state=23,\n",
    "                                class_weight='balanced')\n",
    "rf2_clf.fit(X_train_resampled, y_train_resampled)\n",
    "rf2_y_pred = rf2_clf.predict(X_test)"
   ]
  },
  {
   "cell_type": "code",
   "execution_count": 96,
   "metadata": {
    "ExecuteTime": {
     "end_time": "2022-06-06T19:02:44.608236Z",
     "start_time": "2022-06-06T19:02:43.982275Z"
    }
   },
   "outputs": [
    {
     "name": "stdout",
     "output_type": "stream",
     "text": [
      "Recall is :84.59915611814345\n",
      "F1 Score is :79.09270216962524\n",
      "ROC AUC is :0.88\n",
      "Cross Validation Score is :0.904\n"
     ]
    }
   ],
   "source": [
    "get_metrics(rf2_clf, rf2_y_pred)"
   ]
  },
  {
   "cell_type": "code",
   "execution_count": 97,
   "metadata": {
    "ExecuteTime": {
     "end_time": "2022-06-06T19:02:46.115714Z",
     "start_time": "2022-06-06T19:02:46.025155Z"
    }
   },
   "outputs": [
    {
     "data": {
      "image/png": "[encoded data removed]",
      "text/plain": [
       "<Figure size 360x360 with 2 Axes>"
      ]
     },
     "metadata": {},
     "output_type": "display_data"
    }
   ],
   "source": [
    "rf2_matrix = confusion_matrix(y_test, rf2_y_pred)\n",
    "\n",
    "fig, ax = plt.subplots(figsize=(5,5))\n",
    "\n",
    "ax = sns.heatmap(rf2_matrix, annot=True, cmap='Blues', fmt='d')\n",
    "\n",
    "ax.set_title('Ramdom Forests 2 Confusion Matrix', fontsize = 30);\n",
    "ax.set_xlabel('\\nPredicted Values',fontsize = 20)\n",
    "ax.set_ylabel('Actual Values ', fontsize=20);\n",
    "\n",
    "## Ticket labels - List must be in alphabetical order\n",
    "ax.xaxis.set_ticklabels(['Bad Score','5.0 Score'])\n",
    "ax.yaxis.set_ticklabels(['Bad Score','5.0 Score'])\n",
    "\n",
    "## Display the visualization of the Confusion Matrix.\n",
    "plt.show()"
   ]
  },
  {
   "cell_type": "markdown",
   "metadata": {},
   "source": [
    "## XGBoost Model"
   ]
  },
  {
   "cell_type": "code",
   "execution_count": 98,
   "metadata": {
    "ExecuteTime": {
     "end_time": "2022-06-06T19:03:02.400896Z",
     "start_time": "2022-06-06T19:03:02.080709Z"
    }
   },
   "outputs": [],
   "source": [
    "# Instantiate XGBClassifier\n",
    "clf = XGBClassifier(random_state=23)\n",
    "\n",
    "# Fit XGBClassifier\n",
    "xg1 = clf.fit(X_train_resampled, y_train_resampled)\n",
    "\n",
    "# Predict on training and test sets\n",
    "training_preds = clf.predict(X_train_resampled)\n",
    "xg1_y_pred = clf.predict(X_test)"
   ]
  },
  {
   "cell_type": "code",
   "execution_count": 99,
   "metadata": {
    "ExecuteTime": {
     "end_time": "2022-06-06T19:03:07.614849Z",
     "start_time": "2022-06-06T19:03:06.986201Z"
    }
   },
   "outputs": [
    {
     "name": "stdout",
     "output_type": "stream",
     "text": [
      "Recall is :75.52742616033755\n",
      "F1 Score is :77.32181425485962\n",
      "ROC AUC is :0.85\n",
      "Cross Validation Score is :0.917\n"
     ]
    }
   ],
   "source": [
    "get_metrics(xg1, xg1_y_pred)"
   ]
  },
  {
   "cell_type": "code",
   "execution_count": null,
   "metadata": {
    "ExecuteTime": {
     "end_time": "2022-06-06T16:27:54.977084Z",
     "start_time": "2022-06-06T16:27:54.973843Z"
    }
   },
   "outputs": [],
   "source": [
    "#xg1_cv_score = np.mean(cross_val_score(xg1, X_train_resampled, y_train_resampled, cv=3))\n",
    "#xg1_cv_score"
   ]
  },
  {
   "cell_type": "markdown",
   "metadata": {},
   "source": [
    "### GridSearch"
   ]
  },
  {
   "cell_type": "code",
   "execution_count": 100,
   "metadata": {
    "ExecuteTime": {
     "end_time": "2022-06-06T19:03:19.687380Z",
     "start_time": "2022-06-06T19:03:19.680449Z"
    }
   },
   "outputs": [],
   "source": [
    "boost_param_grid = {\n",
    "    'learning_rate': [0.1, 0.2],\n",
    "    'max_depth': [6],\n",
    "    'min_child_weight': [1, 2],\n",
    "    'n_estimators': [100],\n",
    "}"
   ]
  },
  {
   "cell_type": "markdown",
   "metadata": {},
   "source": [
    "## XGBoost 2"
   ]
  },
  {
   "cell_type": "code",
   "execution_count": 102,
   "metadata": {
    "ExecuteTime": {
     "end_time": "2022-06-06T19:03:46.975668Z",
     "start_time": "2022-06-06T19:03:44.318381Z"
    }
   },
   "outputs": [
    {
     "name": "stdout",
     "output_type": "stream",
     "text": [
      "Grid Search found the following optimal parameters: \n",
      "learning_rate: 0.1\n",
      "max_depth: 6\n",
      "min_child_weight: 1\n",
      "n_estimators: 100\n"
     ]
    }
   ],
   "source": [
    "xg2 = XGBClassifier(random_state=23)\n",
    "\n",
    "grid_clf = GridSearchCV(xg2, boost_param_grid, scoring='recall', cv=3, n_jobs=1)\n",
    "grid_clf.fit(X_train_resampled, y_train_resampled)\n",
    "\n",
    "best_parameters = grid_clf.best_params_\n",
    "\n",
    "print('Grid Search found the following optimal parameters: ')\n",
    "for param_name in sorted(best_parameters.keys()):\n",
    "    print('%s: %r' % (param_name, best_parameters[param_name]))"
   ]
  },
  {
   "cell_type": "code",
   "execution_count": 103,
   "metadata": {
    "ExecuteTime": {
     "end_time": "2022-06-06T19:04:11.107507Z",
     "start_time": "2022-06-06T19:04:10.740450Z"
    }
   },
   "outputs": [],
   "source": [
    "xg2 = XGBClassifier(learning_rate= 0.1, max_depth=6, min_child_weight=1,\n",
    "                                n_estimators=100, subsample=0.5, random_state=23)\n",
    "xg2.fit(X_train_resampled, y_train_resampled)\n",
    "xg2_y_pred = xg2.predict(X_test)"
   ]
  },
  {
   "cell_type": "code",
   "execution_count": 104,
   "metadata": {
    "ExecuteTime": {
     "end_time": "2022-06-06T19:04:13.681132Z",
     "start_time": "2022-06-06T19:04:12.944709Z"
    }
   },
   "outputs": [
    {
     "name": "stdout",
     "output_type": "stream",
     "text": [
      "Recall is :79.11392405063292\n",
      "F1 Score is :78.53403141361257\n",
      "ROC AUC is :0.86\n",
      "Cross Validation Score is :0.916\n"
     ]
    }
   ],
   "source": [
    "get_metrics(xg2, xg2_y_pred)"
   ]
  },
  {
   "cell_type": "code",
   "execution_count": null,
   "metadata": {
    "ExecuteTime": {
     "end_time": "2022-06-06T15:31:26.735758Z",
     "start_time": "2022-06-06T15:31:26.734068Z"
    }
   },
   "outputs": [],
   "source": [
    "#xg2_cv_score = np.mean(cross_val_score(xg2, X_train_resampled, y_train_resampled, cv=3))\n",
    "#xg2_cv_score"
   ]
  },
  {
   "cell_type": "code",
   "execution_count": 105,
   "metadata": {
    "ExecuteTime": {
     "end_time": "2022-06-06T19:04:36.175880Z",
     "start_time": "2022-06-06T19:04:36.049019Z"
    }
   },
   "outputs": [
    {
     "data": {
      "image/png": "[encoded data removed]",
      "text/plain": [
       "<Figure size 360x360 with 2 Axes>"
      ]
     },
     "metadata": {},
     "output_type": "display_data"
    }
   ],
   "source": [
    "xg2_matrix = confusion_matrix(y_test, xg2_y_pred)\n",
    "\n",
    "fig, ax = plt.subplots(figsize=(5,5))\n",
    "\n",
    "ax = sns.heatmap(xg2_matrix, annot=True, cmap='Blues', fmt='d')\n",
    "\n",
    "ax.set_title('XG Boost 2 Confusion Matrix', fontsize = 30);\n",
    "ax.set_xlabel('\\nPredicted Values',fontsize = 20)\n",
    "ax.set_ylabel('Actual Values ', fontsize=20);\n",
    "\n",
    "## Ticket labels - List must be in alphabetical order\n",
    "ax.xaxis.set_ticklabels(['Bad Score','5.0 Score'])\n",
    "ax.yaxis.set_ticklabels(['Bad Score','5.0 Score'])\n",
    "\n",
    "## Display the visualization of the Confusion Matrix.\n",
    "plt.show()"
   ]
  },
  {
   "cell_type": "markdown",
   "metadata": {},
   "source": [
    "## FINAL MODEL = Random Forests 2"
   ]
  },
  {
   "cell_type": "markdown",
   "metadata": {
    "ExecuteTime": {
     "end_time": "2022-06-02T19:46:07.261325Z",
     "start_time": "2022-06-02T19:46:07.258239Z"
    }
   },
   "source": [
    "## Feature Importance"
   ]
  },
  {
   "cell_type": "code",
   "execution_count": 106,
   "metadata": {
    "ExecuteTime": {
     "end_time": "2022-06-06T19:04:51.129736Z",
     "start_time": "2022-06-06T19:04:51.121272Z"
    }
   },
   "outputs": [
    {
     "data": {
      "text/plain": [
       "['accuracy_5_True',\n",
       " 'cleanliness_5_True',\n",
       " 'checkin_5_True',\n",
       " 'location_5_True',\n",
       " 'value_5_True',\n",
       " 'price_high_True',\n",
       " 'price_low_True',\n",
       " 'capacity_-2_True',\n",
       " 'capacity_-4_True',\n",
       " 'capacity_-6_True',\n",
       " 'capacity_-10_True',\n",
       " 'capacity_11+_True',\n",
       " 'bedrooms_3+_True',\n",
       " 'instant_bookable_t',\n",
       " 'booked_True']"
      ]
     },
     "execution_count": 106,
     "metadata": {},
     "output_type": "execute_result"
    }
   ],
   "source": [
    "feature_names = list(X)\n",
    "feature_names"
   ]
  },
  {
   "cell_type": "code",
   "execution_count": 107,
   "metadata": {
    "ExecuteTime": {
     "end_time": "2022-06-06T19:04:52.717621Z",
     "start_time": "2022-06-06T19:04:52.710886Z"
    }
   },
   "outputs": [
    {
     "data": {
      "text/plain": [
       "array([0.29155761, 0.18306027, 0.20380417, 0.1387967 , 0.10316276,\n",
       "       0.01080187, 0.00694198, 0.00701993, 0.00633338, 0.00426232,\n",
       "       0.00174733, 0.0016906 , 0.00661562, 0.02089652, 0.01330894])"
      ]
     },
     "execution_count": 107,
     "metadata": {},
     "output_type": "execute_result"
    }
   ],
   "source": [
    "rf2_importance = rf2_clf.feature_importances_\n",
    "rf2_importance"
   ]
  },
  {
   "cell_type": "code",
   "execution_count": 108,
   "metadata": {
    "ExecuteTime": {
     "end_time": "2022-06-06T19:04:55.350679Z",
     "start_time": "2022-06-06T19:04:55.332861Z"
    }
   },
   "outputs": [
    {
     "data": {
      "text/html": [
       "<div>\n",
       "<style scoped>\n",
       "    .dataframe tbody tr th:only-of-type {\n",
       "        vertical-align: middle;\n",
       "    }\n",
       "\n",
       "    .dataframe tbody tr th {\n",
       "        vertical-align: top;\n",
       "    }\n",
       "\n",
       "    .dataframe thead th {\n",
       "        text-align: right;\n",
       "    }\n",
       "</style>\n",
       "<table border=\"1\" class=\"dataframe\">\n",
       "  <thead>\n",
       "    <tr style=\"text-align: right;\">\n",
       "      <th></th>\n",
       "      <th>Feature</th>\n",
       "      <th>Importance</th>\n",
       "    </tr>\n",
       "  </thead>\n",
       "  <tbody>\n",
       "    <tr>\n",
       "      <th>0</th>\n",
       "      <td>accuracy_5_True</td>\n",
       "      <td>0.291558</td>\n",
       "    </tr>\n",
       "    <tr>\n",
       "      <th>2</th>\n",
       "      <td>checkin_5_True</td>\n",
       "      <td>0.203804</td>\n",
       "    </tr>\n",
       "    <tr>\n",
       "      <th>1</th>\n",
       "      <td>cleanliness_5_True</td>\n",
       "      <td>0.183060</td>\n",
       "    </tr>\n",
       "    <tr>\n",
       "      <th>3</th>\n",
       "      <td>location_5_True</td>\n",
       "      <td>0.138797</td>\n",
       "    </tr>\n",
       "    <tr>\n",
       "      <th>4</th>\n",
       "      <td>value_5_True</td>\n",
       "      <td>0.103163</td>\n",
       "    </tr>\n",
       "    <tr>\n",
       "      <th>13</th>\n",
       "      <td>instant_bookable_t</td>\n",
       "      <td>0.020897</td>\n",
       "    </tr>\n",
       "    <tr>\n",
       "      <th>14</th>\n",
       "      <td>booked_True</td>\n",
       "      <td>0.013309</td>\n",
       "    </tr>\n",
       "    <tr>\n",
       "      <th>5</th>\n",
       "      <td>price_high_True</td>\n",
       "      <td>0.010802</td>\n",
       "    </tr>\n",
       "    <tr>\n",
       "      <th>7</th>\n",
       "      <td>capacity_-2_True</td>\n",
       "      <td>0.007020</td>\n",
       "    </tr>\n",
       "    <tr>\n",
       "      <th>6</th>\n",
       "      <td>price_low_True</td>\n",
       "      <td>0.006942</td>\n",
       "    </tr>\n",
       "    <tr>\n",
       "      <th>12</th>\n",
       "      <td>bedrooms_3+_True</td>\n",
       "      <td>0.006616</td>\n",
       "    </tr>\n",
       "    <tr>\n",
       "      <th>8</th>\n",
       "      <td>capacity_-4_True</td>\n",
       "      <td>0.006333</td>\n",
       "    </tr>\n",
       "    <tr>\n",
       "      <th>9</th>\n",
       "      <td>capacity_-6_True</td>\n",
       "      <td>0.004262</td>\n",
       "    </tr>\n",
       "    <tr>\n",
       "      <th>10</th>\n",
       "      <td>capacity_-10_True</td>\n",
       "      <td>0.001747</td>\n",
       "    </tr>\n",
       "    <tr>\n",
       "      <th>11</th>\n",
       "      <td>capacity_11+_True</td>\n",
       "      <td>0.001691</td>\n",
       "    </tr>\n",
       "  </tbody>\n",
       "</table>\n",
       "</div>"
      ],
      "text/plain": [
       "               Feature  Importance\n",
       "0      accuracy_5_True    0.291558\n",
       "2       checkin_5_True    0.203804\n",
       "1   cleanliness_5_True    0.183060\n",
       "3      location_5_True    0.138797\n",
       "4         value_5_True    0.103163\n",
       "13  instant_bookable_t    0.020897\n",
       "14         booked_True    0.013309\n",
       "5      price_high_True    0.010802\n",
       "7     capacity_-2_True    0.007020\n",
       "6       price_low_True    0.006942\n",
       "12    bedrooms_3+_True    0.006616\n",
       "8     capacity_-4_True    0.006333\n",
       "9     capacity_-6_True    0.004262\n",
       "10   capacity_-10_True    0.001747\n",
       "11   capacity_11+_True    0.001691"
      ]
     },
     "execution_count": 108,
     "metadata": {},
     "output_type": "execute_result"
    }
   ],
   "source": [
    "#feature_importance_df = pd.DataFrame(dt2_importance, feature_names)\n",
    "feature_importance_df = pd.DataFrame(rf2_importance, feature_names)\n",
    "#feature_importance_df = pd.DataFrame(xg2_importance, feature_names)\n",
    "feature_importance_df= feature_importance_df.reset_index()\n",
    "feature_importance_df.rename(columns={'index': 'Feature', 0: 'Importance'}, inplace=True)\n",
    "feature_importance_df = feature_importance_df.sort_values('Importance', ascending=False)\n",
    "feature_importance_df"
   ]
  },
  {
   "cell_type": "code",
   "execution_count": 109,
   "metadata": {
    "ExecuteTime": {
     "end_time": "2022-06-06T19:04:58.570787Z",
     "start_time": "2022-06-06T19:04:58.251822Z"
    }
   },
   "outputs": [
    {
     "data": {
      "image/png": "[encoded data removed]",
      "text/plain": [
       "<Figure size 3600x1440 with 1 Axes>"
      ]
     },
     "metadata": {},
     "output_type": "display_data"
    }
   ],
   "source": [
    "# plot feature importance\n",
    "fig, ax = plt.subplots(figsize=(50,20))\n",
    "p = sns.barplot(data=feature_importance_df, x='Importance', y='Feature', color ='mediumpurple' );\n",
    "p.set_xlabel(\"Importance\", fontsize = 50)\n",
    "\n",
    "p.set_ylabel(\"Feature\", fontsize = 50)\n",
    "plt.xticks(fontsize=40)\n",
    "plt.yticks(fontsize=40)\n",
    "\n",
    "p.set_title(\"Features by Importance\", fontsize = 100)\n",
    "plt.figsize=(30,20) \n",
    "\n",
    "plt.show();"
   ]
  },
  {
   "cell_type": "code",
   "execution_count": null,
   "metadata": {},
   "outputs": [],
   "source": []
  }
 ],
 "metadata": {
  "kernelspec": {
   "display_name": "Python (learn-env)",
   "language": "python",
   "name": "learn-env"
  },
  "language_info": {
   "codemirror_mode": {
    "name": "ipython",
    "version": 3
   },
   "file_extension": ".py",
   "mimetype": "text/x-python",
   "name": "python",
   "nbconvert_exporter": "python",
   "pygments_lexer": "ipython3",
   "version": "3.8.5"
  },
  "toc": {
   "base_numbering": 1,
   "nav_menu": {},
   "number_sections": true,
   "sideBar": true,
   "skip_h1_title": true,
   "title_cell": "Table of Contents",
   "title_sidebar": "Contents",
   "toc_cell": false,
   "toc_position": {
    "height": "calc(100% - 180px)",
    "left": "10px",
    "top": "150px",
    "width": "288px"
   },
   "toc_section_display": true,
   "toc_window_display": true
  },
  "varInspector": {
   "cols": {
    "lenName": 16,
    "lenType": 16,
    "lenVar": 40
   },
   "kernels_config": {
    "python": {
     "delete_cmd_postfix": "",
     "delete_cmd_prefix": "del ",
     "library": "var_list.py",
     "varRefreshCmd": "print(var_dic_list())"
    },
    "r": {
     "delete_cmd_postfix": ") ",
     "delete_cmd_prefix": "rm(",
     "library": "var_list.r",
     "varRefreshCmd": "cat(var_dic_list()) "
    }
   },
   "types_to_exclude": [
    "module",
    "function",
    "builtin_function_or_method",
    "instance",
    "_Feature"
   ],
   "window_display": false
  }
 },
 "nbformat": 4,
 "nbformat_minor": 4
}
